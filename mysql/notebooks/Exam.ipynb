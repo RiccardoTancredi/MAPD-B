{
 "cells": [
  {
   "cell_type": "markdown",
   "id": "d66684cf",
   "metadata": {},
   "source": [
    "#### Interactive \n",
    "\n",
    "We can interact with the MySQL server by logging in interactively to its docker container.\n",
    "\n",
    "Check the `CONTAINER ID` of the container named `mysql_db` via:\n",
    "    \n",
    "```bash \n",
    "$ docker ps \n",
    "```\n",
    "\n",
    "And run `bash` (or `/bin/bash`) in interactive mode attaching it to the terminal (`-it`) on the container:\n",
    "\n",
    "```bash\n",
    "$ docker exec -it <YOUR CONTAINER ID> bash\n",
    "```\n",
    "\n",
    "From inside the container we can use the RDBMS interface as if we were logged into a remote MySQL server hosting our DBs\n",
    "\n",
    "```bash\n",
    "$ mysql -u <EITHER ROOT OR USER> -p\n",
    "``` "
   ]
  },
  {
   "cell_type": "markdown",
   "id": "1f0cb7ff",
   "metadata": {},
   "source": [
    "We can then inspect the MySQL server to show us all DBs:\n",
    "    \n",
    "```mysql\n",
    "SHOW DATABASES;\n",
    "```\n",
    "\n",
    "_NB_: remember to end a SQL command with a semicolon `;`"
   ]
  },
  {
   "cell_type": "code",
   "execution_count": 1,
   "id": "94b1e037",
   "metadata": {},
   "outputs": [],
   "source": [
    "import numpy as np\n",
    "import matplotlib.pyplot as plt\n",
    "\n",
    "%matplotlib inline"
   ]
  },
  {
   "cell_type": "code",
   "execution_count": 59,
   "id": "8069a892",
   "metadata": {},
   "outputs": [
    {
     "name": "stdout",
     "output_type": "stream",
     "text": [
      "<mysql.connector.connection_cext.CMySQLConnection object at 0x7fd156a213a0>\n"
     ]
    }
   ],
   "source": [
    "# import the connector\n",
    "import mysql.connector\n",
    "\n",
    "# declare a connection to the MySQL server \n",
    "# the hostname (or IP) of the server machine should be passed\n",
    "db = mysql.connector.connect(\n",
    "  user=\"root\",\n",
    "  password=\"root_pwd\",\n",
    "  host=\"db\", # in this case 'db' is the equivalent of the IP address of the server \n",
    "             # or 'localhost' if running mysql locally\n",
    ")\n",
    "\n",
    "print(db)"
   ]
  },
  {
   "cell_type": "code",
   "execution_count": 60,
   "id": "0f08245a",
   "metadata": {},
   "outputs": [],
   "source": [
    "# create our db cursor object\n",
    "dbc = db.cursor()"
   ]
  },
  {
   "cell_type": "code",
   "execution_count": 4,
   "id": "a669cadd",
   "metadata": {},
   "outputs": [
    {
     "data": {
      "text/plain": [
       "('IMDb',)"
      ]
     },
     "execution_count": 4,
     "metadata": {},
     "output_type": "execute_result"
    }
   ],
   "source": [
    "# show all available databases\n",
    "dbc.execute(\n",
    "\"SHOW DATABASES\"\n",
    ")\n",
    "# use fetch to retrieve one, many, or all entries in the cursor\n",
    "dbc.fetchone()"
   ]
  },
  {
   "cell_type": "code",
   "execution_count": 5,
   "id": "a9f802fd",
   "metadata": {},
   "outputs": [
    {
     "name": "stdout",
     "output_type": "stream",
     "text": [
      "env: DATABASE_URL=mysql+mysqlconnector://root:root_pwd@db\n"
     ]
    }
   ],
   "source": [
    "%load_ext sql\n",
    "\n",
    "%env DATABASE_URL=mysql+mysqlconnector://root:root_pwd@db"
   ]
  },
  {
   "cell_type": "markdown",
   "id": "213be6c6",
   "metadata": {},
   "source": [
    "## 05 Queries on well-formed DBs\n",
    "\n",
    "In MySQL we can load entire DBs from external files.\n",
    "\n",
    "The files will contain the full DB structure (tables and constraints) and will populate all tables with all records \n",
    "\n",
    "To load a DB into the MySQL server from the interactive docker shell, we can simply do the following:\n",
    "\n",
    "1. Create a new DB named `world`\n",
    "2. Import the content of the file `/mapd-workspace/dbs/world.sql` into the newly created DB via\n",
    "    \n",
    "```bash\n",
    "$ mysql -u root -p world < /mapd-workspace/dbs/world.sql\n",
    "```\n",
    "\n",
    "_NB_: The `opt/workspace` directory has been defined as a Docker Volume, and is a shared location with your computer..."
   ]
  },
  {
   "cell_type": "markdown",
   "id": "33389e65",
   "metadata": {},
   "source": [
    "Using the `world` DB, perform queries to answer the folliwing questions.\n",
    "\n",
    "Additional references can be found here https://dev.mysql.com/doc/world-setup/en/\n",
    "\n",
    "\n",
    "Use a single query to answer the questions\n",
    "\n",
    "1. Which country has the largest population?\n",
    "2. Get the total number of cities in Canada.\n",
    "3. Select the country with the most cities.\n",
    "4. List all the languages spoken in the Southeast Asia region.\n",
    "5. Identify the 5 most spoken language by number of countries.\n",
    "6. What is the total population of the cities in the Caribbean region?\n",
    "7. What Countries have a City named \"Kingston\"?\n",
    "8. Plot the population density by country, limiting to the 25 with least density.\n",
    "9. Plot the GNP (Gross Nation Product) of all countries that become independent between 1850 and 1910, limiting to the 10 with highest GNP.\n",
    "10. Create a scatter plot of the life expentency vs the GNP of all countries that have Spanish as their Official language.\n",
    "\n",
    "\n",
    "Suggestions:\n",
    "- Start by inspecting the DB tables structure\n",
    "- When in doubt, check the table content by selecting a few lines (use `LIMIT` to avoid returining all records)\n",
    "- Before finalizing the query, you can always perform \"intermediate\" queries to check if complex operations (groupby and join mostly) are stated correctly"
   ]
  },
  {
   "cell_type": "code",
   "execution_count": 5,
   "id": "380f17bb",
   "metadata": {},
   "outputs": [
    {
     "name": "stdout",
     "output_type": "stream",
     "text": [
      "0 rows affected.\n",
      "3 rows affected.\n"
     ]
    },
    {
     "data": {
      "text/html": [
       "<table>\n",
       "    <tr>\n",
       "        <th>Tables_in_world</th>\n",
       "    </tr>\n",
       "    <tr>\n",
       "        <td>city</td>\n",
       "    </tr>\n",
       "    <tr>\n",
       "        <td>country</td>\n",
       "    </tr>\n",
       "    <tr>\n",
       "        <td>countrylanguage</td>\n",
       "    </tr>\n",
       "</table>"
      ],
      "text/plain": [
       "[('city',), ('country',), ('countrylanguage',)]"
      ]
     },
     "execution_count": 5,
     "metadata": {},
     "output_type": "execute_result"
    }
   ],
   "source": [
    "%%sql\n",
    "\n",
    "USE world;\n",
    "\n",
    "SHOW TABLES;"
   ]
  },
  {
   "cell_type": "markdown",
   "id": "962bf1c9",
   "metadata": {},
   "source": [
    "#### 1 - Which country has the largest population?"
   ]
  },
  {
   "cell_type": "code",
   "execution_count": 10,
   "id": "211cae71",
   "metadata": {},
   "outputs": [
    {
     "name": "stdout",
     "output_type": "stream",
     "text": [
      " * mysql+mysqlconnector://root:***@db\n",
      "1 rows affected.\n"
     ]
    },
    {
     "data": {
      "text/html": [
       "<table>\n",
       "    <tr>\n",
       "        <th>Name</th>\n",
       "        <th>Population</th>\n",
       "    </tr>\n",
       "    <tr>\n",
       "        <td>China</td>\n",
       "        <td>1277558000</td>\n",
       "    </tr>\n",
       "</table>"
      ],
      "text/plain": [
       "[('China', 1277558000)]"
      ]
     },
     "execution_count": 10,
     "metadata": {},
     "output_type": "execute_result"
    }
   ],
   "source": [
    "%%sql \n",
    "\n",
    "SELECT Name, Population FROM country\n",
    "WHERE (Population = (SELECT MAX(Population) FROM country));"
   ]
  },
  {
   "cell_type": "markdown",
   "id": "132f54ba",
   "metadata": {},
   "source": [
    "#### 2 - Get the total number of cities in Canada."
   ]
  },
  {
   "cell_type": "code",
   "execution_count": 16,
   "id": "011338a8",
   "metadata": {},
   "outputs": [
    {
     "name": "stdout",
     "output_type": "stream",
     "text": [
      " * mysql+mysqlconnector://root:***@db\n",
      "1 rows affected.\n"
     ]
    },
    {
     "data": {
      "text/html": [
       "<table>\n",
       "    <tr>\n",
       "        <th>CountryCode</th>\n",
       "        <th>NumberOfCities</th>\n",
       "    </tr>\n",
       "    <tr>\n",
       "        <td>CAN</td>\n",
       "        <td>49</td>\n",
       "    </tr>\n",
       "</table>"
      ],
      "text/plain": [
       "[('CAN', 49)]"
      ]
     },
     "execution_count": 16,
     "metadata": {},
     "output_type": "execute_result"
    }
   ],
   "source": [
    "%%sql\n",
    "\n",
    "SELECT CountryCode, COUNT(CountryCode) AS NumberOfCities FROM city\n",
    "WHERE CountryCode LIKE \"CAN\"\n",
    "GROUP BY CountryCode;"
   ]
  },
  {
   "cell_type": "markdown",
   "id": "3aa6bf99",
   "metadata": {},
   "source": [
    "#### 3 - Select the country with the most cities."
   ]
  },
  {
   "cell_type": "code",
   "execution_count": 21,
   "id": "a52b9352",
   "metadata": {},
   "outputs": [
    {
     "name": "stdout",
     "output_type": "stream",
     "text": [
      " * mysql+mysqlconnector://root:***@db\n",
      "1 rows affected.\n"
     ]
    },
    {
     "data": {
      "text/html": [
       "<table>\n",
       "    <tr>\n",
       "        <th>CountryCode</th>\n",
       "        <th>NumberOfCities</th>\n",
       "    </tr>\n",
       "    <tr>\n",
       "        <td>CHN</td>\n",
       "        <td>363</td>\n",
       "    </tr>\n",
       "</table>"
      ],
      "text/plain": [
       "[('CHN', 363)]"
      ]
     },
     "execution_count": 21,
     "metadata": {},
     "output_type": "execute_result"
    }
   ],
   "source": [
    "%%sql\n",
    "\n",
    "SELECT CountryCode, COUNT(CountryCode) AS NumberOfCities FROM city\n",
    "GROUP BY CountryCode\n",
    "ORDER BY NumberOfCities DESC\n",
    "LIMIT 1;"
   ]
  },
  {
   "cell_type": "code",
   "execution_count": 23,
   "id": "98003f7a",
   "metadata": {},
   "outputs": [
    {
     "name": "stdout",
     "output_type": "stream",
     "text": [
      " * mysql+mysqlconnector://root:***@db\n",
      "1 rows affected.\n"
     ]
    },
    {
     "data": {
      "text/html": [
       "<table>\n",
       "    <tr>\n",
       "        <th>Name</th>\n",
       "        <th>NumberOfCities</th>\n",
       "    </tr>\n",
       "    <tr>\n",
       "        <td>China</td>\n",
       "        <td>363</td>\n",
       "    </tr>\n",
       "</table>"
      ],
      "text/plain": [
       "[('China', 363)]"
      ]
     },
     "execution_count": 23,
     "metadata": {},
     "output_type": "execute_result"
    }
   ],
   "source": [
    "%%sql\n",
    "\n",
    "SELECT co.Name, COUNT(ci.CountryCode) AS NumberOfCities FROM city ci\n",
    "INNER JOIN country co ON ci.CountryCode = co.Code\n",
    "GROUP BY CountryCode\n",
    "ORDER BY NumberOfCities DESC\n",
    "LIMIT 1;"
   ]
  },
  {
   "cell_type": "markdown",
   "id": "ede586ff",
   "metadata": {},
   "source": [
    "#### 4 - List all the languages spoken in the 'Southeast Asia' region."
   ]
  },
  {
   "cell_type": "code",
   "execution_count": 29,
   "id": "1a6b670c",
   "metadata": {},
   "outputs": [
    {
     "name": "stdout",
     "output_type": "stream",
     "text": [
      " * mysql+mysqlconnector://root:***@db\n",
      "65 rows affected.\n"
     ]
    },
    {
     "data": {
      "text/html": [
       "<table>\n",
       "    <tr>\n",
       "        <th>Code</th>\n",
       "        <th>Name</th>\n",
       "        <th>Region</th>\n",
       "        <th>Language</th>\n",
       "    </tr>\n",
       "    <tr>\n",
       "        <td>BRN</td>\n",
       "        <td>Brunei</td>\n",
       "        <td>Southeast Asia</td>\n",
       "        <td>Chinese</td>\n",
       "    </tr>\n",
       "    <tr>\n",
       "        <td>BRN</td>\n",
       "        <td>Brunei</td>\n",
       "        <td>Southeast Asia</td>\n",
       "        <td>English</td>\n",
       "    </tr>\n",
       "    <tr>\n",
       "        <td>BRN</td>\n",
       "        <td>Brunei</td>\n",
       "        <td>Southeast Asia</td>\n",
       "        <td>Malay</td>\n",
       "    </tr>\n",
       "    <tr>\n",
       "        <td>BRN</td>\n",
       "        <td>Brunei</td>\n",
       "        <td>Southeast Asia</td>\n",
       "        <td>Malay-English</td>\n",
       "    </tr>\n",
       "    <tr>\n",
       "        <td>IDN</td>\n",
       "        <td>Indonesia</td>\n",
       "        <td>Southeast Asia</td>\n",
       "        <td>Bali</td>\n",
       "    </tr>\n",
       "    <tr>\n",
       "        <td>IDN</td>\n",
       "        <td>Indonesia</td>\n",
       "        <td>Southeast Asia</td>\n",
       "        <td>Banja</td>\n",
       "    </tr>\n",
       "    <tr>\n",
       "        <td>IDN</td>\n",
       "        <td>Indonesia</td>\n",
       "        <td>Southeast Asia</td>\n",
       "        <td>Batakki</td>\n",
       "    </tr>\n",
       "    <tr>\n",
       "        <td>IDN</td>\n",
       "        <td>Indonesia</td>\n",
       "        <td>Southeast Asia</td>\n",
       "        <td>Bugi</td>\n",
       "    </tr>\n",
       "    <tr>\n",
       "        <td>IDN</td>\n",
       "        <td>Indonesia</td>\n",
       "        <td>Southeast Asia</td>\n",
       "        <td>Javanese</td>\n",
       "    </tr>\n",
       "    <tr>\n",
       "        <td>IDN</td>\n",
       "        <td>Indonesia</td>\n",
       "        <td>Southeast Asia</td>\n",
       "        <td>Madura</td>\n",
       "    </tr>\n",
       "    <tr>\n",
       "        <td>IDN</td>\n",
       "        <td>Indonesia</td>\n",
       "        <td>Southeast Asia</td>\n",
       "        <td>Malay</td>\n",
       "    </tr>\n",
       "    <tr>\n",
       "        <td>IDN</td>\n",
       "        <td>Indonesia</td>\n",
       "        <td>Southeast Asia</td>\n",
       "        <td>Minangkabau</td>\n",
       "    </tr>\n",
       "    <tr>\n",
       "        <td>IDN</td>\n",
       "        <td>Indonesia</td>\n",
       "        <td>Southeast Asia</td>\n",
       "        <td>Sunda</td>\n",
       "    </tr>\n",
       "    <tr>\n",
       "        <td>KHM</td>\n",
       "        <td>Cambodia</td>\n",
       "        <td>Southeast Asia</td>\n",
       "        <td>Chinese</td>\n",
       "    </tr>\n",
       "    <tr>\n",
       "        <td>KHM</td>\n",
       "        <td>Cambodia</td>\n",
       "        <td>Southeast Asia</td>\n",
       "        <td>Khmer</td>\n",
       "    </tr>\n",
       "    <tr>\n",
       "        <td>KHM</td>\n",
       "        <td>Cambodia</td>\n",
       "        <td>Southeast Asia</td>\n",
       "        <td>Tšam</td>\n",
       "    </tr>\n",
       "    <tr>\n",
       "        <td>KHM</td>\n",
       "        <td>Cambodia</td>\n",
       "        <td>Southeast Asia</td>\n",
       "        <td>Vietnamese</td>\n",
       "    </tr>\n",
       "    <tr>\n",
       "        <td>LAO</td>\n",
       "        <td>Laos</td>\n",
       "        <td>Southeast Asia</td>\n",
       "        <td>Lao</td>\n",
       "    </tr>\n",
       "    <tr>\n",
       "        <td>LAO</td>\n",
       "        <td>Laos</td>\n",
       "        <td>Southeast Asia</td>\n",
       "        <td>Lao-Soung</td>\n",
       "    </tr>\n",
       "    <tr>\n",
       "        <td>LAO</td>\n",
       "        <td>Laos</td>\n",
       "        <td>Southeast Asia</td>\n",
       "        <td>Mon-khmer</td>\n",
       "    </tr>\n",
       "    <tr>\n",
       "        <td>LAO</td>\n",
       "        <td>Laos</td>\n",
       "        <td>Southeast Asia</td>\n",
       "        <td>Thai</td>\n",
       "    </tr>\n",
       "    <tr>\n",
       "        <td>MMR</td>\n",
       "        <td>Myanmar</td>\n",
       "        <td>Southeast Asia</td>\n",
       "        <td>Burmese</td>\n",
       "    </tr>\n",
       "    <tr>\n",
       "        <td>MMR</td>\n",
       "        <td>Myanmar</td>\n",
       "        <td>Southeast Asia</td>\n",
       "        <td>Chin</td>\n",
       "    </tr>\n",
       "    <tr>\n",
       "        <td>MMR</td>\n",
       "        <td>Myanmar</td>\n",
       "        <td>Southeast Asia</td>\n",
       "        <td>Kachin</td>\n",
       "    </tr>\n",
       "    <tr>\n",
       "        <td>MMR</td>\n",
       "        <td>Myanmar</td>\n",
       "        <td>Southeast Asia</td>\n",
       "        <td>Karen</td>\n",
       "    </tr>\n",
       "    <tr>\n",
       "        <td>MMR</td>\n",
       "        <td>Myanmar</td>\n",
       "        <td>Southeast Asia</td>\n",
       "        <td>Kayah</td>\n",
       "    </tr>\n",
       "    <tr>\n",
       "        <td>MMR</td>\n",
       "        <td>Myanmar</td>\n",
       "        <td>Southeast Asia</td>\n",
       "        <td>Mon</td>\n",
       "    </tr>\n",
       "    <tr>\n",
       "        <td>MMR</td>\n",
       "        <td>Myanmar</td>\n",
       "        <td>Southeast Asia</td>\n",
       "        <td>Rakhine</td>\n",
       "    </tr>\n",
       "    <tr>\n",
       "        <td>MMR</td>\n",
       "        <td>Myanmar</td>\n",
       "        <td>Southeast Asia</td>\n",
       "        <td>Shan</td>\n",
       "    </tr>\n",
       "    <tr>\n",
       "        <td>MYS</td>\n",
       "        <td>Malaysia</td>\n",
       "        <td>Southeast Asia</td>\n",
       "        <td>Chinese</td>\n",
       "    </tr>\n",
       "    <tr>\n",
       "        <td>MYS</td>\n",
       "        <td>Malaysia</td>\n",
       "        <td>Southeast Asia</td>\n",
       "        <td>Dusun</td>\n",
       "    </tr>\n",
       "    <tr>\n",
       "        <td>MYS</td>\n",
       "        <td>Malaysia</td>\n",
       "        <td>Southeast Asia</td>\n",
       "        <td>English</td>\n",
       "    </tr>\n",
       "    <tr>\n",
       "        <td>MYS</td>\n",
       "        <td>Malaysia</td>\n",
       "        <td>Southeast Asia</td>\n",
       "        <td>Iban</td>\n",
       "    </tr>\n",
       "    <tr>\n",
       "        <td>MYS</td>\n",
       "        <td>Malaysia</td>\n",
       "        <td>Southeast Asia</td>\n",
       "        <td>Malay</td>\n",
       "    </tr>\n",
       "    <tr>\n",
       "        <td>MYS</td>\n",
       "        <td>Malaysia</td>\n",
       "        <td>Southeast Asia</td>\n",
       "        <td>Tamil</td>\n",
       "    </tr>\n",
       "    <tr>\n",
       "        <td>PHL</td>\n",
       "        <td>Philippines</td>\n",
       "        <td>Southeast Asia</td>\n",
       "        <td>Bicol</td>\n",
       "    </tr>\n",
       "    <tr>\n",
       "        <td>PHL</td>\n",
       "        <td>Philippines</td>\n",
       "        <td>Southeast Asia</td>\n",
       "        <td>Cebuano</td>\n",
       "    </tr>\n",
       "    <tr>\n",
       "        <td>PHL</td>\n",
       "        <td>Philippines</td>\n",
       "        <td>Southeast Asia</td>\n",
       "        <td>Hiligaynon</td>\n",
       "    </tr>\n",
       "    <tr>\n",
       "        <td>PHL</td>\n",
       "        <td>Philippines</td>\n",
       "        <td>Southeast Asia</td>\n",
       "        <td>Ilocano</td>\n",
       "    </tr>\n",
       "    <tr>\n",
       "        <td>PHL</td>\n",
       "        <td>Philippines</td>\n",
       "        <td>Southeast Asia</td>\n",
       "        <td>Maguindanao</td>\n",
       "    </tr>\n",
       "    <tr>\n",
       "        <td>PHL</td>\n",
       "        <td>Philippines</td>\n",
       "        <td>Southeast Asia</td>\n",
       "        <td>Maranao</td>\n",
       "    </tr>\n",
       "    <tr>\n",
       "        <td>PHL</td>\n",
       "        <td>Philippines</td>\n",
       "        <td>Southeast Asia</td>\n",
       "        <td>Pampango</td>\n",
       "    </tr>\n",
       "    <tr>\n",
       "        <td>PHL</td>\n",
       "        <td>Philippines</td>\n",
       "        <td>Southeast Asia</td>\n",
       "        <td>Pangasinan</td>\n",
       "    </tr>\n",
       "    <tr>\n",
       "        <td>PHL</td>\n",
       "        <td>Philippines</td>\n",
       "        <td>Southeast Asia</td>\n",
       "        <td>Pilipino</td>\n",
       "    </tr>\n",
       "    <tr>\n",
       "        <td>PHL</td>\n",
       "        <td>Philippines</td>\n",
       "        <td>Southeast Asia</td>\n",
       "        <td>Waray-waray</td>\n",
       "    </tr>\n",
       "    <tr>\n",
       "        <td>SGP</td>\n",
       "        <td>Singapore</td>\n",
       "        <td>Southeast Asia</td>\n",
       "        <td>Chinese</td>\n",
       "    </tr>\n",
       "    <tr>\n",
       "        <td>SGP</td>\n",
       "        <td>Singapore</td>\n",
       "        <td>Southeast Asia</td>\n",
       "        <td>Malay</td>\n",
       "    </tr>\n",
       "    <tr>\n",
       "        <td>SGP</td>\n",
       "        <td>Singapore</td>\n",
       "        <td>Southeast Asia</td>\n",
       "        <td>Tamil</td>\n",
       "    </tr>\n",
       "    <tr>\n",
       "        <td>THA</td>\n",
       "        <td>Thailand</td>\n",
       "        <td>Southeast Asia</td>\n",
       "        <td>Chinese</td>\n",
       "    </tr>\n",
       "    <tr>\n",
       "        <td>THA</td>\n",
       "        <td>Thailand</td>\n",
       "        <td>Southeast Asia</td>\n",
       "        <td>Khmer</td>\n",
       "    </tr>\n",
       "    <tr>\n",
       "        <td>THA</td>\n",
       "        <td>Thailand</td>\n",
       "        <td>Southeast Asia</td>\n",
       "        <td>Kuy</td>\n",
       "    </tr>\n",
       "    <tr>\n",
       "        <td>THA</td>\n",
       "        <td>Thailand</td>\n",
       "        <td>Southeast Asia</td>\n",
       "        <td>Lao</td>\n",
       "    </tr>\n",
       "    <tr>\n",
       "        <td>THA</td>\n",
       "        <td>Thailand</td>\n",
       "        <td>Southeast Asia</td>\n",
       "        <td>Malay</td>\n",
       "    </tr>\n",
       "    <tr>\n",
       "        <td>THA</td>\n",
       "        <td>Thailand</td>\n",
       "        <td>Southeast Asia</td>\n",
       "        <td>Thai</td>\n",
       "    </tr>\n",
       "    <tr>\n",
       "        <td>TMP</td>\n",
       "        <td>East Timor</td>\n",
       "        <td>Southeast Asia</td>\n",
       "        <td>Portuguese</td>\n",
       "    </tr>\n",
       "    <tr>\n",
       "        <td>TMP</td>\n",
       "        <td>East Timor</td>\n",
       "        <td>Southeast Asia</td>\n",
       "        <td>Sunda</td>\n",
       "    </tr>\n",
       "    <tr>\n",
       "        <td>VNM</td>\n",
       "        <td>Vietnam</td>\n",
       "        <td>Southeast Asia</td>\n",
       "        <td>Chinese</td>\n",
       "    </tr>\n",
       "    <tr>\n",
       "        <td>VNM</td>\n",
       "        <td>Vietnam</td>\n",
       "        <td>Southeast Asia</td>\n",
       "        <td>Khmer</td>\n",
       "    </tr>\n",
       "    <tr>\n",
       "        <td>VNM</td>\n",
       "        <td>Vietnam</td>\n",
       "        <td>Southeast Asia</td>\n",
       "        <td>Man</td>\n",
       "    </tr>\n",
       "    <tr>\n",
       "        <td>VNM</td>\n",
       "        <td>Vietnam</td>\n",
       "        <td>Southeast Asia</td>\n",
       "        <td>Miao</td>\n",
       "    </tr>\n",
       "    <tr>\n",
       "        <td>VNM</td>\n",
       "        <td>Vietnam</td>\n",
       "        <td>Southeast Asia</td>\n",
       "        <td>Muong</td>\n",
       "    </tr>\n",
       "    <tr>\n",
       "        <td>VNM</td>\n",
       "        <td>Vietnam</td>\n",
       "        <td>Southeast Asia</td>\n",
       "        <td>Nung</td>\n",
       "    </tr>\n",
       "    <tr>\n",
       "        <td>VNM</td>\n",
       "        <td>Vietnam</td>\n",
       "        <td>Southeast Asia</td>\n",
       "        <td>Thai</td>\n",
       "    </tr>\n",
       "    <tr>\n",
       "        <td>VNM</td>\n",
       "        <td>Vietnam</td>\n",
       "        <td>Southeast Asia</td>\n",
       "        <td>Tho</td>\n",
       "    </tr>\n",
       "    <tr>\n",
       "        <td>VNM</td>\n",
       "        <td>Vietnam</td>\n",
       "        <td>Southeast Asia</td>\n",
       "        <td>Vietnamese</td>\n",
       "    </tr>\n",
       "</table>"
      ],
      "text/plain": [
       "[('BRN', 'Brunei', 'Southeast Asia', 'Chinese'),\n",
       " ('BRN', 'Brunei', 'Southeast Asia', 'English'),\n",
       " ('BRN', 'Brunei', 'Southeast Asia', 'Malay'),\n",
       " ('BRN', 'Brunei', 'Southeast Asia', 'Malay-English'),\n",
       " ('IDN', 'Indonesia', 'Southeast Asia', 'Bali'),\n",
       " ('IDN', 'Indonesia', 'Southeast Asia', 'Banja'),\n",
       " ('IDN', 'Indonesia', 'Southeast Asia', 'Batakki'),\n",
       " ('IDN', 'Indonesia', 'Southeast Asia', 'Bugi'),\n",
       " ('IDN', 'Indonesia', 'Southeast Asia', 'Javanese'),\n",
       " ('IDN', 'Indonesia', 'Southeast Asia', 'Madura'),\n",
       " ('IDN', 'Indonesia', 'Southeast Asia', 'Malay'),\n",
       " ('IDN', 'Indonesia', 'Southeast Asia', 'Minangkabau'),\n",
       " ('IDN', 'Indonesia', 'Southeast Asia', 'Sunda'),\n",
       " ('KHM', 'Cambodia', 'Southeast Asia', 'Chinese'),\n",
       " ('KHM', 'Cambodia', 'Southeast Asia', 'Khmer'),\n",
       " ('KHM', 'Cambodia', 'Southeast Asia', 'Tšam'),\n",
       " ('KHM', 'Cambodia', 'Southeast Asia', 'Vietnamese'),\n",
       " ('LAO', 'Laos', 'Southeast Asia', 'Lao'),\n",
       " ('LAO', 'Laos', 'Southeast Asia', 'Lao-Soung'),\n",
       " ('LAO', 'Laos', 'Southeast Asia', 'Mon-khmer'),\n",
       " ('LAO', 'Laos', 'Southeast Asia', 'Thai'),\n",
       " ('MMR', 'Myanmar', 'Southeast Asia', 'Burmese'),\n",
       " ('MMR', 'Myanmar', 'Southeast Asia', 'Chin'),\n",
       " ('MMR', 'Myanmar', 'Southeast Asia', 'Kachin'),\n",
       " ('MMR', 'Myanmar', 'Southeast Asia', 'Karen'),\n",
       " ('MMR', 'Myanmar', 'Southeast Asia', 'Kayah'),\n",
       " ('MMR', 'Myanmar', 'Southeast Asia', 'Mon'),\n",
       " ('MMR', 'Myanmar', 'Southeast Asia', 'Rakhine'),\n",
       " ('MMR', 'Myanmar', 'Southeast Asia', 'Shan'),\n",
       " ('MYS', 'Malaysia', 'Southeast Asia', 'Chinese'),\n",
       " ('MYS', 'Malaysia', 'Southeast Asia', 'Dusun'),\n",
       " ('MYS', 'Malaysia', 'Southeast Asia', 'English'),\n",
       " ('MYS', 'Malaysia', 'Southeast Asia', 'Iban'),\n",
       " ('MYS', 'Malaysia', 'Southeast Asia', 'Malay'),\n",
       " ('MYS', 'Malaysia', 'Southeast Asia', 'Tamil'),\n",
       " ('PHL', 'Philippines', 'Southeast Asia', 'Bicol'),\n",
       " ('PHL', 'Philippines', 'Southeast Asia', 'Cebuano'),\n",
       " ('PHL', 'Philippines', 'Southeast Asia', 'Hiligaynon'),\n",
       " ('PHL', 'Philippines', 'Southeast Asia', 'Ilocano'),\n",
       " ('PHL', 'Philippines', 'Southeast Asia', 'Maguindanao'),\n",
       " ('PHL', 'Philippines', 'Southeast Asia', 'Maranao'),\n",
       " ('PHL', 'Philippines', 'Southeast Asia', 'Pampango'),\n",
       " ('PHL', 'Philippines', 'Southeast Asia', 'Pangasinan'),\n",
       " ('PHL', 'Philippines', 'Southeast Asia', 'Pilipino'),\n",
       " ('PHL', 'Philippines', 'Southeast Asia', 'Waray-waray'),\n",
       " ('SGP', 'Singapore', 'Southeast Asia', 'Chinese'),\n",
       " ('SGP', 'Singapore', 'Southeast Asia', 'Malay'),\n",
       " ('SGP', 'Singapore', 'Southeast Asia', 'Tamil'),\n",
       " ('THA', 'Thailand', 'Southeast Asia', 'Chinese'),\n",
       " ('THA', 'Thailand', 'Southeast Asia', 'Khmer'),\n",
       " ('THA', 'Thailand', 'Southeast Asia', 'Kuy'),\n",
       " ('THA', 'Thailand', 'Southeast Asia', 'Lao'),\n",
       " ('THA', 'Thailand', 'Southeast Asia', 'Malay'),\n",
       " ('THA', 'Thailand', 'Southeast Asia', 'Thai'),\n",
       " ('TMP', 'East Timor', 'Southeast Asia', 'Portuguese'),\n",
       " ('TMP', 'East Timor', 'Southeast Asia', 'Sunda'),\n",
       " ('VNM', 'Vietnam', 'Southeast Asia', 'Chinese'),\n",
       " ('VNM', 'Vietnam', 'Southeast Asia', 'Khmer'),\n",
       " ('VNM', 'Vietnam', 'Southeast Asia', 'Man'),\n",
       " ('VNM', 'Vietnam', 'Southeast Asia', 'Miao'),\n",
       " ('VNM', 'Vietnam', 'Southeast Asia', 'Muong'),\n",
       " ('VNM', 'Vietnam', 'Southeast Asia', 'Nung'),\n",
       " ('VNM', 'Vietnam', 'Southeast Asia', 'Thai'),\n",
       " ('VNM', 'Vietnam', 'Southeast Asia', 'Tho'),\n",
       " ('VNM', 'Vietnam', 'Southeast Asia', 'Vietnamese')]"
      ]
     },
     "execution_count": 29,
     "metadata": {},
     "output_type": "execute_result"
    }
   ],
   "source": [
    "%%sql\n",
    "\n",
    "SELECT co.Code, co.Name, co.Region, cl.Language FROM country co\n",
    "INNER JOIN countrylanguage cl ON co.Code = cl.CountryCode\n",
    "WHERE Region LIKE \"Southeast Asia\";"
   ]
  },
  {
   "cell_type": "markdown",
   "id": "e78c356c",
   "metadata": {},
   "source": [
    "#### 5 - Identify the 5 most spoken languages by number of countries."
   ]
  },
  {
   "cell_type": "code",
   "execution_count": 30,
   "id": "a300c458",
   "metadata": {},
   "outputs": [
    {
     "name": "stdout",
     "output_type": "stream",
     "text": [
      " * mysql+mysqlconnector://root:***@db\n",
      "5 rows affected.\n"
     ]
    },
    {
     "data": {
      "text/html": [
       "<table>\n",
       "    <tr>\n",
       "        <th>Language</th>\n",
       "        <th>NumberOfCountries</th>\n",
       "    </tr>\n",
       "    <tr>\n",
       "        <td>English</td>\n",
       "        <td>60</td>\n",
       "    </tr>\n",
       "    <tr>\n",
       "        <td>Arabic</td>\n",
       "        <td>33</td>\n",
       "    </tr>\n",
       "    <tr>\n",
       "        <td>Spanish</td>\n",
       "        <td>28</td>\n",
       "    </tr>\n",
       "    <tr>\n",
       "        <td>French</td>\n",
       "        <td>25</td>\n",
       "    </tr>\n",
       "    <tr>\n",
       "        <td>German</td>\n",
       "        <td>19</td>\n",
       "    </tr>\n",
       "</table>"
      ],
      "text/plain": [
       "[('English', 60),\n",
       " ('Arabic', 33),\n",
       " ('Spanish', 28),\n",
       " ('French', 25),\n",
       " ('German', 19)]"
      ]
     },
     "execution_count": 30,
     "metadata": {},
     "output_type": "execute_result"
    }
   ],
   "source": [
    "%%sql\n",
    "\n",
    "SELECT Language, COUNT(CountryCode) AS NumberOfCountries FROM countrylanguage\n",
    "GROUP BY Language\n",
    "ORDER BY NumberOfCountries DESC\n",
    "LIMIT 5;"
   ]
  },
  {
   "cell_type": "markdown",
   "id": "0c6bd462",
   "metadata": {},
   "source": [
    "#### 6 - What is the total population of the cities in the Caribbean region?"
   ]
  },
  {
   "cell_type": "code",
   "execution_count": 35,
   "id": "bcc138cd",
   "metadata": {},
   "outputs": [
    {
     "name": "stdout",
     "output_type": "stream",
     "text": [
      " * mysql+mysqlconnector://root:***@db\n",
      "1 rows affected.\n"
     ]
    },
    {
     "data": {
      "text/html": [
       "<table>\n",
       "    <tr>\n",
       "        <th>Region</th>\n",
       "        <th>TotalPopulation</th>\n",
       "    </tr>\n",
       "    <tr>\n",
       "        <td>Caribbean</td>\n",
       "        <td>38140000</td>\n",
       "    </tr>\n",
       "</table>"
      ],
      "text/plain": [
       "[('Caribbean', Decimal('38140000'))]"
      ]
     },
     "execution_count": 35,
     "metadata": {},
     "output_type": "execute_result"
    }
   ],
   "source": [
    "%%sql\n",
    "\n",
    "SELECT Region, SUM(Population) AS TotalPopulation FROM country\n",
    "WHERE Region LIKE \"Caribbean\"\n",
    "GROUP BY Region;"
   ]
  },
  {
   "cell_type": "markdown",
   "id": "88ca7683",
   "metadata": {},
   "source": [
    "#### 7 - What Countries have a City named \"Kingston\"?"
   ]
  },
  {
   "cell_type": "code",
   "execution_count": 41,
   "id": "425d5249",
   "metadata": {},
   "outputs": [
    {
     "name": "stdout",
     "output_type": "stream",
     "text": [
      " * mysql+mysqlconnector://root:***@db\n",
      "2 rows affected.\n"
     ]
    },
    {
     "data": {
      "text/html": [
       "<table>\n",
       "    <tr>\n",
       "        <th>Name</th>\n",
       "        <th>CountryCode</th>\n",
       "        <th>Region</th>\n",
       "    </tr>\n",
       "    <tr>\n",
       "        <td>Kingston</td>\n",
       "        <td>JAM</td>\n",
       "        <td>Caribbean</td>\n",
       "    </tr>\n",
       "    <tr>\n",
       "        <td>Kingston</td>\n",
       "        <td>NFK</td>\n",
       "        <td>Australia and New Zealand</td>\n",
       "    </tr>\n",
       "</table>"
      ],
      "text/plain": [
       "[('Kingston', 'JAM', 'Caribbean'),\n",
       " ('Kingston', 'NFK', 'Australia and New Zealand')]"
      ]
     },
     "execution_count": 41,
     "metadata": {},
     "output_type": "execute_result"
    }
   ],
   "source": [
    "%%sql\n",
    "\n",
    "SELECT ci.Name, ci.CountryCode, co.Region FROM city ci\n",
    "INNER JOIN country co ON ci.CountryCode = co.Code\n",
    "WHERE ci.Name LIKE \"Kingston\";"
   ]
  },
  {
   "cell_type": "markdown",
   "id": "51b4dbf2",
   "metadata": {},
   "source": [
    "#### 8 - Plot the population density by country, limiting to the 25 with least density."
   ]
  },
  {
   "cell_type": "code",
   "execution_count": 46,
   "id": "0b4afa19",
   "metadata": {},
   "outputs": [
    {
     "name": "stdout",
     "output_type": "stream",
     "text": [
      " * mysql+mysqlconnector://root:***@db\n",
      "25 rows affected.\n"
     ]
    },
    {
     "data": {
      "text/html": [
       "<table>\n",
       "    <tr>\n",
       "        <th>Code</th>\n",
       "        <th>Name</th>\n",
       "        <th>Region</th>\n",
       "        <th>density</th>\n",
       "    </tr>\n",
       "    <tr>\n",
       "        <td>UMI</td>\n",
       "        <td>United States Minor Outlying Islands</td>\n",
       "        <td>Micronesia/Caribbean</td>\n",
       "        <td>0.0000</td>\n",
       "    </tr>\n",
       "    <tr>\n",
       "        <td>IOT</td>\n",
       "        <td>British Indian Ocean Territory</td>\n",
       "        <td>Eastern Africa</td>\n",
       "        <td>0.0000</td>\n",
       "    </tr>\n",
       "    <tr>\n",
       "        <td>HMD</td>\n",
       "        <td>Heard Island and McDonald Islands</td>\n",
       "        <td>Antarctica</td>\n",
       "        <td>0.0000</td>\n",
       "    </tr>\n",
       "    <tr>\n",
       "        <td>SGS</td>\n",
       "        <td>South Georgia and the South Sandwich Islands</td>\n",
       "        <td>Antarctica</td>\n",
       "        <td>0.0000</td>\n",
       "    </tr>\n",
       "    <tr>\n",
       "        <td>BVT</td>\n",
       "        <td>Bouvet Island</td>\n",
       "        <td>Antarctica</td>\n",
       "        <td>0.0000</td>\n",
       "    </tr>\n",
       "    <tr>\n",
       "        <td>ATF</td>\n",
       "        <td>French Southern territories</td>\n",
       "        <td>Antarctica</td>\n",
       "        <td>0.0000</td>\n",
       "    </tr>\n",
       "    <tr>\n",
       "        <td>ATA</td>\n",
       "        <td>Antarctica</td>\n",
       "        <td>Antarctica</td>\n",
       "        <td>0.0000</td>\n",
       "    </tr>\n",
       "    <tr>\n",
       "        <td>GRL</td>\n",
       "        <td>Greenland</td>\n",
       "        <td>North America</td>\n",
       "        <td>0.0259</td>\n",
       "    </tr>\n",
       "    <tr>\n",
       "        <td>SJM</td>\n",
       "        <td>Svalbard and Jan Mayen</td>\n",
       "        <td>Nordic Countries</td>\n",
       "        <td>0.0513</td>\n",
       "    </tr>\n",
       "    <tr>\n",
       "        <td>FLK</td>\n",
       "        <td>Falkland Islands</td>\n",
       "        <td>South America</td>\n",
       "        <td>0.1643</td>\n",
       "    </tr>\n",
       "    <tr>\n",
       "        <td>PCN</td>\n",
       "        <td>Pitcairn</td>\n",
       "        <td>Polynesia</td>\n",
       "        <td>1.0204</td>\n",
       "    </tr>\n",
       "    <tr>\n",
       "        <td>ESH</td>\n",
       "        <td>Western Sahara</td>\n",
       "        <td>Northern Africa</td>\n",
       "        <td>1.1015</td>\n",
       "    </tr>\n",
       "    <tr>\n",
       "        <td>MNG</td>\n",
       "        <td>Mongolia</td>\n",
       "        <td>Eastern Asia</td>\n",
       "        <td>1.6993</td>\n",
       "    </tr>\n",
       "    <tr>\n",
       "        <td>GUF</td>\n",
       "        <td>French Guiana</td>\n",
       "        <td>South America</td>\n",
       "        <td>2.0111</td>\n",
       "    </tr>\n",
       "    <tr>\n",
       "        <td>NAM</td>\n",
       "        <td>Namibia</td>\n",
       "        <td>Southern Africa</td>\n",
       "        <td>2.0939</td>\n",
       "    </tr>\n",
       "    <tr>\n",
       "        <td>AUS</td>\n",
       "        <td>Australia</td>\n",
       "        <td>Australia and New Zealand</td>\n",
       "        <td>2.4397</td>\n",
       "    </tr>\n",
       "    <tr>\n",
       "        <td>SUR</td>\n",
       "        <td>Suriname</td>\n",
       "        <td>South America</td>\n",
       "        <td>2.5541</td>\n",
       "    </tr>\n",
       "    <tr>\n",
       "        <td>MRT</td>\n",
       "        <td>Mauritania</td>\n",
       "        <td>Western Africa</td>\n",
       "        <td>2.6036</td>\n",
       "    </tr>\n",
       "    <tr>\n",
       "        <td>ISL</td>\n",
       "        <td>Iceland</td>\n",
       "        <td>Nordic Countries</td>\n",
       "        <td>2.7087</td>\n",
       "    </tr>\n",
       "    <tr>\n",
       "        <td>BWA</td>\n",
       "        <td>Botswana</td>\n",
       "        <td>Southern Africa</td>\n",
       "        <td>2.7882</td>\n",
       "    </tr>\n",
       "    <tr>\n",
       "        <td>CAN</td>\n",
       "        <td>Canada</td>\n",
       "        <td>North America</td>\n",
       "        <td>3.1239</td>\n",
       "    </tr>\n",
       "    <tr>\n",
       "        <td>LBY</td>\n",
       "        <td>Libyan Arab Jamahiriya</td>\n",
       "        <td>Northern Africa</td>\n",
       "        <td>3.1855</td>\n",
       "    </tr>\n",
       "    <tr>\n",
       "        <td>GUY</td>\n",
       "        <td>Guyana</td>\n",
       "        <td>South America</td>\n",
       "        <td>4.0052</td>\n",
       "    </tr>\n",
       "    <tr>\n",
       "        <td>GAB</td>\n",
       "        <td>Gabon</td>\n",
       "        <td>Central Africa</td>\n",
       "        <td>4.5803</td>\n",
       "    </tr>\n",
       "    <tr>\n",
       "        <td>CAF</td>\n",
       "        <td>Central African Republic</td>\n",
       "        <td>Central Africa</td>\n",
       "        <td>5.8027</td>\n",
       "    </tr>\n",
       "</table>"
      ],
      "text/plain": [
       "[('UMI', 'United States Minor Outlying Islands', 'Micronesia/Caribbean', Decimal('0.0000')),\n",
       " ('IOT', 'British Indian Ocean Territory', 'Eastern Africa', Decimal('0.0000')),\n",
       " ('HMD', 'Heard Island and McDonald Islands', 'Antarctica', Decimal('0.0000')),\n",
       " ('SGS', 'South Georgia and the South Sandwich Islands', 'Antarctica', Decimal('0.0000')),\n",
       " ('BVT', 'Bouvet Island', 'Antarctica', Decimal('0.0000')),\n",
       " ('ATF', 'French Southern territories', 'Antarctica', Decimal('0.0000')),\n",
       " ('ATA', 'Antarctica', 'Antarctica', Decimal('0.0000')),\n",
       " ('GRL', 'Greenland', 'North America', Decimal('0.0259')),\n",
       " ('SJM', 'Svalbard and Jan Mayen', 'Nordic Countries', Decimal('0.0513')),\n",
       " ('FLK', 'Falkland Islands', 'South America', Decimal('0.1643')),\n",
       " ('PCN', 'Pitcairn', 'Polynesia', Decimal('1.0204')),\n",
       " ('ESH', 'Western Sahara', 'Northern Africa', Decimal('1.1015')),\n",
       " ('MNG', 'Mongolia', 'Eastern Asia', Decimal('1.6993')),\n",
       " ('GUF', 'French Guiana', 'South America', Decimal('2.0111')),\n",
       " ('NAM', 'Namibia', 'Southern Africa', Decimal('2.0939')),\n",
       " ('AUS', 'Australia', 'Australia and New Zealand', Decimal('2.4397')),\n",
       " ('SUR', 'Suriname', 'South America', Decimal('2.5541')),\n",
       " ('MRT', 'Mauritania', 'Western Africa', Decimal('2.6036')),\n",
       " ('ISL', 'Iceland', 'Nordic Countries', Decimal('2.7087')),\n",
       " ('BWA', 'Botswana', 'Southern Africa', Decimal('2.7882')),\n",
       " ('CAN', 'Canada', 'North America', Decimal('3.1239')),\n",
       " ('LBY', 'Libyan Arab Jamahiriya', 'Northern Africa', Decimal('3.1855')),\n",
       " ('GUY', 'Guyana', 'South America', Decimal('4.0052')),\n",
       " ('GAB', 'Gabon', 'Central Africa', Decimal('4.5803')),\n",
       " ('CAF', 'Central African Republic', 'Central Africa', Decimal('5.8027'))]"
      ]
     },
     "execution_count": 46,
     "metadata": {},
     "output_type": "execute_result"
    }
   ],
   "source": [
    "%%sql\n",
    "\n",
    "SELECT Code, Name, Region, (Population/SurfaceArea) AS density FROM country\n",
    "ORDER BY density\n",
    "LIMIT 25;"
   ]
  },
  {
   "cell_type": "code",
   "execution_count": 56,
   "id": "653c3b0a",
   "metadata": {},
   "outputs": [
    {
     "name": "stdout",
     "output_type": "stream",
     "text": [
      " * mysql+mysqlconnector://root:***@db\n",
      "25 rows affected.\n"
     ]
    },
    {
     "data": {
      "image/png": "[encoded data removed]",
      "text/plain": [
       "<Figure size 1600x300 with 1 Axes>"
      ]
     },
     "metadata": {},
     "output_type": "display_data"
    }
   ],
   "source": [
    "to_plot = %sql SELECT Name, (Population/SurfaceArea) AS density FROM country ORDER BY density LIMIT 25;\n",
    "plt.figure(figsize=(16,3))\n",
    "to_plot.bar()\n",
    "plt.xticks(rotation='vertical');"
   ]
  },
  {
   "cell_type": "markdown",
   "id": "03f10978",
   "metadata": {},
   "source": [
    "#### 9 - Plot the GNP (Gross Nation Product) of all countries that become independent between 1850 and 1910, limiting to the 10 with highest GNP."
   ]
  },
  {
   "cell_type": "code",
   "execution_count": 59,
   "id": "21e2aef2",
   "metadata": {},
   "outputs": [
    {
     "name": "stdout",
     "output_type": "stream",
     "text": [
      " * mysql+mysqlconnector://root:***@db\n",
      "10 rows affected.\n"
     ]
    },
    {
     "data": {
      "image/png": "[encoded data removed]",
      "text/plain": [
       "<Figure size 640x480 with 1 Axes>"
      ]
     },
     "metadata": {},
     "output_type": "display_data"
    }
   ],
   "source": [
    "res = %sql SELECT Name, GNP FROM country WHERE IndepYear BETWEEN 1850 AND 1910 ORDER BY GNP DESC LIMIT 10;\n",
    "\n",
    "res.bar();"
   ]
  },
  {
   "cell_type": "markdown",
   "id": "ca8c72b6",
   "metadata": {},
   "source": [
    "#### 10 - Create a scatter plot of the life expentency vs the GNP of all countries that have Spanish as their Official language."
   ]
  },
  {
   "cell_type": "code",
   "execution_count": 63,
   "id": "ff1fcdbf",
   "metadata": {},
   "outputs": [
    {
     "name": "stdout",
     "output_type": "stream",
     "text": [
      " * mysql+mysqlconnector://root:***@db\n",
      "5 rows affected.\n"
     ]
    },
    {
     "data": {
      "text/html": [
       "<table>\n",
       "    <tr>\n",
       "        <th>LifeExpectancy</th>\n",
       "        <th>GNP</th>\n",
       "    </tr>\n",
       "    <tr>\n",
       "        <td>75.1</td>\n",
       "        <td>340238.00</td>\n",
       "    </tr>\n",
       "    <tr>\n",
       "        <td>63.7</td>\n",
       "        <td>8571.00</td>\n",
       "    </tr>\n",
       "    <tr>\n",
       "        <td>75.7</td>\n",
       "        <td>72949.00</td>\n",
       "    </tr>\n",
       "    <tr>\n",
       "        <td>70.3</td>\n",
       "        <td>102896.00</td>\n",
       "    </tr>\n",
       "    <tr>\n",
       "        <td>75.8</td>\n",
       "        <td>10226.00</td>\n",
       "    </tr>\n",
       "</table>"
      ],
      "text/plain": [
       "[(Decimal('75.1'), Decimal('340238.00')),\n",
       " (Decimal('63.7'), Decimal('8571.00')),\n",
       " (Decimal('75.7'), Decimal('72949.00')),\n",
       " (Decimal('70.3'), Decimal('102896.00')),\n",
       " (Decimal('75.8'), Decimal('10226.00'))]"
      ]
     },
     "execution_count": 63,
     "metadata": {},
     "output_type": "execute_result"
    }
   ],
   "source": [
    "%%sql\n",
    "\n",
    "SELECT co.LifeExpectancy, co.GNP FROM country co\n",
    "INNER JOIN countrylanguage cl ON co.Code = cl.CountryCode\n",
    "WHERE cl.Language = \"Spanish\" AND cl.isOfficial = \"T\"\n",
    "LIMIT 5;"
   ]
  },
  {
   "cell_type": "code",
   "execution_count": 75,
   "id": "15ba1fa3",
   "metadata": {},
   "outputs": [
    {
     "name": "stdout",
     "output_type": "stream",
     "text": [
      "[(Decimal('75.1'), Decimal('340238.00')), (Decimal('63.7'), Decimal('8571.00')), (Decimal('75.7'), Decimal('72949.00')), (Decimal('70.3'), Decimal('102896.00')), (Decimal('75.8'), Decimal('10226.00')), (Decimal('76.2'), Decimal('17843.00')), (Decimal('73.2'), Decimal('15846.00')), (Decimal('71.1'), Decimal('19770.00')), (Decimal('78.8'), Decimal('553233.00')), (Decimal('66.2'), Decimal('19008.00')), (Decimal('69.9'), Decimal('5333.00')), (Decimal('71.5'), Decimal('414972.00')), (Decimal('68.7'), Decimal('1988.00')), (Decimal('75.5'), Decimal('9131.00')), (Decimal('70.0'), Decimal('64140.00')), (Decimal('75.6'), Decimal('34100.00')), (Decimal('73.7'), Decimal('8444.00')), (Decimal('69.7'), Decimal('11863.00')), (Decimal('75.2'), Decimal('20831.00')), (Decimal('73.1'), Decimal('95023.00'))]\n"
     ]
    }
   ],
   "source": [
    "dbc.execute(\"USE world;\")\n",
    "sql_ = \"SELECT co.LifeExpectancy, co.GNP \\\n",
    "FROM country co \\\n",
    "INNER JOIN countrylanguage cl ON co.Code = cl.CountryCode \\\n",
    "WHERE cl.Language = 'Spanish' \\\n",
    "AND cl.isOfficial = 'T';\"\n",
    "\n",
    "dbc.execute(sql_)\n",
    "res = dbc.fetchall()\n",
    "print(res)"
   ]
  },
  {
   "cell_type": "code",
   "execution_count": 84,
   "id": "29539f7a",
   "metadata": {},
   "outputs": [
    {
     "name": "stdout",
     "output_type": "stream",
     "text": [
      " * mysql+mysqlconnector://root:***@db\n",
      "20 rows affected.\n"
     ]
    },
    {
     "data": {
      "image/png": "[encoded data removed]",
      "text/plain": [
       "<Figure size 800x600 with 1 Axes>"
      ]
     },
     "metadata": {},
     "output_type": "display_data"
    }
   ],
   "source": [
    "res_ = %sql SELECT co.LifeExpectancy, co.GNP, co.Name FROM country co INNER JOIN countrylanguage cl ON co.Code = cl.CountryCode WHERE cl.Language = 'Spanish' AND cl.isOfficial = 'T';\n",
    "\n",
    "plt.figure(figsize=(8,6))\n",
    "for _ in res_:\n",
    "    plt.scatter(_[0],_[1],s=50);\n",
    "    plt.annotate(_[2], (float(_[0])*1.002,float(_[1])*1.002));\n",
    "plt.ylabel('GNP')\n",
    "plt.xlabel('LifeExpectancy')\n",
    "plt.yscale('log')\n",
    "plt.show()"
   ]
  },
  {
   "cell_type": "markdown",
   "id": "f65b5e6a",
   "metadata": {},
   "source": [
    "## 06 More on queries "
   ]
  },
  {
   "cell_type": "markdown",
   "id": "4d0da673",
   "metadata": {},
   "source": [
    "Let' import a well-structured DB, with several tables and relationships, to be used as a sandbox for further exercises on queries.\n",
    "\n",
    "The `.sql` file can be found at: `/mapd-workspace/dbs/IMDb_pruned.sql`.\n",
    "\n",
    "The DB is freely available and is taken from the IMDb (Internet Movie Database) website (https://www.imdb.com/interfaces/).\n",
    "\n",
    "The entire database is composed of a dozen of tables, hosing all people involved in Movies, Shorts, TV Show Epidoses and more since the 1890s. \n",
    "\n",
    "To simplify the execution of queries, we will work with a slimmed-down version of the entire DB, with still plenty of records for us to extract interesting information."
   ]
  },
  {
   "cell_type": "markdown",
   "id": "aa986853",
   "metadata": {},
   "source": [
    "1. Create a new DB named `IMDb`\n",
    "2. Import the content of the file `/mapd-workspace/dbs/IMDb_pruned.sql` into the newly created DB\n",
    "(this might take a minute or two...)"
   ]
  },
  {
   "cell_type": "markdown",
   "id": "33480edc",
   "metadata": {},
   "source": [
    "### Check which tables are available"
   ]
  },
  {
   "cell_type": "code",
   "execution_count": 6,
   "id": "6b070d42",
   "metadata": {},
   "outputs": [
    {
     "name": "stdout",
     "output_type": "stream",
     "text": [
      "0 rows affected.\n",
      "7 rows affected.\n"
     ]
    },
    {
     "data": {
      "text/html": [
       "<table>\n",
       "    <tr>\n",
       "        <th>Tables_in_IMDb</th>\n",
       "    </tr>\n",
       "    <tr>\n",
       "        <td>Directors</td>\n",
       "    </tr>\n",
       "    <tr>\n",
       "        <td>Episode_belongs_to</td>\n",
       "    </tr>\n",
       "    <tr>\n",
       "        <td>Had_role</td>\n",
       "    </tr>\n",
       "    <tr>\n",
       "        <td>Names_</td>\n",
       "    </tr>\n",
       "    <tr>\n",
       "        <td>Title_genres</td>\n",
       "    </tr>\n",
       "    <tr>\n",
       "        <td>Title_ratings</td>\n",
       "    </tr>\n",
       "    <tr>\n",
       "        <td>Titles</td>\n",
       "    </tr>\n",
       "</table>"
      ],
      "text/plain": [
       "[('Directors',),\n",
       " ('Episode_belongs_to',),\n",
       " ('Had_role',),\n",
       " ('Names_',),\n",
       " ('Title_genres',),\n",
       " ('Title_ratings',),\n",
       " ('Titles',)]"
      ]
     },
     "execution_count": 6,
     "metadata": {},
     "output_type": "execute_result"
    }
   ],
   "source": [
    "%%sql\n",
    "\n",
    "USE IMDb;\n",
    "\n",
    "SHOW TABLES;"
   ]
  },
  {
   "cell_type": "markdown",
   "id": "3f1328fb",
   "metadata": {},
   "source": [
    "### Describe the content of table Names_"
   ]
  },
  {
   "cell_type": "code",
   "execution_count": 7,
   "id": "bf8fb40a",
   "metadata": {},
   "outputs": [
    {
     "name": "stdout",
     "output_type": "stream",
     "text": [
      " * mysql+mysqlconnector://root:***@db\n",
      "4 rows affected.\n"
     ]
    },
    {
     "data": {
      "text/html": [
       "<table>\n",
       "    <tr>\n",
       "        <th>Field</th>\n",
       "        <th>Type</th>\n",
       "        <th>Null</th>\n",
       "        <th>Key</th>\n",
       "        <th>Default</th>\n",
       "        <th>Extra</th>\n",
       "    </tr>\n",
       "    <tr>\n",
       "        <td>name_id</td>\n",
       "        <td>b&#x27;varchar(255)&#x27;</td>\n",
       "        <td>NO</td>\n",
       "        <td></td>\n",
       "        <td>None</td>\n",
       "        <td></td>\n",
       "    </tr>\n",
       "    <tr>\n",
       "        <td>name_</td>\n",
       "        <td>b&#x27;varchar(255)&#x27;</td>\n",
       "        <td>NO</td>\n",
       "        <td></td>\n",
       "        <td>None</td>\n",
       "        <td></td>\n",
       "    </tr>\n",
       "    <tr>\n",
       "        <td>birth_year</td>\n",
       "        <td>b&#x27;smallint&#x27;</td>\n",
       "        <td>YES</td>\n",
       "        <td></td>\n",
       "        <td>None</td>\n",
       "        <td></td>\n",
       "    </tr>\n",
       "    <tr>\n",
       "        <td>death_year</td>\n",
       "        <td>b&#x27;smallint&#x27;</td>\n",
       "        <td>YES</td>\n",
       "        <td></td>\n",
       "        <td>None</td>\n",
       "        <td></td>\n",
       "    </tr>\n",
       "</table>"
      ],
      "text/plain": [
       "[('name_id', b'varchar(255)', 'NO', '', None, ''),\n",
       " ('name_', b'varchar(255)', 'NO', '', None, ''),\n",
       " ('birth_year', b'smallint', 'YES', '', None, ''),\n",
       " ('death_year', b'smallint', 'YES', '', None, '')]"
      ]
     },
     "execution_count": 7,
     "metadata": {},
     "output_type": "execute_result"
    }
   ],
   "source": [
    "%%sql\n",
    "\n",
    "DESCRIBE Names_;"
   ]
  },
  {
   "cell_type": "markdown",
   "id": "f5c88b21",
   "metadata": {},
   "source": [
    "### People by birth year\n",
    "\n",
    "A) Start by limiting the query to 1000 entries\n",
    "\n",
    "1. Draw an histogram of the year of birth\n",
    "2. Draw a second histogram with the year of birth of the 1000 youngest people in the list"
   ]
  },
  {
   "cell_type": "code",
   "execution_count": 8,
   "id": "c8e32600",
   "metadata": {},
   "outputs": [
    {
     "name": "stdout",
     "output_type": "stream",
     "text": [
      " * mysql+mysqlconnector://root:***@db\n",
      "5 rows affected.\n"
     ]
    },
    {
     "data": {
      "text/html": [
       "<table>\n",
       "    <tr>\n",
       "        <th>name_id</th>\n",
       "        <th>name_</th>\n",
       "        <th>birth_year</th>\n",
       "        <th>death_year</th>\n",
       "    </tr>\n",
       "    <tr>\n",
       "        <td>nm0000002</td>\n",
       "        <td>Lauren Bacall</td>\n",
       "        <td>1924</td>\n",
       "        <td>2014</td>\n",
       "    </tr>\n",
       "    <tr>\n",
       "        <td>nm0000003</td>\n",
       "        <td>Brigitte Bardot</td>\n",
       "        <td>1934</td>\n",
       "        <td>None</td>\n",
       "    </tr>\n",
       "    <tr>\n",
       "        <td>nm0000005</td>\n",
       "        <td>Ingmar Bergman</td>\n",
       "        <td>1918</td>\n",
       "        <td>2007</td>\n",
       "    </tr>\n",
       "    <tr>\n",
       "        <td>nm0000008</td>\n",
       "        <td>Marlon Brando</td>\n",
       "        <td>1924</td>\n",
       "        <td>2004</td>\n",
       "    </tr>\n",
       "    <tr>\n",
       "        <td>nm0000013</td>\n",
       "        <td>Doris Day</td>\n",
       "        <td>1922</td>\n",
       "        <td>2019</td>\n",
       "    </tr>\n",
       "</table>"
      ],
      "text/plain": [
       "[('nm0000002', 'Lauren Bacall', 1924, 2014),\n",
       " ('nm0000003', 'Brigitte Bardot', 1934, None),\n",
       " ('nm0000005', 'Ingmar Bergman', 1918, 2007),\n",
       " ('nm0000008', 'Marlon Brando', 1924, 2004),\n",
       " ('nm0000013', 'Doris Day', 1922, 2019)]"
      ]
     },
     "execution_count": 8,
     "metadata": {},
     "output_type": "execute_result"
    }
   ],
   "source": [
    "%%sql\n",
    "\n",
    "SELECT * FROM Names_\n",
    "LIMIT 5;"
   ]
  },
  {
   "cell_type": "code",
   "execution_count": 9,
   "id": "696d5460",
   "metadata": {},
   "outputs": [
    {
     "name": "stdout",
     "output_type": "stream",
     "text": [
      " * mysql+mysqlconnector://root:***@db\n",
      "1000 rows affected.\n"
     ]
    },
    {
     "data": {
      "image/png": "[encoded data removed]",
      "text/plain": [
       "<Figure size 640x480 with 1 Axes>"
      ]
     },
     "metadata": {},
     "output_type": "display_data"
    }
   ],
   "source": [
    "to_hist = %sql SELECT birth_year FROM Names_ LIMIT 1000;\n",
    "to_hist = [x[0] for x in to_hist]\n",
    "plt.hist(to_hist);"
   ]
  },
  {
   "cell_type": "code",
   "execution_count": 10,
   "id": "13ceed7d",
   "metadata": {},
   "outputs": [
    {
     "name": "stdout",
     "output_type": "stream",
     "text": [
      " * mysql+mysqlconnector://root:***@db\n",
      "1000 rows affected.\n"
     ]
    },
    {
     "data": {
      "image/png": "[encoded data removed]",
      "text/plain": [
       "<Figure size 640x480 with 1 Axes>"
      ]
     },
     "metadata": {},
     "output_type": "display_data"
    }
   ],
   "source": [
    "to_hist = %sql SELECT birth_year FROM Names_ ORDER BY birth_year DESC LIMIT 1000;\n",
    "to_hist = [x[0] for x in to_hist]\n",
    "plt.hist(to_hist);"
   ]
  },
  {
   "cell_type": "markdown",
   "id": "4ddda65c",
   "metadata": {},
   "source": [
    "B) Extend the query to all records in the table\n",
    "\n",
    "1. Check for outliers (inspect min and max)\n",
    "2. If any outlier is found, limit the query to a reasonable range (at least people born after 1850)\n",
    "3. Draw a new histogram with the year of birth\n",
    "4. Compute the mean and std of year of birth"
   ]
  },
  {
   "cell_type": "code",
   "execution_count": 11,
   "id": "40bad38f",
   "metadata": {},
   "outputs": [
    {
     "name": "stdout",
     "output_type": "stream",
     "text": [
      " * mysql+mysqlconnector://root:***@db\n",
      "1 rows affected.\n"
     ]
    },
    {
     "data": {
      "text/html": [
       "<table>\n",
       "    <tr>\n",
       "        <th>MIN(birth_year)</th>\n",
       "        <th>MAX(birth_year)</th>\n",
       "    </tr>\n",
       "    <tr>\n",
       "        <td>13</td>\n",
       "        <td>2021</td>\n",
       "    </tr>\n",
       "</table>"
      ],
      "text/plain": [
       "[(13, 2021)]"
      ]
     },
     "execution_count": 11,
     "metadata": {},
     "output_type": "execute_result"
    }
   ],
   "source": [
    "%%sql\n",
    "\n",
    "SELECT MIN(birth_year), MAX(birth_year) FROM Names_; # min is too min... there is some error"
   ]
  },
  {
   "cell_type": "code",
   "execution_count": 12,
   "id": "f6e018dc",
   "metadata": {
    "scrolled": true
   },
   "outputs": [
    {
     "name": "stdout",
     "output_type": "stream",
     "text": [
      " * mysql+mysqlconnector://root:***@db\n",
      "0 rows affected.\n",
      "7 rows affected.\n"
     ]
    },
    {
     "data": {
      "text/html": [
       "<table>\n",
       "    <tr>\n",
       "        <th>Tables_in_IMDb</th>\n",
       "    </tr>\n",
       "    <tr>\n",
       "        <td>Directors</td>\n",
       "    </tr>\n",
       "    <tr>\n",
       "        <td>Episode_belongs_to</td>\n",
       "    </tr>\n",
       "    <tr>\n",
       "        <td>Had_role</td>\n",
       "    </tr>\n",
       "    <tr>\n",
       "        <td>Names_</td>\n",
       "    </tr>\n",
       "    <tr>\n",
       "        <td>Title_genres</td>\n",
       "    </tr>\n",
       "    <tr>\n",
       "        <td>Title_ratings</td>\n",
       "    </tr>\n",
       "    <tr>\n",
       "        <td>Titles</td>\n",
       "    </tr>\n",
       "</table>"
      ],
      "text/plain": [
       "[('Directors',),\n",
       " ('Episode_belongs_to',),\n",
       " ('Had_role',),\n",
       " ('Names_',),\n",
       " ('Title_genres',),\n",
       " ('Title_ratings',),\n",
       " ('Titles',)]"
      ]
     },
     "execution_count": 12,
     "metadata": {},
     "output_type": "execute_result"
    }
   ],
   "source": [
    "%%sql \n",
    "\n",
    "USE IMDb;\n",
    "\n",
    "SHOW TABLES;"
   ]
  },
  {
   "cell_type": "code",
   "execution_count": 13,
   "id": "5b71d707",
   "metadata": {},
   "outputs": [
    {
     "name": "stdout",
     "output_type": "stream",
     "text": [
      " * mysql+mysqlconnector://root:***@db\n",
      "1 rows affected.\n"
     ]
    },
    {
     "data": {
      "text/html": [
       "<table>\n",
       "    <tr>\n",
       "        <th>MIN(birth_year)</th>\n",
       "        <th>MAX(birth_year)</th>\n",
       "    </tr>\n",
       "    <tr>\n",
       "        <td>13</td>\n",
       "        <td>1088</td>\n",
       "    </tr>\n",
       "</table>"
      ],
      "text/plain": [
       "[(13, 1088)]"
      ]
     },
     "execution_count": 13,
     "metadata": {},
     "output_type": "execute_result"
    }
   ],
   "source": [
    "%%sql\n",
    "\n",
    "SELECT MIN(birth_year), MAX(birth_year) FROM Names_\n",
    "WHERE birth_year < 1850; # min is too min... and even max is too min"
   ]
  },
  {
   "cell_type": "code",
   "execution_count": 14,
   "id": "3c9ffd88",
   "metadata": {},
   "outputs": [
    {
     "name": "stdout",
     "output_type": "stream",
     "text": [
      " * mysql+mysqlconnector://root:***@db\n",
      "0 rows affected.\n",
      "7 rows affected.\n"
     ]
    },
    {
     "data": {
      "text/html": [
       "<table>\n",
       "    <tr>\n",
       "        <th>Tables_in_IMDb</th>\n",
       "    </tr>\n",
       "    <tr>\n",
       "        <td>Directors</td>\n",
       "    </tr>\n",
       "    <tr>\n",
       "        <td>Episode_belongs_to</td>\n",
       "    </tr>\n",
       "    <tr>\n",
       "        <td>Had_role</td>\n",
       "    </tr>\n",
       "    <tr>\n",
       "        <td>Names_</td>\n",
       "    </tr>\n",
       "    <tr>\n",
       "        <td>Title_genres</td>\n",
       "    </tr>\n",
       "    <tr>\n",
       "        <td>Title_ratings</td>\n",
       "    </tr>\n",
       "    <tr>\n",
       "        <td>Titles</td>\n",
       "    </tr>\n",
       "</table>"
      ],
      "text/plain": [
       "[('Directors',),\n",
       " ('Episode_belongs_to',),\n",
       " ('Had_role',),\n",
       " ('Names_',),\n",
       " ('Title_genres',),\n",
       " ('Title_ratings',),\n",
       " ('Titles',)]"
      ]
     },
     "execution_count": 14,
     "metadata": {},
     "output_type": "execute_result"
    }
   ],
   "source": [
    "%%sql \n",
    "\n",
    "USE IMDb;\n",
    "\n",
    "SHOW TABLES;"
   ]
  },
  {
   "cell_type": "code",
   "execution_count": 28,
   "id": "45886a19",
   "metadata": {
    "scrolled": false
   },
   "outputs": [
    {
     "name": "stdout",
     "output_type": "stream",
     "text": [
      " * mysql+mysqlconnector://root:***@db\n",
      "156309 rows affected.\n",
      " * mysql+mysqlconnector://root:***@db\n",
      "1 rows affected.\n"
     ]
    },
    {
     "data": {
      "image/png": "[encoded data removed]",
      "text/plain": [
       "<Figure size 640x480 with 1 Axes>"
      ]
     },
     "metadata": {},
     "output_type": "display_data"
    }
   ],
   "source": [
    "to_hist_new = %sql SELECT birth_year FROM Names_ WHERE birth_year > 1850;\n",
    "to_hist_new = [x[0] for x in to_hist_new]\n",
    "graph = %sql SELECT AVG(birth_year), STD(birth_year) FROM Names_ WHERE birth_year > 1850;\n",
    "\n",
    "plt.hist(to_hist_new, bins=50, label=\"hist\")\n",
    "plt.axvline(x=int(graph[0][0]), label=\"$\\mu$\", c=\"red\")\n",
    "plt.axvline(x=int(graph[0][0])+int(graph[0][1]), label=\"$\\mu\\pm\\sigma$\", ls=\"--\", c=\"orange\")\n",
    "plt.axvline(x=int(graph[0][0])-int(graph[0][1]), ls=\"--\", c=\"orange\")\n",
    "plt.legend()\n",
    "plt.grid()\n",
    "plt.show()"
   ]
  },
  {
   "cell_type": "markdown",
   "id": "3b00fe99",
   "metadata": {},
   "source": [
    "### Movie stats\n",
    "\n",
    "1. Plot how many titles can be found in the DB per year, over the past 25 years\n",
    "2. List the names of all actors who have had the role of Spider-Man and the corresponding Title\n",
    "3. List and count the 10 people who appeared the most in movies by \"Wes Anderson\""
   ]
  },
  {
   "cell_type": "markdown",
   "id": "892b2c35",
   "metadata": {},
   "source": [
    "#### 1 - Plot how many titles can be found in the DB per year, over the past 25 years"
   ]
  },
  {
   "cell_type": "code",
   "execution_count": 29,
   "id": "e190ed31",
   "metadata": {},
   "outputs": [
    {
     "name": "stdout",
     "output_type": "stream",
     "text": [
      " * mysql+mysqlconnector://root:***@db\n",
      "5 rows affected.\n"
     ]
    },
    {
     "data": {
      "text/html": [
       "<table>\n",
       "    <tr>\n",
       "        <th>title_id</th>\n",
       "        <th>title_type</th>\n",
       "        <th>primary_title</th>\n",
       "        <th>start_year</th>\n",
       "        <th>runtime_minutes</th>\n",
       "    </tr>\n",
       "    <tr>\n",
       "        <td>tt0011216</td>\n",
       "        <td>movie</td>\n",
       "        <td>b&#x27;Spanish Fiesta&#x27;</td>\n",
       "        <td>2019</td>\n",
       "        <td>67</td>\n",
       "    </tr>\n",
       "    <tr>\n",
       "        <td>tt0015724</td>\n",
       "        <td>movie</td>\n",
       "        <td>b&#x27;Dama de noche&#x27;</td>\n",
       "        <td>1993</td>\n",
       "        <td>102</td>\n",
       "    </tr>\n",
       "    <tr>\n",
       "        <td>tt0035423</td>\n",
       "        <td>movie</td>\n",
       "        <td>b&#x27;Kate &amp; Leopold&#x27;</td>\n",
       "        <td>2001</td>\n",
       "        <td>118</td>\n",
       "    </tr>\n",
       "    <tr>\n",
       "        <td>tt0059325</td>\n",
       "        <td>movie</td>\n",
       "        <td>b&quot;Born in &#x27;45&quot;</td>\n",
       "        <td>1990</td>\n",
       "        <td>100</td>\n",
       "    </tr>\n",
       "    <tr>\n",
       "        <td>tt0059900</td>\n",
       "        <td>movie</td>\n",
       "        <td>b&#x27;Wenn du gro\\xc3\\x9f bist, lieber Adam&#x27;</td>\n",
       "        <td>1990</td>\n",
       "        <td>78</td>\n",
       "    </tr>\n",
       "</table>"
      ],
      "text/plain": [
       "[('tt0011216', 'movie', b'Spanish Fiesta', 2019, 67),\n",
       " ('tt0015724', 'movie', b'Dama de noche', 1993, 102),\n",
       " ('tt0035423', 'movie', b'Kate & Leopold', 2001, 118),\n",
       " ('tt0059325', 'movie', b\"Born in '45\", 1990, 100),\n",
       " ('tt0059900', 'movie', b'Wenn du gro\\xc3\\x9f bist, lieber Adam', 1990, 78)]"
      ]
     },
     "execution_count": 29,
     "metadata": {},
     "output_type": "execute_result"
    }
   ],
   "source": [
    "%%sql \n",
    "\n",
    "SELECT * FROM Titles LIMIT 5;"
   ]
  },
  {
   "cell_type": "code",
   "execution_count": 30,
   "id": "fb83a5d3",
   "metadata": {},
   "outputs": [
    {
     "name": "stdout",
     "output_type": "stream",
     "text": [
      " * mysql+mysqlconnector://root:***@db\n",
      "25 rows affected.\n"
     ]
    },
    {
     "data": {
      "image/png": "[encoded data removed]",
      "text/plain": [
       "<Figure size 640x480 with 1 Axes>"
      ]
     },
     "metadata": {},
     "output_type": "display_data"
    }
   ],
   "source": [
    "to_plot = %sql SELECT start_year, COUNT(start_year) AS Counts FROM Titles GROUP BY start_year ORDER BY start_year DESC LIMIT 25;\n",
    "years = [x[0] for x in to_plot]\n",
    "counts = [x[1] for x in to_plot]\n",
    "plt.plot(years, counts, label=\"start_year\")\n",
    "plt.legend()\n",
    "plt.show()"
   ]
  },
  {
   "cell_type": "markdown",
   "id": "5022d3c3",
   "metadata": {},
   "source": [
    "#### 2 - List the names of all actors who have had the role of Spider-Man and the corresponding Title "
   ]
  },
  {
   "cell_type": "code",
   "execution_count": 7,
   "id": "d983d957",
   "metadata": {},
   "outputs": [
    {
     "name": "stdout",
     "output_type": "stream",
     "text": [
      " * mysql+mysqlconnector://root:***@db\n",
      "8 rows affected.\n"
     ]
    },
    {
     "data": {
      "text/html": [
       "<table>\n",
       "    <tr>\n",
       "        <th>name_</th>\n",
       "        <th>primary_title</th>\n",
       "    </tr>\n",
       "    <tr>\n",
       "        <td>Tobey Maguire</td>\n",
       "        <td>b&#x27;Spider-Man&#x27;</td>\n",
       "    </tr>\n",
       "    <tr>\n",
       "        <td>Tobey Maguire</td>\n",
       "        <td>b&#x27;Spider-Man 3&#x27;</td>\n",
       "    </tr>\n",
       "    <tr>\n",
       "        <td>Tobey Maguire</td>\n",
       "        <td>b&#x27;Spider-Man 2&#x27;</td>\n",
       "    </tr>\n",
       "    <tr>\n",
       "        <td>Andrew Garfield</td>\n",
       "        <td>b&#x27;The Amazing Spider-Man 2&#x27;</td>\n",
       "    </tr>\n",
       "    <tr>\n",
       "        <td>Andrew Garfield</td>\n",
       "        <td>b&#x27;The Amazing Spider-Man&#x27;</td>\n",
       "    </tr>\n",
       "    <tr>\n",
       "        <td>Tom Holland</td>\n",
       "        <td>b&#x27;Spider-Man: No Way Home&#x27;</td>\n",
       "    </tr>\n",
       "    <tr>\n",
       "        <td>Tom Holland</td>\n",
       "        <td>b&#x27;Spider-Man: Homecoming&#x27;</td>\n",
       "    </tr>\n",
       "    <tr>\n",
       "        <td>Tom Holland</td>\n",
       "        <td>b&#x27;Spider-Man: Far from Home&#x27;</td>\n",
       "    </tr>\n",
       "</table>"
      ],
      "text/plain": [
       "[('Tobey Maguire', b'Spider-Man'),\n",
       " ('Tobey Maguire', b'Spider-Man 3'),\n",
       " ('Tobey Maguire', b'Spider-Man 2'),\n",
       " ('Andrew Garfield', b'The Amazing Spider-Man 2'),\n",
       " ('Andrew Garfield', b'The Amazing Spider-Man'),\n",
       " ('Tom Holland', b'Spider-Man: No Way Home'),\n",
       " ('Tom Holland', b'Spider-Man: Homecoming'),\n",
       " ('Tom Holland', b'Spider-Man: Far from Home')]"
      ]
     },
     "execution_count": 7,
     "metadata": {},
     "output_type": "execute_result"
    }
   ],
   "source": [
    "%%sql \n",
    "\n",
    "SELECT n.name_, t.primary_title FROM Had_role h\n",
    "INNER JOIN Titles t ON h.title_id = t.title_id\n",
    "INNER JOIN Names_ n ON h.name_id = n.name_id\n",
    "WHERE (h.role_ LIKE \"Spider-Man\") AND (t.title_type LIKE \"movie\");"
   ]
  },
  {
   "cell_type": "markdown",
   "id": "db261245",
   "metadata": {},
   "source": [
    "#### 3 - List and count the 10 people who appeared the most in movies by \"Wes Anderson\""
   ]
  },
  {
   "cell_type": "code",
   "execution_count": 49,
   "id": "7bbbbb0b",
   "metadata": {},
   "outputs": [
    {
     "name": "stdout",
     "output_type": "stream",
     "text": [
      " * mysql+mysqlconnector://root:***@db\n",
      "0 rows affected.\n"
     ]
    },
    {
     "data": {
      "text/plain": [
       "[]"
      ]
     },
     "execution_count": 49,
     "metadata": {},
     "output_type": "execute_result"
    }
   ],
   "source": [
    "%%sql \n",
    "\n",
    "CREATE VIEW WesAnderson AS\n",
    "SELECT n.name_, t.primary_title, t.title_id FROM Directors d \n",
    "INNER JOIN Titles t ON d.title_id = t.title_id\n",
    "INNER JOIN Names_ n ON d.name_id = n.name_id\n",
    "WHERE (t.title_type = \"movie\") AND (n.name_ LIKE \"Wes Anderson\");"
   ]
  },
  {
   "cell_type": "code",
   "execution_count": 50,
   "id": "de8675c9",
   "metadata": {},
   "outputs": [
    {
     "name": "stdout",
     "output_type": "stream",
     "text": [
      " * mysql+mysqlconnector://root:***@db\n",
      "39 rows affected.\n"
     ]
    },
    {
     "data": {
      "text/html": [
       "<table>\n",
       "    <tr>\n",
       "        <th>name_</th>\n",
       "        <th>primary_title</th>\n",
       "        <th>role_</th>\n",
       "    </tr>\n",
       "    <tr>\n",
       "        <td>Benicio Del Toro</td>\n",
       "        <td>b&#x27;The French Dispatch&#x27;</td>\n",
       "        <td>b&#x27;Moses Rosenthaler&#x27;</td>\n",
       "    </tr>\n",
       "    <tr>\n",
       "        <td>Owen Wilson</td>\n",
       "        <td>b&#x27;The Darjeeling Limited&#x27;</td>\n",
       "        <td>b&#x27;Francis&#x27;</td>\n",
       "    </tr>\n",
       "    <tr>\n",
       "        <td>Ben Stiller</td>\n",
       "        <td>b&#x27;The Royal Tenenbaums&#x27;</td>\n",
       "        <td>b&#x27;Chas Tenenbaum&#x27;</td>\n",
       "    </tr>\n",
       "    <tr>\n",
       "        <td>Shea Fowler</td>\n",
       "        <td>b&#x27;Bottle Rocket&#x27;</td>\n",
       "        <td>b&#x27;Grace&#x27;</td>\n",
       "    </tr>\n",
       "    <tr>\n",
       "        <td>Edward Norton</td>\n",
       "        <td>b&#x27;Isle of Dogs&#x27;</td>\n",
       "        <td>b&#x27;Rex&#x27;</td>\n",
       "    </tr>\n",
       "    <tr>\n",
       "        <td>F. Murray Abraham</td>\n",
       "        <td>b&#x27;The Grand Budapest Hotel&#x27;</td>\n",
       "        <td>b&#x27;Mr. Moustafa&#x27;</td>\n",
       "    </tr>\n",
       "    <tr>\n",
       "        <td>Bill Murray</td>\n",
       "        <td>b&#x27;The Life Aquatic with Steve Zissou&#x27;</td>\n",
       "        <td>b&#x27;Steve Zissou&#x27;</td>\n",
       "    </tr>\n",
       "    <tr>\n",
       "        <td>Jason Schwartzman</td>\n",
       "        <td>b&#x27;The Darjeeling Limited&#x27;</td>\n",
       "        <td>b&#x27;Jack&#x27;</td>\n",
       "    </tr>\n",
       "    <tr>\n",
       "        <td>Bruce Willis</td>\n",
       "        <td>b&#x27;Moonrise Kingdom&#x27;</td>\n",
       "        <td>b&#x27;Captain Sharp&#x27;</td>\n",
       "    </tr>\n",
       "    <tr>\n",
       "        <td>Adrien Brody</td>\n",
       "        <td>b&#x27;The Grand Budapest Hotel&#x27;</td>\n",
       "        <td>b&#x27;Dmitri&#x27;</td>\n",
       "    </tr>\n",
       "    <tr>\n",
       "        <td>Meryl Streep</td>\n",
       "        <td>b&#x27;Fantastic Mr. Fox&#x27;</td>\n",
       "        <td>b&#x27;Mrs. Fox&#x27;</td>\n",
       "    </tr>\n",
       "    <tr>\n",
       "        <td>Mathieu Amalric</td>\n",
       "        <td>b&#x27;The Grand Budapest Hotel&#x27;</td>\n",
       "        <td>b&#x27;Serge X.&#x27;</td>\n",
       "    </tr>\n",
       "    <tr>\n",
       "        <td>Cate Blanchett</td>\n",
       "        <td>b&#x27;The Life Aquatic with Steve Zissou&#x27;</td>\n",
       "        <td>b&#x27;Jane Winslett-Richardson&#x27;</td>\n",
       "    </tr>\n",
       "    <tr>\n",
       "        <td>Jason Schwartzman</td>\n",
       "        <td>b&#x27;Fantastic Mr. Fox&#x27;</td>\n",
       "        <td>b&#x27;Ash&#x27;</td>\n",
       "    </tr>\n",
       "    <tr>\n",
       "        <td>Olivia Williams</td>\n",
       "        <td>b&#x27;Rushmore&#x27;</td>\n",
       "        <td>b&#x27;Rosemary Cross&#x27;</td>\n",
       "    </tr>\n",
       "    <tr>\n",
       "        <td>Gene Hackman</td>\n",
       "        <td>b&#x27;The Royal Tenenbaums&#x27;</td>\n",
       "        <td>b&#x27;Royal Tenenbaum&#x27;</td>\n",
       "    </tr>\n",
       "    <tr>\n",
       "        <td>Jason Schwartzman</td>\n",
       "        <td>b&#x27;Rushmore&#x27;</td>\n",
       "        <td>b&#x27;Max Fischer&#x27;</td>\n",
       "    </tr>\n",
       "    <tr>\n",
       "        <td>Owen Wilson</td>\n",
       "        <td>b&#x27;Bottle Rocket&#x27;</td>\n",
       "        <td>b&#x27;Dignan&#x27;</td>\n",
       "    </tr>\n",
       "    <tr>\n",
       "        <td>Bob Balaban</td>\n",
       "        <td>b&#x27;Isle of Dogs&#x27;</td>\n",
       "        <td>b&#x27;King&#x27;</td>\n",
       "    </tr>\n",
       "    <tr>\n",
       "        <td>Bryan Cranston</td>\n",
       "        <td>b&#x27;Isle of Dogs&#x27;</td>\n",
       "        <td>b&#x27;Chief&#x27;</td>\n",
       "    </tr>\n",
       "    <tr>\n",
       "        <td>Anjelica Huston</td>\n",
       "        <td>b&#x27;The Life Aquatic with Steve Zissou&#x27;</td>\n",
       "        <td>b&#x27;Eleanor Zissou&#x27;</td>\n",
       "    </tr>\n",
       "    <tr>\n",
       "        <td>Jared Gilman</td>\n",
       "        <td>b&#x27;Moonrise Kingdom&#x27;</td>\n",
       "        <td>b&#x27;Sam&#x27;</td>\n",
       "    </tr>\n",
       "    <tr>\n",
       "        <td>Ralph Fiennes</td>\n",
       "        <td>b&#x27;The Grand Budapest Hotel&#x27;</td>\n",
       "        <td>b&#x27;M. Gustave&#x27;</td>\n",
       "    </tr>\n",
       "    <tr>\n",
       "        <td>Ned Dowd</td>\n",
       "        <td>b&#x27;Bottle Rocket&#x27;</td>\n",
       "        <td>b&#x27;Dr. Nichols&#x27;</td>\n",
       "    </tr>\n",
       "    <tr>\n",
       "        <td>Luke Wilson</td>\n",
       "        <td>b&#x27;Bottle Rocket&#x27;</td>\n",
       "        <td>b&#x27;Anthony Adams&#x27;</td>\n",
       "    </tr>\n",
       "    <tr>\n",
       "        <td>Anjelica Huston</td>\n",
       "        <td>b&#x27;The Royal Tenenbaums&#x27;</td>\n",
       "        <td>b&#x27;Etheline Tenenbaum&#x27;</td>\n",
       "    </tr>\n",
       "    <tr>\n",
       "        <td>Tilda Swinton</td>\n",
       "        <td>b&#x27;The French Dispatch&#x27;</td>\n",
       "        <td>b&#x27;J.K.L. Berensen&#x27;</td>\n",
       "    </tr>\n",
       "    <tr>\n",
       "        <td>Bill Murray</td>\n",
       "        <td>b&#x27;Rushmore&#x27;</td>\n",
       "        <td>b&#x27;Herman Blume&#x27;</td>\n",
       "    </tr>\n",
       "    <tr>\n",
       "        <td>Kara Hayward</td>\n",
       "        <td>b&#x27;Moonrise Kingdom&#x27;</td>\n",
       "        <td>b&#x27;Suzy&#x27;</td>\n",
       "    </tr>\n",
       "    <tr>\n",
       "        <td>Adrien Brody</td>\n",
       "        <td>b&#x27;The French Dispatch&#x27;</td>\n",
       "        <td>b&#x27;Julian Cadazio&#x27;</td>\n",
       "    </tr>\n",
       "    <tr>\n",
       "        <td>Bill Murray</td>\n",
       "        <td>b&#x27;Moonrise Kingdom&#x27;</td>\n",
       "        <td>b&#x27;Mr. Bishop&#x27;</td>\n",
       "    </tr>\n",
       "    <tr>\n",
       "        <td>Amara Karan</td>\n",
       "        <td>b&#x27;The Darjeeling Limited&#x27;</td>\n",
       "        <td>b&#x27;Rita&#x27;</td>\n",
       "    </tr>\n",
       "    <tr>\n",
       "        <td>Adrien Brody</td>\n",
       "        <td>b&#x27;The Darjeeling Limited&#x27;</td>\n",
       "        <td>b&#x27;Peter&#x27;</td>\n",
       "    </tr>\n",
       "    <tr>\n",
       "        <td>Owen Wilson</td>\n",
       "        <td>b&#x27;The Life Aquatic with Steve Zissou&#x27;</td>\n",
       "        <td>b&#x27;Ned Plimpton&#x27;</td>\n",
       "    </tr>\n",
       "    <tr>\n",
       "        <td>Léa Seydoux</td>\n",
       "        <td>b&#x27;The French Dispatch&#x27;</td>\n",
       "        <td>b&#x27;Simone&#x27;</td>\n",
       "    </tr>\n",
       "    <tr>\n",
       "        <td>Seymour Cassel</td>\n",
       "        <td>b&#x27;Rushmore&#x27;</td>\n",
       "        <td>b&#x27;Bert Fischer&#x27;</td>\n",
       "    </tr>\n",
       "    <tr>\n",
       "        <td>Gwyneth Paltrow</td>\n",
       "        <td>b&#x27;The Royal Tenenbaums&#x27;</td>\n",
       "        <td>b&#x27;Margot Tenenbaum&#x27;</td>\n",
       "    </tr>\n",
       "    <tr>\n",
       "        <td>George Clooney</td>\n",
       "        <td>b&#x27;Fantastic Mr. Fox&#x27;</td>\n",
       "        <td>b&#x27;Mr. Fox&#x27;</td>\n",
       "    </tr>\n",
       "    <tr>\n",
       "        <td>Bill Murray</td>\n",
       "        <td>b&#x27;Fantastic Mr. Fox&#x27;</td>\n",
       "        <td>b&#x27;Badger&#x27;</td>\n",
       "    </tr>\n",
       "</table>"
      ],
      "text/plain": [
       "[('Benicio Del Toro', b'The French Dispatch', b'Moses Rosenthaler'),\n",
       " ('Owen Wilson', b'The Darjeeling Limited', b'Francis'),\n",
       " ('Ben Stiller', b'The Royal Tenenbaums', b'Chas Tenenbaum'),\n",
       " ('Shea Fowler', b'Bottle Rocket', b'Grace'),\n",
       " ('Edward Norton', b'Isle of Dogs', b'Rex'),\n",
       " ('F. Murray Abraham', b'The Grand Budapest Hotel', b'Mr. Moustafa'),\n",
       " ('Bill Murray', b'The Life Aquatic with Steve Zissou', b'Steve Zissou'),\n",
       " ('Jason Schwartzman', b'The Darjeeling Limited', b'Jack'),\n",
       " ('Bruce Willis', b'Moonrise Kingdom', b'Captain Sharp'),\n",
       " ('Adrien Brody', b'The Grand Budapest Hotel', b'Dmitri'),\n",
       " ('Meryl Streep', b'Fantastic Mr. Fox', b'Mrs. Fox'),\n",
       " ('Mathieu Amalric', b'The Grand Budapest Hotel', b'Serge X.'),\n",
       " ('Cate Blanchett', b'The Life Aquatic with Steve Zissou', b'Jane Winslett-Richardson'),\n",
       " ('Jason Schwartzman', b'Fantastic Mr. Fox', b'Ash'),\n",
       " ('Olivia Williams', b'Rushmore', b'Rosemary Cross'),\n",
       " ('Gene Hackman', b'The Royal Tenenbaums', b'Royal Tenenbaum'),\n",
       " ('Jason Schwartzman', b'Rushmore', b'Max Fischer'),\n",
       " ('Owen Wilson', b'Bottle Rocket', b'Dignan'),\n",
       " ('Bob Balaban', b'Isle of Dogs', b'King'),\n",
       " ('Bryan Cranston', b'Isle of Dogs', b'Chief'),\n",
       " ('Anjelica Huston', b'The Life Aquatic with Steve Zissou', b'Eleanor Zissou'),\n",
       " ('Jared Gilman', b'Moonrise Kingdom', b'Sam'),\n",
       " ('Ralph Fiennes', b'The Grand Budapest Hotel', b'M. Gustave'),\n",
       " ('Ned Dowd', b'Bottle Rocket', b'Dr. Nichols'),\n",
       " ('Luke Wilson', b'Bottle Rocket', b'Anthony Adams'),\n",
       " ('Anjelica Huston', b'The Royal Tenenbaums', b'Etheline Tenenbaum'),\n",
       " ('Tilda Swinton', b'The French Dispatch', b'J.K.L. Berensen'),\n",
       " ('Bill Murray', b'Rushmore', b'Herman Blume'),\n",
       " ('Kara Hayward', b'Moonrise Kingdom', b'Suzy'),\n",
       " ('Adrien Brody', b'The French Dispatch', b'Julian Cadazio'),\n",
       " ('Bill Murray', b'Moonrise Kingdom', b'Mr. Bishop'),\n",
       " ('Amara Karan', b'The Darjeeling Limited', b'Rita'),\n",
       " ('Adrien Brody', b'The Darjeeling Limited', b'Peter'),\n",
       " ('Owen Wilson', b'The Life Aquatic with Steve Zissou', b'Ned Plimpton'),\n",
       " ('Léa Seydoux', b'The French Dispatch', b'Simone'),\n",
       " ('Seymour Cassel', b'Rushmore', b'Bert Fischer'),\n",
       " ('Gwyneth Paltrow', b'The Royal Tenenbaums', b'Margot Tenenbaum'),\n",
       " ('George Clooney', b'Fantastic Mr. Fox', b'Mr. Fox'),\n",
       " ('Bill Murray', b'Fantastic Mr. Fox', b'Badger')]"
      ]
     },
     "execution_count": 50,
     "metadata": {},
     "output_type": "execute_result"
    }
   ],
   "source": [
    "%%sql\n",
    "\n",
    "SELECT n.name_, w.primary_title, h.role_ FROM WesAnderson AS w\n",
    "INNER JOIN Had_role h ON w.title_id = h.title_id\n",
    "INNER JOIN Names_ n ON h.name_id = n.name_id;"
   ]
  },
  {
   "cell_type": "code",
   "execution_count": 51,
   "id": "7fb608fd",
   "metadata": {},
   "outputs": [
    {
     "name": "stdout",
     "output_type": "stream",
     "text": [
      " * mysql+mysqlconnector://root:***@db\n",
      "29 rows affected.\n"
     ]
    },
    {
     "data": {
      "text/html": [
       "<table>\n",
       "    <tr>\n",
       "        <th>name_</th>\n",
       "        <th>NumOfApparitions</th>\n",
       "    </tr>\n",
       "    <tr>\n",
       "        <td>Bill Murray</td>\n",
       "        <td>4</td>\n",
       "    </tr>\n",
       "    <tr>\n",
       "        <td>Owen Wilson</td>\n",
       "        <td>3</td>\n",
       "    </tr>\n",
       "    <tr>\n",
       "        <td>Adrien Brody</td>\n",
       "        <td>3</td>\n",
       "    </tr>\n",
       "    <tr>\n",
       "        <td>Jason Schwartzman</td>\n",
       "        <td>3</td>\n",
       "    </tr>\n",
       "    <tr>\n",
       "        <td>Anjelica Huston</td>\n",
       "        <td>2</td>\n",
       "    </tr>\n",
       "    <tr>\n",
       "        <td>Léa Seydoux</td>\n",
       "        <td>1</td>\n",
       "    </tr>\n",
       "    <tr>\n",
       "        <td>Seymour Cassel</td>\n",
       "        <td>1</td>\n",
       "    </tr>\n",
       "    <tr>\n",
       "        <td>Gwyneth Paltrow</td>\n",
       "        <td>1</td>\n",
       "    </tr>\n",
       "    <tr>\n",
       "        <td>Amara Karan</td>\n",
       "        <td>1</td>\n",
       "    </tr>\n",
       "    <tr>\n",
       "        <td>Benicio Del Toro</td>\n",
       "        <td>1</td>\n",
       "    </tr>\n",
       "    <tr>\n",
       "        <td>Kara Hayward</td>\n",
       "        <td>1</td>\n",
       "    </tr>\n",
       "    <tr>\n",
       "        <td>Tilda Swinton</td>\n",
       "        <td>1</td>\n",
       "    </tr>\n",
       "    <tr>\n",
       "        <td>Luke Wilson</td>\n",
       "        <td>1</td>\n",
       "    </tr>\n",
       "    <tr>\n",
       "        <td>Ned Dowd</td>\n",
       "        <td>1</td>\n",
       "    </tr>\n",
       "    <tr>\n",
       "        <td>Ralph Fiennes</td>\n",
       "        <td>1</td>\n",
       "    </tr>\n",
       "    <tr>\n",
       "        <td>Jared Gilman</td>\n",
       "        <td>1</td>\n",
       "    </tr>\n",
       "    <tr>\n",
       "        <td>George Clooney</td>\n",
       "        <td>1</td>\n",
       "    </tr>\n",
       "    <tr>\n",
       "        <td>Bryan Cranston</td>\n",
       "        <td>1</td>\n",
       "    </tr>\n",
       "    <tr>\n",
       "        <td>Bob Balaban</td>\n",
       "        <td>1</td>\n",
       "    </tr>\n",
       "    <tr>\n",
       "        <td>Gene Hackman</td>\n",
       "        <td>1</td>\n",
       "    </tr>\n",
       "    <tr>\n",
       "        <td>Olivia Williams</td>\n",
       "        <td>1</td>\n",
       "    </tr>\n",
       "    <tr>\n",
       "        <td>Cate Blanchett</td>\n",
       "        <td>1</td>\n",
       "    </tr>\n",
       "    <tr>\n",
       "        <td>Mathieu Amalric</td>\n",
       "        <td>1</td>\n",
       "    </tr>\n",
       "    <tr>\n",
       "        <td>Meryl Streep</td>\n",
       "        <td>1</td>\n",
       "    </tr>\n",
       "    <tr>\n",
       "        <td>Bruce Willis</td>\n",
       "        <td>1</td>\n",
       "    </tr>\n",
       "    <tr>\n",
       "        <td>F. Murray Abraham</td>\n",
       "        <td>1</td>\n",
       "    </tr>\n",
       "    <tr>\n",
       "        <td>Edward Norton</td>\n",
       "        <td>1</td>\n",
       "    </tr>\n",
       "    <tr>\n",
       "        <td>Shea Fowler</td>\n",
       "        <td>1</td>\n",
       "    </tr>\n",
       "    <tr>\n",
       "        <td>Ben Stiller</td>\n",
       "        <td>1</td>\n",
       "    </tr>\n",
       "</table>"
      ],
      "text/plain": [
       "[('Bill Murray', 4),\n",
       " ('Owen Wilson', 3),\n",
       " ('Adrien Brody', 3),\n",
       " ('Jason Schwartzman', 3),\n",
       " ('Anjelica Huston', 2),\n",
       " ('Léa Seydoux', 1),\n",
       " ('Seymour Cassel', 1),\n",
       " ('Gwyneth Paltrow', 1),\n",
       " ('Amara Karan', 1),\n",
       " ('Benicio Del Toro', 1),\n",
       " ('Kara Hayward', 1),\n",
       " ('Tilda Swinton', 1),\n",
       " ('Luke Wilson', 1),\n",
       " ('Ned Dowd', 1),\n",
       " ('Ralph Fiennes', 1),\n",
       " ('Jared Gilman', 1),\n",
       " ('George Clooney', 1),\n",
       " ('Bryan Cranston', 1),\n",
       " ('Bob Balaban', 1),\n",
       " ('Gene Hackman', 1),\n",
       " ('Olivia Williams', 1),\n",
       " ('Cate Blanchett', 1),\n",
       " ('Mathieu Amalric', 1),\n",
       " ('Meryl Streep', 1),\n",
       " ('Bruce Willis', 1),\n",
       " ('F. Murray Abraham', 1),\n",
       " ('Edward Norton', 1),\n",
       " ('Shea Fowler', 1),\n",
       " ('Ben Stiller', 1)]"
      ]
     },
     "execution_count": 51,
     "metadata": {},
     "output_type": "execute_result"
    }
   ],
   "source": [
    "%%sql\n",
    "\n",
    "SELECT n.name_, COUNT(n.name_) AS NumOfApparitions FROM WesAnderson AS w\n",
    "INNER JOIN Had_role h ON w.title_id = h.title_id\n",
    "INNER JOIN Names_ n ON h.name_id = n.name_id\n",
    "GROUP BY n.name_\n",
    "ORDER BY NumOfApparitions DESC;"
   ]
  },
  {
   "cell_type": "markdown",
   "id": "00c0c411",
   "metadata": {},
   "source": [
    "### Is the IMDB only about movies? \n",
    "\n",
    "1. Check the number of different media types contained in the DB\n",
    "2. Plot an histogram about the number of media types per group\n",
    "3. Find the name and rating of the oldest videogame stored in the DB "
   ]
  },
  {
   "cell_type": "code",
   "execution_count": 7,
   "id": "d427a676",
   "metadata": {},
   "outputs": [
    {
     "name": "stdout",
     "output_type": "stream",
     "text": [
      " * mysql+mysqlconnector://root:***@db\n",
      "7 rows affected.\n"
     ]
    },
    {
     "data": {
      "text/html": [
       "<table>\n",
       "    <tr>\n",
       "        <th>Tables_in_IMDb</th>\n",
       "    </tr>\n",
       "    <tr>\n",
       "        <td>Directors</td>\n",
       "    </tr>\n",
       "    <tr>\n",
       "        <td>Episode_belongs_to</td>\n",
       "    </tr>\n",
       "    <tr>\n",
       "        <td>Had_role</td>\n",
       "    </tr>\n",
       "    <tr>\n",
       "        <td>Names_</td>\n",
       "    </tr>\n",
       "    <tr>\n",
       "        <td>Title_genres</td>\n",
       "    </tr>\n",
       "    <tr>\n",
       "        <td>Title_ratings</td>\n",
       "    </tr>\n",
       "    <tr>\n",
       "        <td>Titles</td>\n",
       "    </tr>\n",
       "</table>"
      ],
      "text/plain": [
       "[('Directors',),\n",
       " ('Episode_belongs_to',),\n",
       " ('Had_role',),\n",
       " ('Names_',),\n",
       " ('Title_genres',),\n",
       " ('Title_ratings',),\n",
       " ('Titles',)]"
      ]
     },
     "execution_count": 7,
     "metadata": {},
     "output_type": "execute_result"
    }
   ],
   "source": [
    "%%sql\n",
    "\n",
    "SHOW TABLES;"
   ]
  },
  {
   "cell_type": "markdown",
   "id": "f963733e",
   "metadata": {},
   "source": [
    "#### 1 - Check the number of different media types contained in the DB"
   ]
  },
  {
   "cell_type": "code",
   "execution_count": 13,
   "id": "ad041b8c",
   "metadata": {},
   "outputs": [
    {
     "name": "stdout",
     "output_type": "stream",
     "text": [
      " * mysql+mysqlconnector://root:***@db\n",
      "5 rows affected.\n"
     ]
    },
    {
     "data": {
      "text/html": [
       "<table>\n",
       "    <tr>\n",
       "        <th>title_type</th>\n",
       "        <th>NumOfTypes</th>\n",
       "    </tr>\n",
       "    <tr>\n",
       "        <td>movie</td>\n",
       "        <td>239353</td>\n",
       "    </tr>\n",
       "    <tr>\n",
       "        <td>tvEpisode</td>\n",
       "        <td>708598</td>\n",
       "    </tr>\n",
       "    <tr>\n",
       "        <td>tvSeries</td>\n",
       "        <td>59424</td>\n",
       "    </tr>\n",
       "    <tr>\n",
       "        <td>tvMiniSeries</td>\n",
       "        <td>11963</td>\n",
       "    </tr>\n",
       "    <tr>\n",
       "        <td>videoGame</td>\n",
       "        <td>257</td>\n",
       "    </tr>\n",
       "</table>"
      ],
      "text/plain": [
       "[('movie', 239353),\n",
       " ('tvEpisode', 708598),\n",
       " ('tvSeries', 59424),\n",
       " ('tvMiniSeries', 11963),\n",
       " ('videoGame', 257)]"
      ]
     },
     "execution_count": 13,
     "metadata": {},
     "output_type": "execute_result"
    }
   ],
   "source": [
    "%%sql\n",
    "\n",
    "SELECT title_type, COUNT(title_type) AS NumOfTypes FROM Titles GROUP BY title_type;"
   ]
  },
  {
   "cell_type": "markdown",
   "id": "2ce1e02e",
   "metadata": {},
   "source": [
    "#### 2 - Plot an histogram about the number of media types per group"
   ]
  },
  {
   "cell_type": "code",
   "execution_count": 16,
   "id": "858c88e9",
   "metadata": {},
   "outputs": [
    {
     "name": "stdout",
     "output_type": "stream",
     "text": [
      " * mysql+mysqlconnector://root:***@db\n",
      "5 rows affected.\n"
     ]
    },
    {
     "data": {
      "text/plain": [
       "<BarContainer object of 5 artists>"
      ]
     },
     "execution_count": 16,
     "metadata": {},
     "output_type": "execute_result"
    },
    {
     "data": {
      "image/png": "[encoded data removed]",
      "text/plain": [
       "<Figure size 640x480 with 1 Axes>"
      ]
     },
     "metadata": {},
     "output_type": "display_data"
    }
   ],
   "source": [
    "res_ = %sql SELECT title_type, COUNT(title_type) AS NumOfTypes FROM Titles GROUP BY title_type ORDER BY NumOfTypes DESC;\n",
    "res_.bar()"
   ]
  },
  {
   "cell_type": "markdown",
   "id": "37952def",
   "metadata": {},
   "source": [
    "#### 3 - Find the name and rating of the oldest videogame stored in the DB "
   ]
  },
  {
   "cell_type": "code",
   "execution_count": 29,
   "id": "f6dd13bf",
   "metadata": {},
   "outputs": [
    {
     "name": "stdout",
     "output_type": "stream",
     "text": [
      " * mysql+mysqlconnector://root:***@db\n",
      "1 rows affected.\n"
     ]
    },
    {
     "data": {
      "text/html": [
       "<table>\n",
       "    <tr>\n",
       "        <th>primary_title</th>\n",
       "        <th>start_year</th>\n",
       "        <th>average_rating</th>\n",
       "        <th>num_votes</th>\n",
       "        <th>runtime_minutes</th>\n",
       "    </tr>\n",
       "    <tr>\n",
       "        <td>b&#x27;Lord of the Rings&#x27;</td>\n",
       "        <td>1990</td>\n",
       "        <td>6.9</td>\n",
       "        <td>162</td>\n",
       "        <td>235</td>\n",
       "    </tr>\n",
       "</table>"
      ],
      "text/plain": [
       "[(b'Lord of the Rings', 1990, 6.9, 162, 235)]"
      ]
     },
     "execution_count": 29,
     "metadata": {},
     "output_type": "execute_result"
    }
   ],
   "source": [
    "%%sql\n",
    "\n",
    "SELECT t.primary_title, t.start_year, r.average_rating, r.num_votes, t.runtime_minutes FROM Title_ratings r\n",
    "INNER JOIN Titles t ON r.title_id = t.title_id\n",
    "WHERE (t.title_type LIKE \"video%\") AND (t.start_year = (SELECT MIN(t1.start_year) FROM Titles t1 WHERE t1.title_type LIKE \"video%\")) \n",
    "LIMIT 1;"
   ]
  },
  {
   "cell_type": "markdown",
   "id": "e2830a48",
   "metadata": {},
   "source": [
    "### Identify interesting outliers \n",
    "\n",
    "1. List the names of movies whose title begin with \"The\" have a runtime between 3 and 4 hours.\n",
    "2. What actor had the most roles as 'Self'?\n",
    "3. Identify what TV series had more than 1,000 episodes, and check the first- and last-episod year"
   ]
  },
  {
   "cell_type": "markdown",
   "id": "80811ded",
   "metadata": {},
   "source": [
    "#### 1 - List the names of movies whose title begins with \"The\" have a runtime between 3 and 4 hours."
   ]
  },
  {
   "cell_type": "code",
   "execution_count": 32,
   "id": "e6f184c0",
   "metadata": {},
   "outputs": [
    {
     "name": "stdout",
     "output_type": "stream",
     "text": [
      " * mysql+mysqlconnector://root:***@db\n",
      "10 rows affected.\n"
     ]
    },
    {
     "data": {
      "text/html": [
       "<table>\n",
       "    <tr>\n",
       "        <th>title_id</th>\n",
       "        <th>title_type</th>\n",
       "        <th>primary_title</th>\n",
       "        <th>start_year</th>\n",
       "        <th>runtime_minutes</th>\n",
       "    </tr>\n",
       "    <tr>\n",
       "        <td>tt0101428</td>\n",
       "        <td>movie</td>\n",
       "        <td>b&#x27;The Beautiful Troublemaker&#x27;</td>\n",
       "        <td>1991</td>\n",
       "        <td>238</td>\n",
       "    </tr>\n",
       "    <tr>\n",
       "        <td>tt0104350</td>\n",
       "        <td>movie</td>\n",
       "        <td>b&#x27;The Best Intentions&#x27;</td>\n",
       "        <td>1992</td>\n",
       "        <td>180</td>\n",
       "    </tr>\n",
       "    <tr>\n",
       "        <td>tt0107472</td>\n",
       "        <td>movie</td>\n",
       "        <td>b&#x27;The Wonderful, Horrible Life of Leni Riefenstahl&#x27;</td>\n",
       "        <td>1993</td>\n",
       "        <td>183</td>\n",
       "    </tr>\n",
       "    <tr>\n",
       "        <td>tt0109584</td>\n",
       "        <td>movie</td>\n",
       "        <td>b&#x27;The Decline of the Century: Testament L.Z.&#x27;</td>\n",
       "        <td>1994</td>\n",
       "        <td>201</td>\n",
       "    </tr>\n",
       "    <tr>\n",
       "        <td>tt0110894</td>\n",
       "        <td>movie</td>\n",
       "        <td>b&#x27;The Beginning and the End&#x27;</td>\n",
       "        <td>1993</td>\n",
       "        <td>188</td>\n",
       "    </tr>\n",
       "    <tr>\n",
       "        <td>tt0120125</td>\n",
       "        <td>movie</td>\n",
       "        <td>b&#x27;The Barber of Siberia&#x27;</td>\n",
       "        <td>1998</td>\n",
       "        <td>180</td>\n",
       "    </tr>\n",
       "    <tr>\n",
       "        <td>tt0120689</td>\n",
       "        <td>movie</td>\n",
       "        <td>b&#x27;The Green Mile&#x27;</td>\n",
       "        <td>1999</td>\n",
       "        <td>189</td>\n",
       "    </tr>\n",
       "    <tr>\n",
       "        <td>tt0133027</td>\n",
       "        <td>movie</td>\n",
       "        <td>b&#x27;The Year After Dayton&#x27;</td>\n",
       "        <td>1997</td>\n",
       "        <td>204</td>\n",
       "    </tr>\n",
       "    <tr>\n",
       "        <td>tt0138104</td>\n",
       "        <td>movie</td>\n",
       "        <td>b&#x27;The Sleep Room&#x27;</td>\n",
       "        <td>1998</td>\n",
       "        <td>193</td>\n",
       "    </tr>\n",
       "    <tr>\n",
       "        <td>tt0167260</td>\n",
       "        <td>movie</td>\n",
       "        <td>b&#x27;The Lord of the Rings: The Return of the King&#x27;</td>\n",
       "        <td>2003</td>\n",
       "        <td>201</td>\n",
       "    </tr>\n",
       "</table>"
      ],
      "text/plain": [
       "[('tt0101428', 'movie', b'The Beautiful Troublemaker', 1991, 238),\n",
       " ('tt0104350', 'movie', b'The Best Intentions', 1992, 180),\n",
       " ('tt0107472', 'movie', b'The Wonderful, Horrible Life of Leni Riefenstahl', 1993, 183),\n",
       " ('tt0109584', 'movie', b'The Decline of the Century: Testament L.Z.', 1994, 201),\n",
       " ('tt0110894', 'movie', b'The Beginning and the End', 1993, 188),\n",
       " ('tt0120125', 'movie', b'The Barber of Siberia', 1998, 180),\n",
       " ('tt0120689', 'movie', b'The Green Mile', 1999, 189),\n",
       " ('tt0133027', 'movie', b'The Year After Dayton', 1997, 204),\n",
       " ('tt0138104', 'movie', b'The Sleep Room', 1998, 193),\n",
       " ('tt0167260', 'movie', b'The Lord of the Rings: The Return of the King', 2003, 201)]"
      ]
     },
     "execution_count": 32,
     "metadata": {},
     "output_type": "execute_result"
    }
   ],
   "source": [
    "%%sql\n",
    "\n",
    "SELECT * FROM Titles\n",
    "WHERE (primary_title LIKE \"The%\") \n",
    "AND (runtime_minutes BETWEEN 3*60 AND 4*60) \n",
    "AND (title_type = \"movie\")\n",
    "LIMIT 10;"
   ]
  },
  {
   "cell_type": "markdown",
   "id": "b0b10f31",
   "metadata": {},
   "source": [
    "#### 2 - What actor had the most roles as 'Self'?"
   ]
  },
  {
   "cell_type": "code",
   "execution_count": 40,
   "id": "ce59c022",
   "metadata": {},
   "outputs": [
    {
     "name": "stdout",
     "output_type": "stream",
     "text": [
      " * mysql+mysqlconnector://root:***@db\n",
      "1 rows affected.\n"
     ]
    },
    {
     "data": {
      "text/html": [
       "<table>\n",
       "    <tr>\n",
       "        <th>name_</th>\n",
       "        <th>NumOfSelf</th>\n",
       "    </tr>\n",
       "    <tr>\n",
       "        <td>Scott Morrison</td>\n",
       "        <td>3197</td>\n",
       "    </tr>\n",
       "</table>"
      ],
      "text/plain": [
       "[('Scott Morrison', 3197)]"
      ]
     },
     "execution_count": 40,
     "metadata": {},
     "output_type": "execute_result"
    }
   ],
   "source": [
    "%%sql\n",
    "\n",
    "SELECT n.name_, COUNT(n.name_) AS NumOfSelf FROM Had_role h\n",
    "INNER JOIN Names_ n ON h.name_id = n.name_id\n",
    "WHERE h.role_ LIKE \"Self\"\n",
    "GROUP BY n.name_\n",
    "ORDER BY NumOfSelf DESC\n",
    "LIMIT 1;"
   ]
  },
  {
   "cell_type": "markdown",
   "id": "0b55feae",
   "metadata": {},
   "source": [
    "#### 3 - Identify what TV series had more than 1,000 episodes, and check the first- and last-episod year"
   ]
  },
  {
   "cell_type": "code",
   "execution_count": 46,
   "id": "f429d9b0",
   "metadata": {},
   "outputs": [
    {
     "name": "stdout",
     "output_type": "stream",
     "text": [
      " * mysql+mysqlconnector://root:***@db\n",
      "10 rows affected.\n"
     ]
    },
    {
     "data": {
      "text/html": [
       "<table>\n",
       "    <tr>\n",
       "        <th>primary_title</th>\n",
       "        <th>NumOfEpisodes</th>\n",
       "        <th>starting_year</th>\n",
       "    </tr>\n",
       "    <tr>\n",
       "        <td>b&#x27;Charlie Rose&#x27;</td>\n",
       "        <td>9884</td>\n",
       "        <td>1991</td>\n",
       "    </tr>\n",
       "    <tr>\n",
       "        <td>b&#x27;Gute Zeiten, schlechte Zeiten&#x27;</td>\n",
       "        <td>7455</td>\n",
       "        <td>1992</td>\n",
       "    </tr>\n",
       "    <tr>\n",
       "        <td>b&#x27;Judge Judy&#x27;</td>\n",
       "        <td>7282</td>\n",
       "        <td>1996</td>\n",
       "    </tr>\n",
       "    <tr>\n",
       "        <td>b&#x27;Unter uns&#x27;</td>\n",
       "        <td>6803</td>\n",
       "        <td>1994</td>\n",
       "    </tr>\n",
       "    <tr>\n",
       "        <td>b&#x27;Late Show with David Letterman&#x27;</td>\n",
       "        <td>6691</td>\n",
       "        <td>1993</td>\n",
       "    </tr>\n",
       "    <tr>\n",
       "        <td>b&#x27;Goede tijden, slechte tijden&#x27;</td>\n",
       "        <td>6550</td>\n",
       "        <td>1990</td>\n",
       "    </tr>\n",
       "    <tr>\n",
       "        <td>b&#x27;Young Hearts&#x27;</td>\n",
       "        <td>6247</td>\n",
       "        <td>1995</td>\n",
       "    </tr>\n",
       "    <tr>\n",
       "        <td>b&#x27;DAS!&#x27;</td>\n",
       "        <td>5433</td>\n",
       "        <td>1991</td>\n",
       "    </tr>\n",
       "    <tr>\n",
       "        <td>b&quot;L&#x27;invit\\xc3\\xa9&quot;</td>\n",
       "        <td>5273</td>\n",
       "        <td>2000</td>\n",
       "    </tr>\n",
       "    <tr>\n",
       "        <td>b&#x27;Volle Kanne&#x27;</td>\n",
       "        <td>5111</td>\n",
       "        <td>1999</td>\n",
       "    </tr>\n",
       "</table>"
      ],
      "text/plain": [
       "[(b'Charlie Rose', 9884, 1991),\n",
       " (b'Gute Zeiten, schlechte Zeiten', 7455, 1992),\n",
       " (b'Judge Judy', 7282, 1996),\n",
       " (b'Unter uns', 6803, 1994),\n",
       " (b'Late Show with David Letterman', 6691, 1993),\n",
       " (b'Goede tijden, slechte tijden', 6550, 1990),\n",
       " (b'Young Hearts', 6247, 1995),\n",
       " (b'DAS!', 5433, 1991),\n",
       " (b\"L'invit\\xc3\\xa9\", 5273, 2000),\n",
       " (b'Volle Kanne', 5111, 1999)]"
      ]
     },
     "execution_count": 46,
     "metadata": {},
     "output_type": "execute_result"
    }
   ],
   "source": [
    "%%sql\n",
    "\n",
    "SELECT t.primary_title, COUNT(t.primary_title) AS NumOfEpisodes, MIN(t.start_year) AS starting_year FROM Episode_belongs_to ep\n",
    "INNER JOIN Titles t ON ep.parent_tv_show_title_id = t.title_id\n",
    "GROUP BY t.primary_title\n",
    "ORDER BY NumOfEpisodes DESC\n",
    "LIMIT 10;"
   ]
  },
  {
   "cell_type": "markdown",
   "id": "b82192a7",
   "metadata": {},
   "source": [
    "### It's all about the ratings \n",
    "\n",
    "1. Group all movies by decade and plot the rating distribution. Limit the query to the movies with at least 1000 ratings.\n",
    "2. Plot the average rating of each episode of Games of Thrones. Group by season and compute the average and std for each season\n",
    "3. Plot the total numer of movies per year, divided by genre (Action, Comedy, Drama, Thriller, Fantasy), and the yearly rating average per genre"
   ]
  },
  {
   "cell_type": "markdown",
   "id": "dada1b9b",
   "metadata": {},
   "source": [
    "#### 1 - Group all movies by decade and plot the rating distribution. Limit the query to the movies with at least 1000 ratings."
   ]
  },
  {
   "cell_type": "code",
   "execution_count": 56,
   "id": "6e29c97d",
   "metadata": {},
   "outputs": [
    {
     "name": "stdout",
     "output_type": "stream",
     "text": [
      " * mysql+mysqlconnector://root:***@db\n",
      "10 rows affected.\n"
     ]
    },
    {
     "data": {
      "text/html": [
       "<table>\n",
       "    <tr>\n",
       "        <th>start_year</th>\n",
       "        <th>MeanYearRating</th>\n",
       "    </tr>\n",
       "    <tr>\n",
       "        <td>1990</td>\n",
       "        <td>6.786105684104964</td>\n",
       "    </tr>\n",
       "    <tr>\n",
       "        <td>1991</td>\n",
       "        <td>6.840665442665932</td>\n",
       "    </tr>\n",
       "    <tr>\n",
       "        <td>1992</td>\n",
       "        <td>6.962099662242835</td>\n",
       "    </tr>\n",
       "    <tr>\n",
       "        <td>1993</td>\n",
       "        <td>6.868778979759865</td>\n",
       "    </tr>\n",
       "    <tr>\n",
       "        <td>1994</td>\n",
       "        <td>6.846964873064059</td>\n",
       "    </tr>\n",
       "    <tr>\n",
       "        <td>1995</td>\n",
       "        <td>6.940822339793134</td>\n",
       "    </tr>\n",
       "    <tr>\n",
       "        <td>1996</td>\n",
       "        <td>6.891791064347794</td>\n",
       "    </tr>\n",
       "    <tr>\n",
       "        <td>1997</td>\n",
       "        <td>6.9218670201423524</td>\n",
       "    </tr>\n",
       "    <tr>\n",
       "        <td>1998</td>\n",
       "        <td>6.9902439082541115</td>\n",
       "    </tr>\n",
       "    <tr>\n",
       "        <td>1999</td>\n",
       "        <td>7.091728545448813</td>\n",
       "    </tr>\n",
       "</table>"
      ],
      "text/plain": [
       "[(1990, 6.786105684104964),\n",
       " (1991, 6.840665442665932),\n",
       " (1992, 6.962099662242835),\n",
       " (1993, 6.868778979759865),\n",
       " (1994, 6.846964873064059),\n",
       " (1995, 6.940822339793134),\n",
       " (1996, 6.891791064347794),\n",
       " (1997, 6.9218670201423524),\n",
       " (1998, 6.9902439082541115),\n",
       " (1999, 7.091728545448813)]"
      ]
     },
     "execution_count": 56,
     "metadata": {},
     "output_type": "execute_result"
    }
   ],
   "source": [
    "%%sql\n",
    "\n",
    "SELECT t.start_year, AVG(r.average_rating) AS MeanYearRating FROM Titles t\n",
    "INNER JOIN Title_ratings r ON t.title_id = r.title_id\n",
    "WHERE r.num_votes > 1000 AND t.start_year IS NOT NULL\n",
    "GROUP BY t.start_year\n",
    "ORDER BY start_year\n",
    "LIMIT 10;"
   ]
  },
  {
   "cell_type": "code",
   "execution_count": 73,
   "id": "54c61106",
   "metadata": {},
   "outputs": [
    {
     "data": {
      "image/png": "[encoded data removed]",
      "text/plain": [
       "<Figure size 640x480 with 1 Axes>"
      ]
     },
     "metadata": {},
     "output_type": "display_data"
    }
   ],
   "source": [
    "sql_ = \"SELECT t.start_year, AVG(r.average_rating) AS MeanYearRating FROM Titles t \\\n",
    "INNER JOIN Title_ratings r ON t.title_id = r.title_id \\\n",
    "WHERE r.num_votes > 1000 AND t.start_year IS NOT NULL \\\n",
    "GROUP BY t.start_year \\\n",
    "ORDER BY start_year;\"\n",
    "\n",
    "dbc.execute(\"USE IMDb;\")\n",
    "dbc.execute(sql_)\n",
    "res_ = dbc.fetchall()\n",
    "years = [x[0] for x in res_]\n",
    "counts = [x[1] for x in res_]\n",
    "plt.plot(years, counts, label=\"Avg rating\")\n",
    "plt.xlabel(\"Year\")\n",
    "plt.ylabel(\"Average rating\")\n",
    "plt.legend()\n",
    "plt.grid()\n",
    "plt.show()"
   ]
  },
  {
   "cell_type": "markdown",
   "id": "0545fe7b",
   "metadata": {},
   "source": [
    "#### 2 - Plot the average rating of each episode of Games of Thrones. Group by season and compute the average and std for each season"
   ]
  },
  {
   "cell_type": "code",
   "execution_count": 96,
   "id": "4d8e0cc6",
   "metadata": {},
   "outputs": [
    {
     "name": "stdout",
     "output_type": "stream",
     "text": [
      " * mysql+mysqlconnector://root:***@db\n",
      "5 rows affected.\n"
     ]
    },
    {
     "data": {
      "text/html": [
       "<table>\n",
       "    <tr>\n",
       "        <th>title_id</th>\n",
       "        <th>average_rating</th>\n",
       "        <th>num_votes</th>\n",
       "    </tr>\n",
       "    <tr>\n",
       "        <td>tt1480055</td>\n",
       "        <td>9.1</td>\n",
       "        <td>45688</td>\n",
       "    </tr>\n",
       "    <tr>\n",
       "        <td>tt1668746</td>\n",
       "        <td>8.8</td>\n",
       "        <td>34688</td>\n",
       "    </tr>\n",
       "    <tr>\n",
       "        <td>tt1829962</td>\n",
       "        <td>8.7</td>\n",
       "        <td>32849</td>\n",
       "    </tr>\n",
       "    <tr>\n",
       "        <td>tt1829963</td>\n",
       "        <td>8.8</td>\n",
       "        <td>31231</td>\n",
       "    </tr>\n",
       "    <tr>\n",
       "        <td>tt1829964</td>\n",
       "        <td>9.1</td>\n",
       "        <td>32486</td>\n",
       "    </tr>\n",
       "</table>"
      ],
      "text/plain": [
       "[('tt1480055', 9.1, 45688),\n",
       " ('tt1668746', 8.8, 34688),\n",
       " ('tt1829962', 8.7, 32849),\n",
       " ('tt1829963', 8.8, 31231),\n",
       " ('tt1829964', 9.1, 32486)]"
      ]
     },
     "execution_count": 96,
     "metadata": {},
     "output_type": "execute_result"
    }
   ],
   "source": [
    "%%sql\n",
    "\n",
    "SELECT * FROM Title_ratings r\n",
    "WHERE (r.title_id IN (\n",
    "    SELECT episode_title_id FROM Episode_belongs_to \n",
    "    WHERE (parent_tv_show_title_id = (\n",
    "    SELECT t.title_id FROM Titles t\n",
    "    WHERE t.primary_title LIKE \"Game of Thrones\" \n",
    "    AND t.title_type LIKE \"tvSe%\"))\n",
    "))\n",
    "LIMIT 5;"
   ]
  },
  {
   "cell_type": "code",
   "execution_count": 93,
   "id": "dad4ff58",
   "metadata": {},
   "outputs": [
    {
     "name": "stdout",
     "output_type": "stream",
     "text": [
      " * mysql+mysqlconnector://root:***@db\n",
      "73 rows affected.\n"
     ]
    },
    {
     "data": {
      "image/png": "[encoded data removed]",
      "text/plain": [
       "<Figure size 640x480 with 1 Axes>"
      ]
     },
     "metadata": {},
     "output_type": "display_data"
    }
   ],
   "source": [
    "to_plot = %sql SELECT average_rating FROM Title_ratings r WHERE (r.title_id IN (SELECT episode_title_id FROM Episode_belongs_to WHERE (parent_tv_show_title_id = (SELECT t.title_id FROM Titles t WHERE t.primary_title LIKE \"Game of Thrones\" AND t.title_type LIKE \"tvSe%\"))));\n",
    "to_plot = [x[0] for x in to_plot]\n",
    "episodes = range(0, len(to_plot), 10)\n",
    "plt.plot(to_plot, label=\"Avg rating\")\n",
    "for i in episodes:\n",
    "    lab = \"Decades\" if i == episodes[0] else None\n",
    "    plt.axvline(x=i, ls=\"--\", c=\"orange\", label=lab)\n",
    "plt.xlabel(\"# episode\")\n",
    "plt.ylabel(\"Average rating\")\n",
    "plt.legend()\n",
    "plt.grid()\n",
    "plt.show()"
   ]
  },
  {
   "cell_type": "markdown",
   "id": "b9b7a15b",
   "metadata": {},
   "source": [
    "#### 3 - Plot the total numer of movies per year, divided by genre (Action, Comedy, Drama, Thriller, Fantasy), and the yearly rating average per genre"
   ]
  },
  {
   "cell_type": "code",
   "execution_count": 117,
   "id": "2e7c4975",
   "metadata": {},
   "outputs": [
    {
     "name": "stdout",
     "output_type": "stream",
     "text": [
      " * mysql+mysqlconnector://root:***@db\n",
      "5 rows affected.\n"
     ]
    },
    {
     "data": {
      "text/html": [
       "<table>\n",
       "    <tr>\n",
       "        <th>primary_title</th>\n",
       "        <th>start_year</th>\n",
       "        <th>genre</th>\n",
       "        <th>average_rating</th>\n",
       "    </tr>\n",
       "    <tr>\n",
       "        <td>b&#x27;Spanish Fiesta&#x27;</td>\n",
       "        <td>2019</td>\n",
       "        <td>Drama</td>\n",
       "        <td>6.9</td>\n",
       "    </tr>\n",
       "    <tr>\n",
       "        <td>b&#x27;Dama de noche&#x27;</td>\n",
       "        <td>1993</td>\n",
       "        <td>Drama</td>\n",
       "        <td>6.2</td>\n",
       "    </tr>\n",
       "    <tr>\n",
       "        <td>b&#x27;Dama de noche&#x27;</td>\n",
       "        <td>1993</td>\n",
       "        <td>Mystery</td>\n",
       "        <td>6.2</td>\n",
       "    </tr>\n",
       "    <tr>\n",
       "        <td>b&#x27;Dama de noche&#x27;</td>\n",
       "        <td>1993</td>\n",
       "        <td>Romance</td>\n",
       "        <td>6.2</td>\n",
       "    </tr>\n",
       "    <tr>\n",
       "        <td>b&#x27;Kate &amp; Leopold&#x27;</td>\n",
       "        <td>2001</td>\n",
       "        <td>Comedy</td>\n",
       "        <td>6.4</td>\n",
       "    </tr>\n",
       "</table>"
      ],
      "text/plain": [
       "[(b'Spanish Fiesta', 2019, 'Drama', 6.9),\n",
       " (b'Dama de noche', 1993, 'Drama', 6.2),\n",
       " (b'Dama de noche', 1993, 'Mystery', 6.2),\n",
       " (b'Dama de noche', 1993, 'Romance', 6.2),\n",
       " (b'Kate & Leopold', 2001, 'Comedy', 6.4)]"
      ]
     },
     "execution_count": 117,
     "metadata": {},
     "output_type": "execute_result"
    }
   ],
   "source": [
    "%%sql\n",
    "\n",
    "SELECT t.primary_title, t.start_year, tg.genre, r.average_rating FROM Title_genres tg\n",
    "INNER JOIN Titles t ON tg.title_id = t.title_id\n",
    "INNER JOIN Title_ratings r ON t.title_id = r.title_id\n",
    "WHERE t.title_type = \"movie\"\n",
    "LIMIT 5;"
   ]
  },
  {
   "cell_type": "code",
   "execution_count": 120,
   "id": "951c682a",
   "metadata": {},
   "outputs": [
    {
     "name": "stdout",
     "output_type": "stream",
     "text": [
      " * mysql+mysqlconnector://root:***@db\n",
      "5 rows affected.\n"
     ]
    },
    {
     "data": {
      "text/html": [
       "<table>\n",
       "    <tr>\n",
       "        <th>start_year</th>\n",
       "        <th>genre</th>\n",
       "        <th>NumOfFilmPerYear</th>\n",
       "        <th>AVG(r.average_rating)</th>\n",
       "    </tr>\n",
       "    <tr>\n",
       "        <td>1990</td>\n",
       "        <td>Action</td>\n",
       "        <td>385</td>\n",
       "        <td>5.513246741232934</td>\n",
       "    </tr>\n",
       "    <tr>\n",
       "        <td>1990</td>\n",
       "        <td>Adventure</td>\n",
       "        <td>114</td>\n",
       "        <td>5.796491223469115</td>\n",
       "    </tr>\n",
       "    <tr>\n",
       "        <td>1990</td>\n",
       "        <td>Animation</td>\n",
       "        <td>25</td>\n",
       "        <td>6.851999988555908</td>\n",
       "    </tr>\n",
       "    <tr>\n",
       "        <td>1990</td>\n",
       "        <td>Biography</td>\n",
       "        <td>48</td>\n",
       "        <td>6.672916695475578</td>\n",
       "    </tr>\n",
       "    <tr>\n",
       "        <td>1990</td>\n",
       "        <td>Comedy</td>\n",
       "        <td>550</td>\n",
       "        <td>5.837272716435519</td>\n",
       "    </tr>\n",
       "</table>"
      ],
      "text/plain": [
       "[(1990, 'Action', 385, 5.513246741232934),\n",
       " (1990, 'Adventure', 114, 5.796491223469115),\n",
       " (1990, 'Animation', 25, 6.851999988555908),\n",
       " (1990, 'Biography', 48, 6.672916695475578),\n",
       " (1990, 'Comedy', 550, 5.837272716435519)]"
      ]
     },
     "execution_count": 120,
     "metadata": {},
     "output_type": "execute_result"
    }
   ],
   "source": [
    "%%sql\n",
    "\n",
    "SELECT t.start_year, tg.genre, COUNT(t.primary_title) AS NumOfFilmPerYear, AVG(r.average_rating) FROM Title_genres tg\n",
    "INNER JOIN Titles t ON tg.title_id = t.title_id\n",
    "INNER JOIN Title_ratings r ON t.title_id = r.title_id\n",
    "WHERE t.title_type = \"movie\" AND t.start_year IS NOT NULL\n",
    "GROUP BY t.start_year, tg.genre\n",
    "ORDER BY t.start_year\n",
    "LIMIT 5;"
   ]
  },
  {
   "cell_type": "code",
   "execution_count": 122,
   "id": "a6336fe9",
   "metadata": {},
   "outputs": [],
   "source": [
    "sql_ = \"SELECT t.start_year, tg.genre, COUNT(t.primary_title) AS NumOfFilmPerYear, AVG(r.average_rating) FROM Title_genres tg \\\n",
    "INNER JOIN Titles t ON tg.title_id = t.title_id \\\n",
    "INNER JOIN Title_ratings r ON t.title_id = r.title_id \\\n",
    "WHERE t.title_type = 'movie' AND t.start_year IS NOT NULL \\\n",
    "GROUP BY t.start_year, tg.genre \\\n",
    "ORDER BY t.start_year;\"\n",
    "\n",
    "dbc.execute(\"USE IMDb;\")\n",
    "dbc.execute(sql_)\n",
    "res = dbc.fetchall()"
   ]
  },
  {
   "cell_type": "code",
   "execution_count": 126,
   "id": "43e0faab",
   "metadata": {},
   "outputs": [
    {
     "data": {
      "text/plain": [
       "[(1990, 'Action', 385, 5.513246741232934),\n",
       " (1990, 'Adventure', 114, 5.796491223469115),\n",
       " (1990, 'Animation', 25, 6.851999988555908),\n",
       " (1990, 'Biography', 48, 6.672916695475578),\n",
       " (1990, 'Comedy', 550, 5.837272716435519)]"
      ]
     },
     "execution_count": 126,
     "metadata": {},
     "output_type": "execute_result"
    }
   ],
   "source": [
    "res[:5]"
   ]
  },
  {
   "cell_type": "code",
   "execution_count": 132,
   "id": "dc69c288",
   "metadata": {},
   "outputs": [
    {
     "data": {
      "image/png": "[encoded data removed]",
      "text/plain": [
       "<Figure size 640x480 with 1 Axes>"
      ]
     },
     "metadata": {},
     "output_type": "display_data"
    }
   ],
   "source": [
    "genres = [\"Action\", \"Comedy\", \"Drama\", \"Thriller\", \"Fantasy\"]\n",
    "for genre in genres:\n",
    "    # here we plot the total number of movies per year for each genre\n",
    "    year = [x[0] for x in res if x[1] == genre]\n",
    "    avg = [x[2] for x in res if x[1] == genre]\n",
    "    plt.plot(year, avg, label=f\"# of movies: {genre}\")\n",
    "        \n",
    "plt.grid()\n",
    "plt.legend()\n",
    "plt.show()"
   ]
  },
  {
   "cell_type": "code",
   "execution_count": 128,
   "id": "90240b66",
   "metadata": {},
   "outputs": [
    {
     "data": {
      "image/png": "[encoded data removed]",
      "text/plain": [
       "<Figure size 640x480 with 1 Axes>"
      ]
     },
     "metadata": {},
     "output_type": "display_data"
    }
   ],
   "source": [
    "genres = [\"Action\", \"Comedy\", \"Drama\", \"Thriller\", \"Fantasy\"]\n",
    "for genre in genres:\n",
    "    # here we plot the yearly rating average for each genre\n",
    "    year = [x[0] for x in res if x[1] == genre]\n",
    "    avg = [x[3] for x in res if x[1] == genre]\n",
    "    plt.plot(year, avg, label=genre)\n",
    "        \n",
    "plt.grid()\n",
    "plt.legend()\n",
    "plt.show()"
   ]
  }
 ],
 "metadata": {
  "kernelspec": {
   "display_name": "Python 3 (ipykernel)",
   "language": "python",
   "name": "python3"
  },
  "language_info": {
   "codemirror_mode": {
    "name": "ipython",
    "version": 3
   },
   "file_extension": ".py",
   "mimetype": "text/x-python",
   "name": "python",
   "nbconvert_exporter": "python",
   "pygments_lexer": "ipython3",
   "version": "3.9.12"
  }
 },
 "nbformat": 4,
 "nbformat_minor": 5
}
