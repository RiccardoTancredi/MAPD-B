{
 "cells": [
  {
   "cell_type": "markdown",
   "id": "938f871d",
   "metadata": {},
   "source": [
    "# RDBMS - MySQL \n",
    "\n",
    "## 00 - Introduction\n",
    "\n",
    "Among the Relational DBMSs, the most widely known are Oracle, SQLite, Postgress, MariaDB, MySQL.\n",
    "\n",
    "Each one of them is characterized by a different set of \"variations\" on top of the base SQL language, although usually minor.\n",
    "\n",
    "We will use **MySQL** to run exercises about Relational DB transactions using the SQL language, as it is *today* at the top of the list of most widely used RDBs. \n",
    "\n",
    "https://db-engines.com/en/ranking_trend/relational+dbms\n",
    "\n",
    "https://www.statista.com/statistics/809750/worldwide-popularity-ranking-database-management-systems/\n",
    "\n",
    "https://insights.stackoverflow.com/survey/2021#most-popular-technologies-database"
   ]
  },
  {
   "cell_type": "markdown",
   "id": "3ce38833",
   "metadata": {},
   "source": [
    "MySQL programming interfaces exist for many languages, including C, C++, Go, Java, Perl, PHP, Python, etc...\n",
    "\n",
    "Even simply referring to Python, we can count on several options to connect and interact with the DBs. \n",
    "\n",
    "Let's explore a couple of them..."
   ]
  },
  {
   "cell_type": "markdown",
   "id": "4e97fb3a",
   "metadata": {},
   "source": [
    "## 01 - Create a connection to MySQL \n",
    "\n",
    "A MySQL server is in execution on one of your Docker containers.\n",
    "\n",
    "We can access it via the MySQL server credential we have defined in the docker-compose yml.\n",
    "\n",
    "A `root` user is created by default with:\n",
    "- user: `root`\n",
    "- password: `root_pwd`\n",
    "\n",
    "A non-`root` user is also created by default with:\n",
    "- user: `my_user`\n",
    "- password: `my_pwd`"
   ]
  },
  {
   "cell_type": "markdown",
   "id": "d66684cf",
   "metadata": {},
   "source": [
    "#### Interactive \n",
    "\n",
    "We can interact with the MySQL server by logging in interactively to its docker container.\n",
    "\n",
    "Check the `CONTAINER ID` of the container named `mysql_db` via:\n",
    "    \n",
    "```bash \n",
    "$ docker ps \n",
    "```\n",
    "\n",
    "And run `bash` (or `/bin/bash`) in interactive mode attaching it to the terminal (`-it`) on the container:\n",
    "\n",
    "```bash\n",
    "$ docker exec -it <YOUR CONTAINER ID> bash\n",
    "```\n",
    "\n",
    "From inside the container we can use the RDBMS interface as if we were logged into a remote MySQL server hosting our DBs\n",
    "\n",
    "```bash\n",
    "$ mysql -u <EITHER ROOT OR USER> -p\n",
    "``` "
   ]
  },
  {
   "cell_type": "markdown",
   "id": "1f0cb7ff",
   "metadata": {},
   "source": [
    "We can then inspect the MySQL server to show us all DBs:\n",
    "    \n",
    "```mysql\n",
    "SHOW DATABASES;\n",
    "```\n",
    "\n",
    "_NB_: remember to end a SQL command with a semicolon `;`"
   ]
  },
  {
   "cell_type": "markdown",
   "id": "55d9f2b8",
   "metadata": {},
   "source": [
    "#### mysql.connector"
   ]
  },
  {
   "cell_type": "markdown",
   "id": "bcb48d85",
   "metadata": {},
   "source": [
    "A more pythonic way of communicating with a MySQL server is by using a dedicated driver.\n",
    "\n",
    "We will use `mysql.connector`, which has already been installed in the Jupyter-notebook container for you.\n",
    "\n",
    "The connector offers an interface to declare a connection object to the server, and provides a series of functionalities to issue transactions and fetch records from DBs.\n",
    "\n",
    "We start by declaring a connection to our MySQL server.\n",
    "\n",
    "_NB_: the server is hosted in a different container from the notebook... we are simulating a connection between two differen machines, a client and a server."
   ]
  },
  {
   "cell_type": "code",
   "execution_count": 1,
   "id": "5591a13f",
   "metadata": {},
   "outputs": [
    {
     "name": "stdout",
     "output_type": "stream",
     "text": [
      "<mysql.connector.connection_cext.CMySQLConnection object at 0x7f7ec0278df0>\n"
     ]
    }
   ],
   "source": [
    "# import the connector\n",
    "import mysql.connector\n",
    "\n",
    "# declare a connection to the MySQL server \n",
    "# the hostname (or IP) of the server machine should be passed\n",
    "db = mysql.connector.connect(\n",
    "  user=\"root\",\n",
    "  password=\"root_pwd\",\n",
    "  host=\"db\", # in this case 'db' is the equivalent of the IP address of the server \n",
    "             # or 'localhost' if running mysql locally\n",
    ")\n",
    "\n",
    "print(db)"
   ]
  },
  {
   "cell_type": "markdown",
   "id": "93eb72df",
   "metadata": {},
   "source": [
    "At this point a DB connection is enstablished\n",
    "\n",
    "To interact with the DB via python and mysql.connector we need a \"handle\", known as a cursor, which has to be instantiated.\n",
    "\n",
    "Using this connector to interact with the DB, all SQL statements are executed using the cursor."
   ]
  },
  {
   "cell_type": "code",
   "execution_count": 2,
   "id": "052b7a2c",
   "metadata": {},
   "outputs": [],
   "source": [
    "# create our db cursor object\n",
    "dbc = db.cursor()"
   ]
  },
  {
   "cell_type": "markdown",
   "id": "42686539",
   "metadata": {},
   "source": [
    "The cursor allows to execute all SQL transactions on the DB as if we were logged into the server.\n",
    "\n",
    "If a transaction will fetch a result from the DB (a set of records are returned), the connector object will retain the results.\n",
    "\n",
    "This might come in handy for us to use it in a more \"pythonic\" way later on, interfacing our DB query with other Python statements.\n",
    "\n",
    "The syntax for issuing a generic SQL statement is the following:\n",
    "\n",
    "```python\n",
    "connector_object.execute(my_sql_query)\n",
    "```\n",
    "\n",
    "For instance, let's try to execute the same check as before, by asking MySQL to show us all available DBs..."
   ]
  },
  {
   "cell_type": "code",
   "execution_count": 3,
   "id": "2bdcf2ff",
   "metadata": {},
   "outputs": [],
   "source": [
    "# show all available databases\n",
    "dbc.execute(\n",
    "\"SHOW DATABASES\"\n",
    ")"
   ]
  },
  {
   "cell_type": "markdown",
   "id": "e1325e30",
   "metadata": {},
   "source": [
    "No output is printed as the result of this SQL transaction is in fact \"collected\" into the cursor as a list of records (tuples).\n",
    "\n",
    "We can simply loop over them to return the results."
   ]
  },
  {
   "cell_type": "code",
   "execution_count": 4,
   "id": "663dd988",
   "metadata": {},
   "outputs": [
    {
     "name": "stdout",
     "output_type": "stream",
     "text": [
      "('information_schema',)\n",
      "('mysql',)\n",
      "('performance_schema',)\n",
      "('sys',)\n"
     ]
    }
   ],
   "source": [
    "# loop over the container to fetch the results\n",
    "for _ in dbc:\n",
    "    print(_)"
   ]
  },
  {
   "cell_type": "markdown",
   "id": "b11de704",
   "metadata": {},
   "source": [
    "If we are `root` users in this example, we are able to see inner structure of the mysql server, which already contains a few dbs by default. \n",
    "\n",
    "Once fetched the output of the transaction, the cursor reaches \"the end\" of the records, and is available to perform a new transaction"
   ]
  },
  {
   "cell_type": "code",
   "execution_count": 5,
   "id": "fe7dbbb5",
   "metadata": {},
   "outputs": [],
   "source": [
    "# use fetch to retrieve one, many, or all entries in the cursor\n",
    "dbc.fetchone()\n",
    "\n",
    "# dbc.fetchmany(2)\n",
    "\n",
    "# dbc.fetchall()"
   ]
  },
  {
   "cell_type": "markdown",
   "id": "91be5564",
   "metadata": {},
   "source": [
    "In the case one wants to perform a new transaction without collecting the output of the previos one from the cursor, a reset have to be issued first:\n",
    "\n",
    "```python \n",
    "connector_object.reset()\n",
    "```\n"
   ]
  },
  {
   "cell_type": "markdown",
   "id": "ea86a443",
   "metadata": {},
   "source": [
    "In the case a generic user is instead logged into the db (i.e. non the `root` user), it will not have access to a set of functionalities, and will not be able to see the previous list of all databases.\n",
    "\n",
    "Some of those are in fact protected and used to store additional information on the state of the MySQL server, the users connected, ..."
   ]
  },
  {
   "cell_type": "code",
   "execution_count": 6,
   "id": "1f71b747",
   "metadata": {},
   "outputs": [
    {
     "data": {
      "text/plain": [
       "[('information_schema',), ('performance_schema',)]"
      ]
     },
     "execution_count": 6,
     "metadata": {},
     "output_type": "execute_result"
    }
   ],
   "source": [
    "udb = mysql.connector.connect(\n",
    "  user=\"my_user\",\n",
    "  password=\"my_pwd\",\n",
    "  host=\"db\",\n",
    ")\n",
    "\n",
    "udbc = udb.cursor()\n",
    "\n",
    "udbc.execute(\n",
    "\"SHOW DATABASES\"\n",
    ")\n",
    "\n",
    "udbc.fetchall()"
   ]
  },
  {
   "cell_type": "markdown",
   "id": "b10b13ac",
   "metadata": {},
   "source": [
    "#### iPython magic\n",
    "\n",
    "An alternative way to perform queries from Python over a Jupyter-notebook is by using some notebook \"magic\", based on iPython and SQLAlchemy.\n",
    "\n",
    "This is a similar thing to what is usually done to load inline a figure from matplotlib (the `%matplotlib inline` thingy).\n",
    "\n",
    "To instruct iPython to interpret SQL commands, and to connect to the proper DB we have to: \n",
    "1. load the extension for SQL language\n",
    "2. set the environment variable to point to the connection to the DB"
   ]
  },
  {
   "cell_type": "code",
   "execution_count": 7,
   "id": "ba19dac1",
   "metadata": {},
   "outputs": [
    {
     "name": "stdout",
     "output_type": "stream",
     "text": [
      "env: DATABASE_URL=mysql+mysqlconnector://root:root_pwd@db\n"
     ]
    }
   ],
   "source": [
    "%load_ext sql\n",
    "\n",
    "%env DATABASE_URL=mysql+mysqlconnector://root:root_pwd@db"
   ]
  },
  {
   "cell_type": "markdown",
   "id": "f0ccff35",
   "metadata": {},
   "source": [
    "Now, the notebooks cells can perform SQL transactions directly in plain SQL, by starting the cell with `%%sql`.\n",
    "\n",
    "By default, the result is also printed with the `pretty` pandas-like format."
   ]
  },
  {
   "cell_type": "code",
   "execution_count": 8,
   "id": "1e9995eb",
   "metadata": {},
   "outputs": [
    {
     "name": "stdout",
     "output_type": "stream",
     "text": [
      "4 rows affected.\n"
     ]
    },
    {
     "data": {
      "text/html": [
       "<table>\n",
       "    <tr>\n",
       "        <th>Database</th>\n",
       "    </tr>\n",
       "    <tr>\n",
       "        <td>information_schema</td>\n",
       "    </tr>\n",
       "    <tr>\n",
       "        <td>mysql</td>\n",
       "    </tr>\n",
       "    <tr>\n",
       "        <td>performance_schema</td>\n",
       "    </tr>\n",
       "    <tr>\n",
       "        <td>sys</td>\n",
       "    </tr>\n",
       "</table>"
      ],
      "text/plain": [
       "[('information_schema',), ('mysql',), ('performance_schema',), ('sys',)]"
      ]
     },
     "execution_count": 8,
     "metadata": {},
     "output_type": "execute_result"
    }
   ],
   "source": [
    "%%sql\n",
    "\n",
    "SHOW DATABASES;"
   ]
  },
  {
   "cell_type": "markdown",
   "id": "b6c9f988",
   "metadata": {},
   "source": [
    "An additional benefit is that a single `%slq` (not a double `%%sql`) can be used to join a SQL query with any Python command"
   ]
  },
  {
   "cell_type": "code",
   "execution_count": 9,
   "id": "2e3eb6c6",
   "metadata": {},
   "outputs": [
    {
     "name": "stdout",
     "output_type": "stream",
     "text": [
      " * mysql+mysqlconnector://root:***@db\n",
      "4 rows affected.\n",
      "+--------------------+\n",
      "|      Database      |\n",
      "+--------------------+\n",
      "| information_schema |\n",
      "|       mysql        |\n",
      "| performance_schema |\n",
      "|        sys         |\n",
      "+--------------------+\n"
     ]
    }
   ],
   "source": [
    "my_python_var = %sql SHOW DATABASES\n",
    "\n",
    "print(my_python_var)"
   ]
  },
  {
   "cell_type": "markdown",
   "id": "d3885276",
   "metadata": {},
   "source": [
    "The combination of either of the two pythonic methods can be used to easily redirect the output of DB transactions to exploit all other well-known python modules, e.g. plotting with matplotlib"
   ]
  },
  {
   "cell_type": "code",
   "execution_count": 10,
   "id": "ec00522f",
   "metadata": {},
   "outputs": [
    {
     "data": {
      "image/png": "[encoded data removed]",
      "text/plain": [
       "<Figure size 640x480 with 1 Axes>"
      ]
     },
     "metadata": {},
     "output_type": "display_data"
    }
   ],
   "source": [
    "import matplotlib.pyplot as plt\n",
    "%matplotlib inline\n",
    "\n",
    "plt.hist(my_python_var);\n",
    "plt.xticks(rotation='vertical');"
   ]
  },
  {
   "cell_type": "markdown",
   "id": "651dcb6b",
   "metadata": {},
   "source": [
    "## 02 Database and Table creation"
   ]
  },
  {
   "cell_type": "markdown",
   "id": "045ce129",
   "metadata": {},
   "source": [
    "We have already seen how we inspect the server to see which DBs are present via the command:\n",
    "\n",
    "```mysql\n",
    "SHOW DATABASES;\n",
    "```\n",
    "\n",
    "We can start interacting with a specific DB by selecting which one to use via \n",
    "\n",
    "```mysql\n",
    "USE <DB_NAME>;\n",
    "```\n",
    "\n",
    "If instead we want to create a new DB to work with, we can use the command\n",
    "\n",
    "```mysql\n",
    "CREATE DATABASE <DB_NAME>;\n",
    "```\n",
    "\n",
    "A more complex sintax can be used to create a new DB if and only if no other DB with the same name already exists.\n",
    "\n",
    "```mysql\n",
    "CREATE DATABASE IF NOT EXISTS <DB_NAME>;\n",
    "```\n",
    "\n",
    "If the user has been granted the right to access this DB, it's possible to start investigating the content of the DB in use."
   ]
  },
  {
   "cell_type": "markdown",
   "id": "8c848513",
   "metadata": {},
   "source": [
    "Check if a DB named `my_db` exist, and if not, create one. \n",
    "Then, switch to the new DB to start using it."
   ]
  },
  {
   "cell_type": "code",
   "execution_count": 11,
   "id": "8edbe225",
   "metadata": {},
   "outputs": [
    {
     "name": "stdout",
     "output_type": "stream",
     "text": [
      " * mysql+mysqlconnector://root:***@db\n",
      "1 rows affected.\n"
     ]
    },
    {
     "data": {
      "text/plain": [
       "[]"
      ]
     },
     "execution_count": 11,
     "metadata": {},
     "output_type": "execute_result"
    }
   ],
   "source": [
    "%%sql\n",
    "\n",
    "CREATE DATABASE IF NOT EXISTS my_db;"
   ]
  },
  {
   "cell_type": "code",
   "execution_count": 12,
   "id": "40509cdf",
   "metadata": {},
   "outputs": [
    {
     "name": "stdout",
     "output_type": "stream",
     "text": [
      " * mysql+mysqlconnector://root:***@db\n",
      "5 rows affected.\n"
     ]
    },
    {
     "data": {
      "text/html": [
       "<table>\n",
       "    <tr>\n",
       "        <th>Database</th>\n",
       "    </tr>\n",
       "    <tr>\n",
       "        <td>information_schema</td>\n",
       "    </tr>\n",
       "    <tr>\n",
       "        <td>my_db</td>\n",
       "    </tr>\n",
       "    <tr>\n",
       "        <td>mysql</td>\n",
       "    </tr>\n",
       "    <tr>\n",
       "        <td>performance_schema</td>\n",
       "    </tr>\n",
       "    <tr>\n",
       "        <td>sys</td>\n",
       "    </tr>\n",
       "</table>"
      ],
      "text/plain": [
       "[('information_schema',),\n",
       " ('my_db',),\n",
       " ('mysql',),\n",
       " ('performance_schema',),\n",
       " ('sys',)]"
      ]
     },
     "execution_count": 12,
     "metadata": {},
     "output_type": "execute_result"
    }
   ],
   "source": [
    "%%sql\n",
    "\n",
    "SHOW DATABASES;"
   ]
  },
  {
   "cell_type": "code",
   "execution_count": 13,
   "id": "a88a58af",
   "metadata": {},
   "outputs": [
    {
     "name": "stdout",
     "output_type": "stream",
     "text": [
      " * mysql+mysqlconnector://root:***@db\n",
      "0 rows affected.\n"
     ]
    },
    {
     "data": {
      "text/plain": [
       "[]"
      ]
     },
     "execution_count": 13,
     "metadata": {},
     "output_type": "execute_result"
    }
   ],
   "source": [
    "%%sql\n",
    "\n",
    "USE my_db;"
   ]
  },
  {
   "cell_type": "markdown",
   "id": "01bd56f7",
   "metadata": {},
   "source": [
    "All tables contained in the DB are shown in a similar way to what used to show all DBs on the server:\n",
    "\n",
    "```mysql\n",
    "SHOW TABLES;\n",
    "```\n",
    "\n",
    "_NB_: we are inspecting the content of a specific DB (the one selected with `USE <DB_NAME>`)"
   ]
  },
  {
   "cell_type": "code",
   "execution_count": 14,
   "id": "bae6e5c7",
   "metadata": {},
   "outputs": [
    {
     "name": "stdout",
     "output_type": "stream",
     "text": [
      " * mysql+mysqlconnector://root:***@db\n",
      "0 rows affected.\n"
     ]
    },
    {
     "data": {
      "text/html": [
       "<table>\n",
       "    <tr>\n",
       "        <th>Tables_in_my_db</th>\n",
       "    </tr>\n",
       "</table>"
      ],
      "text/plain": [
       "[]"
      ]
     },
     "execution_count": 14,
     "metadata": {},
     "output_type": "execute_result"
    }
   ],
   "source": [
    "%%sql \n",
    "\n",
    "SHOW TABLES;"
   ]
  },
  {
   "cell_type": "markdown",
   "id": "c27b3ca7",
   "metadata": {},
   "source": [
    "The analogous pythonic way to execute the same list of commands (using the mysql.connector driver) is the following.\n",
    "\n",
    "_NB_: This time, as we are not retrieving results from the server but we are instead creating a DB, we have to specify that we want to _commit_ a change to the server; "
   ]
  },
  {
   "cell_type": "code",
   "execution_count": 15,
   "id": "98b95e6e",
   "metadata": {},
   "outputs": [],
   "source": [
    "# defining the sql command line\n",
    "sql_ = \"CREATE DATABASE IF NOT EXISTS my_db;\"\n",
    "\n",
    "# instructing the cursor to execute it\n",
    "dbc.execute(sql_)\n",
    "\n",
    "# in this case the result of the sql transaction is not to return a list of items \n",
    "# it is instead a change in the DB structure\n",
    "# therefore, for the change to have effect, a the change is to be committed to the DB\n",
    "db.commit() "
   ]
  },
  {
   "cell_type": "markdown",
   "id": "5ece7e17",
   "metadata": {},
   "source": [
    "All other commands, `USE` and `SHOW`, do not require any change to be committed, therefore we can simply issue them via the cursor."
   ]
  },
  {
   "cell_type": "code",
   "execution_count": 16,
   "id": "0d96157a",
   "metadata": {},
   "outputs": [
    {
     "data": {
      "text/plain": [
       "[]"
      ]
     },
     "execution_count": 16,
     "metadata": {},
     "output_type": "execute_result"
    }
   ],
   "source": [
    "dbc.execute(\"USE my_db\")\n",
    "\n",
    "dbc.execute(\"SHOW TABLES\")\n",
    "dbc.fetchall()"
   ]
  },
  {
   "cell_type": "markdown",
   "id": "17f8781c",
   "metadata": {},
   "source": [
    "So far the DB is empty, so let's use the same lines presented in the slides to create a dummy `Users` table.\n",
    "\n",
    "Any table can then be inspected to check its schema by listing all attributes.\n",
    "\n",
    "1. Create the `Users` table declaring the schema by defining each attributes\n",
    "2. Check if the table has been created on the DB via a `SHOW` command\n",
    "3. Check the Table schema by issuing `DESCRIBE <TABLE_NAME>`"
   ]
  },
  {
   "cell_type": "code",
   "execution_count": 17,
   "id": "db09b101",
   "metadata": {},
   "outputs": [
    {
     "name": "stdout",
     "output_type": "stream",
     "text": [
      " * mysql+mysqlconnector://root:***@db\n",
      "0 rows affected.\n"
     ]
    },
    {
     "data": {
      "text/plain": [
       "[]"
      ]
     },
     "execution_count": 17,
     "metadata": {},
     "output_type": "execute_result"
    }
   ],
   "source": [
    "%%sql\n",
    "\n",
    "CREATE TABLE Users (\n",
    "    UserID varchar(30),\n",
    "    BadgeNum int(16),\n",
    "    FirstName varchar(255),\n",
    "    LastName varchar(255),\n",
    "    Age int,\n",
    "    OtherAttr float\n",
    ");"
   ]
  },
  {
   "cell_type": "code",
   "execution_count": 18,
   "id": "d9c98a2c",
   "metadata": {
    "scrolled": true
   },
   "outputs": [
    {
     "name": "stdout",
     "output_type": "stream",
     "text": [
      " * mysql+mysqlconnector://root:***@db\n",
      "1 rows affected.\n"
     ]
    },
    {
     "data": {
      "text/html": [
       "<table>\n",
       "    <tr>\n",
       "        <th>Tables_in_my_db</th>\n",
       "    </tr>\n",
       "    <tr>\n",
       "        <td>Users</td>\n",
       "    </tr>\n",
       "</table>"
      ],
      "text/plain": [
       "[('Users',)]"
      ]
     },
     "execution_count": 18,
     "metadata": {},
     "output_type": "execute_result"
    }
   ],
   "source": [
    "%%sql \n",
    "\n",
    "SHOW TABLES;"
   ]
  },
  {
   "cell_type": "code",
   "execution_count": 19,
   "id": "89052ab1",
   "metadata": {},
   "outputs": [
    {
     "name": "stdout",
     "output_type": "stream",
     "text": [
      " * mysql+mysqlconnector://root:***@db\n",
      "6 rows affected.\n"
     ]
    },
    {
     "data": {
      "text/html": [
       "<table>\n",
       "    <tr>\n",
       "        <th>Field</th>\n",
       "        <th>Type</th>\n",
       "        <th>Null</th>\n",
       "        <th>Key</th>\n",
       "        <th>Default</th>\n",
       "        <th>Extra</th>\n",
       "    </tr>\n",
       "    <tr>\n",
       "        <td>UserID</td>\n",
       "        <td>b&#x27;varchar(30)&#x27;</td>\n",
       "        <td>YES</td>\n",
       "        <td></td>\n",
       "        <td>None</td>\n",
       "        <td></td>\n",
       "    </tr>\n",
       "    <tr>\n",
       "        <td>BadgeNum</td>\n",
       "        <td>b&#x27;int&#x27;</td>\n",
       "        <td>YES</td>\n",
       "        <td></td>\n",
       "        <td>None</td>\n",
       "        <td></td>\n",
       "    </tr>\n",
       "    <tr>\n",
       "        <td>FirstName</td>\n",
       "        <td>b&#x27;varchar(255)&#x27;</td>\n",
       "        <td>YES</td>\n",
       "        <td></td>\n",
       "        <td>None</td>\n",
       "        <td></td>\n",
       "    </tr>\n",
       "    <tr>\n",
       "        <td>LastName</td>\n",
       "        <td>b&#x27;varchar(255)&#x27;</td>\n",
       "        <td>YES</td>\n",
       "        <td></td>\n",
       "        <td>None</td>\n",
       "        <td></td>\n",
       "    </tr>\n",
       "    <tr>\n",
       "        <td>Age</td>\n",
       "        <td>b&#x27;int&#x27;</td>\n",
       "        <td>YES</td>\n",
       "        <td></td>\n",
       "        <td>None</td>\n",
       "        <td></td>\n",
       "    </tr>\n",
       "    <tr>\n",
       "        <td>OtherAttr</td>\n",
       "        <td>b&#x27;float&#x27;</td>\n",
       "        <td>YES</td>\n",
       "        <td></td>\n",
       "        <td>None</td>\n",
       "        <td></td>\n",
       "    </tr>\n",
       "</table>"
      ],
      "text/plain": [
       "[('UserID', b'varchar(30)', 'YES', '', None, ''),\n",
       " ('BadgeNum', b'int', 'YES', '', None, ''),\n",
       " ('FirstName', b'varchar(255)', 'YES', '', None, ''),\n",
       " ('LastName', b'varchar(255)', 'YES', '', None, ''),\n",
       " ('Age', b'int', 'YES', '', None, ''),\n",
       " ('OtherAttr', b'float', 'YES', '', None, '')]"
      ]
     },
     "execution_count": 19,
     "metadata": {},
     "output_type": "execute_result"
    }
   ],
   "source": [
    "%%sql\n",
    "\n",
    "DESCRIBE Users;"
   ]
  },
  {
   "cell_type": "markdown",
   "id": "959376c7",
   "metadata": {},
   "source": [
    "Following on the lines of the previous examples, perform the same transactions with the `mysql.connector` driver.\n",
    "\n",
    "This time, as the `Users` table already exists, we can create a `Users_py` table.\n",
    "\n",
    "Remember:\n",
    "- Use the DB Cursor to execute the transactions\n",
    "- Transaction that change the content of the DB have to be _committed_ to the DB\n",
    "- Transactions returing the content of the DB host their results _in the cursor_"
   ]
  },
  {
   "cell_type": "code",
   "execution_count": 20,
   "id": "a9d01087",
   "metadata": {},
   "outputs": [],
   "source": [
    "dbc.reset()"
   ]
  },
  {
   "cell_type": "code",
   "execution_count": 21,
   "id": "2159b935",
   "metadata": {},
   "outputs": [],
   "source": [
    "# create table\n",
    "sql_ = \"CREATE TABLE Users_py (\\\n",
    "    UserID varchar(30),\\\n",
    "    BadgeNum int(16),\\\n",
    "    FirstName varchar(255),\\\n",
    "    LastName varchar(255),\\\n",
    "    Age int,\\\n",
    "    OtherAttr float\\\n",
    ");\"\n",
    "\n",
    "dbc.execute(sql_)\n",
    "\n",
    "db.commit()"
   ]
  },
  {
   "cell_type": "code",
   "execution_count": 22,
   "id": "4cb9e6ef",
   "metadata": {},
   "outputs": [],
   "source": [
    "dbc.execute(\"SHOW TABLES\")"
   ]
  },
  {
   "cell_type": "code",
   "execution_count": 23,
   "id": "18992578",
   "metadata": {},
   "outputs": [
    {
     "data": {
      "text/plain": [
       "[('Users',), ('Users_py',)]"
      ]
     },
     "execution_count": 23,
     "metadata": {},
     "output_type": "execute_result"
    }
   ],
   "source": [
    "dbc.fetchall()"
   ]
  },
  {
   "cell_type": "code",
   "execution_count": 24,
   "id": "21233ea2",
   "metadata": {},
   "outputs": [],
   "source": [
    "# describe table\n",
    "dbc.execute(\"DESCRIBE Users_py\")"
   ]
  },
  {
   "cell_type": "code",
   "execution_count": 25,
   "id": "aa0dde33",
   "metadata": {},
   "outputs": [
    {
     "data": {
      "text/plain": [
       "[('UserID', b'varchar(30)', 'YES', '', None, ''),\n",
       " ('BadgeNum', b'int', 'YES', '', None, ''),\n",
       " ('FirstName', b'varchar(255)', 'YES', '', None, ''),\n",
       " ('LastName', b'varchar(255)', 'YES', '', None, ''),\n",
       " ('Age', b'int', 'YES', '', None, ''),\n",
       " ('OtherAttr', b'float', 'YES', '', None, '')]"
      ]
     },
     "execution_count": 25,
     "metadata": {},
     "output_type": "execute_result"
    }
   ],
   "source": [
    "dbc.fetchall()"
   ]
  },
  {
   "cell_type": "markdown",
   "id": "362814c1",
   "metadata": {},
   "source": [
    "## 03 Declaring contstraints and altering tables"
   ]
  },
  {
   "cell_type": "markdown",
   "id": "c0443720",
   "metadata": {},
   "source": [
    "Let's clean up all existing tables in our database.\n",
    "\n",
    "To remove an existing table from a DB we can issue the instruction:\n",
    "    \n",
    "```mysql\n",
    "DROP TABLE IF EXISTS <NAME OF YOUR TABLE>;\n",
    "```\n",
    "\n",
    "Be ***extremely careful*** when doing this... Dropping a Table means losing all records from that table, and severing all connections with other tables based on foreign keys. The entire DB might become unusable!\n"
   ]
  },
  {
   "cell_type": "code",
   "execution_count": 26,
   "id": "04c9db37",
   "metadata": {},
   "outputs": [
    {
     "name": "stdout",
     "output_type": "stream",
     "text": [
      " * mysql+mysqlconnector://root:***@db\n",
      "0 rows affected.\n"
     ]
    },
    {
     "data": {
      "text/plain": [
       "[]"
      ]
     },
     "execution_count": 26,
     "metadata": {},
     "output_type": "execute_result"
    }
   ],
   "source": [
    "%%sql \n",
    "\n",
    "DROP TABLE IF EXISTS Users;"
   ]
  },
  {
   "cell_type": "markdown",
   "id": "710dad35",
   "metadata": {},
   "source": [
    "Let's also drop the `Users_py` table using the Python connetor"
   ]
  },
  {
   "cell_type": "code",
   "execution_count": 27,
   "id": "9e69859f",
   "metadata": {
    "scrolled": true
   },
   "outputs": [],
   "source": [
    "dbc.execute(\"DROP TABLE IF EXISTS Users_py\")\n",
    "db.commit()"
   ]
  },
  {
   "cell_type": "markdown",
   "id": "6e686164",
   "metadata": {},
   "source": [
    "Create a new `products` table with the following schema:\n",
    "\n",
    "| Attribute | Type | Extra info | Constraint | \n",
    "| --- | --- | --- |--- |\n",
    "| productID   | Integer | | NOT NULL AUTO_INCREMENT |\n",
    "| productName | String | Max length 30 | DEFAULT \"\" |\n",
    "| unitPrice   | Float | | NOT NULL DEFAULT 99999.99|\n",
    "| unitsInStock | Integer | Unsigned | NOT NULL DEFAULT 0 |\n",
    "\n",
    "`productID` will also be our `PRIMARY KEY`: this means that we can access element using the primary key name. Even 2 or more columns can be PRIMARY KEYS!\n",
    "\n",
    "This can be declared either inline or at the end of the table definition:\n",
    "\n",
    "```mysql\n",
    "productID INT NOT NULL UNIQUE AUTO_INCREMENT PRIMARY KEY\n",
    "```\n",
    "\n",
    "or \n",
    "\n",
    "```mysql\n",
    "productID INT NOT NULL UNIQUE AUTO_INCREMENT\n",
    "...\n",
    "PRIMARY KEY (productID)\n",
    "```"
   ]
  },
  {
   "cell_type": "code",
   "execution_count": 28,
   "id": "76607839",
   "metadata": {},
   "outputs": [
    {
     "name": "stdout",
     "output_type": "stream",
     "text": [
      " * mysql+mysqlconnector://root:***@db\n",
      "0 rows affected.\n"
     ]
    },
    {
     "data": {
      "text/plain": [
       "[]"
      ]
     },
     "execution_count": 28,
     "metadata": {},
     "output_type": "execute_result"
    }
   ],
   "source": [
    "%%sql\n",
    "\n",
    "CREATE TABLE IF NOT EXISTS products (\n",
    "         productID    INT          NOT NULL UNIQUE AUTO_INCREMENT PRIMARY KEY,\n",
    "         productName  VARCHAR(30)  DEFAULT \"\" ,\n",
    "         unitPrice    FLOAT        NOT NULL DEFAULT 99999.99,\n",
    "         unitsInStock INT UNSIGNED NOT NULL DEFAULT 0\n",
    ");"
   ]
  },
  {
   "cell_type": "code",
   "execution_count": 29,
   "id": "c15a1cad",
   "metadata": {
    "scrolled": true
   },
   "outputs": [
    {
     "name": "stdout",
     "output_type": "stream",
     "text": [
      " * mysql+mysqlconnector://root:***@db\n",
      "4 rows affected.\n"
     ]
    },
    {
     "data": {
      "text/html": [
       "<table>\n",
       "    <tr>\n",
       "        <th>Field</th>\n",
       "        <th>Type</th>\n",
       "        <th>Null</th>\n",
       "        <th>Key</th>\n",
       "        <th>Default</th>\n",
       "        <th>Extra</th>\n",
       "    </tr>\n",
       "    <tr>\n",
       "        <td>productID</td>\n",
       "        <td>b&#x27;int&#x27;</td>\n",
       "        <td>NO</td>\n",
       "        <td>PRI</td>\n",
       "        <td>None</td>\n",
       "        <td>auto_increment</td>\n",
       "    </tr>\n",
       "    <tr>\n",
       "        <td>productName</td>\n",
       "        <td>b&#x27;varchar(30)&#x27;</td>\n",
       "        <td>YES</td>\n",
       "        <td></td>\n",
       "        <td>b&#x27;&#x27;</td>\n",
       "        <td></td>\n",
       "    </tr>\n",
       "    <tr>\n",
       "        <td>unitPrice</td>\n",
       "        <td>b&#x27;float&#x27;</td>\n",
       "        <td>NO</td>\n",
       "        <td></td>\n",
       "        <td>b&#x27;100000&#x27;</td>\n",
       "        <td></td>\n",
       "    </tr>\n",
       "    <tr>\n",
       "        <td>unitsInStock</td>\n",
       "        <td>b&#x27;int unsigned&#x27;</td>\n",
       "        <td>NO</td>\n",
       "        <td></td>\n",
       "        <td>b&#x27;0&#x27;</td>\n",
       "        <td></td>\n",
       "    </tr>\n",
       "</table>"
      ],
      "text/plain": [
       "[('productID', b'int', 'NO', 'PRI', None, 'auto_increment'),\n",
       " ('productName', b'varchar(30)', 'YES', '', b'', ''),\n",
       " ('unitPrice', b'float', 'NO', '', b'100000', ''),\n",
       " ('unitsInStock', b'int unsigned', 'NO', '', b'0', '')]"
      ]
     },
     "execution_count": 29,
     "metadata": {},
     "output_type": "execute_result"
    }
   ],
   "source": [
    "%%sql\n",
    "\n",
    "DESCRIBE products;"
   ]
  },
  {
   "cell_type": "markdown",
   "id": "d6603107",
   "metadata": {},
   "source": [
    "The table does not contain any constraint, default values, or keys.\n",
    "\n",
    "A table can be altered by adding/removing Attributes, as well as by adding constraints.\n",
    "\n",
    "Let's first add a new attribute to the table:\n",
    "\n",
    "| Attribute | Type | Extra info | Constraint | \n",
    "| --- | --- | --- |--- |\n",
    "| productID   | Integer | | NOT NULL AUTO_INCREMENT |\n",
    "| productName | String | Max length 30 | DEFAULT \"\" |\n",
    "| unitPrice   | Float | | NOT NULL DEFAULT 99999.99|\n",
    "| unitsInStock | Integer | Unsigned | NOT NULL DEFAULT 0 |\n",
    "| **isDiscontinued**  | **Bool** | | NOT NULL |\n",
    "\n",
    "To alter a table and create a new column we can act on it with:\n",
    "\n",
    "```mysql\n",
    "ALTER TABLE <THE TABLE>\n",
    "ADD COLUMN <NEW COL> <THE NEW ATTRIBUTE DECLARATION>;\n",
    "```\n"
   ]
  },
  {
   "cell_type": "markdown",
   "id": "d0dda2e9",
   "metadata": {},
   "source": [
    "Alter the `products` table and add the `isDiscontinued` attribute"
   ]
  },
  {
   "cell_type": "code",
   "execution_count": 30,
   "id": "56c92834",
   "metadata": {},
   "outputs": [
    {
     "name": "stdout",
     "output_type": "stream",
     "text": [
      " * mysql+mysqlconnector://root:***@db\n",
      "0 rows affected.\n"
     ]
    },
    {
     "data": {
      "text/plain": [
       "[]"
      ]
     },
     "execution_count": 30,
     "metadata": {},
     "output_type": "execute_result"
    }
   ],
   "source": [
    "%%sql\n",
    "\n",
    "ALTER TABLE products\n",
    "ADD COLUMN isDiscontinued BOOL NOT NULL;"
   ]
  },
  {
   "cell_type": "code",
   "execution_count": 31,
   "id": "1898ced9",
   "metadata": {},
   "outputs": [
    {
     "name": "stdout",
     "output_type": "stream",
     "text": [
      " * mysql+mysqlconnector://root:***@db\n",
      "5 rows affected.\n"
     ]
    },
    {
     "data": {
      "text/html": [
       "<table>\n",
       "    <tr>\n",
       "        <th>Field</th>\n",
       "        <th>Type</th>\n",
       "        <th>Null</th>\n",
       "        <th>Key</th>\n",
       "        <th>Default</th>\n",
       "        <th>Extra</th>\n",
       "    </tr>\n",
       "    <tr>\n",
       "        <td>productID</td>\n",
       "        <td>b&#x27;int&#x27;</td>\n",
       "        <td>NO</td>\n",
       "        <td>PRI</td>\n",
       "        <td>None</td>\n",
       "        <td>auto_increment</td>\n",
       "    </tr>\n",
       "    <tr>\n",
       "        <td>productName</td>\n",
       "        <td>b&#x27;varchar(30)&#x27;</td>\n",
       "        <td>YES</td>\n",
       "        <td></td>\n",
       "        <td>b&#x27;&#x27;</td>\n",
       "        <td></td>\n",
       "    </tr>\n",
       "    <tr>\n",
       "        <td>unitPrice</td>\n",
       "        <td>b&#x27;float&#x27;</td>\n",
       "        <td>NO</td>\n",
       "        <td></td>\n",
       "        <td>b&#x27;100000&#x27;</td>\n",
       "        <td></td>\n",
       "    </tr>\n",
       "    <tr>\n",
       "        <td>unitsInStock</td>\n",
       "        <td>b&#x27;int unsigned&#x27;</td>\n",
       "        <td>NO</td>\n",
       "        <td></td>\n",
       "        <td>b&#x27;0&#x27;</td>\n",
       "        <td></td>\n",
       "    </tr>\n",
       "    <tr>\n",
       "        <td>isDiscontinued</td>\n",
       "        <td>b&#x27;tinyint(1)&#x27;</td>\n",
       "        <td>NO</td>\n",
       "        <td></td>\n",
       "        <td>None</td>\n",
       "        <td></td>\n",
       "    </tr>\n",
       "</table>"
      ],
      "text/plain": [
       "[('productID', b'int', 'NO', 'PRI', None, 'auto_increment'),\n",
       " ('productName', b'varchar(30)', 'YES', '', b'', ''),\n",
       " ('unitPrice', b'float', 'NO', '', b'100000', ''),\n",
       " ('unitsInStock', b'int unsigned', 'NO', '', b'0', ''),\n",
       " ('isDiscontinued', b'tinyint(1)', 'NO', '', None, '')]"
      ]
     },
     "execution_count": 31,
     "metadata": {},
     "output_type": "execute_result"
    }
   ],
   "source": [
    "%%sql \n",
    "\n",
    "DESCRIBE products;"
   ]
  },
  {
   "cell_type": "markdown",
   "id": "fb44152a",
   "metadata": {},
   "source": [
    "`isDiscontinued` does however not contain any meaningful constraint or default value.\n",
    "Let's consider `0` as a good default value:\n",
    "\n",
    "| Attribute | Type | Extra info | Constraint | \n",
    "| --- | --- | --- |--- |\n",
    "| productID   | Integer | | NOT NULL AUTO_INCREMENT |\n",
    "| productName | String | Max length 30 | DEFAULT \"\" |\n",
    "| unitPrice   | Float | | NOT NULL DEFAULT 99999.99|\n",
    "| unitsInStock | Integer | Unsigned | NOT NULL DEFAULT 0 |\n",
    "| isDiscontinued  | Bool | | NOT NULL **DEFAULT 0** |\n",
    "\n",
    "\n",
    "We can use the same `ALTER TABLE` instruction to do this:\n",
    "    \n",
    "```mysql\n",
    "ALTER TABLE <THE TABLE>\n",
    "ALTER <ATTRIBUTE> SET DEFAULT <NEW DEFAULT>;\n",
    "```"
   ]
  },
  {
   "cell_type": "code",
   "execution_count": 32,
   "id": "588dca8b",
   "metadata": {},
   "outputs": [
    {
     "name": "stdout",
     "output_type": "stream",
     "text": [
      " * mysql+mysqlconnector://root:***@db\n",
      "0 rows affected.\n"
     ]
    },
    {
     "data": {
      "text/plain": [
       "[]"
      ]
     },
     "execution_count": 32,
     "metadata": {},
     "output_type": "execute_result"
    }
   ],
   "source": [
    "%%sql\n",
    "\n",
    "ALTER TABLE products\n",
    "ALTER isDiscontinued SET DEFAULT 0;"
   ]
  },
  {
   "cell_type": "code",
   "execution_count": 33,
   "id": "93517bd8",
   "metadata": {},
   "outputs": [
    {
     "name": "stdout",
     "output_type": "stream",
     "text": [
      " * mysql+mysqlconnector://root:***@db\n",
      "5 rows affected.\n"
     ]
    },
    {
     "data": {
      "text/html": [
       "<table>\n",
       "    <tr>\n",
       "        <th>Field</th>\n",
       "        <th>Type</th>\n",
       "        <th>Null</th>\n",
       "        <th>Key</th>\n",
       "        <th>Default</th>\n",
       "        <th>Extra</th>\n",
       "    </tr>\n",
       "    <tr>\n",
       "        <td>productID</td>\n",
       "        <td>b&#x27;int&#x27;</td>\n",
       "        <td>NO</td>\n",
       "        <td>PRI</td>\n",
       "        <td>None</td>\n",
       "        <td>auto_increment</td>\n",
       "    </tr>\n",
       "    <tr>\n",
       "        <td>productName</td>\n",
       "        <td>b&#x27;varchar(30)&#x27;</td>\n",
       "        <td>YES</td>\n",
       "        <td></td>\n",
       "        <td>b&#x27;&#x27;</td>\n",
       "        <td></td>\n",
       "    </tr>\n",
       "    <tr>\n",
       "        <td>unitPrice</td>\n",
       "        <td>b&#x27;float&#x27;</td>\n",
       "        <td>NO</td>\n",
       "        <td></td>\n",
       "        <td>b&#x27;100000&#x27;</td>\n",
       "        <td></td>\n",
       "    </tr>\n",
       "    <tr>\n",
       "        <td>unitsInStock</td>\n",
       "        <td>b&#x27;int unsigned&#x27;</td>\n",
       "        <td>NO</td>\n",
       "        <td></td>\n",
       "        <td>b&#x27;0&#x27;</td>\n",
       "        <td></td>\n",
       "    </tr>\n",
       "    <tr>\n",
       "        <td>isDiscontinued</td>\n",
       "        <td>b&#x27;tinyint(1)&#x27;</td>\n",
       "        <td>NO</td>\n",
       "        <td></td>\n",
       "        <td>b&#x27;0&#x27;</td>\n",
       "        <td></td>\n",
       "    </tr>\n",
       "</table>"
      ],
      "text/plain": [
       "[('productID', b'int', 'NO', 'PRI', None, 'auto_increment'),\n",
       " ('productName', b'varchar(30)', 'YES', '', b'', ''),\n",
       " ('unitPrice', b'float', 'NO', '', b'100000', ''),\n",
       " ('unitsInStock', b'int unsigned', 'NO', '', b'0', ''),\n",
       " ('isDiscontinued', b'tinyint(1)', 'NO', '', b'0', '')]"
      ]
     },
     "execution_count": 33,
     "metadata": {},
     "output_type": "execute_result"
    }
   ],
   "source": [
    "%%sql \n",
    "\n",
    "DESCRIBE products;"
   ]
  },
  {
   "cell_type": "markdown",
   "id": "1500dc54",
   "metadata": {},
   "source": [
    "We can also impose `productName` to be not-null altering the table one final time.\n",
    "\n",
    "| Attribute | Type | Extra info | Constraint | \n",
    "| --- | --- | --- |--- |\n",
    "| productID   | Integer | | NOT NULL AUTO_INCREMENT |\n",
    "| productName | String | Max length 30 | **NOT NULL** DEFAULT \"\" |\n",
    "| unitPrice   | Float | | NOT NULL DEFAULT 99999.99|\n",
    "| unitsInStock | Integer | Unsigned | NOT NULL DEFAULT 0 |\n",
    "| isDiscontinued  | Bool | | NOT NULL DEFAULT 0 |\n",
    "\n",
    "\n",
    "In MySQL, this implies to modify the entire attribute, thus the Type will have to be re-stated:\n",
    "    \n",
    "```mysql\n",
    "ALTER TABLE <THE TABLE>\n",
    "MODIFY <ATTRIBUTE> <ATTRIBUTE TYPE> <CONSTRAINT>;\n",
    "```"
   ]
  },
  {
   "cell_type": "code",
   "execution_count": 34,
   "id": "ab4bb7ea",
   "metadata": {},
   "outputs": [
    {
     "name": "stdout",
     "output_type": "stream",
     "text": [
      " * mysql+mysqlconnector://root:***@db\n",
      "0 rows affected.\n"
     ]
    },
    {
     "data": {
      "text/plain": [
       "[]"
      ]
     },
     "execution_count": 34,
     "metadata": {},
     "output_type": "execute_result"
    }
   ],
   "source": [
    "%%sql\n",
    "\n",
    "ALTER TABLE products\n",
    "MODIFY productName VARCHAR(30) NOT NULL DEFAULT \"\";"
   ]
  },
  {
   "cell_type": "code",
   "execution_count": 35,
   "id": "0a7aeef5",
   "metadata": {},
   "outputs": [
    {
     "name": "stdout",
     "output_type": "stream",
     "text": [
      " * mysql+mysqlconnector://root:***@db\n",
      "5 rows affected.\n"
     ]
    },
    {
     "data": {
      "text/html": [
       "<table>\n",
       "    <tr>\n",
       "        <th>Field</th>\n",
       "        <th>Type</th>\n",
       "        <th>Null</th>\n",
       "        <th>Key</th>\n",
       "        <th>Default</th>\n",
       "        <th>Extra</th>\n",
       "    </tr>\n",
       "    <tr>\n",
       "        <td>productID</td>\n",
       "        <td>b&#x27;int&#x27;</td>\n",
       "        <td>NO</td>\n",
       "        <td>PRI</td>\n",
       "        <td>None</td>\n",
       "        <td>auto_increment</td>\n",
       "    </tr>\n",
       "    <tr>\n",
       "        <td>productName</td>\n",
       "        <td>b&#x27;varchar(30)&#x27;</td>\n",
       "        <td>NO</td>\n",
       "        <td></td>\n",
       "        <td>b&#x27;&#x27;</td>\n",
       "        <td></td>\n",
       "    </tr>\n",
       "    <tr>\n",
       "        <td>unitPrice</td>\n",
       "        <td>b&#x27;float&#x27;</td>\n",
       "        <td>NO</td>\n",
       "        <td></td>\n",
       "        <td>b&#x27;100000&#x27;</td>\n",
       "        <td></td>\n",
       "    </tr>\n",
       "    <tr>\n",
       "        <td>unitsInStock</td>\n",
       "        <td>b&#x27;int unsigned&#x27;</td>\n",
       "        <td>NO</td>\n",
       "        <td></td>\n",
       "        <td>b&#x27;0&#x27;</td>\n",
       "        <td></td>\n",
       "    </tr>\n",
       "    <tr>\n",
       "        <td>isDiscontinued</td>\n",
       "        <td>b&#x27;tinyint(1)&#x27;</td>\n",
       "        <td>NO</td>\n",
       "        <td></td>\n",
       "        <td>b&#x27;0&#x27;</td>\n",
       "        <td></td>\n",
       "    </tr>\n",
       "</table>"
      ],
      "text/plain": [
       "[('productID', b'int', 'NO', 'PRI', None, 'auto_increment'),\n",
       " ('productName', b'varchar(30)', 'NO', '', b'', ''),\n",
       " ('unitPrice', b'float', 'NO', '', b'100000', ''),\n",
       " ('unitsInStock', b'int unsigned', 'NO', '', b'0', ''),\n",
       " ('isDiscontinued', b'tinyint(1)', 'NO', '', b'0', '')]"
      ]
     },
     "execution_count": 35,
     "metadata": {},
     "output_type": "execute_result"
    }
   ],
   "source": [
    "%%sql\n",
    "\n",
    "DESCRIBE products;"
   ]
  },
  {
   "cell_type": "markdown",
   "id": "4f0cc301",
   "metadata": {},
   "source": [
    "Let's now create a `suppliers` table with the following description:\n",
    "\n",
    "| Attribute | Type | Extra info | Constraint | \n",
    "| --- | --- | --- |--- |\n",
    "| supplierID   | Integer | | NOT NULL AUTO_INCREMENT |\n",
    "| supplierName | String | Max length 30 | NOT NULL DEFAULT \"\" |\n",
    "| countryCode   | Char | Length 3 | NOT NULL |\n",
    "| email   | String | Max length 30  | NOT NULL |\n",
    "\n",
    "`supplierID` is going to act as the table's primary key in this case."
   ]
  },
  {
   "cell_type": "code",
   "execution_count": 36,
   "id": "6148bc2a",
   "metadata": {},
   "outputs": [
    {
     "name": "stdout",
     "output_type": "stream",
     "text": [
      " * mysql+mysqlconnector://root:***@db\n",
      "0 rows affected.\n"
     ]
    },
    {
     "data": {
      "text/plain": [
       "[]"
      ]
     },
     "execution_count": 36,
     "metadata": {},
     "output_type": "execute_result"
    }
   ],
   "source": [
    "%%sql\n",
    "\n",
    "CREATE TABLE suppliers (\n",
    "    supplierID      INT NOT NULL UNIQUE AUTO_INCREMENT PRIMARY KEY,\n",
    "    supplierName    VARCHAR(30) NOT NULL DEFAULT \"\",\n",
    "    countryCode     CHAR(3) NOT NULL,\n",
    "    email           VARCHAR(30) NOT NULL\n",
    ");\n"
   ]
  },
  {
   "cell_type": "code",
   "execution_count": 37,
   "id": "be2bcf16",
   "metadata": {},
   "outputs": [
    {
     "name": "stdout",
     "output_type": "stream",
     "text": [
      " * mysql+mysqlconnector://root:***@db\n",
      "4 rows affected.\n"
     ]
    },
    {
     "data": {
      "text/html": [
       "<table>\n",
       "    <tr>\n",
       "        <th>Field</th>\n",
       "        <th>Type</th>\n",
       "        <th>Null</th>\n",
       "        <th>Key</th>\n",
       "        <th>Default</th>\n",
       "        <th>Extra</th>\n",
       "    </tr>\n",
       "    <tr>\n",
       "        <td>supplierID</td>\n",
       "        <td>b&#x27;int&#x27;</td>\n",
       "        <td>NO</td>\n",
       "        <td>PRI</td>\n",
       "        <td>None</td>\n",
       "        <td>auto_increment</td>\n",
       "    </tr>\n",
       "    <tr>\n",
       "        <td>supplierName</td>\n",
       "        <td>b&#x27;varchar(30)&#x27;</td>\n",
       "        <td>NO</td>\n",
       "        <td></td>\n",
       "        <td>b&#x27;&#x27;</td>\n",
       "        <td></td>\n",
       "    </tr>\n",
       "    <tr>\n",
       "        <td>countryCode</td>\n",
       "        <td>b&#x27;char(3)&#x27;</td>\n",
       "        <td>NO</td>\n",
       "        <td></td>\n",
       "        <td>None</td>\n",
       "        <td></td>\n",
       "    </tr>\n",
       "    <tr>\n",
       "        <td>email</td>\n",
       "        <td>b&#x27;varchar(30)&#x27;</td>\n",
       "        <td>NO</td>\n",
       "        <td></td>\n",
       "        <td>None</td>\n",
       "        <td></td>\n",
       "    </tr>\n",
       "</table>"
      ],
      "text/plain": [
       "[('supplierID', b'int', 'NO', 'PRI', None, 'auto_increment'),\n",
       " ('supplierName', b'varchar(30)', 'NO', '', b'', ''),\n",
       " ('countryCode', b'char(3)', 'NO', '', None, ''),\n",
       " ('email', b'varchar(30)', 'NO', '', None, '')]"
      ]
     },
     "execution_count": 37,
     "metadata": {},
     "output_type": "execute_result"
    }
   ],
   "source": [
    "%%sql\n",
    "\n",
    "DESCRIBE suppliers;"
   ]
  },
  {
   "cell_type": "markdown",
   "id": "20235130",
   "metadata": {},
   "source": [
    "Alter the table to include a default \"ITA\" for `countryCode`"
   ]
  },
  {
   "cell_type": "code",
   "execution_count": 38,
   "id": "b281a56f",
   "metadata": {},
   "outputs": [
    {
     "name": "stdout",
     "output_type": "stream",
     "text": [
      " * mysql+mysqlconnector://root:***@db\n",
      "0 rows affected.\n"
     ]
    },
    {
     "data": {
      "text/plain": [
       "[]"
      ]
     },
     "execution_count": 38,
     "metadata": {},
     "output_type": "execute_result"
    }
   ],
   "source": [
    "%%sql \n",
    "\n",
    "ALTER TABLE suppliers \n",
    "ALTER countryCode SET DEFAULT \"ITA\";"
   ]
  },
  {
   "cell_type": "code",
   "execution_count": 39,
   "id": "1429a26a",
   "metadata": {},
   "outputs": [
    {
     "name": "stdout",
     "output_type": "stream",
     "text": [
      " * mysql+mysqlconnector://root:***@db\n",
      "4 rows affected.\n"
     ]
    },
    {
     "data": {
      "text/html": [
       "<table>\n",
       "    <tr>\n",
       "        <th>Field</th>\n",
       "        <th>Type</th>\n",
       "        <th>Null</th>\n",
       "        <th>Key</th>\n",
       "        <th>Default</th>\n",
       "        <th>Extra</th>\n",
       "    </tr>\n",
       "    <tr>\n",
       "        <td>supplierID</td>\n",
       "        <td>b&#x27;int&#x27;</td>\n",
       "        <td>NO</td>\n",
       "        <td>PRI</td>\n",
       "        <td>None</td>\n",
       "        <td>auto_increment</td>\n",
       "    </tr>\n",
       "    <tr>\n",
       "        <td>supplierName</td>\n",
       "        <td>b&#x27;varchar(30)&#x27;</td>\n",
       "        <td>NO</td>\n",
       "        <td></td>\n",
       "        <td>b&#x27;&#x27;</td>\n",
       "        <td></td>\n",
       "    </tr>\n",
       "    <tr>\n",
       "        <td>countryCode</td>\n",
       "        <td>b&#x27;char(3)&#x27;</td>\n",
       "        <td>NO</td>\n",
       "        <td></td>\n",
       "        <td>b&#x27;ITA&#x27;</td>\n",
       "        <td></td>\n",
       "    </tr>\n",
       "    <tr>\n",
       "        <td>email</td>\n",
       "        <td>b&#x27;varchar(30)&#x27;</td>\n",
       "        <td>NO</td>\n",
       "        <td></td>\n",
       "        <td>None</td>\n",
       "        <td></td>\n",
       "    </tr>\n",
       "</table>"
      ],
      "text/plain": [
       "[('supplierID', b'int', 'NO', 'PRI', None, 'auto_increment'),\n",
       " ('supplierName', b'varchar(30)', 'NO', '', b'', ''),\n",
       " ('countryCode', b'char(3)', 'NO', '', b'ITA', ''),\n",
       " ('email', b'varchar(30)', 'NO', '', None, '')]"
      ]
     },
     "execution_count": 39,
     "metadata": {},
     "output_type": "execute_result"
    }
   ],
   "source": [
    "%%sql\n",
    "\n",
    "DESCRIBE suppliers;"
   ]
  },
  {
   "cell_type": "code",
   "execution_count": 40,
   "id": "d6781a55",
   "metadata": {},
   "outputs": [
    {
     "name": "stdout",
     "output_type": "stream",
     "text": [
      " * mysql+mysqlconnector://root:***@db\n",
      "2 rows affected.\n"
     ]
    },
    {
     "data": {
      "text/html": [
       "<table>\n",
       "    <tr>\n",
       "        <th>Tables_in_my_db</th>\n",
       "    </tr>\n",
       "    <tr>\n",
       "        <td>products</td>\n",
       "    </tr>\n",
       "    <tr>\n",
       "        <td>suppliers</td>\n",
       "    </tr>\n",
       "</table>"
      ],
      "text/plain": [
       "[('products',), ('suppliers',)]"
      ]
     },
     "execution_count": 40,
     "metadata": {},
     "output_type": "execute_result"
    }
   ],
   "source": [
    "%%sql\n",
    "\n",
    "SHOW TABLES;"
   ]
  },
  {
   "cell_type": "markdown",
   "id": "dc1acf30",
   "metadata": {},
   "source": [
    "To enstablish a relation between the `products` and `suppliers` tables, we have to consider that:\n",
    "    \n",
    "- a supplier can supply multiple products\n",
    "- a product can be supplied by multiple suppliers\n",
    "\n",
    "This is a many-to-many relationship, which requires a supporting external table.\n",
    "\n",
    "Create a new `supplier_to_product` table with the following attributes:\n",
    "    \n",
    "| Attribute | Type | Extra info | Constraint | \n",
    "| --- | --- | --- |--- |\n",
    "| prodID   | Integer | | NOT NULL |\n",
    "| supID    | Integer | | NOT NULL |\n"
   ]
  },
  {
   "cell_type": "code",
   "execution_count": 41,
   "id": "db88cd48",
   "metadata": {},
   "outputs": [
    {
     "name": "stdout",
     "output_type": "stream",
     "text": [
      " * mysql+mysqlconnector://root:***@db\n",
      "0 rows affected.\n"
     ]
    },
    {
     "data": {
      "text/plain": [
       "[]"
      ]
     },
     "execution_count": 41,
     "metadata": {},
     "output_type": "execute_result"
    }
   ],
   "source": [
    "%%sql \n",
    "\n",
    "CREATE TABLE supplier_to_product(\n",
    "    prodID INT NOT NULL,\n",
    "    supID  INT NOT NULL\n",
    ");"
   ]
  },
  {
   "cell_type": "code",
   "execution_count": 42,
   "id": "423c0c9d",
   "metadata": {},
   "outputs": [
    {
     "name": "stdout",
     "output_type": "stream",
     "text": [
      " * mysql+mysqlconnector://root:***@db\n",
      "2 rows affected.\n"
     ]
    },
    {
     "data": {
      "text/html": [
       "<table>\n",
       "    <tr>\n",
       "        <th>Field</th>\n",
       "        <th>Type</th>\n",
       "        <th>Null</th>\n",
       "        <th>Key</th>\n",
       "        <th>Default</th>\n",
       "        <th>Extra</th>\n",
       "    </tr>\n",
       "    <tr>\n",
       "        <td>prodID</td>\n",
       "        <td>b&#x27;int&#x27;</td>\n",
       "        <td>NO</td>\n",
       "        <td></td>\n",
       "        <td>None</td>\n",
       "        <td></td>\n",
       "    </tr>\n",
       "    <tr>\n",
       "        <td>supID</td>\n",
       "        <td>b&#x27;int&#x27;</td>\n",
       "        <td>NO</td>\n",
       "        <td></td>\n",
       "        <td>None</td>\n",
       "        <td></td>\n",
       "    </tr>\n",
       "</table>"
      ],
      "text/plain": [
       "[('prodID', b'int', 'NO', '', None, ''), ('supID', b'int', 'NO', '', None, '')]"
      ]
     },
     "execution_count": 42,
     "metadata": {},
     "output_type": "execute_result"
    }
   ],
   "source": [
    "%%sql \n",
    "\n",
    "DESCRIBE supplier_to_product;"
   ]
  },
  {
   "cell_type": "markdown",
   "id": "c4a331ac",
   "metadata": {},
   "source": [
    "Neither prodID nor supID is a good primary key in this case, as we can have both appearing multiple times in the table.\n",
    "\n",
    "However, a good primary key for this table is the combination (prodID,supID) which is absolutely unique, and thus, a good key.\n",
    "\n",
    "We can alter the table to add the primary key statement:\n",
    "    \n",
    "```mysql\n",
    "ALTER TABLE <TABLE>\n",
    "ADD PRIMARY KEY <ATTRIBUTE COMBINATION>;\n",
    "```"
   ]
  },
  {
   "cell_type": "code",
   "execution_count": 43,
   "id": "c9af8305",
   "metadata": {},
   "outputs": [
    {
     "name": "stdout",
     "output_type": "stream",
     "text": [
      " * mysql+mysqlconnector://root:***@db\n",
      "0 rows affected.\n"
     ]
    },
    {
     "data": {
      "text/plain": [
       "[]"
      ]
     },
     "execution_count": 43,
     "metadata": {},
     "output_type": "execute_result"
    }
   ],
   "source": [
    "%%sql\n",
    "\n",
    "ALTER TABLE supplier_to_product\n",
    "ADD PRIMARY KEY (prodID,supID);"
   ]
  },
  {
   "cell_type": "code",
   "execution_count": 44,
   "id": "bcf46951",
   "metadata": {},
   "outputs": [
    {
     "name": "stdout",
     "output_type": "stream",
     "text": [
      " * mysql+mysqlconnector://root:***@db\n",
      "2 rows affected.\n"
     ]
    },
    {
     "data": {
      "text/html": [
       "<table>\n",
       "    <tr>\n",
       "        <th>Field</th>\n",
       "        <th>Type</th>\n",
       "        <th>Null</th>\n",
       "        <th>Key</th>\n",
       "        <th>Default</th>\n",
       "        <th>Extra</th>\n",
       "    </tr>\n",
       "    <tr>\n",
       "        <td>prodID</td>\n",
       "        <td>b&#x27;int&#x27;</td>\n",
       "        <td>NO</td>\n",
       "        <td>PRI</td>\n",
       "        <td>None</td>\n",
       "        <td></td>\n",
       "    </tr>\n",
       "    <tr>\n",
       "        <td>supID</td>\n",
       "        <td>b&#x27;int&#x27;</td>\n",
       "        <td>NO</td>\n",
       "        <td>PRI</td>\n",
       "        <td>None</td>\n",
       "        <td></td>\n",
       "    </tr>\n",
       "</table>"
      ],
      "text/plain": [
       "[('prodID', b'int', 'NO', 'PRI', None, ''),\n",
       " ('supID', b'int', 'NO', 'PRI', None, '')]"
      ]
     },
     "execution_count": 44,
     "metadata": {},
     "output_type": "execute_result"
    }
   ],
   "source": [
    "%%sql\n",
    "\n",
    "DESCRIBE supplier_to_product;"
   ]
  },
  {
   "cell_type": "markdown",
   "id": "0cdf1d3f",
   "metadata": {},
   "source": [
    "Finally, we can link the 3 tables together by stating which attributes act as the foreign keys in the `supplier_to_product` table, and to which Attributes in the parent tables they refer to.\n",
    "\n",
    "- `prodID` points to the `productID` attribute of `products` table\n",
    "- `supID` points to the `supplierID` attribute of `supplier` table\n",
    "\n",
    "```mysql\n",
    "ALTER TABLE <TABLE>\n",
    "ADD FOREIGN KEY (<ATTRIBUTE IN THIS TABLE>) REFERENCES <OTHER TABLE>(<ATTRIBUTE IN OTHER TABLE>);\n",
    "```"
   ]
  },
  {
   "cell_type": "code",
   "execution_count": 45,
   "id": "18a93107",
   "metadata": {},
   "outputs": [
    {
     "name": "stdout",
     "output_type": "stream",
     "text": [
      " * mysql+mysqlconnector://root:***@db\n",
      "0 rows affected.\n"
     ]
    },
    {
     "data": {
      "text/plain": [
       "[]"
      ]
     },
     "execution_count": 45,
     "metadata": {},
     "output_type": "execute_result"
    }
   ],
   "source": [
    "%%sql \n",
    "\n",
    "ALTER TABLE supplier_to_product \n",
    "ADD CONSTRAINT FK_prod\n",
    "FOREIGN KEY (prodID) REFERENCES products(productID);"
   ]
  },
  {
   "cell_type": "code",
   "execution_count": 46,
   "id": "be11f100",
   "metadata": {},
   "outputs": [
    {
     "name": "stdout",
     "output_type": "stream",
     "text": [
      " * mysql+mysqlconnector://root:***@db\n",
      "0 rows affected.\n"
     ]
    },
    {
     "data": {
      "text/plain": [
       "[]"
      ]
     },
     "execution_count": 46,
     "metadata": {},
     "output_type": "execute_result"
    }
   ],
   "source": [
    "%%sql \n",
    "\n",
    "ALTER TABLE supplier_to_product \n",
    "ADD CONSTRAINT FK_sup\n",
    "FOREIGN KEY (supID) REFERENCES suppliers(supplierID);"
   ]
  },
  {
   "cell_type": "code",
   "execution_count": 47,
   "id": "93af46b3",
   "metadata": {},
   "outputs": [
    {
     "name": "stdout",
     "output_type": "stream",
     "text": [
      " * mysql+mysqlconnector://root:***@db\n",
      "2 rows affected.\n"
     ]
    },
    {
     "data": {
      "text/html": [
       "<table>\n",
       "    <tr>\n",
       "        <th>Field</th>\n",
       "        <th>Type</th>\n",
       "        <th>Null</th>\n",
       "        <th>Key</th>\n",
       "        <th>Default</th>\n",
       "        <th>Extra</th>\n",
       "    </tr>\n",
       "    <tr>\n",
       "        <td>prodID</td>\n",
       "        <td>b&#x27;int&#x27;</td>\n",
       "        <td>NO</td>\n",
       "        <td>PRI</td>\n",
       "        <td>None</td>\n",
       "        <td></td>\n",
       "    </tr>\n",
       "    <tr>\n",
       "        <td>supID</td>\n",
       "        <td>b&#x27;int&#x27;</td>\n",
       "        <td>NO</td>\n",
       "        <td>PRI</td>\n",
       "        <td>None</td>\n",
       "        <td></td>\n",
       "    </tr>\n",
       "</table>"
      ],
      "text/plain": [
       "[('prodID', b'int', 'NO', 'PRI', None, ''),\n",
       " ('supID', b'int', 'NO', 'PRI', None, '')]"
      ]
     },
     "execution_count": 47,
     "metadata": {},
     "output_type": "execute_result"
    }
   ],
   "source": [
    "%%sql\n",
    "\n",
    "DESCRIBE supplier_to_product;"
   ]
  },
  {
   "cell_type": "markdown",
   "id": "f814bec8",
   "metadata": {},
   "source": [
    "## 04 Inserting Updating and Deleting records"
   ]
  },
  {
   "cell_type": "markdown",
   "id": "fe24a550",
   "metadata": {},
   "source": [
    "The tables are currently empty. \n",
    "We can inspect the content of the tables by performing a simple query.\n",
    "\n",
    "```mysql\n",
    "SELECT * FROM <TABLE>;\n",
    "```\n",
    "\n",
    "To insert a single record into a table we can proceed in either of the two following ways:\n",
    "\n",
    "1. By explicitly specifying the names of the columns when passing the tuple containing the values\n",
    "```mysql\n",
    "INSERT INTO <TABLE> (<COLUMN1>, <COLUMN2>, <COLUMN3>, ...)\n",
    "VALUES (<VALUE1>, <VALUE2>, <VALUE3>, ...);\n",
    "```\n",
    "This will work also in the case attributes with a default value will not be explicitely passed\n",
    "\n",
    "\n",
    "2. By implicitly using all the columns when passing the tuple containing the values\n",
    "```mysql\n",
    "INSERT INTO <TABLE> \n",
    "VALUES (<VALUE1>, <VALUE2>, ..., <VALUEn>);\n",
    "```\n",
    "\n",
    "\n",
    "_NB_: 1. is the usually recommended way to perform a data insertion in SQL."
   ]
  },
  {
   "cell_type": "markdown",
   "id": "1df79446",
   "metadata": {},
   "source": [
    "Using the `mysql.connector` we can formulate the insert in a more pythonic way, e.g. to include this statement programmatically into a loop or a function call:\n",
    "    \n",
    "```python\n",
    "sql_ = \"INSERT INTO <TABLE> (<COLUMN1>, <COLUMN2>, <COLUMN3>, ...) VALUES (%s, %s, %s, ...)\"\n",
    "val_ = (<VALUE1>, <VALUE2>, <VALUE3>, ...)\n",
    "db_cursor.execute(sql_, val_)\n",
    "db.commit()\n",
    "```\n",
    "\n",
    "Being an active change to the DB istance (the data contained in the DB itself), remember to commit the insert."
   ]
  },
  {
   "cell_type": "markdown",
   "id": "1729007b",
   "metadata": {},
   "source": [
    "- Verify that the product table is actually empty\n",
    "- Isert the following list of products in the `products` table\n",
    "- Check the content of the table after the transaction, to verify that both the AUTO_INCREMENT key and the default values have taken into account\n",
    "\n",
    "\n",
    "| productName | unitPrice | unitsInStock | isDiscontinued | \n",
    "| --- | --- | --- |--- |\n",
    "| \"Founders Porter\" | 4.9 | 12 | 0 |\n"
   ]
  },
  {
   "cell_type": "code",
   "execution_count": 48,
   "id": "0f48e84c",
   "metadata": {},
   "outputs": [
    {
     "name": "stdout",
     "output_type": "stream",
     "text": [
      " * mysql+mysqlconnector://root:***@db\n",
      "0 rows affected.\n"
     ]
    },
    {
     "data": {
      "text/html": [
       "<table>\n",
       "    <tr>\n",
       "        <th>productID</th>\n",
       "        <th>productName</th>\n",
       "        <th>unitPrice</th>\n",
       "        <th>unitsInStock</th>\n",
       "        <th>isDiscontinued</th>\n",
       "    </tr>\n",
       "</table>"
      ],
      "text/plain": [
       "[]"
      ]
     },
     "execution_count": 48,
     "metadata": {},
     "output_type": "execute_result"
    }
   ],
   "source": [
    "%%sql\n",
    "\n",
    "SELECT * FROM products;"
   ]
  },
  {
   "cell_type": "code",
   "execution_count": 49,
   "id": "61ddf310",
   "metadata": {},
   "outputs": [
    {
     "name": "stdout",
     "output_type": "stream",
     "text": [
      " * mysql+mysqlconnector://root:***@db\n",
      "5 rows affected.\n"
     ]
    },
    {
     "data": {
      "text/html": [
       "<table>\n",
       "    <tr>\n",
       "        <th>Field</th>\n",
       "        <th>Type</th>\n",
       "        <th>Null</th>\n",
       "        <th>Key</th>\n",
       "        <th>Default</th>\n",
       "        <th>Extra</th>\n",
       "    </tr>\n",
       "    <tr>\n",
       "        <td>productID</td>\n",
       "        <td>b&#x27;int&#x27;</td>\n",
       "        <td>NO</td>\n",
       "        <td>PRI</td>\n",
       "        <td>None</td>\n",
       "        <td>auto_increment</td>\n",
       "    </tr>\n",
       "    <tr>\n",
       "        <td>productName</td>\n",
       "        <td>b&#x27;varchar(30)&#x27;</td>\n",
       "        <td>NO</td>\n",
       "        <td></td>\n",
       "        <td>b&#x27;&#x27;</td>\n",
       "        <td></td>\n",
       "    </tr>\n",
       "    <tr>\n",
       "        <td>unitPrice</td>\n",
       "        <td>b&#x27;float&#x27;</td>\n",
       "        <td>NO</td>\n",
       "        <td></td>\n",
       "        <td>b&#x27;100000&#x27;</td>\n",
       "        <td></td>\n",
       "    </tr>\n",
       "    <tr>\n",
       "        <td>unitsInStock</td>\n",
       "        <td>b&#x27;int unsigned&#x27;</td>\n",
       "        <td>NO</td>\n",
       "        <td></td>\n",
       "        <td>b&#x27;0&#x27;</td>\n",
       "        <td></td>\n",
       "    </tr>\n",
       "    <tr>\n",
       "        <td>isDiscontinued</td>\n",
       "        <td>b&#x27;tinyint(1)&#x27;</td>\n",
       "        <td>NO</td>\n",
       "        <td></td>\n",
       "        <td>b&#x27;0&#x27;</td>\n",
       "        <td></td>\n",
       "    </tr>\n",
       "</table>"
      ],
      "text/plain": [
       "[('productID', b'int', 'NO', 'PRI', None, 'auto_increment'),\n",
       " ('productName', b'varchar(30)', 'NO', '', b'', ''),\n",
       " ('unitPrice', b'float', 'NO', '', b'100000', ''),\n",
       " ('unitsInStock', b'int unsigned', 'NO', '', b'0', ''),\n",
       " ('isDiscontinued', b'tinyint(1)', 'NO', '', b'0', '')]"
      ]
     },
     "execution_count": 49,
     "metadata": {},
     "output_type": "execute_result"
    }
   ],
   "source": [
    "%%sql\n",
    "\n",
    "DESCRIBE products"
   ]
  },
  {
   "cell_type": "code",
   "execution_count": 50,
   "id": "5d0b4661",
   "metadata": {},
   "outputs": [
    {
     "name": "stdout",
     "output_type": "stream",
     "text": [
      " * mysql+mysqlconnector://root:***@db\n",
      "1 rows affected.\n"
     ]
    },
    {
     "data": {
      "text/plain": [
       "[]"
      ]
     },
     "execution_count": 50,
     "metadata": {},
     "output_type": "execute_result"
    }
   ],
   "source": [
    "%%sql\n",
    "\n",
    "INSERT INTO products (productName, unitPrice, unitsInStock, isDiscontinued)\n",
    "VALUES (\"Founders Porter\", 4.9, 12, 0);"
   ]
  },
  {
   "cell_type": "code",
   "execution_count": 51,
   "id": "57ade142",
   "metadata": {},
   "outputs": [
    {
     "name": "stdout",
     "output_type": "stream",
     "text": [
      " * mysql+mysqlconnector://root:***@db\n",
      "1 rows affected.\n"
     ]
    },
    {
     "data": {
      "text/html": [
       "<table>\n",
       "    <tr>\n",
       "        <th>productID</th>\n",
       "        <th>productName</th>\n",
       "        <th>unitPrice</th>\n",
       "        <th>unitsInStock</th>\n",
       "        <th>isDiscontinued</th>\n",
       "    </tr>\n",
       "    <tr>\n",
       "        <td>1</td>\n",
       "        <td>Founders Porter</td>\n",
       "        <td>4.9</td>\n",
       "        <td>12</td>\n",
       "        <td>0</td>\n",
       "    </tr>\n",
       "</table>"
      ],
      "text/plain": [
       "[(1, 'Founders Porter', 4.9, 12, 0)]"
      ]
     },
     "execution_count": 51,
     "metadata": {},
     "output_type": "execute_result"
    }
   ],
   "source": [
    "%%sql\n",
    "\n",
    "SELECT * FROM products;"
   ]
  },
  {
   "cell_type": "markdown",
   "id": "df5f4ee3",
   "metadata": {},
   "source": [
    "Multi-values insert can be performed in a completely similar way, by separating multiple tuples by a comma:\n",
    "    \n",
    "```mysql\n",
    "INSERT INTO <TABLE> (<COLUMN1>, <COLUMN2>, <COLUMN3>, ...)\n",
    "VALUES \n",
    "(<VALUE11>, <VALUE12>, <VALUE13>, ...), \n",
    "(<VALUE21>, <VALUE22>, <VALUE23>, ...), \n",
    "(<VALUE31>, <VALUE32>, <VALUE33>, ...), \n",
    "\n",
    "```\n",
    "\n",
    "The python-based command is similar to the previous one, but is drop the `execute` in favor of `executemany`, using as value a list of tuples\n",
    "\n",
    "```python\n",
    "sql_ = \"INSERT INTO <TABLE> (<COLUMN1>, <COLUMN2>, <COLUMN3>, ...) VALUES (%s, %s, %s, ...)\"\n",
    "val_ = [\n",
    "    (<VALUE11>, <VALUE12>, <VALUE13>, ...),\n",
    "    (<VALUE21>, <VALUE22>, <VALUE23>, ...),\n",
    "    (<VALUE31>, <VALUE32>, <VALUE33>, ...) ]\n",
    "db_cursor.executemany(sql_, val_)\n",
    "db.commit()\n",
    "```\n"
   ]
  },
  {
   "cell_type": "markdown",
   "id": "f463c2ef",
   "metadata": {},
   "source": [
    "Add a few more products to the `product` table:\n",
    "    \n",
    "| productName | unitPrice | unitsInStock | isDiscontinued | \n",
    "| --- | --- | --- |--- |\n",
    "| \"Punk IPA\" | 5.2 | 45 |  |\n",
    "| \"HB Dunkel\" | 4.5 | 250 |  |\n",
    "| \"Forst Xmas \" | 8.0 | 2 |  |\n",
    "| \"Damm Complot \" | 3.7 | 120 |  |\n",
    "     "
   ]
  },
  {
   "cell_type": "code",
   "execution_count": 52,
   "id": "7f91ae53",
   "metadata": {},
   "outputs": [
    {
     "name": "stdout",
     "output_type": "stream",
     "text": [
      " * mysql+mysqlconnector://root:***@db\n",
      "4 rows affected.\n"
     ]
    },
    {
     "data": {
      "text/plain": [
       "[]"
      ]
     },
     "execution_count": 52,
     "metadata": {},
     "output_type": "execute_result"
    }
   ],
   "source": [
    "%%sql\n",
    "\n",
    "INSERT INTO products (productName, unitPrice, unitsInStock)\n",
    "VALUES     ('Punk IPA',     5.2,  45),\n",
    "    ('HB Dunkel',    4.5, 250),\n",
    "    ('Forst Xmas',   8.0,   2),\n",
    "    ('Damm Complot', 3.7, 120);\n"
   ]
  },
  {
   "cell_type": "code",
   "execution_count": 53,
   "id": "c172ab09",
   "metadata": {},
   "outputs": [
    {
     "name": "stdout",
     "output_type": "stream",
     "text": [
      " * mysql+mysqlconnector://root:***@db\n",
      "5 rows affected.\n"
     ]
    },
    {
     "data": {
      "text/html": [
       "<table>\n",
       "    <tr>\n",
       "        <th>productID</th>\n",
       "        <th>productName</th>\n",
       "        <th>unitPrice</th>\n",
       "        <th>unitsInStock</th>\n",
       "        <th>isDiscontinued</th>\n",
       "    </tr>\n",
       "    <tr>\n",
       "        <td>1</td>\n",
       "        <td>Founders Porter</td>\n",
       "        <td>4.9</td>\n",
       "        <td>12</td>\n",
       "        <td>0</td>\n",
       "    </tr>\n",
       "    <tr>\n",
       "        <td>2</td>\n",
       "        <td>Punk IPA</td>\n",
       "        <td>5.2</td>\n",
       "        <td>45</td>\n",
       "        <td>0</td>\n",
       "    </tr>\n",
       "    <tr>\n",
       "        <td>3</td>\n",
       "        <td>HB Dunkel</td>\n",
       "        <td>4.5</td>\n",
       "        <td>250</td>\n",
       "        <td>0</td>\n",
       "    </tr>\n",
       "    <tr>\n",
       "        <td>4</td>\n",
       "        <td>Forst Xmas</td>\n",
       "        <td>8.0</td>\n",
       "        <td>2</td>\n",
       "        <td>0</td>\n",
       "    </tr>\n",
       "    <tr>\n",
       "        <td>5</td>\n",
       "        <td>Damm Complot</td>\n",
       "        <td>3.7</td>\n",
       "        <td>120</td>\n",
       "        <td>0</td>\n",
       "    </tr>\n",
       "</table>"
      ],
      "text/plain": [
       "[(1, 'Founders Porter', 4.9, 12, 0),\n",
       " (2, 'Punk IPA', 5.2, 45, 0),\n",
       " (3, 'HB Dunkel', 4.5, 250, 0),\n",
       " (4, 'Forst Xmas', 8.0, 2, 0),\n",
       " (5, 'Damm Complot', 3.7, 120, 0)]"
      ]
     },
     "execution_count": 53,
     "metadata": {},
     "output_type": "execute_result"
    }
   ],
   "source": [
    "%%sql \n",
    "\n",
    "SELECT * FROM products;"
   ]
  },
  {
   "cell_type": "markdown",
   "id": "48a71bab",
   "metadata": {},
   "source": [
    "Updating entries is a more delicate issue, as in a DB we can in principle modify all records associated with a number of conditions.\n",
    "This makes the update operation quite powerful and possibly very error prone if not performed with extreme caution.\n",
    "\n",
    "```mysql\n",
    "UPDATE <TABLE>\n",
    "SET <ATTRIBUTE> = <NEW VALUE>\n",
    "WHERE <CONDITION>;\n",
    "```\n",
    "\n",
    "or\n",
    "\n",
    "```python\n",
    "sql_ = \"UPDATE <TABLE> SET <ATTRIBUTE> = <NEW VALUE> WHERE <CONDITION>\"\n",
    "db_cursor.execute(sql)\n",
    "db.commit()\n",
    "\n",
    "```\n",
    "\n",
    "Let's update a single record with a \"very explicit\" condition statement:\n",
    "\n",
    "- Assign `isDiscontinued` equal to 1 to the \"Forst Xmas\" product\n",
    "- Check if the update has taken place"
   ]
  },
  {
   "cell_type": "code",
   "execution_count": 54,
   "id": "f2a45dbd",
   "metadata": {},
   "outputs": [
    {
     "name": "stdout",
     "output_type": "stream",
     "text": [
      " * mysql+mysqlconnector://root:***@db\n",
      "1 rows affected.\n"
     ]
    },
    {
     "data": {
      "text/plain": [
       "[]"
      ]
     },
     "execution_count": 54,
     "metadata": {},
     "output_type": "execute_result"
    }
   ],
   "source": [
    "%%sql\n",
    "\n",
    "UPDATE products\n",
    "SET isDiscontinued = 1\n",
    "WHERE (productName = \"Forst Xmas\");"
   ]
  },
  {
   "cell_type": "code",
   "execution_count": 55,
   "id": "3c3ee12d",
   "metadata": {},
   "outputs": [
    {
     "name": "stdout",
     "output_type": "stream",
     "text": [
      " * mysql+mysqlconnector://root:***@db\n",
      "5 rows affected.\n"
     ]
    },
    {
     "data": {
      "text/html": [
       "<table>\n",
       "    <tr>\n",
       "        <th>productID</th>\n",
       "        <th>productName</th>\n",
       "        <th>unitPrice</th>\n",
       "        <th>unitsInStock</th>\n",
       "        <th>isDiscontinued</th>\n",
       "    </tr>\n",
       "    <tr>\n",
       "        <td>1</td>\n",
       "        <td>Founders Porter</td>\n",
       "        <td>4.9</td>\n",
       "        <td>12</td>\n",
       "        <td>0</td>\n",
       "    </tr>\n",
       "    <tr>\n",
       "        <td>2</td>\n",
       "        <td>Punk IPA</td>\n",
       "        <td>5.2</td>\n",
       "        <td>45</td>\n",
       "        <td>0</td>\n",
       "    </tr>\n",
       "    <tr>\n",
       "        <td>3</td>\n",
       "        <td>HB Dunkel</td>\n",
       "        <td>4.5</td>\n",
       "        <td>250</td>\n",
       "        <td>0</td>\n",
       "    </tr>\n",
       "    <tr>\n",
       "        <td>4</td>\n",
       "        <td>Forst Xmas</td>\n",
       "        <td>8.0</td>\n",
       "        <td>2</td>\n",
       "        <td>1</td>\n",
       "    </tr>\n",
       "    <tr>\n",
       "        <td>5</td>\n",
       "        <td>Damm Complot</td>\n",
       "        <td>3.7</td>\n",
       "        <td>120</td>\n",
       "        <td>0</td>\n",
       "    </tr>\n",
       "</table>"
      ],
      "text/plain": [
       "[(1, 'Founders Porter', 4.9, 12, 0),\n",
       " (2, 'Punk IPA', 5.2, 45, 0),\n",
       " (3, 'HB Dunkel', 4.5, 250, 0),\n",
       " (4, 'Forst Xmas', 8.0, 2, 1),\n",
       " (5, 'Damm Complot', 3.7, 120, 0)]"
      ]
     },
     "execution_count": 55,
     "metadata": {},
     "output_type": "execute_result"
    }
   ],
   "source": [
    "%%sql\n",
    "\n",
    "SELECT * FROM products;"
   ]
  },
  {
   "cell_type": "markdown",
   "id": "211e9d47",
   "metadata": {},
   "source": [
    "Similarly, deleting entries is quite a risky task if not done with plenty of caution, as a wrong `WHERE` condition might inadvertly lead to the deletion of a large part of your DB records. \n",
    "\n",
    "Remember, with `DELETE` we do remove entire records (i.e. tuples) from the DB, not just the content of the `WHERE` conditional statement. \n",
    "\n",
    "```mysql\n",
    "DELETE FROM <TABLE>\n",
    "WHERE <CONDITION>;\n",
    "```\n",
    "\n",
    "or\n",
    "\n",
    "```python\n",
    "sql_ = \"DELETE FROM <TABLE> WHERE <CONDITION>\"\n",
    "db_cursor.execute(sql)\n",
    "db.commit()\n",
    "\n",
    "```\n",
    "\n",
    "- Delete all products whose name begins with 'F' and ends with 's'\n",
    "- Check if the update has taken place"
   ]
  },
  {
   "cell_type": "code",
   "execution_count": 56,
   "id": "3d21c7f8",
   "metadata": {},
   "outputs": [
    {
     "name": "stdout",
     "output_type": "stream",
     "text": [
      " * mysql+mysqlconnector://root:***@db\n",
      "1 rows affected.\n"
     ]
    },
    {
     "data": {
      "text/plain": [
       "[]"
      ]
     },
     "execution_count": 56,
     "metadata": {},
     "output_type": "execute_result"
    }
   ],
   "source": [
    "%%sql\n",
    "\n",
    "DELETE FROM products\n",
    "WHERE (productName LIKE 'F%s');"
   ]
  },
  {
   "cell_type": "code",
   "execution_count": 57,
   "id": "e97c9569",
   "metadata": {},
   "outputs": [
    {
     "name": "stdout",
     "output_type": "stream",
     "text": [
      " * mysql+mysqlconnector://root:***@db\n",
      "4 rows affected.\n"
     ]
    },
    {
     "data": {
      "text/html": [
       "<table>\n",
       "    <tr>\n",
       "        <th>productID</th>\n",
       "        <th>productName</th>\n",
       "        <th>unitPrice</th>\n",
       "        <th>unitsInStock</th>\n",
       "        <th>isDiscontinued</th>\n",
       "    </tr>\n",
       "    <tr>\n",
       "        <td>1</td>\n",
       "        <td>Founders Porter</td>\n",
       "        <td>4.9</td>\n",
       "        <td>12</td>\n",
       "        <td>0</td>\n",
       "    </tr>\n",
       "    <tr>\n",
       "        <td>2</td>\n",
       "        <td>Punk IPA</td>\n",
       "        <td>5.2</td>\n",
       "        <td>45</td>\n",
       "        <td>0</td>\n",
       "    </tr>\n",
       "    <tr>\n",
       "        <td>3</td>\n",
       "        <td>HB Dunkel</td>\n",
       "        <td>4.5</td>\n",
       "        <td>250</td>\n",
       "        <td>0</td>\n",
       "    </tr>\n",
       "    <tr>\n",
       "        <td>5</td>\n",
       "        <td>Damm Complot</td>\n",
       "        <td>3.7</td>\n",
       "        <td>120</td>\n",
       "        <td>0</td>\n",
       "    </tr>\n",
       "</table>"
      ],
      "text/plain": [
       "[(1, 'Founders Porter', 4.9, 12, 0),\n",
       " (2, 'Punk IPA', 5.2, 45, 0),\n",
       " (3, 'HB Dunkel', 4.5, 250, 0),\n",
       " (5, 'Damm Complot', 3.7, 120, 0)]"
      ]
     },
     "execution_count": 57,
     "metadata": {},
     "output_type": "execute_result"
    }
   ],
   "source": [
    "%%sql\n",
    "\n",
    "SELECT * FROM products;"
   ]
  },
  {
   "cell_type": "markdown",
   "id": "b1d2c12b",
   "metadata": {},
   "source": [
    "- Populate the `suppliers` table according to the following list\n",
    "\n",
    "\n",
    "| supplierName | countryCode | email|\n",
    "| --- | --- | ---|\n",
    "| \"A hop in the park\" | \"USA\" | \"contactme@ahop.com\" |\n",
    "| \"Allez Hops! Cave à bièr\" | \"FRA\" | \"itsme@allezhops.com\" |\n",
    "| \"Wild Hops \" | \"ITA\" | \"myemail@wildhops.it\" |\n",
    "|\"Beer Paradise\"|\"ITA\"|\"beer@beerparadise.it\"|\n"
   ]
  },
  {
   "cell_type": "code",
   "execution_count": 58,
   "id": "66a22046",
   "metadata": {},
   "outputs": [
    {
     "name": "stdout",
     "output_type": "stream",
     "text": [
      " * mysql+mysqlconnector://root:***@db\n",
      "4 rows affected.\n"
     ]
    },
    {
     "data": {
      "text/plain": [
       "[]"
      ]
     },
     "execution_count": 58,
     "metadata": {},
     "output_type": "execute_result"
    }
   ],
   "source": [
    "%%sql\n",
    "\n",
    "INSERT INTO suppliers (supplierName, countryCode, email) \n",
    "VALUES\n",
    "(\"A hop in the park\",\"USA\",\"contactme@ahop.com\"),\n",
    "(\"Allez Hops! Cave à bièr\",\"FRA\",\"itsme@allezhops.com\"),\n",
    "(\"Wild Hops\",\"ITA\",\"myemail@wildhops.it\"),\n",
    "(\"Beer Paradise\",\"ITA\",\"beer@beerparadise.it\");"
   ]
  },
  {
   "cell_type": "code",
   "execution_count": 59,
   "id": "c7c83f1c",
   "metadata": {},
   "outputs": [
    {
     "name": "stdout",
     "output_type": "stream",
     "text": [
      " * mysql+mysqlconnector://root:***@db\n",
      "4 rows affected.\n"
     ]
    },
    {
     "data": {
      "text/html": [
       "<table>\n",
       "    <tr>\n",
       "        <th>supplierID</th>\n",
       "        <th>supplierName</th>\n",
       "        <th>countryCode</th>\n",
       "        <th>email</th>\n",
       "    </tr>\n",
       "    <tr>\n",
       "        <td>1</td>\n",
       "        <td>A hop in the park</td>\n",
       "        <td>USA</td>\n",
       "        <td>contactme@ahop.com</td>\n",
       "    </tr>\n",
       "    <tr>\n",
       "        <td>2</td>\n",
       "        <td>Allez Hops! Cave à bièr</td>\n",
       "        <td>FRA</td>\n",
       "        <td>itsme@allezhops.com</td>\n",
       "    </tr>\n",
       "    <tr>\n",
       "        <td>3</td>\n",
       "        <td>Wild Hops</td>\n",
       "        <td>ITA</td>\n",
       "        <td>myemail@wildhops.it</td>\n",
       "    </tr>\n",
       "    <tr>\n",
       "        <td>4</td>\n",
       "        <td>Beer Paradise</td>\n",
       "        <td>ITA</td>\n",
       "        <td>beer@beerparadise.it</td>\n",
       "    </tr>\n",
       "</table>"
      ],
      "text/plain": [
       "[(1, 'A hop in the park', 'USA', 'contactme@ahop.com'),\n",
       " (2, 'Allez Hops! Cave à bièr', 'FRA', 'itsme@allezhops.com'),\n",
       " (3, 'Wild Hops', 'ITA', 'myemail@wildhops.it'),\n",
       " (4, 'Beer Paradise', 'ITA', 'beer@beerparadise.it')]"
      ]
     },
     "execution_count": 59,
     "metadata": {},
     "output_type": "execute_result"
    }
   ],
   "source": [
    "%%sql\n",
    "\n",
    "SELECT * FROM suppliers;"
   ]
  },
  {
   "cell_type": "markdown",
   "id": "1ae2a140",
   "metadata": {},
   "source": [
    "Complete the DB with the two additional steps:\n",
    "\n",
    "- Update the \"A hop in the park\" email address to \"anewemail@ahop.com\"\n",
    "- Populate the table of connections between products and suppliers\n",
    "    - Remember that the `supplier_to_product` table is linked to the other two via the respective Foreign Keys \n",
    "\n",
    "| supplier | products provided |\n",
    "| --- | --- | \n",
    "| \"A hop in the park\" | \"Punk IPA\", \"HB Dunkel\" |"
   ]
  },
  {
   "cell_type": "code",
   "execution_count": 60,
   "id": "fe906041",
   "metadata": {},
   "outputs": [
    {
     "data": {
      "text/plain": [
       "[(1, 'A hop in the park', 'USA', 'anewemail@ahop.com'),\n",
       " (2, 'Allez Hops! Cave à bièr', 'FRA', 'itsme@allezhops.com'),\n",
       " (3, 'Wild Hops', 'ITA', 'myemail@wildhops.it'),\n",
       " (4, 'Beer Paradise', 'ITA', 'beer@beerparadise.it')]"
      ]
     },
     "execution_count": 60,
     "metadata": {},
     "output_type": "execute_result"
    }
   ],
   "source": [
    "sql_ = \"UPDATE suppliers SET email = %s WHERE supplierName LIKE %s;\"\n",
    "val_ = ('anewemail@ahop.com', 'A hop%')\n",
    "dbc.execute(sql_, val_)\n",
    "db.commit()\n",
    "     \n",
    "dbc.execute(\"SELECT * FROM suppliers\"); \n",
    "dbc.fetchall()"
   ]
  },
  {
   "cell_type": "code",
   "execution_count": 61,
   "id": "60cf0f77",
   "metadata": {},
   "outputs": [
    {
     "name": "stdout",
     "output_type": "stream",
     "text": [
      " * mysql+mysqlconnector://root:***@db\n",
      "4 rows affected.\n"
     ]
    },
    {
     "data": {
      "text/html": [
       "<table>\n",
       "    <tr>\n",
       "        <th>productID</th>\n",
       "        <th>productName</th>\n",
       "        <th>unitPrice</th>\n",
       "        <th>unitsInStock</th>\n",
       "        <th>isDiscontinued</th>\n",
       "    </tr>\n",
       "    <tr>\n",
       "        <td>1</td>\n",
       "        <td>Founders Porter</td>\n",
       "        <td>4.9</td>\n",
       "        <td>12</td>\n",
       "        <td>0</td>\n",
       "    </tr>\n",
       "    <tr>\n",
       "        <td>2</td>\n",
       "        <td>Punk IPA</td>\n",
       "        <td>5.2</td>\n",
       "        <td>45</td>\n",
       "        <td>0</td>\n",
       "    </tr>\n",
       "    <tr>\n",
       "        <td>3</td>\n",
       "        <td>HB Dunkel</td>\n",
       "        <td>4.5</td>\n",
       "        <td>250</td>\n",
       "        <td>0</td>\n",
       "    </tr>\n",
       "    <tr>\n",
       "        <td>5</td>\n",
       "        <td>Damm Complot</td>\n",
       "        <td>3.7</td>\n",
       "        <td>120</td>\n",
       "        <td>0</td>\n",
       "    </tr>\n",
       "</table>"
      ],
      "text/plain": [
       "[(1, 'Founders Porter', 4.9, 12, 0),\n",
       " (2, 'Punk IPA', 5.2, 45, 0),\n",
       " (3, 'HB Dunkel', 4.5, 250, 0),\n",
       " (5, 'Damm Complot', 3.7, 120, 0)]"
      ]
     },
     "execution_count": 61,
     "metadata": {},
     "output_type": "execute_result"
    }
   ],
   "source": [
    "%%sql \n",
    "\n",
    "SELECT * FROM products;"
   ]
  },
  {
   "cell_type": "code",
   "execution_count": 62,
   "id": "40a10f7a",
   "metadata": {},
   "outputs": [
    {
     "name": "stdout",
     "output_type": "stream",
     "text": [
      " * mysql+mysqlconnector://root:***@db\n",
      "4 rows affected.\n"
     ]
    },
    {
     "data": {
      "text/html": [
       "<table>\n",
       "    <tr>\n",
       "        <th>supplierID</th>\n",
       "        <th>supplierName</th>\n",
       "        <th>countryCode</th>\n",
       "        <th>email</th>\n",
       "    </tr>\n",
       "    <tr>\n",
       "        <td>1</td>\n",
       "        <td>A hop in the park</td>\n",
       "        <td>USA</td>\n",
       "        <td>anewemail@ahop.com</td>\n",
       "    </tr>\n",
       "    <tr>\n",
       "        <td>2</td>\n",
       "        <td>Allez Hops! Cave à bièr</td>\n",
       "        <td>FRA</td>\n",
       "        <td>itsme@allezhops.com</td>\n",
       "    </tr>\n",
       "    <tr>\n",
       "        <td>3</td>\n",
       "        <td>Wild Hops</td>\n",
       "        <td>ITA</td>\n",
       "        <td>myemail@wildhops.it</td>\n",
       "    </tr>\n",
       "    <tr>\n",
       "        <td>4</td>\n",
       "        <td>Beer Paradise</td>\n",
       "        <td>ITA</td>\n",
       "        <td>beer@beerparadise.it</td>\n",
       "    </tr>\n",
       "</table>"
      ],
      "text/plain": [
       "[(1, 'A hop in the park', 'USA', 'anewemail@ahop.com'),\n",
       " (2, 'Allez Hops! Cave à bièr', 'FRA', 'itsme@allezhops.com'),\n",
       " (3, 'Wild Hops', 'ITA', 'myemail@wildhops.it'),\n",
       " (4, 'Beer Paradise', 'ITA', 'beer@beerparadise.it')]"
      ]
     },
     "execution_count": 62,
     "metadata": {},
     "output_type": "execute_result"
    }
   ],
   "source": [
    "%%sql \n",
    "\n",
    "SELECT * FROM suppliers;"
   ]
  },
  {
   "cell_type": "code",
   "execution_count": 63,
   "id": "8b603496",
   "metadata": {},
   "outputs": [
    {
     "name": "stdout",
     "output_type": "stream",
     "text": [
      " * mysql+mysqlconnector://root:***@db\n",
      "2 rows affected.\n"
     ]
    },
    {
     "data": {
      "text/html": [
       "<table>\n",
       "    <tr>\n",
       "        <th>Field</th>\n",
       "        <th>Type</th>\n",
       "        <th>Null</th>\n",
       "        <th>Key</th>\n",
       "        <th>Default</th>\n",
       "        <th>Extra</th>\n",
       "    </tr>\n",
       "    <tr>\n",
       "        <td>prodID</td>\n",
       "        <td>b&#x27;int&#x27;</td>\n",
       "        <td>NO</td>\n",
       "        <td>PRI</td>\n",
       "        <td>None</td>\n",
       "        <td></td>\n",
       "    </tr>\n",
       "    <tr>\n",
       "        <td>supID</td>\n",
       "        <td>b&#x27;int&#x27;</td>\n",
       "        <td>NO</td>\n",
       "        <td>PRI</td>\n",
       "        <td>None</td>\n",
       "        <td></td>\n",
       "    </tr>\n",
       "</table>"
      ],
      "text/plain": [
       "[('prodID', b'int', 'NO', 'PRI', None, ''),\n",
       " ('supID', b'int', 'NO', 'PRI', None, '')]"
      ]
     },
     "execution_count": 63,
     "metadata": {},
     "output_type": "execute_result"
    }
   ],
   "source": [
    "%%sql\n",
    "\n",
    "DESCRIBE supplier_to_product;"
   ]
  },
  {
   "cell_type": "code",
   "execution_count": 64,
   "id": "ffeaa6eb",
   "metadata": {},
   "outputs": [
    {
     "name": "stdout",
     "output_type": "stream",
     "text": [
      " * mysql+mysqlconnector://root:***@db\n",
      "2 rows affected.\n"
     ]
    },
    {
     "data": {
      "text/plain": [
       "[]"
      ]
     },
     "execution_count": 64,
     "metadata": {},
     "output_type": "execute_result"
    }
   ],
   "source": [
    "%%sql\n",
    "\n",
    "INSERT INTO supplier_to_product (supID, prodID)\n",
    "VALUES (1, 2),\n",
    "       (1, 3);"
   ]
  },
  {
   "cell_type": "code",
   "execution_count": 65,
   "id": "0770fc67",
   "metadata": {},
   "outputs": [
    {
     "name": "stdout",
     "output_type": "stream",
     "text": [
      " * mysql+mysqlconnector://root:***@db\n",
      "2 rows affected.\n"
     ]
    },
    {
     "data": {
      "text/html": [
       "<table>\n",
       "    <tr>\n",
       "        <th>prodID</th>\n",
       "        <th>supID</th>\n",
       "    </tr>\n",
       "    <tr>\n",
       "        <td>2</td>\n",
       "        <td>1</td>\n",
       "    </tr>\n",
       "    <tr>\n",
       "        <td>3</td>\n",
       "        <td>1</td>\n",
       "    </tr>\n",
       "</table>"
      ],
      "text/plain": [
       "[(2, 1), (3, 1)]"
      ]
     },
     "execution_count": 65,
     "metadata": {},
     "output_type": "execute_result"
    }
   ],
   "source": [
    "%%sql \n",
    "\n",
    "SELECT * FROM supplier_to_product;"
   ]
  },
  {
   "cell_type": "markdown",
   "id": "6efb0512",
   "metadata": {},
   "source": [
    "Export the DB you have created into a .sql file, and store it for later use.\n",
    "\n",
    "1. connect to the \"server\" docker container using bash\n",
    "2. dump the DB via the command:\n",
    "    \n",
    "```bash\n",
    "$ mysqldump -u <USER> -p <DB NAME>  >  <FULL/PATH/TO/NEW/DB_DUMP.sql>\n",
    "```\n",
    "\n",
    "3. use the folder `/mapd-workspace/dbs` to store the file, as it's the one currently visible from both in- and out-side the container"
   ]
  },
  {
   "cell_type": "markdown",
   "id": "b6e3c94e",
   "metadata": {},
   "source": [
    "## 04 Basic queries "
   ]
  },
  {
   "cell_type": "markdown",
   "id": "cbdbb924",
   "metadata": {},
   "source": [
    "### EDIT (same info in Section 05) ###\n",
    "\n",
    "If you have saved your DB locally into a `.sql` file, you can restore it by loading it into the server.\n",
    "\n",
    "1. Create a new DB named `my_db`\n",
    "```\n",
    "CREATE DATABASE IF NOT EXISTS my_db;\n",
    "```\n",
    "2. Login in interactive mode into the MySQL server \n",
    "```bash \n",
    "$ docker exec -it mysql_db_1 bash\n",
    "```\n",
    "2. Import the content of the `.sql` file (e.g. `/mapd-workspace/dbs/my_db.sql`) into the newly created DB\n",
    "    \n",
    "```bash\n",
    "$ mysql -u root -p my_db < /mapd-workspace/dbs/my_db.sql\n",
    "```\n"
   ]
  },
  {
   "cell_type": "code",
   "execution_count": 1,
   "id": "7fce6d47",
   "metadata": {},
   "outputs": [
    {
     "name": "stdout",
     "output_type": "stream",
     "text": [
      "env: DATABASE_URL=mysql+mysqlconnector://root:root_pwd@db\n"
     ]
    }
   ],
   "source": [
    "%load_ext sql\n",
    "\n",
    "%env DATABASE_URL=mysql+mysqlconnector://root:root_pwd@db"
   ]
  },
  {
   "cell_type": "code",
   "execution_count": 2,
   "id": "b7510e85",
   "metadata": {},
   "outputs": [
    {
     "name": "stdout",
     "output_type": "stream",
     "text": [
      "0 rows affected.\n"
     ]
    },
    {
     "data": {
      "text/plain": [
       "[]"
      ]
     },
     "execution_count": 2,
     "metadata": {},
     "output_type": "execute_result"
    }
   ],
   "source": [
    "%%sql\n",
    "\n",
    "USE my_db;"
   ]
  },
  {
   "cell_type": "code",
   "execution_count": null,
   "id": "abed3386",
   "metadata": {},
   "outputs": [],
   "source": [
    "# import mysql.connector\n",
    "# db = mysql.connector.connect(\n",
    "#     user=\"root\",\n",
    "#     password=\"root_pwd\",\n",
    "#     )"
   ]
  },
  {
   "cell_type": "markdown",
   "id": "7f903ed5",
   "metadata": {},
   "source": [
    "The `SELECT` statement allows to perform queries and to retrieve data from a DB.\n",
    "\n",
    "We can perform queries on 1 single Table in the DB, as well as perform complex queries that span multiple interconnected Tables, with one-to-one, one-to-many and many-to-many relationships across records.\n",
    "\n",
    "Any `SELECT` statement is composed by at least:\n",
    "    \n",
    "```mysql\n",
    "SELECT <TABLE2.ATTRIBUTE1>, <TABLE1.ATTRIBUTE2>   --# the list of attributes to show\n",
    "                                                  --# the * wildcard symbol means ALL attributes\n",
    "    \n",
    "FROM <TABLE1>, <TABLE2>                           --# the table, or list of tables \n",
    "                                                  --# from which to extract the attributes\n",
    "\n",
    "WHERE <CONDITIONS>                                --# (optional) condition statement\n",
    "```\n",
    "\n",
    "The same goes for the pythonc connector-based way\n",
    "\n",
    "```python\n",
    "db_cursor.execute(\"\"\"SELECT <TABLE2.ATTRIBUTE1>, <TABLE1.ATTRIBUTE2>\"\"\"\n",
    "                  \"\"\"FROM <TABLE1>, <TABLE2>\"\"\"\n",
    "                  \"\"\"WHERE <CONDITIONS>\"\"\")\n",
    "res_ = db_cursor.fetchall()\n",
    "for _ in res_:\n",
    "    print(_)\n",
    "```\n",
    "\n",
    "As an alternative, `db_cursor.fetchone()` can be used to printout only 1 out of possibly many records.\n"
   ]
  },
  {
   "cell_type": "markdown",
   "id": "2a3bae29",
   "metadata": {},
   "source": [
    "- Get the email of all suppliers from Italy"
   ]
  },
  {
   "cell_type": "code",
   "execution_count": 3,
   "id": "cd1ed864",
   "metadata": {},
   "outputs": [
    {
     "name": "stdout",
     "output_type": "stream",
     "text": [
      " * mysql+mysqlconnector://root:***@db\n",
      "3 rows affected.\n"
     ]
    },
    {
     "data": {
      "text/html": [
       "<table>\n",
       "    <tr>\n",
       "        <th>Tables_in_my_db</th>\n",
       "    </tr>\n",
       "    <tr>\n",
       "        <td>products</td>\n",
       "    </tr>\n",
       "    <tr>\n",
       "        <td>supplier_to_product</td>\n",
       "    </tr>\n",
       "    <tr>\n",
       "        <td>suppliers</td>\n",
       "    </tr>\n",
       "</table>"
      ],
      "text/plain": [
       "[('products',), ('supplier_to_product',), ('suppliers',)]"
      ]
     },
     "execution_count": 3,
     "metadata": {},
     "output_type": "execute_result"
    }
   ],
   "source": [
    "%%sql\n",
    "\n",
    "SHOW TABLES;"
   ]
  },
  {
   "cell_type": "code",
   "execution_count": 4,
   "id": "0e551aca",
   "metadata": {},
   "outputs": [
    {
     "name": "stdout",
     "output_type": "stream",
     "text": [
      " * mysql+mysqlconnector://root:***@db\n",
      "4 rows affected.\n"
     ]
    },
    {
     "data": {
      "text/html": [
       "<table>\n",
       "    <tr>\n",
       "        <th>Field</th>\n",
       "        <th>Type</th>\n",
       "        <th>Null</th>\n",
       "        <th>Key</th>\n",
       "        <th>Default</th>\n",
       "        <th>Extra</th>\n",
       "    </tr>\n",
       "    <tr>\n",
       "        <td>supplierID</td>\n",
       "        <td>b&#x27;int&#x27;</td>\n",
       "        <td>NO</td>\n",
       "        <td>PRI</td>\n",
       "        <td>None</td>\n",
       "        <td>auto_increment</td>\n",
       "    </tr>\n",
       "    <tr>\n",
       "        <td>supplierName</td>\n",
       "        <td>b&#x27;varchar(30)&#x27;</td>\n",
       "        <td>NO</td>\n",
       "        <td></td>\n",
       "        <td>b&#x27;&#x27;</td>\n",
       "        <td></td>\n",
       "    </tr>\n",
       "    <tr>\n",
       "        <td>countryCode</td>\n",
       "        <td>b&#x27;char(3)&#x27;</td>\n",
       "        <td>NO</td>\n",
       "        <td></td>\n",
       "        <td>b&#x27;ITA&#x27;</td>\n",
       "        <td></td>\n",
       "    </tr>\n",
       "    <tr>\n",
       "        <td>email</td>\n",
       "        <td>b&#x27;varchar(30)&#x27;</td>\n",
       "        <td>NO</td>\n",
       "        <td></td>\n",
       "        <td>None</td>\n",
       "        <td></td>\n",
       "    </tr>\n",
       "</table>"
      ],
      "text/plain": [
       "[('supplierID', b'int', 'NO', 'PRI', None, 'auto_increment'),\n",
       " ('supplierName', b'varchar(30)', 'NO', '', b'', ''),\n",
       " ('countryCode', b'char(3)', 'NO', '', b'ITA', ''),\n",
       " ('email', b'varchar(30)', 'NO', '', None, '')]"
      ]
     },
     "execution_count": 4,
     "metadata": {},
     "output_type": "execute_result"
    }
   ],
   "source": [
    "%%sql\n",
    "\n",
    "DESCRIBE suppliers;"
   ]
  },
  {
   "cell_type": "code",
   "execution_count": 5,
   "id": "ca3bdc10",
   "metadata": {},
   "outputs": [
    {
     "name": "stdout",
     "output_type": "stream",
     "text": [
      " * mysql+mysqlconnector://root:***@db\n",
      "2 rows affected.\n"
     ]
    },
    {
     "data": {
      "text/html": [
       "<table>\n",
       "    <tr>\n",
       "        <th>email</th>\n",
       "    </tr>\n",
       "    <tr>\n",
       "        <td>myemail@wildhops.it</td>\n",
       "    </tr>\n",
       "    <tr>\n",
       "        <td>beer@beerparadise.it</td>\n",
       "    </tr>\n",
       "</table>"
      ],
      "text/plain": [
       "[('myemail@wildhops.it',), ('beer@beerparadise.it',)]"
      ]
     },
     "execution_count": 5,
     "metadata": {},
     "output_type": "execute_result"
    }
   ],
   "source": [
    "%%sql\n",
    "\n",
    "SELECT email\n",
    "FROM suppliers\n",
    "WHERE (countryCode = \"ITA\");"
   ]
  },
  {
   "cell_type": "markdown",
   "id": "204da1bf",
   "metadata": {},
   "source": [
    "- Get all information for products with unit price greater than 4"
   ]
  },
  {
   "cell_type": "code",
   "execution_count": 6,
   "id": "da6f4538",
   "metadata": {},
   "outputs": [
    {
     "name": "stdout",
     "output_type": "stream",
     "text": [
      " * mysql+mysqlconnector://root:***@db\n",
      "5 rows affected.\n"
     ]
    },
    {
     "data": {
      "text/html": [
       "<table>\n",
       "    <tr>\n",
       "        <th>Field</th>\n",
       "        <th>Type</th>\n",
       "        <th>Null</th>\n",
       "        <th>Key</th>\n",
       "        <th>Default</th>\n",
       "        <th>Extra</th>\n",
       "    </tr>\n",
       "    <tr>\n",
       "        <td>productID</td>\n",
       "        <td>b&#x27;int&#x27;</td>\n",
       "        <td>NO</td>\n",
       "        <td>PRI</td>\n",
       "        <td>None</td>\n",
       "        <td>auto_increment</td>\n",
       "    </tr>\n",
       "    <tr>\n",
       "        <td>productName</td>\n",
       "        <td>b&#x27;varchar(30)&#x27;</td>\n",
       "        <td>NO</td>\n",
       "        <td></td>\n",
       "        <td>b&#x27;&#x27;</td>\n",
       "        <td></td>\n",
       "    </tr>\n",
       "    <tr>\n",
       "        <td>unitPrice</td>\n",
       "        <td>b&#x27;float&#x27;</td>\n",
       "        <td>NO</td>\n",
       "        <td></td>\n",
       "        <td>b&#x27;100000&#x27;</td>\n",
       "        <td></td>\n",
       "    </tr>\n",
       "    <tr>\n",
       "        <td>unitsInStock</td>\n",
       "        <td>b&#x27;int unsigned&#x27;</td>\n",
       "        <td>NO</td>\n",
       "        <td></td>\n",
       "        <td>b&#x27;0&#x27;</td>\n",
       "        <td></td>\n",
       "    </tr>\n",
       "    <tr>\n",
       "        <td>isDiscontinued</td>\n",
       "        <td>b&#x27;tinyint(1)&#x27;</td>\n",
       "        <td>NO</td>\n",
       "        <td></td>\n",
       "        <td>b&#x27;0&#x27;</td>\n",
       "        <td></td>\n",
       "    </tr>\n",
       "</table>"
      ],
      "text/plain": [
       "[('productID', b'int', 'NO', 'PRI', None, 'auto_increment'),\n",
       " ('productName', b'varchar(30)', 'NO', '', b'', ''),\n",
       " ('unitPrice', b'float', 'NO', '', b'100000', ''),\n",
       " ('unitsInStock', b'int unsigned', 'NO', '', b'0', ''),\n",
       " ('isDiscontinued', b'tinyint(1)', 'NO', '', b'0', '')]"
      ]
     },
     "execution_count": 6,
     "metadata": {},
     "output_type": "execute_result"
    }
   ],
   "source": [
    "%%sql\n",
    "\n",
    "DESCRIBE products;"
   ]
  },
  {
   "cell_type": "code",
   "execution_count": 7,
   "id": "e4251397",
   "metadata": {},
   "outputs": [
    {
     "name": "stdout",
     "output_type": "stream",
     "text": [
      " * mysql+mysqlconnector://root:***@db\n",
      "3 rows affected.\n"
     ]
    },
    {
     "data": {
      "text/html": [
       "<table>\n",
       "    <tr>\n",
       "        <th>productID</th>\n",
       "        <th>productName</th>\n",
       "        <th>unitPrice</th>\n",
       "        <th>unitsInStock</th>\n",
       "        <th>isDiscontinued</th>\n",
       "    </tr>\n",
       "    <tr>\n",
       "        <td>1</td>\n",
       "        <td>Founders Porter</td>\n",
       "        <td>4.9</td>\n",
       "        <td>12</td>\n",
       "        <td>0</td>\n",
       "    </tr>\n",
       "    <tr>\n",
       "        <td>2</td>\n",
       "        <td>Punk IPA</td>\n",
       "        <td>5.2</td>\n",
       "        <td>45</td>\n",
       "        <td>0</td>\n",
       "    </tr>\n",
       "    <tr>\n",
       "        <td>3</td>\n",
       "        <td>HB Dunkel</td>\n",
       "        <td>4.5</td>\n",
       "        <td>250</td>\n",
       "        <td>0</td>\n",
       "    </tr>\n",
       "</table>"
      ],
      "text/plain": [
       "[(1, 'Founders Porter', 4.9, 12, 0),\n",
       " (2, 'Punk IPA', 5.2, 45, 0),\n",
       " (3, 'HB Dunkel', 4.5, 250, 0)]"
      ]
     },
     "execution_count": 7,
     "metadata": {},
     "output_type": "execute_result"
    }
   ],
   "source": [
    "%%sql\n",
    "\n",
    "SELECT *\n",
    "FROM products\n",
    "WHERE (unitPrice > 4);"
   ]
  },
  {
   "cell_type": "markdown",
   "id": "3c3c7ce0",
   "metadata": {},
   "source": [
    "- Select all products with unit cost less than 5 and list them in descending order of units in stock"
   ]
  },
  {
   "cell_type": "code",
   "execution_count": 8,
   "id": "3fd373ea",
   "metadata": {},
   "outputs": [
    {
     "name": "stdout",
     "output_type": "stream",
     "text": [
      " * mysql+mysqlconnector://root:***@db\n",
      "3 rows affected.\n"
     ]
    },
    {
     "data": {
      "text/html": [
       "<table>\n",
       "    <tr>\n",
       "        <th>productID</th>\n",
       "        <th>productName</th>\n",
       "        <th>unitPrice</th>\n",
       "        <th>unitsInStock</th>\n",
       "        <th>isDiscontinued</th>\n",
       "    </tr>\n",
       "    <tr>\n",
       "        <td>3</td>\n",
       "        <td>HB Dunkel</td>\n",
       "        <td>4.5</td>\n",
       "        <td>250</td>\n",
       "        <td>0</td>\n",
       "    </tr>\n",
       "    <tr>\n",
       "        <td>5</td>\n",
       "        <td>Damm Complot</td>\n",
       "        <td>3.7</td>\n",
       "        <td>120</td>\n",
       "        <td>0</td>\n",
       "    </tr>\n",
       "    <tr>\n",
       "        <td>1</td>\n",
       "        <td>Founders Porter</td>\n",
       "        <td>4.9</td>\n",
       "        <td>12</td>\n",
       "        <td>0</td>\n",
       "    </tr>\n",
       "</table>"
      ],
      "text/plain": [
       "[(3, 'HB Dunkel', 4.5, 250, 0),\n",
       " (5, 'Damm Complot', 3.7, 120, 0),\n",
       " (1, 'Founders Porter', 4.9, 12, 0)]"
      ]
     },
     "execution_count": 8,
     "metadata": {},
     "output_type": "execute_result"
    }
   ],
   "source": [
    "%%sql\n",
    "\n",
    "SELECT *\n",
    "FROM products\n",
    "WHERE (unitPrice<5)\n",
    "ORDER BY unitsInStock DESC;"
   ]
  },
  {
   "cell_type": "markdown",
   "id": "3c3b89b1",
   "metadata": {},
   "source": [
    "**Group by** is a common statement which allows to perform data aggregation.\n",
    "\n",
    "If familiar with `pandas`, this should not come any new to you.\n",
    "\n",
    "Just remember:\n",
    "1. No group by statement is possible without an aggregation function.\n",
    "2. Group by are quite computationally expensive. In case of large databases group by operations might require a long time to execute"
   ]
  },
  {
   "cell_type": "markdown",
   "id": "6ec4ca2b",
   "metadata": {},
   "source": [
    "- plot the distribution of suppliers by country"
   ]
  },
  {
   "cell_type": "code",
   "execution_count": 9,
   "id": "e93889be",
   "metadata": {},
   "outputs": [
    {
     "name": "stdout",
     "output_type": "stream",
     "text": [
      " * mysql+mysqlconnector://root:***@db\n",
      "3 rows affected.\n"
     ]
    },
    {
     "data": {
      "text/html": [
       "<table>\n",
       "    <tr>\n",
       "        <th>countryCode</th>\n",
       "        <th>nSupp</th>\n",
       "    </tr>\n",
       "    <tr>\n",
       "        <td>USA</td>\n",
       "        <td>1</td>\n",
       "    </tr>\n",
       "    <tr>\n",
       "        <td>FRA</td>\n",
       "        <td>1</td>\n",
       "    </tr>\n",
       "    <tr>\n",
       "        <td>ITA</td>\n",
       "        <td>2</td>\n",
       "    </tr>\n",
       "</table>"
      ],
      "text/plain": [
       "[('USA', 1), ('FRA', 1), ('ITA', 2)]"
      ]
     },
     "execution_count": 9,
     "metadata": {},
     "output_type": "execute_result"
    }
   ],
   "source": [
    "%%sql\n",
    "\n",
    "SELECT  countryCode, COUNT(countryCode) AS nSupp\n",
    "FROM suppliers\n",
    "GROUP BY countryCode;"
   ]
  },
  {
   "cell_type": "code",
   "execution_count": 10,
   "id": "a201f6eb",
   "metadata": {},
   "outputs": [
    {
     "name": "stdout",
     "output_type": "stream",
     "text": [
      " * mysql+mysqlconnector://root:***@db\n",
      "3 rows affected.\n",
      "+-------+-------------+\n",
      "| count | countryCode |\n",
      "+-------+-------------+\n",
      "|   1   |     USA     |\n",
      "|   1   |     FRA     |\n",
      "|   2   |     ITA     |\n",
      "+-------+-------------+\n"
     ]
    }
   ],
   "source": [
    "res_ = %sql SELECT COUNT(countryCode) AS count, countryCode FROM suppliers GROUP BY countryCode;\n",
    "\n",
    "print (res_);"
   ]
  },
  {
   "cell_type": "code",
   "execution_count": 11,
   "id": "f509fa26",
   "metadata": {},
   "outputs": [
    {
     "data": {
      "image/png": "[encoded data removed]",
      "text/plain": [
       "<Figure size 640x480 with 1 Axes>"
      ]
     },
     "metadata": {},
     "output_type": "display_data"
    }
   ],
   "source": [
    "res_.bar();"
   ]
  },
  {
   "cell_type": "markdown",
   "id": "6e432001",
   "metadata": {},
   "source": [
    "The main strength of Relational DBs is the possibility of matching information from different tables though **Join** operations.\n",
    "\n",
    "A join, either performed explicitely or implicitely is:\n",
    "\n",
    "Just remember:\n",
    "1. Computationally expensive. In case of large databases group by operations might require a long time to execute\n",
    "2. Very easy to be done wrong, thus resulting in non-meaningful results\n",
    "\n",
    "Be sure on which attributes (most often keys) you are performing a join operation."
   ]
  },
  {
   "cell_type": "markdown",
   "id": "11a1d6a9",
   "metadata": {},
   "source": [
    "- Join the `supplier_to_product` table with the `suppliers` table "
   ]
  },
  {
   "cell_type": "code",
   "execution_count": 12,
   "id": "9413d43c",
   "metadata": {},
   "outputs": [
    {
     "name": "stdout",
     "output_type": "stream",
     "text": [
      " * mysql+mysqlconnector://root:***@db\n",
      "4 rows affected.\n"
     ]
    },
    {
     "data": {
      "text/html": [
       "<table>\n",
       "    <tr>\n",
       "        <th>Field</th>\n",
       "        <th>Type</th>\n",
       "        <th>Null</th>\n",
       "        <th>Key</th>\n",
       "        <th>Default</th>\n",
       "        <th>Extra</th>\n",
       "    </tr>\n",
       "    <tr>\n",
       "        <td>supplierID</td>\n",
       "        <td>b&#x27;int&#x27;</td>\n",
       "        <td>NO</td>\n",
       "        <td>PRI</td>\n",
       "        <td>None</td>\n",
       "        <td>auto_increment</td>\n",
       "    </tr>\n",
       "    <tr>\n",
       "        <td>supplierName</td>\n",
       "        <td>b&#x27;varchar(30)&#x27;</td>\n",
       "        <td>NO</td>\n",
       "        <td></td>\n",
       "        <td>b&#x27;&#x27;</td>\n",
       "        <td></td>\n",
       "    </tr>\n",
       "    <tr>\n",
       "        <td>countryCode</td>\n",
       "        <td>b&#x27;char(3)&#x27;</td>\n",
       "        <td>NO</td>\n",
       "        <td></td>\n",
       "        <td>b&#x27;ITA&#x27;</td>\n",
       "        <td></td>\n",
       "    </tr>\n",
       "    <tr>\n",
       "        <td>email</td>\n",
       "        <td>b&#x27;varchar(30)&#x27;</td>\n",
       "        <td>NO</td>\n",
       "        <td></td>\n",
       "        <td>None</td>\n",
       "        <td></td>\n",
       "    </tr>\n",
       "</table>"
      ],
      "text/plain": [
       "[('supplierID', b'int', 'NO', 'PRI', None, 'auto_increment'),\n",
       " ('supplierName', b'varchar(30)', 'NO', '', b'', ''),\n",
       " ('countryCode', b'char(3)', 'NO', '', b'ITA', ''),\n",
       " ('email', b'varchar(30)', 'NO', '', None, '')]"
      ]
     },
     "execution_count": 12,
     "metadata": {},
     "output_type": "execute_result"
    }
   ],
   "source": [
    "%%sql\n",
    "\n",
    "DESCRIBE suppliers;"
   ]
  },
  {
   "cell_type": "code",
   "execution_count": 13,
   "id": "d698cff7",
   "metadata": {},
   "outputs": [
    {
     "name": "stdout",
     "output_type": "stream",
     "text": [
      " * mysql+mysqlconnector://root:***@db\n",
      "2 rows affected.\n"
     ]
    },
    {
     "data": {
      "text/html": [
       "<table>\n",
       "    <tr>\n",
       "        <th>Field</th>\n",
       "        <th>Type</th>\n",
       "        <th>Null</th>\n",
       "        <th>Key</th>\n",
       "        <th>Default</th>\n",
       "        <th>Extra</th>\n",
       "    </tr>\n",
       "    <tr>\n",
       "        <td>prodID</td>\n",
       "        <td>b&#x27;int&#x27;</td>\n",
       "        <td>NO</td>\n",
       "        <td>PRI</td>\n",
       "        <td>None</td>\n",
       "        <td></td>\n",
       "    </tr>\n",
       "    <tr>\n",
       "        <td>supID</td>\n",
       "        <td>b&#x27;int&#x27;</td>\n",
       "        <td>NO</td>\n",
       "        <td>PRI</td>\n",
       "        <td>None</td>\n",
       "        <td></td>\n",
       "    </tr>\n",
       "</table>"
      ],
      "text/plain": [
       "[('prodID', b'int', 'NO', 'PRI', None, ''),\n",
       " ('supID', b'int', 'NO', 'PRI', None, '')]"
      ]
     },
     "execution_count": 13,
     "metadata": {},
     "output_type": "execute_result"
    }
   ],
   "source": [
    "%%sql\n",
    "\n",
    "DESCRIBE supplier_to_product;"
   ]
  },
  {
   "cell_type": "code",
   "execution_count": 16,
   "id": "40086239",
   "metadata": {},
   "outputs": [
    {
     "name": "stdout",
     "output_type": "stream",
     "text": [
      " * mysql+mysqlconnector://root:***@db\n",
      "2 rows affected.\n"
     ]
    },
    {
     "data": {
      "text/html": [
       "<table>\n",
       "    <tr>\n",
       "        <th>supplierID</th>\n",
       "        <th>supplierName</th>\n",
       "        <th>countryCode</th>\n",
       "        <th>email</th>\n",
       "        <th>prodID</th>\n",
       "        <th>supID</th>\n",
       "    </tr>\n",
       "    <tr>\n",
       "        <td>1</td>\n",
       "        <td>A hop in the park</td>\n",
       "        <td>USA</td>\n",
       "        <td>anewemail@ahop.com</td>\n",
       "        <td>2</td>\n",
       "        <td>1</td>\n",
       "    </tr>\n",
       "    <tr>\n",
       "        <td>1</td>\n",
       "        <td>A hop in the park</td>\n",
       "        <td>USA</td>\n",
       "        <td>anewemail@ahop.com</td>\n",
       "        <td>3</td>\n",
       "        <td>1</td>\n",
       "    </tr>\n",
       "</table>"
      ],
      "text/plain": [
       "[(1, 'A hop in the park', 'USA', 'anewemail@ahop.com', 2, 1),\n",
       " (1, 'A hop in the park', 'USA', 'anewemail@ahop.com', 3, 1)]"
      ]
     },
     "execution_count": 16,
     "metadata": {},
     "output_type": "execute_result"
    }
   ],
   "source": [
    "%%sql\n",
    "\n",
    "SELECT *\n",
    "FROM suppliers, supplier_to_product\n",
    "WHERE suppliers.supplierID = supplier_to_product.supID;"
   ]
  },
  {
   "cell_type": "code",
   "execution_count": 17,
   "id": "029a7892",
   "metadata": {},
   "outputs": [
    {
     "name": "stdout",
     "output_type": "stream",
     "text": [
      " * mysql+mysqlconnector://root:***@db\n",
      "4 rows affected.\n"
     ]
    },
    {
     "data": {
      "text/html": [
       "<table>\n",
       "    <tr>\n",
       "        <th>supplierID</th>\n",
       "        <th>supplierName</th>\n",
       "        <th>countryCode</th>\n",
       "        <th>email</th>\n",
       "    </tr>\n",
       "    <tr>\n",
       "        <td>1</td>\n",
       "        <td>A hop in the park</td>\n",
       "        <td>USA</td>\n",
       "        <td>anewemail@ahop.com</td>\n",
       "    </tr>\n",
       "    <tr>\n",
       "        <td>2</td>\n",
       "        <td>Allez Hops! Cave à bièr</td>\n",
       "        <td>FRA</td>\n",
       "        <td>itsme@allezhops.com</td>\n",
       "    </tr>\n",
       "    <tr>\n",
       "        <td>3</td>\n",
       "        <td>Wild Hops</td>\n",
       "        <td>ITA</td>\n",
       "        <td>myemail@wildhops.it</td>\n",
       "    </tr>\n",
       "    <tr>\n",
       "        <td>4</td>\n",
       "        <td>Beer Paradise</td>\n",
       "        <td>ITA</td>\n",
       "        <td>beer@beerparadise.it</td>\n",
       "    </tr>\n",
       "</table>"
      ],
      "text/plain": [
       "[(1, 'A hop in the park', 'USA', 'anewemail@ahop.com'),\n",
       " (2, 'Allez Hops! Cave à bièr', 'FRA', 'itsme@allezhops.com'),\n",
       " (3, 'Wild Hops', 'ITA', 'myemail@wildhops.it'),\n",
       " (4, 'Beer Paradise', 'ITA', 'beer@beerparadise.it')]"
      ]
     },
     "execution_count": 17,
     "metadata": {},
     "output_type": "execute_result"
    }
   ],
   "source": [
    "%%sql\n",
    "\n",
    "SELECT * FROM suppliers;"
   ]
  },
  {
   "cell_type": "code",
   "execution_count": 18,
   "id": "7b5ee9a0",
   "metadata": {},
   "outputs": [
    {
     "name": "stdout",
     "output_type": "stream",
     "text": [
      " * mysql+mysqlconnector://root:***@db\n",
      "2 rows affected.\n"
     ]
    },
    {
     "data": {
      "text/html": [
       "<table>\n",
       "    <tr>\n",
       "        <th>prodID</th>\n",
       "        <th>supID</th>\n",
       "    </tr>\n",
       "    <tr>\n",
       "        <td>2</td>\n",
       "        <td>1</td>\n",
       "    </tr>\n",
       "    <tr>\n",
       "        <td>3</td>\n",
       "        <td>1</td>\n",
       "    </tr>\n",
       "</table>"
      ],
      "text/plain": [
       "[(2, 1), (3, 1)]"
      ]
     },
     "execution_count": 18,
     "metadata": {},
     "output_type": "execute_result"
    }
   ],
   "source": [
    "%%sql\n",
    "\n",
    "SELECT * FROM supplier_to_product;"
   ]
  },
  {
   "cell_type": "code",
   "execution_count": 19,
   "id": "61d90336",
   "metadata": {},
   "outputs": [
    {
     "name": "stdout",
     "output_type": "stream",
     "text": [
      " * mysql+mysqlconnector://root:***@db\n",
      "2 rows affected.\n"
     ]
    },
    {
     "data": {
      "text/html": [
       "<table>\n",
       "    <tr>\n",
       "        <th>supplierID</th>\n",
       "        <th>supplierName</th>\n",
       "        <th>countryCode</th>\n",
       "        <th>email</th>\n",
       "        <th>prodID</th>\n",
       "        <th>supID</th>\n",
       "    </tr>\n",
       "    <tr>\n",
       "        <td>1</td>\n",
       "        <td>A hop in the park</td>\n",
       "        <td>USA</td>\n",
       "        <td>anewemail@ahop.com</td>\n",
       "        <td>2</td>\n",
       "        <td>1</td>\n",
       "    </tr>\n",
       "    <tr>\n",
       "        <td>1</td>\n",
       "        <td>A hop in the park</td>\n",
       "        <td>USA</td>\n",
       "        <td>anewemail@ahop.com</td>\n",
       "        <td>3</td>\n",
       "        <td>1</td>\n",
       "    </tr>\n",
       "</table>"
      ],
      "text/plain": [
       "[(1, 'A hop in the park', 'USA', 'anewemail@ahop.com', 2, 1),\n",
       " (1, 'A hop in the park', 'USA', 'anewemail@ahop.com', 3, 1)]"
      ]
     },
     "execution_count": 19,
     "metadata": {},
     "output_type": "execute_result"
    }
   ],
   "source": [
    "%%sql\n",
    "\n",
    "SELECT *\n",
    "FROM suppliers # cross product between tables\n",
    "INNER JOIN supplier_to_product ON suppliers.supplierID = supplier_to_product.supID;"
   ]
  },
  {
   "cell_type": "code",
   "execution_count": 20,
   "id": "beb373b1",
   "metadata": {},
   "outputs": [
    {
     "name": "stdout",
     "output_type": "stream",
     "text": [
      " * mysql+mysqlconnector://root:***@db\n",
      "5 rows affected.\n"
     ]
    },
    {
     "data": {
      "text/html": [
       "<table>\n",
       "    <tr>\n",
       "        <th>supplierID</th>\n",
       "        <th>supplierName</th>\n",
       "        <th>countryCode</th>\n",
       "        <th>email</th>\n",
       "        <th>prodID</th>\n",
       "        <th>supID</th>\n",
       "    </tr>\n",
       "    <tr>\n",
       "        <td>1</td>\n",
       "        <td>A hop in the park</td>\n",
       "        <td>USA</td>\n",
       "        <td>anewemail@ahop.com</td>\n",
       "        <td>2</td>\n",
       "        <td>1</td>\n",
       "    </tr>\n",
       "    <tr>\n",
       "        <td>1</td>\n",
       "        <td>A hop in the park</td>\n",
       "        <td>USA</td>\n",
       "        <td>anewemail@ahop.com</td>\n",
       "        <td>3</td>\n",
       "        <td>1</td>\n",
       "    </tr>\n",
       "    <tr>\n",
       "        <td>2</td>\n",
       "        <td>Allez Hops! Cave à bièr</td>\n",
       "        <td>FRA</td>\n",
       "        <td>itsme@allezhops.com</td>\n",
       "        <td>None</td>\n",
       "        <td>None</td>\n",
       "    </tr>\n",
       "    <tr>\n",
       "        <td>3</td>\n",
       "        <td>Wild Hops</td>\n",
       "        <td>ITA</td>\n",
       "        <td>myemail@wildhops.it</td>\n",
       "        <td>None</td>\n",
       "        <td>None</td>\n",
       "    </tr>\n",
       "    <tr>\n",
       "        <td>4</td>\n",
       "        <td>Beer Paradise</td>\n",
       "        <td>ITA</td>\n",
       "        <td>beer@beerparadise.it</td>\n",
       "        <td>None</td>\n",
       "        <td>None</td>\n",
       "    </tr>\n",
       "</table>"
      ],
      "text/plain": [
       "[(1, 'A hop in the park', 'USA', 'anewemail@ahop.com', 2, 1),\n",
       " (1, 'A hop in the park', 'USA', 'anewemail@ahop.com', 3, 1),\n",
       " (2, 'Allez Hops! Cave à bièr', 'FRA', 'itsme@allezhops.com', None, None),\n",
       " (3, 'Wild Hops', 'ITA', 'myemail@wildhops.it', None, None),\n",
       " (4, 'Beer Paradise', 'ITA', 'beer@beerparadise.it', None, None)]"
      ]
     },
     "execution_count": 20,
     "metadata": {},
     "output_type": "execute_result"
    }
   ],
   "source": [
    "%%sql\n",
    "\n",
    "SELECT *\n",
    "FROM suppliers\n",
    "LEFT JOIN supplier_to_product ON suppliers.supplierID = supplier_to_product.supID;"
   ]
  },
  {
   "cell_type": "code",
   "execution_count": 21,
   "id": "8ec58e74",
   "metadata": {},
   "outputs": [
    {
     "name": "stdout",
     "output_type": "stream",
     "text": [
      " * mysql+mysqlconnector://root:***@db\n",
      "2 rows affected.\n"
     ]
    },
    {
     "data": {
      "text/html": [
       "<table>\n",
       "    <tr>\n",
       "        <th>supplierID</th>\n",
       "        <th>supplierName</th>\n",
       "        <th>countryCode</th>\n",
       "        <th>email</th>\n",
       "        <th>prodID</th>\n",
       "        <th>supID</th>\n",
       "    </tr>\n",
       "    <tr>\n",
       "        <td>1</td>\n",
       "        <td>A hop in the park</td>\n",
       "        <td>USA</td>\n",
       "        <td>anewemail@ahop.com</td>\n",
       "        <td>2</td>\n",
       "        <td>1</td>\n",
       "    </tr>\n",
       "    <tr>\n",
       "        <td>1</td>\n",
       "        <td>A hop in the park</td>\n",
       "        <td>USA</td>\n",
       "        <td>anewemail@ahop.com</td>\n",
       "        <td>3</td>\n",
       "        <td>1</td>\n",
       "    </tr>\n",
       "</table>"
      ],
      "text/plain": [
       "[(1, 'A hop in the park', 'USA', 'anewemail@ahop.com', 2, 1),\n",
       " (1, 'A hop in the park', 'USA', 'anewemail@ahop.com', 3, 1)]"
      ]
     },
     "execution_count": 21,
     "metadata": {},
     "output_type": "execute_result"
    }
   ],
   "source": [
    "%%sql\n",
    "\n",
    "SELECT *\n",
    "FROM suppliers\n",
    "RIGHT JOIN supplier_to_product ON suppliers.supplierID = supplier_to_product.supID;"
   ]
  },
  {
   "cell_type": "markdown",
   "id": "caf6e72f",
   "metadata": {},
   "source": [
    "We can concatenate multiple join operations to extract higher level information out of the connections stored in the DB\n",
    "\n",
    "- Add the corresponding product names the the previous join"
   ]
  },
  {
   "cell_type": "code",
   "execution_count": 22,
   "id": "bcef0fc0",
   "metadata": {},
   "outputs": [
    {
     "name": "stdout",
     "output_type": "stream",
     "text": [
      " * mysql+mysqlconnector://root:***@db\n",
      "5 rows affected.\n"
     ]
    },
    {
     "data": {
      "text/html": [
       "<table>\n",
       "    <tr>\n",
       "        <th>Field</th>\n",
       "        <th>Type</th>\n",
       "        <th>Null</th>\n",
       "        <th>Key</th>\n",
       "        <th>Default</th>\n",
       "        <th>Extra</th>\n",
       "    </tr>\n",
       "    <tr>\n",
       "        <td>productID</td>\n",
       "        <td>b&#x27;int&#x27;</td>\n",
       "        <td>NO</td>\n",
       "        <td>PRI</td>\n",
       "        <td>None</td>\n",
       "        <td>auto_increment</td>\n",
       "    </tr>\n",
       "    <tr>\n",
       "        <td>productName</td>\n",
       "        <td>b&#x27;varchar(30)&#x27;</td>\n",
       "        <td>NO</td>\n",
       "        <td></td>\n",
       "        <td>b&#x27;&#x27;</td>\n",
       "        <td></td>\n",
       "    </tr>\n",
       "    <tr>\n",
       "        <td>unitPrice</td>\n",
       "        <td>b&#x27;float&#x27;</td>\n",
       "        <td>NO</td>\n",
       "        <td></td>\n",
       "        <td>b&#x27;100000&#x27;</td>\n",
       "        <td></td>\n",
       "    </tr>\n",
       "    <tr>\n",
       "        <td>unitsInStock</td>\n",
       "        <td>b&#x27;int unsigned&#x27;</td>\n",
       "        <td>NO</td>\n",
       "        <td></td>\n",
       "        <td>b&#x27;0&#x27;</td>\n",
       "        <td></td>\n",
       "    </tr>\n",
       "    <tr>\n",
       "        <td>isDiscontinued</td>\n",
       "        <td>b&#x27;tinyint(1)&#x27;</td>\n",
       "        <td>NO</td>\n",
       "        <td></td>\n",
       "        <td>b&#x27;0&#x27;</td>\n",
       "        <td></td>\n",
       "    </tr>\n",
       "</table>"
      ],
      "text/plain": [
       "[('productID', b'int', 'NO', 'PRI', None, 'auto_increment'),\n",
       " ('productName', b'varchar(30)', 'NO', '', b'', ''),\n",
       " ('unitPrice', b'float', 'NO', '', b'100000', ''),\n",
       " ('unitsInStock', b'int unsigned', 'NO', '', b'0', ''),\n",
       " ('isDiscontinued', b'tinyint(1)', 'NO', '', b'0', '')]"
      ]
     },
     "execution_count": 22,
     "metadata": {},
     "output_type": "execute_result"
    }
   ],
   "source": [
    "%%sql\n",
    "\n",
    "DESCRIBE products;"
   ]
  },
  {
   "cell_type": "code",
   "execution_count": 25,
   "id": "48a34de8",
   "metadata": {},
   "outputs": [
    {
     "name": "stdout",
     "output_type": "stream",
     "text": [
      " * mysql+mysqlconnector://root:***@db\n",
      "2 rows affected.\n"
     ]
    },
    {
     "data": {
      "text/html": [
       "<table>\n",
       "    <tr>\n",
       "        <th>prodID</th>\n",
       "        <th>supID</th>\n",
       "        <th>supplierID</th>\n",
       "        <th>supplierName</th>\n",
       "        <th>countryCode</th>\n",
       "        <th>email</th>\n",
       "        <th>productID</th>\n",
       "        <th>productName</th>\n",
       "        <th>unitPrice</th>\n",
       "        <th>unitsInStock</th>\n",
       "        <th>isDiscontinued</th>\n",
       "    </tr>\n",
       "    <tr>\n",
       "        <td>2</td>\n",
       "        <td>1</td>\n",
       "        <td>1</td>\n",
       "        <td>A hop in the park</td>\n",
       "        <td>USA</td>\n",
       "        <td>anewemail@ahop.com</td>\n",
       "        <td>2</td>\n",
       "        <td>Punk IPA</td>\n",
       "        <td>5.2</td>\n",
       "        <td>45</td>\n",
       "        <td>0</td>\n",
       "    </tr>\n",
       "    <tr>\n",
       "        <td>3</td>\n",
       "        <td>1</td>\n",
       "        <td>1</td>\n",
       "        <td>A hop in the park</td>\n",
       "        <td>USA</td>\n",
       "        <td>anewemail@ahop.com</td>\n",
       "        <td>3</td>\n",
       "        <td>HB Dunkel</td>\n",
       "        <td>4.5</td>\n",
       "        <td>250</td>\n",
       "        <td>0</td>\n",
       "    </tr>\n",
       "</table>"
      ],
      "text/plain": [
       "[(2, 1, 1, 'A hop in the park', 'USA', 'anewemail@ahop.com', 2, 'Punk IPA', 5.2, 45, 0),\n",
       " (3, 1, 1, 'A hop in the park', 'USA', 'anewemail@ahop.com', 3, 'HB Dunkel', 4.5, 250, 0)]"
      ]
     },
     "execution_count": 25,
     "metadata": {},
     "output_type": "execute_result"
    }
   ],
   "source": [
    "%%sql\n",
    "\n",
    "SELECT *\n",
    "FROM supplier_to_product\n",
    "INNER JOIN suppliers ON suppliers.supplierID = supplier_to_product.supID\n",
    "INNER JOIN products  ON products.productID   = supplier_to_product.prodID;"
   ]
  },
  {
   "cell_type": "markdown",
   "id": "bdc02965",
   "metadata": {},
   "source": [
    "The conjunction of `SELECT`, `GROUP BY` and `JOIN` statements will allow us to extract non trivial information out of any Relational DB.\n",
    "\n",
    "Add the following records to the `supplier_to_product` table and perform the following queries:\n",
    "    \n",
    "| supplier | products provided |\n",
    "| --- | --- | \n",
    "| \"Wild Hops\" | \"Founders Porter\", \"Punk IPA\", \"HB Dunkel\", \"Damm Complot\" |    \n",
    "| \"Beer Paradise\" | \"Punk IPA\", \"Damm Complot\" |    \n",
    "| \"Allez Hops! Cave à bièr\" | \"Founders Porter\", \"HB Dunkel\" |    \n",
    "\n",
    "1. show all suppliers of \"Damm Complot\"\n",
    "2. retrieve the email address of all possible suppliers of \"Punk IPA\"\n",
    "3. list the unit price of all products supplied by Italian firms, listed in descending order   "
   ]
  },
  {
   "cell_type": "code",
   "execution_count": 2,
   "id": "aca167e4",
   "metadata": {},
   "outputs": [
    {
     "name": "stdout",
     "output_type": "stream",
     "text": [
      "<mysql.connector.connection_cext.CMySQLConnection object at 0x7fc610413e50>\n"
     ]
    }
   ],
   "source": [
    "# import the connector\n",
    "import mysql.connector\n",
    "\n",
    "# declare a connection to the MySQL server \n",
    "# the hostname (or IP) of the server machine should be passed\n",
    "db = mysql.connector.connect(\n",
    "  user=\"root\",\n",
    "  password=\"root_pwd\",\n",
    "  host=\"db\", # in this case 'db' is the equivalent of the IP address of the server \n",
    "             # or 'localhost' if running mysql locally\n",
    ")\n",
    "\n",
    "print(db)\n",
    "\n",
    "# create our db cursor object\n",
    "dbc = db.cursor()"
   ]
  },
  {
   "cell_type": "code",
   "execution_count": 29,
   "id": "54705bcd",
   "metadata": {},
   "outputs": [
    {
     "name": "stdout",
     "output_type": "stream",
     "text": [
      "(2, 1)\n",
      "(3, 1)\n",
      "(1, 2)\n",
      "(3, 2)\n",
      "(1, 3)\n",
      "(2, 3)\n",
      "(3, 3)\n",
      "(5, 3)\n",
      "(2, 4)\n",
      "(5, 4)\n"
     ]
    }
   ],
   "source": [
    "sql_ = \"INSERT INTO supplier_to_product (prodID, supID) VALUES (%s, %s)\"\n",
    "val_ = [\n",
    "    # supplier Allez Hops\n",
    "    (1, 2),\n",
    "    (3, 2),\n",
    "\n",
    "    # supplier Wild Hops\n",
    "    (1, 3),\n",
    "    (2, 3),\n",
    "    (3, 3),\n",
    "    (5, 3),\n",
    "\n",
    "    # supplier Beer Paradise\n",
    "    (2, 4),\n",
    "    (5, 4),\n",
    "]\n",
    "\n",
    "dbc.execute(\"USE my_db\")\n",
    "dbc.executemany(sql_, val_)\n",
    "db.commit()\n",
    "     \n",
    "dbc.execute(\"SELECT * FROM supplier_to_product\"); \n",
    "for _ in dbc:\n",
    "     print(_)"
   ]
  },
  {
   "cell_type": "code",
   "execution_count": 42,
   "id": "d92d0fd2",
   "metadata": {},
   "outputs": [
    {
     "name": "stdout",
     "output_type": "stream",
     "text": [
      " * mysql+mysqlconnector://root:***@db\n",
      "4 rows affected.\n"
     ]
    },
    {
     "data": {
      "text/html": [
       "<table>\n",
       "    <tr>\n",
       "        <th>productID</th>\n",
       "        <th>productName</th>\n",
       "        <th>unitPrice</th>\n",
       "        <th>unitsInStock</th>\n",
       "        <th>isDiscontinued</th>\n",
       "    </tr>\n",
       "    <tr>\n",
       "        <td>1</td>\n",
       "        <td>Founders Porter</td>\n",
       "        <td>4.9</td>\n",
       "        <td>12</td>\n",
       "        <td>0</td>\n",
       "    </tr>\n",
       "    <tr>\n",
       "        <td>2</td>\n",
       "        <td>Punk IPA</td>\n",
       "        <td>5.2</td>\n",
       "        <td>45</td>\n",
       "        <td>0</td>\n",
       "    </tr>\n",
       "    <tr>\n",
       "        <td>3</td>\n",
       "        <td>HB Dunkel</td>\n",
       "        <td>4.5</td>\n",
       "        <td>250</td>\n",
       "        <td>0</td>\n",
       "    </tr>\n",
       "    <tr>\n",
       "        <td>5</td>\n",
       "        <td>Damm Complot</td>\n",
       "        <td>3.7</td>\n",
       "        <td>120</td>\n",
       "        <td>0</td>\n",
       "    </tr>\n",
       "</table>"
      ],
      "text/plain": [
       "[(1, 'Founders Porter', 4.9, 12, 0),\n",
       " (2, 'Punk IPA', 5.2, 45, 0),\n",
       " (3, 'HB Dunkel', 4.5, 250, 0),\n",
       " (5, 'Damm Complot', 3.7, 120, 0)]"
      ]
     },
     "execution_count": 42,
     "metadata": {},
     "output_type": "execute_result"
    }
   ],
   "source": [
    "%%sql\n",
    "\n",
    "SELECT * FROM products;"
   ]
  },
  {
   "cell_type": "code",
   "execution_count": 43,
   "id": "30f3c55f",
   "metadata": {},
   "outputs": [
    {
     "name": "stdout",
     "output_type": "stream",
     "text": [
      " * mysql+mysqlconnector://root:***@db\n",
      "4 rows affected.\n"
     ]
    },
    {
     "data": {
      "text/html": [
       "<table>\n",
       "    <tr>\n",
       "        <th>supplierID</th>\n",
       "        <th>supplierName</th>\n",
       "        <th>countryCode</th>\n",
       "        <th>email</th>\n",
       "    </tr>\n",
       "    <tr>\n",
       "        <td>1</td>\n",
       "        <td>A hop in the park</td>\n",
       "        <td>USA</td>\n",
       "        <td>anewemail@ahop.com</td>\n",
       "    </tr>\n",
       "    <tr>\n",
       "        <td>2</td>\n",
       "        <td>Allez Hops! Cave à bièr</td>\n",
       "        <td>FRA</td>\n",
       "        <td>itsme@allezhops.com</td>\n",
       "    </tr>\n",
       "    <tr>\n",
       "        <td>3</td>\n",
       "        <td>Wild Hops</td>\n",
       "        <td>ITA</td>\n",
       "        <td>myemail@wildhops.it</td>\n",
       "    </tr>\n",
       "    <tr>\n",
       "        <td>4</td>\n",
       "        <td>Beer Paradise</td>\n",
       "        <td>ITA</td>\n",
       "        <td>beer@beerparadise.it</td>\n",
       "    </tr>\n",
       "</table>"
      ],
      "text/plain": [
       "[(1, 'A hop in the park', 'USA', 'anewemail@ahop.com'),\n",
       " (2, 'Allez Hops! Cave à bièr', 'FRA', 'itsme@allezhops.com'),\n",
       " (3, 'Wild Hops', 'ITA', 'myemail@wildhops.it'),\n",
       " (4, 'Beer Paradise', 'ITA', 'beer@beerparadise.it')]"
      ]
     },
     "execution_count": 43,
     "metadata": {},
     "output_type": "execute_result"
    }
   ],
   "source": [
    "%%sql\n",
    "\n",
    "SELECT * FROM suppliers;"
   ]
  },
  {
   "cell_type": "code",
   "execution_count": 45,
   "id": "05454622",
   "metadata": {},
   "outputs": [
    {
     "name": "stdout",
     "output_type": "stream",
     "text": [
      " * mysql+mysqlconnector://root:***@db\n",
      "10 rows affected.\n"
     ]
    },
    {
     "data": {
      "text/html": [
       "<table>\n",
       "    <tr>\n",
       "        <th>prodID</th>\n",
       "        <th>supID</th>\n",
       "    </tr>\n",
       "    <tr>\n",
       "        <td>2</td>\n",
       "        <td>1</td>\n",
       "    </tr>\n",
       "    <tr>\n",
       "        <td>3</td>\n",
       "        <td>1</td>\n",
       "    </tr>\n",
       "    <tr>\n",
       "        <td>1</td>\n",
       "        <td>2</td>\n",
       "    </tr>\n",
       "    <tr>\n",
       "        <td>3</td>\n",
       "        <td>2</td>\n",
       "    </tr>\n",
       "    <tr>\n",
       "        <td>1</td>\n",
       "        <td>3</td>\n",
       "    </tr>\n",
       "    <tr>\n",
       "        <td>2</td>\n",
       "        <td>3</td>\n",
       "    </tr>\n",
       "    <tr>\n",
       "        <td>3</td>\n",
       "        <td>3</td>\n",
       "    </tr>\n",
       "    <tr>\n",
       "        <td>5</td>\n",
       "        <td>3</td>\n",
       "    </tr>\n",
       "    <tr>\n",
       "        <td>2</td>\n",
       "        <td>4</td>\n",
       "    </tr>\n",
       "    <tr>\n",
       "        <td>5</td>\n",
       "        <td>4</td>\n",
       "    </tr>\n",
       "</table>"
      ],
      "text/plain": [
       "[(2, 1),\n",
       " (3, 1),\n",
       " (1, 2),\n",
       " (3, 2),\n",
       " (1, 3),\n",
       " (2, 3),\n",
       " (3, 3),\n",
       " (5, 3),\n",
       " (2, 4),\n",
       " (5, 4)]"
      ]
     },
     "execution_count": 45,
     "metadata": {},
     "output_type": "execute_result"
    }
   ],
   "source": [
    "%%sql\n",
    "\n",
    "SELECT * FROM supplier_to_product;"
   ]
  },
  {
   "cell_type": "markdown",
   "id": "5c00a32b",
   "metadata": {},
   "source": [
    "#### 1 - show all suppliers of \"Damm Complot\""
   ]
  },
  {
   "cell_type": "code",
   "execution_count": 36,
   "id": "f5a5c7b1",
   "metadata": {},
   "outputs": [
    {
     "name": "stdout",
     "output_type": "stream",
     "text": [
      " * mysql+mysqlconnector://root:***@db\n",
      "2 rows affected.\n"
     ]
    },
    {
     "data": {
      "text/html": [
       "<table>\n",
       "    <tr>\n",
       "        <th>supplierName</th>\n",
       "    </tr>\n",
       "    <tr>\n",
       "        <td>Wild Hops</td>\n",
       "    </tr>\n",
       "    <tr>\n",
       "        <td>Beer Paradise</td>\n",
       "    </tr>\n",
       "</table>"
      ],
      "text/plain": [
       "[('Wild Hops',), ('Beer Paradise',)]"
      ]
     },
     "execution_count": 36,
     "metadata": {},
     "output_type": "execute_result"
    }
   ],
   "source": [
    "%%sql\n",
    "\n",
    "SELECT suppliers.supplierName\n",
    "FROM supplier_to_product\n",
    "INNER JOIN suppliers ON supplier_to_product.supID = suppliers.supplierID\n",
    "INNER JOIN products ON supplier_to_product.prodID = products.productID\n",
    "WHERE products.productName = \"Damm Complot\";"
   ]
  },
  {
   "cell_type": "markdown",
   "id": "c98de550",
   "metadata": {},
   "source": [
    "#### 2 - retrieve the email address of all possible suppliers of \"Punk IPA\""
   ]
  },
  {
   "cell_type": "code",
   "execution_count": 54,
   "id": "539cc19f",
   "metadata": {
    "scrolled": true
   },
   "outputs": [
    {
     "name": "stdout",
     "output_type": "stream",
     "text": [
      " * mysql+mysqlconnector://root:***@db\n",
      "3 rows affected.\n"
     ]
    },
    {
     "data": {
      "text/html": [
       "<table>\n",
       "    <tr>\n",
       "        <th>email</th>\n",
       "    </tr>\n",
       "    <tr>\n",
       "        <td>anewemail@ahop.com</td>\n",
       "    </tr>\n",
       "    <tr>\n",
       "        <td>myemail@wildhops.it</td>\n",
       "    </tr>\n",
       "    <tr>\n",
       "        <td>beer@beerparadise.it</td>\n",
       "    </tr>\n",
       "</table>"
      ],
      "text/plain": [
       "[('anewemail@ahop.com',), ('myemail@wildhops.it',), ('beer@beerparadise.it',)]"
      ]
     },
     "execution_count": 54,
     "metadata": {},
     "output_type": "execute_result"
    }
   ],
   "source": [
    "%%sql\n",
    "\n",
    "SELECT suppliers.email \n",
    "FROM supplier_to_product\n",
    "INNER JOIN suppliers ON supplier_to_product.supID = suppliers.supplierID\n",
    "INNER JOIN products ON supplier_to_product.prodID = products.productID\n",
    "WHERE products.productName = \"Punk IPA\";"
   ]
  },
  {
   "cell_type": "markdown",
   "id": "2a352e19",
   "metadata": {},
   "source": [
    "#### 3 - list the unit price of all products supplied by Italian firms, listed in descending order   "
   ]
  },
  {
   "cell_type": "code",
   "execution_count": 55,
   "id": "4e189810",
   "metadata": {},
   "outputs": [
    {
     "name": "stdout",
     "output_type": "stream",
     "text": [
      " * mysql+mysqlconnector://root:***@db\n",
      "4 rows affected.\n"
     ]
    },
    {
     "data": {
      "text/html": [
       "<table>\n",
       "    <tr>\n",
       "        <th>unitPrice</th>\n",
       "        <th>productName</th>\n",
       "    </tr>\n",
       "    <tr>\n",
       "        <td>5.2</td>\n",
       "        <td>Punk IPA</td>\n",
       "    </tr>\n",
       "    <tr>\n",
       "        <td>4.9</td>\n",
       "        <td>Founders Porter</td>\n",
       "    </tr>\n",
       "    <tr>\n",
       "        <td>4.5</td>\n",
       "        <td>HB Dunkel</td>\n",
       "    </tr>\n",
       "    <tr>\n",
       "        <td>3.7</td>\n",
       "        <td>Damm Complot</td>\n",
       "    </tr>\n",
       "</table>"
      ],
      "text/plain": [
       "[(5.2, 'Punk IPA'),\n",
       " (4.9, 'Founders Porter'),\n",
       " (4.5, 'HB Dunkel'),\n",
       " (3.7, 'Damm Complot')]"
      ]
     },
     "execution_count": 55,
     "metadata": {},
     "output_type": "execute_result"
    }
   ],
   "source": [
    "%%sql\n",
    "\n",
    "SELECT DISTINCT products.unitPrice, products.productName\n",
    "FROM supplier_to_product\n",
    "INNER JOIN suppliers ON supplier_to_product.supID = suppliers.supplierID\n",
    "INNER JOIN products ON supplier_to_product.prodID = products.productID\n",
    "WHERE suppliers.countryCode = \"ITA\"\n",
    "ORDER BY unitPrice DESC;"
   ]
  },
  {
   "cell_type": "markdown",
   "id": "213be6c6",
   "metadata": {},
   "source": [
    "## 05 Queries on well-formed DBs\n",
    "\n",
    "In MySQL we can load entire DBs from external files.\n",
    "\n",
    "The files will contain the full DB structure (tables and constraints) and will populate all tables with all records \n",
    "\n",
    "To load a DB into the MySQL server from the interactive docker shell, we can simply do the following:\n",
    "\n",
    "1. Create a new DB named `world`\n",
    "2. Import the content of the file `/mapd-workspace/dbs/world.sql` into the newly created DB via\n",
    "    \n",
    "```bash\n",
    "$ mysql -u root -p world < /mapd-workspace/dbs/world.sql\n",
    "```\n",
    "\n",
    "_NB_: The `opt/workspace` directory has been defined as a Docker Volume, and is a shared location with your computer..."
   ]
  },
  {
   "cell_type": "markdown",
   "id": "33389e65",
   "metadata": {},
   "source": [
    "Using the `world` DB, perform queries to answer the folliwing questions.\n",
    "\n",
    "Additional references can be found here https://dev.mysql.com/doc/world-setup/en/\n",
    "\n",
    "\n",
    "Use a single query to answer the questions\n",
    "\n",
    "1. Which country has the largest population?\n",
    "2. Get the total number of cities in Canada.\n",
    "3. Select the country with the most cities.\n",
    "4. List all the languages spoken in the Southeast Asia region.\n",
    "5. Identify the 5 most spoken language by number of countries.\n",
    "6. What is the total population of the cities in the Caribbean region?\n",
    "7. What Countries have a City named \"Kingston\"?\n",
    "8. Plot the population density by country, limiting to the 25 with least density.\n",
    "9. Plot the GNP (Gross Nation Product) of all countries that become independent between 1850 and 1910, limiting to the 10 with highest GNP.\n",
    "10. Create a scatter plot of the life expentency vs the GNP of all countries that have Spanish as their Official language.\n",
    "\n",
    "\n",
    "Suggestions:\n",
    "- Start by inspecting the DB tables structure\n",
    "- When in doubt, check the table content by selecting a few lines (use `LIMIT` to avoid returining all records)\n",
    "- Before finalizing the query, you can always perform \"intermediate\" queries to check if complex operations (groupby and join mostly) are stated correctly"
   ]
  },
  {
   "cell_type": "code",
   "execution_count": 56,
   "id": "55584aaf",
   "metadata": {},
   "outputs": [
    {
     "name": "stdout",
     "output_type": "stream",
     "text": [
      " * mysql+mysqlconnector://root:***@db\n",
      "0 rows affected.\n",
      "3 rows affected.\n"
     ]
    },
    {
     "data": {
      "text/html": [
       "<table>\n",
       "    <tr>\n",
       "        <th>Tables_in_world</th>\n",
       "    </tr>\n",
       "    <tr>\n",
       "        <td>city</td>\n",
       "    </tr>\n",
       "    <tr>\n",
       "        <td>country</td>\n",
       "    </tr>\n",
       "    <tr>\n",
       "        <td>countrylanguage</td>\n",
       "    </tr>\n",
       "</table>"
      ],
      "text/plain": [
       "[('city',), ('country',), ('countrylanguage',)]"
      ]
     },
     "execution_count": 56,
     "metadata": {},
     "output_type": "execute_result"
    }
   ],
   "source": [
    "%%sql\n",
    "\n",
    "USE world; \n",
    "\n",
    "SHOW TABLES;"
   ]
  },
  {
   "cell_type": "code",
   "execution_count": 135,
   "id": "1425e929",
   "metadata": {},
   "outputs": [
    {
     "name": "stdout",
     "output_type": "stream",
     "text": [
      " * mysql+mysqlconnector://root:***@db\n",
      "5 rows affected.\n"
     ]
    },
    {
     "data": {
      "text/html": [
       "<table>\n",
       "    <tr>\n",
       "        <th>ID</th>\n",
       "        <th>Name</th>\n",
       "        <th>CountryCode</th>\n",
       "        <th>District</th>\n",
       "        <th>Population</th>\n",
       "    </tr>\n",
       "    <tr>\n",
       "        <td>1</td>\n",
       "        <td>Kabul</td>\n",
       "        <td>AFG</td>\n",
       "        <td>Kabol</td>\n",
       "        <td>1780000</td>\n",
       "    </tr>\n",
       "    <tr>\n",
       "        <td>2</td>\n",
       "        <td>Qandahar</td>\n",
       "        <td>AFG</td>\n",
       "        <td>Qandahar</td>\n",
       "        <td>237500</td>\n",
       "    </tr>\n",
       "    <tr>\n",
       "        <td>3</td>\n",
       "        <td>Herat</td>\n",
       "        <td>AFG</td>\n",
       "        <td>Herat</td>\n",
       "        <td>186800</td>\n",
       "    </tr>\n",
       "    <tr>\n",
       "        <td>4</td>\n",
       "        <td>Mazar-e-Sharif</td>\n",
       "        <td>AFG</td>\n",
       "        <td>Balkh</td>\n",
       "        <td>127800</td>\n",
       "    </tr>\n",
       "    <tr>\n",
       "        <td>5</td>\n",
       "        <td>Amsterdam</td>\n",
       "        <td>NLD</td>\n",
       "        <td>Noord-Holland</td>\n",
       "        <td>731200</td>\n",
       "    </tr>\n",
       "</table>"
      ],
      "text/plain": [
       "[(1, 'Kabul', 'AFG', 'Kabol', 1780000),\n",
       " (2, 'Qandahar', 'AFG', 'Qandahar', 237500),\n",
       " (3, 'Herat', 'AFG', 'Herat', 186800),\n",
       " (4, 'Mazar-e-Sharif', 'AFG', 'Balkh', 127800),\n",
       " (5, 'Amsterdam', 'NLD', 'Noord-Holland', 731200)]"
      ]
     },
     "execution_count": 135,
     "metadata": {},
     "output_type": "execute_result"
    }
   ],
   "source": [
    "%%sql\n",
    "\n",
    "SELECT * FROM city\n",
    "LIMIT 5;"
   ]
  },
  {
   "cell_type": "code",
   "execution_count": 96,
   "id": "1af70608",
   "metadata": {},
   "outputs": [
    {
     "name": "stdout",
     "output_type": "stream",
     "text": [
      " * mysql+mysqlconnector://root:***@db\n",
      "5 rows affected.\n"
     ]
    },
    {
     "data": {
      "text/html": [
       "<table>\n",
       "    <tr>\n",
       "        <th>Code</th>\n",
       "        <th>Name</th>\n",
       "        <th>Continent</th>\n",
       "        <th>Region</th>\n",
       "        <th>SurfaceArea</th>\n",
       "        <th>IndepYear</th>\n",
       "        <th>Population</th>\n",
       "        <th>LifeExpectancy</th>\n",
       "        <th>GNP</th>\n",
       "        <th>GNPOld</th>\n",
       "        <th>LocalName</th>\n",
       "        <th>GovernmentForm</th>\n",
       "        <th>HeadOfState</th>\n",
       "        <th>Capital</th>\n",
       "        <th>Code2</th>\n",
       "    </tr>\n",
       "    <tr>\n",
       "        <td>ABW</td>\n",
       "        <td>Aruba</td>\n",
       "        <td>North America</td>\n",
       "        <td>Caribbean</td>\n",
       "        <td>193.00</td>\n",
       "        <td>None</td>\n",
       "        <td>103000</td>\n",
       "        <td>78.4</td>\n",
       "        <td>828.00</td>\n",
       "        <td>793.00</td>\n",
       "        <td>Aruba</td>\n",
       "        <td>Nonmetropolitan Territory of The Netherlands</td>\n",
       "        <td>Beatrix</td>\n",
       "        <td>129</td>\n",
       "        <td>AW</td>\n",
       "    </tr>\n",
       "    <tr>\n",
       "        <td>AFG</td>\n",
       "        <td>Afghanistan</td>\n",
       "        <td>Asia</td>\n",
       "        <td>Southern and Central Asia</td>\n",
       "        <td>652090.00</td>\n",
       "        <td>1919</td>\n",
       "        <td>22720000</td>\n",
       "        <td>45.9</td>\n",
       "        <td>5976.00</td>\n",
       "        <td>None</td>\n",
       "        <td>Afganistan/Afqanestan</td>\n",
       "        <td>Islamic Emirate</td>\n",
       "        <td>Mohammad Omar</td>\n",
       "        <td>1</td>\n",
       "        <td>AF</td>\n",
       "    </tr>\n",
       "    <tr>\n",
       "        <td>AGO</td>\n",
       "        <td>Angola</td>\n",
       "        <td>Africa</td>\n",
       "        <td>Central Africa</td>\n",
       "        <td>1246700.00</td>\n",
       "        <td>1975</td>\n",
       "        <td>12878000</td>\n",
       "        <td>38.3</td>\n",
       "        <td>6648.00</td>\n",
       "        <td>7984.00</td>\n",
       "        <td>Angola</td>\n",
       "        <td>Republic</td>\n",
       "        <td>José Eduardo dos Santos</td>\n",
       "        <td>56</td>\n",
       "        <td>AO</td>\n",
       "    </tr>\n",
       "    <tr>\n",
       "        <td>AIA</td>\n",
       "        <td>Anguilla</td>\n",
       "        <td>North America</td>\n",
       "        <td>Caribbean</td>\n",
       "        <td>96.00</td>\n",
       "        <td>None</td>\n",
       "        <td>8000</td>\n",
       "        <td>76.1</td>\n",
       "        <td>63.20</td>\n",
       "        <td>None</td>\n",
       "        <td>Anguilla</td>\n",
       "        <td>Dependent Territory of the UK</td>\n",
       "        <td>Elisabeth II</td>\n",
       "        <td>62</td>\n",
       "        <td>AI</td>\n",
       "    </tr>\n",
       "    <tr>\n",
       "        <td>ALB</td>\n",
       "        <td>Albania</td>\n",
       "        <td>Europe</td>\n",
       "        <td>Southern Europe</td>\n",
       "        <td>28748.00</td>\n",
       "        <td>1912</td>\n",
       "        <td>3401200</td>\n",
       "        <td>71.6</td>\n",
       "        <td>3205.00</td>\n",
       "        <td>2500.00</td>\n",
       "        <td>Shqipëria</td>\n",
       "        <td>Republic</td>\n",
       "        <td>Rexhep Mejdani</td>\n",
       "        <td>34</td>\n",
       "        <td>AL</td>\n",
       "    </tr>\n",
       "</table>"
      ],
      "text/plain": [
       "[('ABW', 'Aruba', 'North America', 'Caribbean', Decimal('193.00'), None, 103000, Decimal('78.4'), Decimal('828.00'), Decimal('793.00'), 'Aruba', 'Nonmetropolitan Territory of The Netherlands', 'Beatrix', 129, 'AW'),\n",
       " ('AFG', 'Afghanistan', 'Asia', 'Southern and Central Asia', Decimal('652090.00'), 1919, 22720000, Decimal('45.9'), Decimal('5976.00'), None, 'Afganistan/Afqanestan', 'Islamic Emirate', 'Mohammad Omar', 1, 'AF'),\n",
       " ('AGO', 'Angola', 'Africa', 'Central Africa', Decimal('1246700.00'), 1975, 12878000, Decimal('38.3'), Decimal('6648.00'), Decimal('7984.00'), 'Angola', 'Republic', 'José Eduardo dos Santos', 56, 'AO'),\n",
       " ('AIA', 'Anguilla', 'North America', 'Caribbean', Decimal('96.00'), None, 8000, Decimal('76.1'), Decimal('63.20'), None, 'Anguilla', 'Dependent Territory of the UK', 'Elisabeth II', 62, 'AI'),\n",
       " ('ALB', 'Albania', 'Europe', 'Southern Europe', Decimal('28748.00'), 1912, 3401200, Decimal('71.6'), Decimal('3205.00'), Decimal('2500.00'), 'Shqipëria', 'Republic', 'Rexhep Mejdani', 34, 'AL')]"
      ]
     },
     "execution_count": 96,
     "metadata": {},
     "output_type": "execute_result"
    }
   ],
   "source": [
    "%%sql\n",
    "\n",
    "SELECT * FROM country\n",
    "LIMIT 5;"
   ]
  },
  {
   "cell_type": "code",
   "execution_count": 63,
   "id": "05dd6ffb",
   "metadata": {},
   "outputs": [
    {
     "name": "stdout",
     "output_type": "stream",
     "text": [
      " * mysql+mysqlconnector://root:***@db\n",
      "5 rows affected.\n"
     ]
    },
    {
     "data": {
      "text/html": [
       "<table>\n",
       "    <tr>\n",
       "        <th>CountryCode</th>\n",
       "        <th>Language</th>\n",
       "        <th>IsOfficial</th>\n",
       "        <th>Percentage</th>\n",
       "    </tr>\n",
       "    <tr>\n",
       "        <td>ABW</td>\n",
       "        <td>Dutch</td>\n",
       "        <td>T</td>\n",
       "        <td>5.3</td>\n",
       "    </tr>\n",
       "    <tr>\n",
       "        <td>ABW</td>\n",
       "        <td>English</td>\n",
       "        <td>F</td>\n",
       "        <td>9.5</td>\n",
       "    </tr>\n",
       "    <tr>\n",
       "        <td>ABW</td>\n",
       "        <td>Papiamento</td>\n",
       "        <td>F</td>\n",
       "        <td>76.7</td>\n",
       "    </tr>\n",
       "    <tr>\n",
       "        <td>ABW</td>\n",
       "        <td>Spanish</td>\n",
       "        <td>F</td>\n",
       "        <td>7.4</td>\n",
       "    </tr>\n",
       "    <tr>\n",
       "        <td>AFG</td>\n",
       "        <td>Balochi</td>\n",
       "        <td>F</td>\n",
       "        <td>0.9</td>\n",
       "    </tr>\n",
       "</table>"
      ],
      "text/plain": [
       "[('ABW', 'Dutch', 'T', Decimal('5.3')),\n",
       " ('ABW', 'English', 'F', Decimal('9.5')),\n",
       " ('ABW', 'Papiamento', 'F', Decimal('76.7')),\n",
       " ('ABW', 'Spanish', 'F', Decimal('7.4')),\n",
       " ('AFG', 'Balochi', 'F', Decimal('0.9'))]"
      ]
     },
     "execution_count": 63,
     "metadata": {},
     "output_type": "execute_result"
    }
   ],
   "source": [
    "%%sql\n",
    "\n",
    "SELECT * FROM countrylanguage\n",
    "LIMIT 5;"
   ]
  },
  {
   "cell_type": "markdown",
   "id": "962bf1c9",
   "metadata": {},
   "source": [
    "#### 1 - Which country has the largest population?"
   ]
  },
  {
   "cell_type": "code",
   "execution_count": 151,
   "id": "82ba1e41",
   "metadata": {},
   "outputs": [
    {
     "name": "stdout",
     "output_type": "stream",
     "text": [
      " * mysql+mysqlconnector://root:***@db\n",
      "1 rows affected.\n"
     ]
    },
    {
     "data": {
      "text/html": [
       "<table>\n",
       "    <tr>\n",
       "        <th>Name</th>\n",
       "        <th>Population</th>\n",
       "    </tr>\n",
       "    <tr>\n",
       "        <td>China</td>\n",
       "        <td>1277558000</td>\n",
       "    </tr>\n",
       "</table>"
      ],
      "text/plain": [
       "[('China', 1277558000)]"
      ]
     },
     "execution_count": 151,
     "metadata": {},
     "output_type": "execute_result"
    }
   ],
   "source": [
    "%%sql \n",
    "\n",
    "SELECT Name, Population  \n",
    "FROM country\n",
    "ORDER BY Population DESC\n",
    "LIMIT 1;"
   ]
  },
  {
   "cell_type": "markdown",
   "id": "132f54ba",
   "metadata": {},
   "source": [
    "#### 2 - Get the total number of cities in Canada."
   ]
  },
  {
   "cell_type": "code",
   "execution_count": 79,
   "id": "221ca3ab",
   "metadata": {},
   "outputs": [
    {
     "name": "stdout",
     "output_type": "stream",
     "text": [
      " * mysql+mysqlconnector://root:***@db\n",
      "1 rows affected.\n"
     ]
    },
    {
     "data": {
      "text/html": [
       "<table>\n",
       "    <tr>\n",
       "        <th>CitiesInCanada</th>\n",
       "    </tr>\n",
       "    <tr>\n",
       "        <td>49</td>\n",
       "    </tr>\n",
       "</table>"
      ],
      "text/plain": [
       "[(49,)]"
      ]
     },
     "execution_count": 79,
     "metadata": {},
     "output_type": "execute_result"
    }
   ],
   "source": [
    "%%sql \n",
    "\n",
    "SELECT COUNT(Name) AS CitiesInCanada\n",
    "FROM city\n",
    "WHERE (CountryCode = \"CAN\");"
   ]
  },
  {
   "cell_type": "markdown",
   "id": "3aa6bf99",
   "metadata": {},
   "source": [
    "#### 3 - Select the country with the most cities."
   ]
  },
  {
   "cell_type": "code",
   "execution_count": 93,
   "id": "d934f4d9",
   "metadata": {},
   "outputs": [
    {
     "name": "stdout",
     "output_type": "stream",
     "text": [
      " * mysql+mysqlconnector://root:***@db\n",
      "1 rows affected.\n"
     ]
    },
    {
     "data": {
      "text/html": [
       "<table>\n",
       "    <tr>\n",
       "        <th>CountryCode</th>\n",
       "        <th>CountryWithMostCities</th>\n",
       "    </tr>\n",
       "    <tr>\n",
       "        <td>CHN</td>\n",
       "        <td>363</td>\n",
       "    </tr>\n",
       "</table>"
      ],
      "text/plain": [
       "[('CHN', 363)]"
      ]
     },
     "execution_count": 93,
     "metadata": {},
     "output_type": "execute_result"
    }
   ],
   "source": [
    "%%sql \n",
    "\n",
    "SELECT CountryCode, COUNT(Name) AS CountryWithMostCities\n",
    "FROM city\n",
    "GROUP BY CountryCode\n",
    "ORDER BY CountryWithMostCities DESC\n",
    "LIMIT 1;"
   ]
  },
  {
   "cell_type": "markdown",
   "id": "ede586ff",
   "metadata": {},
   "source": [
    "#### 4 - List all the languages spoken in the 'Southeast Asia' region."
   ]
  },
  {
   "cell_type": "code",
   "execution_count": 153,
   "id": "cdbcecc3",
   "metadata": {},
   "outputs": [
    {
     "name": "stdout",
     "output_type": "stream",
     "text": [
      " * mysql+mysqlconnector://root:***@db\n",
      "47 rows affected.\n"
     ]
    },
    {
     "data": {
      "text/html": [
       "<table>\n",
       "    <tr>\n",
       "        <th>Language</th>\n",
       "    </tr>\n",
       "    <tr>\n",
       "        <td>Bali</td>\n",
       "    </tr>\n",
       "    <tr>\n",
       "        <td>Banja</td>\n",
       "    </tr>\n",
       "    <tr>\n",
       "        <td>Batakki</td>\n",
       "    </tr>\n",
       "    <tr>\n",
       "        <td>Bicol</td>\n",
       "    </tr>\n",
       "    <tr>\n",
       "        <td>Bugi</td>\n",
       "    </tr>\n",
       "    <tr>\n",
       "        <td>Burmese</td>\n",
       "    </tr>\n",
       "    <tr>\n",
       "        <td>Cebuano</td>\n",
       "    </tr>\n",
       "    <tr>\n",
       "        <td>Chin</td>\n",
       "    </tr>\n",
       "    <tr>\n",
       "        <td>Chinese</td>\n",
       "    </tr>\n",
       "    <tr>\n",
       "        <td>Dusun</td>\n",
       "    </tr>\n",
       "    <tr>\n",
       "        <td>English</td>\n",
       "    </tr>\n",
       "    <tr>\n",
       "        <td>Hiligaynon</td>\n",
       "    </tr>\n",
       "    <tr>\n",
       "        <td>Iban</td>\n",
       "    </tr>\n",
       "    <tr>\n",
       "        <td>Ilocano</td>\n",
       "    </tr>\n",
       "    <tr>\n",
       "        <td>Javanese</td>\n",
       "    </tr>\n",
       "    <tr>\n",
       "        <td>Kachin</td>\n",
       "    </tr>\n",
       "    <tr>\n",
       "        <td>Karen</td>\n",
       "    </tr>\n",
       "    <tr>\n",
       "        <td>Kayah</td>\n",
       "    </tr>\n",
       "    <tr>\n",
       "        <td>Khmer</td>\n",
       "    </tr>\n",
       "    <tr>\n",
       "        <td>Kuy</td>\n",
       "    </tr>\n",
       "    <tr>\n",
       "        <td>Lao</td>\n",
       "    </tr>\n",
       "    <tr>\n",
       "        <td>Lao-Soung</td>\n",
       "    </tr>\n",
       "    <tr>\n",
       "        <td>Madura</td>\n",
       "    </tr>\n",
       "    <tr>\n",
       "        <td>Maguindanao</td>\n",
       "    </tr>\n",
       "    <tr>\n",
       "        <td>Malay</td>\n",
       "    </tr>\n",
       "    <tr>\n",
       "        <td>Malay-English</td>\n",
       "    </tr>\n",
       "    <tr>\n",
       "        <td>Man</td>\n",
       "    </tr>\n",
       "    <tr>\n",
       "        <td>Maranao</td>\n",
       "    </tr>\n",
       "    <tr>\n",
       "        <td>Miao</td>\n",
       "    </tr>\n",
       "    <tr>\n",
       "        <td>Minangkabau</td>\n",
       "    </tr>\n",
       "    <tr>\n",
       "        <td>Mon</td>\n",
       "    </tr>\n",
       "    <tr>\n",
       "        <td>Mon-khmer</td>\n",
       "    </tr>\n",
       "    <tr>\n",
       "        <td>Muong</td>\n",
       "    </tr>\n",
       "    <tr>\n",
       "        <td>Nung</td>\n",
       "    </tr>\n",
       "    <tr>\n",
       "        <td>Pampango</td>\n",
       "    </tr>\n",
       "    <tr>\n",
       "        <td>Pangasinan</td>\n",
       "    </tr>\n",
       "    <tr>\n",
       "        <td>Pilipino</td>\n",
       "    </tr>\n",
       "    <tr>\n",
       "        <td>Portuguese</td>\n",
       "    </tr>\n",
       "    <tr>\n",
       "        <td>Rakhine</td>\n",
       "    </tr>\n",
       "    <tr>\n",
       "        <td>Shan</td>\n",
       "    </tr>\n",
       "    <tr>\n",
       "        <td>Sunda</td>\n",
       "    </tr>\n",
       "    <tr>\n",
       "        <td>Tamil</td>\n",
       "    </tr>\n",
       "    <tr>\n",
       "        <td>Thai</td>\n",
       "    </tr>\n",
       "    <tr>\n",
       "        <td>Tho</td>\n",
       "    </tr>\n",
       "    <tr>\n",
       "        <td>Tšam</td>\n",
       "    </tr>\n",
       "    <tr>\n",
       "        <td>Vietnamese</td>\n",
       "    </tr>\n",
       "    <tr>\n",
       "        <td>Waray-waray</td>\n",
       "    </tr>\n",
       "</table>"
      ],
      "text/plain": [
       "[('Bali',),\n",
       " ('Banja',),\n",
       " ('Batakki',),\n",
       " ('Bicol',),\n",
       " ('Bugi',),\n",
       " ('Burmese',),\n",
       " ('Cebuano',),\n",
       " ('Chin',),\n",
       " ('Chinese',),\n",
       " ('Dusun',),\n",
       " ('English',),\n",
       " ('Hiligaynon',),\n",
       " ('Iban',),\n",
       " ('Ilocano',),\n",
       " ('Javanese',),\n",
       " ('Kachin',),\n",
       " ('Karen',),\n",
       " ('Kayah',),\n",
       " ('Khmer',),\n",
       " ('Kuy',),\n",
       " ('Lao',),\n",
       " ('Lao-Soung',),\n",
       " ('Madura',),\n",
       " ('Maguindanao',),\n",
       " ('Malay',),\n",
       " ('Malay-English',),\n",
       " ('Man',),\n",
       " ('Maranao',),\n",
       " ('Miao',),\n",
       " ('Minangkabau',),\n",
       " ('Mon',),\n",
       " ('Mon-khmer',),\n",
       " ('Muong',),\n",
       " ('Nung',),\n",
       " ('Pampango',),\n",
       " ('Pangasinan',),\n",
       " ('Pilipino',),\n",
       " ('Portuguese',),\n",
       " ('Rakhine',),\n",
       " ('Shan',),\n",
       " ('Sunda',),\n",
       " ('Tamil',),\n",
       " ('Thai',),\n",
       " ('Tho',),\n",
       " ('Tšam',),\n",
       " ('Vietnamese',),\n",
       " ('Waray-waray',)]"
      ]
     },
     "execution_count": 153,
     "metadata": {},
     "output_type": "execute_result"
    }
   ],
   "source": [
    "%%sql\n",
    "\n",
    "SELECT DISTINCT cl.Language\n",
    "FROM countrylanguage cl\n",
    "INNER JOIN country c ON cl.CountryCode = c.Code \n",
    "WHERE (c.Region = \"Southeast Asia\")\n",
    "ORDER BY cl.Language;"
   ]
  },
  {
   "cell_type": "markdown",
   "id": "e78c356c",
   "metadata": {},
   "source": [
    "#### 5 - Identify the 5 most spoken languages by number of countries."
   ]
  },
  {
   "cell_type": "code",
   "execution_count": 121,
   "id": "f0a4bd62",
   "metadata": {},
   "outputs": [
    {
     "name": "stdout",
     "output_type": "stream",
     "text": [
      " * mysql+mysqlconnector://root:***@db\n",
      "5 rows affected.\n"
     ]
    },
    {
     "data": {
      "text/html": [
       "<table>\n",
       "    <tr>\n",
       "        <th>Language</th>\n",
       "        <th>NumberOfCountris</th>\n",
       "    </tr>\n",
       "    <tr>\n",
       "        <td>English</td>\n",
       "        <td>60</td>\n",
       "    </tr>\n",
       "    <tr>\n",
       "        <td>Arabic</td>\n",
       "        <td>33</td>\n",
       "    </tr>\n",
       "    <tr>\n",
       "        <td>Spanish</td>\n",
       "        <td>28</td>\n",
       "    </tr>\n",
       "    <tr>\n",
       "        <td>French</td>\n",
       "        <td>25</td>\n",
       "    </tr>\n",
       "    <tr>\n",
       "        <td>German</td>\n",
       "        <td>19</td>\n",
       "    </tr>\n",
       "</table>"
      ],
      "text/plain": [
       "[('English', 60),\n",
       " ('Arabic', 33),\n",
       " ('Spanish', 28),\n",
       " ('French', 25),\n",
       " ('German', 19)]"
      ]
     },
     "execution_count": 121,
     "metadata": {},
     "output_type": "execute_result"
    }
   ],
   "source": [
    "%%sql\n",
    "\n",
    "SELECT cl.Language, COUNT(cl.Language) AS NumberOfCountris\n",
    "FROM countrylanguage cl\n",
    "GROUP BY cl.Language\n",
    "ORDER BY NumberOfCountris DESC\n",
    "LIMIT 5;"
   ]
  },
  {
   "cell_type": "markdown",
   "id": "0c6bd462",
   "metadata": {},
   "source": [
    "#### 6 - What is the total population of the cities in the Caribbean region?"
   ]
  },
  {
   "cell_type": "code",
   "execution_count": 159,
   "id": "e9391107",
   "metadata": {},
   "outputs": [
    {
     "name": "stdout",
     "output_type": "stream",
     "text": [
      " * mysql+mysqlconnector://root:***@db\n",
      "1 rows affected.\n"
     ]
    },
    {
     "data": {
      "text/html": [
       "<table>\n",
       "    <tr>\n",
       "        <th>TotPopulation</th>\n",
       "    </tr>\n",
       "    <tr>\n",
       "        <td>11067550</td>\n",
       "    </tr>\n",
       "</table>"
      ],
      "text/plain": [
       "[(Decimal('11067550'),)]"
      ]
     },
     "execution_count": 159,
     "metadata": {},
     "output_type": "execute_result"
    }
   ],
   "source": [
    "%%sql\n",
    "\n",
    "SELECT SUM(c.Population) AS TotPopulation\n",
    "FROM city c\n",
    "LEFT JOIN country co ON c.CountryCode = co.Code\n",
    "WHERE (co.Region = \"Caribbean\");"
   ]
  },
  {
   "cell_type": "markdown",
   "id": "88ca7683",
   "metadata": {},
   "source": [
    "#### 7 - What Countries have a City named \"Kingston\"?"
   ]
  },
  {
   "cell_type": "code",
   "execution_count": 160,
   "id": "39ed0c03",
   "metadata": {},
   "outputs": [
    {
     "name": "stdout",
     "output_type": "stream",
     "text": [
      " * mysql+mysqlconnector://root:***@db\n",
      "2 rows affected.\n"
     ]
    },
    {
     "data": {
      "text/html": [
       "<table>\n",
       "    <tr>\n",
       "        <th>Name</th>\n",
       "        <th>Region</th>\n",
       "    </tr>\n",
       "    <tr>\n",
       "        <td>Jamaica</td>\n",
       "        <td>Caribbean</td>\n",
       "    </tr>\n",
       "    <tr>\n",
       "        <td>Norfolk Island</td>\n",
       "        <td>Australia and New Zealand</td>\n",
       "    </tr>\n",
       "</table>"
      ],
      "text/plain": [
       "[('Jamaica', 'Caribbean'), ('Norfolk Island', 'Australia and New Zealand')]"
      ]
     },
     "execution_count": 160,
     "metadata": {},
     "output_type": "execute_result"
    }
   ],
   "source": [
    "%%sql\n",
    "\n",
    "SELECT co.Name, co.Region\n",
    "FROM country co\n",
    "RIGHT JOIN city c ON co.Code = c.CountryCode\n",
    "WHERE (c.Name = \"Kingston\");"
   ]
  },
  {
   "cell_type": "markdown",
   "id": "51b4dbf2",
   "metadata": {},
   "source": [
    "#### 8 - Plot the population density by country, limiting to the 25 with least density."
   ]
  },
  {
   "cell_type": "code",
   "execution_count": 161,
   "id": "7f953dd0",
   "metadata": {},
   "outputs": [
    {
     "name": "stdout",
     "output_type": "stream",
     "text": [
      " * mysql+mysqlconnector://root:***@db\n",
      "25 rows affected.\n",
      "+-------------------+----------------------------------------------+\n",
      "| PopulationDensity |                     Name                     |\n",
      "+-------------------+----------------------------------------------+\n",
      "|       0.0000      |     United States Minor Outlying Islands     |\n",
      "|       0.0000      |        British Indian Ocean Territory        |\n",
      "|       0.0000      |      Heard Island and McDonald Islands       |\n",
      "|       0.0000      | South Georgia and the South Sandwich Islands |\n",
      "|       0.0000      |                Bouvet Island                 |\n",
      "|       0.0000      |         French Southern territories          |\n",
      "|       0.0000      |                  Antarctica                  |\n",
      "|       0.0259      |                  Greenland                   |\n",
      "|       0.0513      |            Svalbard and Jan Mayen            |\n",
      "|       0.1643      |               Falkland Islands               |\n",
      "|       1.0204      |                   Pitcairn                   |\n",
      "|       1.1015      |                Western Sahara                |\n",
      "|       1.6993      |                   Mongolia                   |\n",
      "|       2.0111      |                French Guiana                 |\n",
      "|       2.0939      |                   Namibia                    |\n",
      "|       2.4397      |                  Australia                   |\n",
      "|       2.5541      |                   Suriname                   |\n",
      "|       2.6036      |                  Mauritania                  |\n",
      "|       2.7087      |                   Iceland                    |\n",
      "|       2.7882      |                   Botswana                   |\n",
      "|       3.1239      |                    Canada                    |\n",
      "|       3.1855      |            Libyan Arab Jamahiriya            |\n",
      "|       4.0052      |                    Guyana                    |\n",
      "|       4.5803      |                    Gabon                     |\n",
      "|       5.8027      |           Central African Republic           |\n",
      "+-------------------+----------------------------------------------+\n"
     ]
    },
    {
     "data": {
      "image/png": "[encoded data removed]",
      "text/plain": [
       "<Figure size 1600x300 with 1 Axes>"
      ]
     },
     "metadata": {},
     "output_type": "display_data"
    }
   ],
   "source": [
    "res_ = %sql SELECT co.Population/co.SurfaceArea AS PopulationDensity, co.Name FROM country co ORDER BY PopulationDensity LIMIT 25;\n",
    "\n",
    "print(res_)\n",
    "import matplotlib.pyplot as plt\n",
    "plt.figure(figsize=(16,3))\n",
    "res_.bar();\n",
    "plt.xticks(rotation='vertical');"
   ]
  },
  {
   "cell_type": "markdown",
   "id": "03f10978",
   "metadata": {},
   "source": [
    "#### 9 - Plot the GNP (Gross Nation Product) of all countries that become independent between 1850 and 1910, limiting to the 10 with highest GNP."
   ]
  },
  {
   "cell_type": "code",
   "execution_count": 142,
   "id": "1c792e1b",
   "metadata": {},
   "outputs": [
    {
     "name": "stdout",
     "output_type": "stream",
     "text": [
      " * mysql+mysqlconnector://root:***@db\n",
      "10 rows affected.\n",
      "+------------+--------------+\n",
      "|    GNP     |     Name     |\n",
      "+------------+--------------+\n",
      "| 1161755.00 |    Italy     |\n",
      "| 598862.00  |    Canada    |\n",
      "| 351182.00  |  Australia   |\n",
      "| 195746.00  |     Iran     |\n",
      "| 145895.00  |    Norway    |\n",
      "| 116729.00  | South Africa |\n",
      "|  54669.00  | New Zealand  |\n",
      "|  38158.00  |   Romania    |\n",
      "|  17843.00  |     Cuba     |\n",
      "|  16321.00  |  Luxembourg  |\n",
      "+------------+--------------+\n"
     ]
    },
    {
     "data": {
      "image/png": "[encoded data removed]",
      "text/plain": [
       "<Figure size 1600x300 with 1 Axes>"
      ]
     },
     "metadata": {},
     "output_type": "display_data"
    }
   ],
   "source": [
    "res_ = %sql SELECT co.GNP, co.Name FROM country co WHERE (co.IndepYear BETWEEN 1850 AND 1910) ORDER BY GNP DESC LIMIT 10;\n",
    "\n",
    "print(res_)\n",
    "\n",
    "plt.figure(figsize=(16,3))\n",
    "res_.bar();\n",
    "plt.xticks(rotation='vertical');"
   ]
  },
  {
   "cell_type": "markdown",
   "id": "ca8c72b6",
   "metadata": {},
   "source": [
    "#### 10 - Create a scatter plot of the life expentency vs the GNP of all countries that have Spanish as their Official language."
   ]
  },
  {
   "cell_type": "code",
   "execution_count": 164,
   "id": "8879653b",
   "metadata": {},
   "outputs": [
    {
     "name": "stdout",
     "output_type": "stream",
     "text": [
      " * mysql+mysqlconnector://root:***@db\n",
      "20 rows affected.\n",
      "+----------------+-----------+--------------------+\n",
      "| LifeExpectancy |    GNP    |        Name        |\n",
      "+----------------+-----------+--------------------+\n",
      "|      75.1      | 340238.00 |     Argentina      |\n",
      "|      63.7      |  8571.00  |      Bolivia       |\n",
      "|      75.7      |  72949.00 |       Chile        |\n",
      "|      70.3      | 102896.00 |      Colombia      |\n",
      "|      75.8      |  10226.00 |     Costa Rica     |\n",
      "|      76.2      |  17843.00 |        Cuba        |\n",
      "|      73.2      |  15846.00 | Dominican Republic |\n",
      "|      71.1      |  19770.00 |      Ecuador       |\n",
      "|      78.8      | 553233.00 |       Spain        |\n",
      "|      66.2      |  19008.00 |     Guatemala      |\n",
      "|      69.9      |  5333.00  |      Honduras      |\n",
      "|      71.5      | 414972.00 |       Mexico       |\n",
      "|      68.7      |  1988.00  |     Nicaragua      |\n",
      "|      75.5      |  9131.00  |       Panama       |\n",
      "|      70.0      |  64140.00 |        Peru        |\n",
      "|      75.6      |  34100.00 |    Puerto Rico     |\n",
      "|      73.7      |  8444.00  |      Paraguay      |\n",
      "|      69.7      |  11863.00 |    El Salvador     |\n",
      "|      75.2      |  20831.00 |      Uruguay       |\n",
      "|      73.1      |  95023.00 |     Venezuela      |\n",
      "+----------------+-----------+--------------------+\n"
     ]
    },
    {
     "data": {
      "image/png": "[encoded data removed]",
      "text/plain": [
       "<Figure size 800x600 with 1 Axes>"
      ]
     },
     "metadata": {},
     "output_type": "display_data"
    }
   ],
   "source": [
    "res_ = %sql SELECT co.LifeExpectancy, co.GNP, co.Name \\\n",
    "            FROM  country co\\\n",
    "            RIGHT JOIN countrylanguage cl ON co.Code = cl.CountryCode  \\\n",
    "            WHERE (cl.Language = \"Spanish\")\\\n",
    "            AND (cl.IsOfficial = \"T\"); # or AND IsOfficial = 1;\n",
    "\n",
    "print(res_)\n",
    "\n",
    "plt.figure(figsize=(8,6))\n",
    "for _ in res_:\n",
    "    plt.scatter(_[0],_[1],s=50);\n",
    "    plt.annotate(_[2], (float(_[0])*1.002,float(_[1])*1.002));\n",
    "plt.ylabel('GNP')\n",
    "plt.xlabel('LifeExpectancy')\n",
    "plt.yscale('log')\n",
    "plt.show()"
   ]
  },
  {
   "cell_type": "markdown",
   "id": "f65b5e6a",
   "metadata": {},
   "source": [
    "## 06 More on queries "
   ]
  },
  {
   "cell_type": "markdown",
   "id": "4d0da673",
   "metadata": {},
   "source": [
    "Let' import a well-structured DB, with several tables and relationships, to be used as a sandbox for further exercises on queries.\n",
    "\n",
    "The `.sql` file can be found at: `/mapd-workspace/dbs/IMDb_pruned.sql`.\n",
    "\n",
    "The DB is freely available and is taken from the IMDb (Internet Movie Database) website (https://www.imdb.com/interfaces/).\n",
    "\n",
    "The entire database is composed of a dozen of tables, hosing all people involved in Movies, Shorts, TV Show Epidoses and more since the 1890s. \n",
    "\n",
    "To simplify the execution of queries, we will work with a slimmed-down version of the entire DB, with still plenty of records for us to extract interesting information."
   ]
  },
  {
   "cell_type": "markdown",
   "id": "aa986853",
   "metadata": {},
   "source": [
    "1. Create a new DB named `IMDb`\n",
    "2. Import the content of the file `/mapd-workspace/dbs/IMDb_pruned.sql` into the newly created DB\n",
    "(this might take a minute or two...)"
   ]
  },
  {
   "cell_type": "markdown",
   "id": "33480edc",
   "metadata": {},
   "source": [
    "### Check which tables are available"
   ]
  },
  {
   "cell_type": "code",
   "execution_count": 17,
   "id": "afa74a9f",
   "metadata": {},
   "outputs": [
    {
     "name": "stdout",
     "output_type": "stream",
     "text": [
      " * mysql+mysqlconnector://root:***@db\n",
      "0 rows affected.\n",
      "7 rows affected.\n"
     ]
    },
    {
     "data": {
      "text/html": [
       "<table>\n",
       "    <tr>\n",
       "        <th>Tables_in_IMDb</th>\n",
       "    </tr>\n",
       "    <tr>\n",
       "        <td>Directors</td>\n",
       "    </tr>\n",
       "    <tr>\n",
       "        <td>Episode_belongs_to</td>\n",
       "    </tr>\n",
       "    <tr>\n",
       "        <td>Had_role</td>\n",
       "    </tr>\n",
       "    <tr>\n",
       "        <td>Names_</td>\n",
       "    </tr>\n",
       "    <tr>\n",
       "        <td>Title_genres</td>\n",
       "    </tr>\n",
       "    <tr>\n",
       "        <td>Title_ratings</td>\n",
       "    </tr>\n",
       "    <tr>\n",
       "        <td>Titles</td>\n",
       "    </tr>\n",
       "</table>"
      ],
      "text/plain": [
       "[('Directors',),\n",
       " ('Episode_belongs_to',),\n",
       " ('Had_role',),\n",
       " ('Names_',),\n",
       " ('Title_genres',),\n",
       " ('Title_ratings',),\n",
       " ('Titles',)]"
      ]
     },
     "execution_count": 17,
     "metadata": {},
     "output_type": "execute_result"
    }
   ],
   "source": [
    "%%sql\n",
    "\n",
    "USE IMDb;\n",
    "\n",
    "SHOW TABLES;"
   ]
  },
  {
   "cell_type": "markdown",
   "id": "3f1328fb",
   "metadata": {},
   "source": [
    "### Describe the content of table Names_"
   ]
  },
  {
   "cell_type": "code",
   "execution_count": 6,
   "id": "01d462ae",
   "metadata": {},
   "outputs": [
    {
     "name": "stdout",
     "output_type": "stream",
     "text": [
      " * mysql+mysqlconnector://root:***@db\n",
      "4 rows affected.\n"
     ]
    },
    {
     "data": {
      "text/html": [
       "<table>\n",
       "    <tr>\n",
       "        <th>Field</th>\n",
       "        <th>Type</th>\n",
       "        <th>Null</th>\n",
       "        <th>Key</th>\n",
       "        <th>Default</th>\n",
       "        <th>Extra</th>\n",
       "    </tr>\n",
       "    <tr>\n",
       "        <td>name_id</td>\n",
       "        <td>b&#x27;varchar(255)&#x27;</td>\n",
       "        <td>NO</td>\n",
       "        <td></td>\n",
       "        <td>None</td>\n",
       "        <td></td>\n",
       "    </tr>\n",
       "    <tr>\n",
       "        <td>name_</td>\n",
       "        <td>b&#x27;varchar(255)&#x27;</td>\n",
       "        <td>NO</td>\n",
       "        <td></td>\n",
       "        <td>None</td>\n",
       "        <td></td>\n",
       "    </tr>\n",
       "    <tr>\n",
       "        <td>birth_year</td>\n",
       "        <td>b&#x27;smallint&#x27;</td>\n",
       "        <td>YES</td>\n",
       "        <td></td>\n",
       "        <td>None</td>\n",
       "        <td></td>\n",
       "    </tr>\n",
       "    <tr>\n",
       "        <td>death_year</td>\n",
       "        <td>b&#x27;smallint&#x27;</td>\n",
       "        <td>YES</td>\n",
       "        <td></td>\n",
       "        <td>None</td>\n",
       "        <td></td>\n",
       "    </tr>\n",
       "</table>"
      ],
      "text/plain": [
       "[('name_id', b'varchar(255)', 'NO', '', None, ''),\n",
       " ('name_', b'varchar(255)', 'NO', '', None, ''),\n",
       " ('birth_year', b'smallint', 'YES', '', None, ''),\n",
       " ('death_year', b'smallint', 'YES', '', None, '')]"
      ]
     },
     "execution_count": 6,
     "metadata": {},
     "output_type": "execute_result"
    }
   ],
   "source": [
    "%%sql\n",
    "\n",
    "DESCRIBE Names_;"
   ]
  },
  {
   "cell_type": "code",
   "execution_count": 7,
   "id": "c98852d3",
   "metadata": {},
   "outputs": [
    {
     "name": "stdout",
     "output_type": "stream",
     "text": [
      " * mysql+mysqlconnector://root:***@db\n",
      "5 rows affected.\n"
     ]
    },
    {
     "data": {
      "text/html": [
       "<table>\n",
       "    <tr>\n",
       "        <th>name_id</th>\n",
       "        <th>name_</th>\n",
       "        <th>birth_year</th>\n",
       "        <th>death_year</th>\n",
       "    </tr>\n",
       "    <tr>\n",
       "        <td>nm0000002</td>\n",
       "        <td>Lauren Bacall</td>\n",
       "        <td>1924</td>\n",
       "        <td>2014</td>\n",
       "    </tr>\n",
       "    <tr>\n",
       "        <td>nm0000003</td>\n",
       "        <td>Brigitte Bardot</td>\n",
       "        <td>1934</td>\n",
       "        <td>None</td>\n",
       "    </tr>\n",
       "    <tr>\n",
       "        <td>nm0000005</td>\n",
       "        <td>Ingmar Bergman</td>\n",
       "        <td>1918</td>\n",
       "        <td>2007</td>\n",
       "    </tr>\n",
       "    <tr>\n",
       "        <td>nm0000008</td>\n",
       "        <td>Marlon Brando</td>\n",
       "        <td>1924</td>\n",
       "        <td>2004</td>\n",
       "    </tr>\n",
       "    <tr>\n",
       "        <td>nm0000013</td>\n",
       "        <td>Doris Day</td>\n",
       "        <td>1922</td>\n",
       "        <td>2019</td>\n",
       "    </tr>\n",
       "</table>"
      ],
      "text/plain": [
       "[('nm0000002', 'Lauren Bacall', 1924, 2014),\n",
       " ('nm0000003', 'Brigitte Bardot', 1934, None),\n",
       " ('nm0000005', 'Ingmar Bergman', 1918, 2007),\n",
       " ('nm0000008', 'Marlon Brando', 1924, 2004),\n",
       " ('nm0000013', 'Doris Day', 1922, 2019)]"
      ]
     },
     "execution_count": 7,
     "metadata": {},
     "output_type": "execute_result"
    }
   ],
   "source": [
    "%%sql\n",
    "\n",
    "SELECT * FROM Names_\n",
    "LIMIT 5;"
   ]
  },
  {
   "cell_type": "markdown",
   "id": "f5c88b21",
   "metadata": {},
   "source": [
    "### People by birth year\n",
    "\n",
    "A) Start by limiting the query to 1000 entries\n",
    "\n",
    "1. Draw an histogram of the year of birth\n",
    "2. Draw a second histogram with the year of birth of the 1000 youngest people in the list"
   ]
  },
  {
   "cell_type": "code",
   "execution_count": 8,
   "id": "022a7db4",
   "metadata": {},
   "outputs": [],
   "source": [
    "import pandas as pd\n",
    "import matplotlib.pyplot as plt\n",
    "import itertools\n",
    "import numpy as np"
   ]
  },
  {
   "cell_type": "code",
   "execution_count": 9,
   "id": "104f01c6",
   "metadata": {},
   "outputs": [
    {
     "name": "stdout",
     "output_type": "stream",
     "text": [
      " * mysql+mysqlconnector://root:***@db\n",
      "1000 rows affected.\n"
     ]
    },
    {
     "data": {
      "image/png": "[encoded data removed]",
      "text/plain": [
       "<Figure size 640x480 with 1 Axes>"
      ]
     },
     "metadata": {},
     "output_type": "display_data"
    }
   ],
   "source": [
    "# A.1\n",
    "# to_hist = %sql SELECT COUNT(birth_year) AS Freqs, birth_year FROM Names_ GROUP BY birth_year LIMIT 1000;\n",
    "to_hist = %sql SELECT birth_year FROM Names_ LIMIT 1000;\n",
    "to_hist = [x[0] for x in to_hist]\n",
    "\n",
    "plt.hist(to_hist);"
   ]
  },
  {
   "cell_type": "code",
   "execution_count": 10,
   "id": "f30292c0",
   "metadata": {},
   "outputs": [
    {
     "name": "stdout",
     "output_type": "stream",
     "text": [
      " * mysql+mysqlconnector://root:***@db\n",
      "1000 rows affected.\n"
     ]
    },
    {
     "data": {
      "image/png": "[encoded data removed]",
      "text/plain": [
       "<Figure size 640x480 with 1 Axes>"
      ]
     },
     "metadata": {},
     "output_type": "display_data"
    }
   ],
   "source": [
    "# A.2\n",
    "to_hist_youngest = %sql SELECT birth_year FROM Names_ ORDER BY birth_year DESC LIMIT 1000;\n",
    "to_hist_youngest = [x[0] for x in to_hist_youngest]\n",
    "\n",
    "plt.hist(to_hist_youngest);"
   ]
  },
  {
   "cell_type": "markdown",
   "id": "4ddda65c",
   "metadata": {},
   "source": [
    "B) Extend the query to all records in the table\n",
    "\n",
    "1. Check for outliers (inspect min and max)\n",
    "2. If any outlier is found, limit the query to a reasonable range (at least people born after 1850)\n",
    "3. Draw a new histogram with the year of birth\n",
    "4. Compute the mean and std of year of birth"
   ]
  },
  {
   "cell_type": "code",
   "execution_count": null,
   "id": "6eed867a",
   "metadata": {},
   "outputs": [],
   "source": [
    "# B.1"
   ]
  },
  {
   "cell_type": "code",
   "execution_count": 11,
   "id": "89f6b059",
   "metadata": {},
   "outputs": [
    {
     "name": "stdout",
     "output_type": "stream",
     "text": [
      " * mysql+mysqlconnector://root:***@db\n",
      "1 rows affected.\n"
     ]
    },
    {
     "data": {
      "text/html": [
       "<table>\n",
       "    <tr>\n",
       "        <th>MIN(birth_year)</th>\n",
       "        <th>MAX(birth_year)</th>\n",
       "    </tr>\n",
       "    <tr>\n",
       "        <td>13</td>\n",
       "        <td>2021</td>\n",
       "    </tr>\n",
       "</table>"
      ],
      "text/plain": [
       "[(13, 2021)]"
      ]
     },
     "execution_count": 11,
     "metadata": {},
     "output_type": "execute_result"
    }
   ],
   "source": [
    "%%sql\n",
    "\n",
    "SELECT MIN(birth_year), MAX(birth_year) FROM Names_;"
   ]
  },
  {
   "cell_type": "code",
   "execution_count": 12,
   "id": "d0c9c789",
   "metadata": {},
   "outputs": [
    {
     "name": "stdout",
     "output_type": "stream",
     "text": [
      " * mysql+mysqlconnector://root:***@db\n",
      "1 rows affected.\n"
     ]
    },
    {
     "data": {
      "text/html": [
       "<table>\n",
       "    <tr>\n",
       "        <th>MIN(birth_year)</th>\n",
       "        <th>MAX(birth_year)</th>\n",
       "    </tr>\n",
       "    <tr>\n",
       "        <td>13</td>\n",
       "        <td>1088</td>\n",
       "    </tr>\n",
       "</table>"
      ],
      "text/plain": [
       "[(13, 1088)]"
      ]
     },
     "execution_count": 12,
     "metadata": {},
     "output_type": "execute_result"
    }
   ],
   "source": [
    "%%sql\n",
    "\n",
    "SELECT MIN(birth_year), MAX(birth_year) FROM Names_ WHERE (birth_year < \"1850\");"
   ]
  },
  {
   "cell_type": "code",
   "execution_count": null,
   "id": "080eec52",
   "metadata": {},
   "outputs": [],
   "source": [
    "# B.2"
   ]
  },
  {
   "cell_type": "code",
   "execution_count": 13,
   "id": "2e07042b",
   "metadata": {},
   "outputs": [
    {
     "name": "stdout",
     "output_type": "stream",
     "text": [
      " * mysql+mysqlconnector://root:***@db\n",
      "2 rows affected.\n"
     ]
    },
    {
     "data": {
      "text/html": [
       "<table>\n",
       "    <tr>\n",
       "        <th>name_id</th>\n",
       "        <th>name_</th>\n",
       "        <th>birth_year</th>\n",
       "        <th>death_year</th>\n",
       "    </tr>\n",
       "    <tr>\n",
       "        <td>nm1620433</td>\n",
       "        <td>Karen Abercrombie</td>\n",
       "        <td>13</td>\n",
       "        <td>None</td>\n",
       "    </tr>\n",
       "    <tr>\n",
       "        <td>nm8066610</td>\n",
       "        <td>Sophie Oliver</td>\n",
       "        <td>1088</td>\n",
       "        <td>None</td>\n",
       "    </tr>\n",
       "</table>"
      ],
      "text/plain": [
       "[('nm1620433', 'Karen Abercrombie', 13, None),\n",
       " ('nm8066610', 'Sophie Oliver', 1088, None)]"
      ]
     },
     "execution_count": 13,
     "metadata": {},
     "output_type": "execute_result"
    }
   ],
   "source": [
    "%%sql\n",
    "\n",
    "SELECT * FROM Names_ WHERE (birth_year < \"1850\"); # only 2 outliers"
   ]
  },
  {
   "cell_type": "code",
   "execution_count": null,
   "id": "b9dd4a70",
   "metadata": {},
   "outputs": [],
   "source": [
    "# B.3"
   ]
  },
  {
   "cell_type": "code",
   "execution_count": null,
   "id": "1b3aefe9",
   "metadata": {},
   "outputs": [],
   "source": [
    "%%sql\n",
    "\n",
    "USE IMDb;\n",
    "\n",
    "SHOW TABLES;"
   ]
  },
  {
   "cell_type": "code",
   "execution_count": 18,
   "id": "5dc1af50",
   "metadata": {},
   "outputs": [
    {
     "name": "stdout",
     "output_type": "stream",
     "text": [
      " * mysql+mysqlconnector://root:***@db\n",
      "156309 rows affected.\n"
     ]
    },
    {
     "data": {
      "image/png": "[encoded data removed]",
      "text/plain": [
       "<Figure size 640x480 with 1 Axes>"
      ]
     },
     "metadata": {},
     "output_type": "display_data"
    }
   ],
   "source": [
    "to_new_hist = %sql SELECT birth_year FROM Names_ WHERE (birth_year > \"1850\");\n",
    "to_new_hist = [x[0] for x in to_new_hist]\n",
    "plt.hist(to_new_hist, bins=50);"
   ]
  },
  {
   "cell_type": "code",
   "execution_count": null,
   "id": "4fd5c24f",
   "metadata": {},
   "outputs": [],
   "source": [
    "# B.4"
   ]
  },
  {
   "cell_type": "code",
   "execution_count": 19,
   "id": "1c811758",
   "metadata": {},
   "outputs": [
    {
     "name": "stdout",
     "output_type": "stream",
     "text": [
      " * mysql+mysqlconnector://root:***@db\n",
      "1 rows affected.\n"
     ]
    },
    {
     "data": {
      "text/html": [
       "<table>\n",
       "    <tr>\n",
       "        <th>Mean</th>\n",
       "        <th>Std</th>\n",
       "    </tr>\n",
       "    <tr>\n",
       "        <td>1965.4513</td>\n",
       "        <td>19.99205313179966</td>\n",
       "    </tr>\n",
       "</table>"
      ],
      "text/plain": [
       "[(Decimal('1965.4513'), 19.99205313179966)]"
      ]
     },
     "execution_count": 19,
     "metadata": {},
     "output_type": "execute_result"
    }
   ],
   "source": [
    "%%sql\n",
    "\n",
    "SELECT AVG(birth_year) AS Mean, STD(birth_year) AS Std FROM Names_ WHERE(birth_year > \"1850\")"
   ]
  },
  {
   "cell_type": "markdown",
   "id": "3b00fe99",
   "metadata": {},
   "source": [
    "### Movie stats\n",
    "\n",
    "1. Plot how many titles can be found in the DB per year, over the past 25 years\n",
    "2. List the names of all actors who have had the role of Spider-Man and the corresponding Title\n",
    "3. List and count the 10 people who appeared the most in movies by \"Wes Anderson\""
   ]
  },
  {
   "cell_type": "code",
   "execution_count": 20,
   "id": "781cf2c5",
   "metadata": {},
   "outputs": [
    {
     "name": "stdout",
     "output_type": "stream",
     "text": [
      " * mysql+mysqlconnector://root:***@db\n",
      "7 rows affected.\n"
     ]
    },
    {
     "data": {
      "text/html": [
       "<table>\n",
       "    <tr>\n",
       "        <th>Tables_in_IMDb</th>\n",
       "    </tr>\n",
       "    <tr>\n",
       "        <td>Directors</td>\n",
       "    </tr>\n",
       "    <tr>\n",
       "        <td>Episode_belongs_to</td>\n",
       "    </tr>\n",
       "    <tr>\n",
       "        <td>Had_role</td>\n",
       "    </tr>\n",
       "    <tr>\n",
       "        <td>Names_</td>\n",
       "    </tr>\n",
       "    <tr>\n",
       "        <td>Title_genres</td>\n",
       "    </tr>\n",
       "    <tr>\n",
       "        <td>Title_ratings</td>\n",
       "    </tr>\n",
       "    <tr>\n",
       "        <td>Titles</td>\n",
       "    </tr>\n",
       "</table>"
      ],
      "text/plain": [
       "[('Directors',),\n",
       " ('Episode_belongs_to',),\n",
       " ('Had_role',),\n",
       " ('Names_',),\n",
       " ('Title_genres',),\n",
       " ('Title_ratings',),\n",
       " ('Titles',)]"
      ]
     },
     "execution_count": 20,
     "metadata": {},
     "output_type": "execute_result"
    }
   ],
   "source": [
    "%%sql\n",
    "\n",
    "SHOW TABLES;"
   ]
  },
  {
   "cell_type": "code",
   "execution_count": 21,
   "id": "3a92cde0",
   "metadata": {},
   "outputs": [
    {
     "name": "stdout",
     "output_type": "stream",
     "text": [
      " * mysql+mysqlconnector://root:***@db\n",
      "5 rows affected.\n"
     ]
    },
    {
     "data": {
      "text/html": [
       "<table>\n",
       "    <tr>\n",
       "        <th>title_id</th>\n",
       "        <th>title_type</th>\n",
       "        <th>primary_title</th>\n",
       "        <th>start_year</th>\n",
       "        <th>runtime_minutes</th>\n",
       "    </tr>\n",
       "    <tr>\n",
       "        <td>tt0011216</td>\n",
       "        <td>movie</td>\n",
       "        <td>b&#x27;Spanish Fiesta&#x27;</td>\n",
       "        <td>2019</td>\n",
       "        <td>67</td>\n",
       "    </tr>\n",
       "    <tr>\n",
       "        <td>tt0015724</td>\n",
       "        <td>movie</td>\n",
       "        <td>b&#x27;Dama de noche&#x27;</td>\n",
       "        <td>1993</td>\n",
       "        <td>102</td>\n",
       "    </tr>\n",
       "    <tr>\n",
       "        <td>tt0035423</td>\n",
       "        <td>movie</td>\n",
       "        <td>b&#x27;Kate &amp; Leopold&#x27;</td>\n",
       "        <td>2001</td>\n",
       "        <td>118</td>\n",
       "    </tr>\n",
       "    <tr>\n",
       "        <td>tt0059325</td>\n",
       "        <td>movie</td>\n",
       "        <td>b&quot;Born in &#x27;45&quot;</td>\n",
       "        <td>1990</td>\n",
       "        <td>100</td>\n",
       "    </tr>\n",
       "    <tr>\n",
       "        <td>tt0059900</td>\n",
       "        <td>movie</td>\n",
       "        <td>b&#x27;Wenn du gro\\xc3\\x9f bist, lieber Adam&#x27;</td>\n",
       "        <td>1990</td>\n",
       "        <td>78</td>\n",
       "    </tr>\n",
       "</table>"
      ],
      "text/plain": [
       "[('tt0011216', 'movie', b'Spanish Fiesta', 2019, 67),\n",
       " ('tt0015724', 'movie', b'Dama de noche', 1993, 102),\n",
       " ('tt0035423', 'movie', b'Kate & Leopold', 2001, 118),\n",
       " ('tt0059325', 'movie', b\"Born in '45\", 1990, 100),\n",
       " ('tt0059900', 'movie', b'Wenn du gro\\xc3\\x9f bist, lieber Adam', 1990, 78)]"
      ]
     },
     "execution_count": 21,
     "metadata": {},
     "output_type": "execute_result"
    }
   ],
   "source": [
    "%%sql\n",
    "\n",
    "SELECT * FROM Titles LIMIT 5;"
   ]
  },
  {
   "cell_type": "markdown",
   "id": "892b2c35",
   "metadata": {},
   "source": [
    "#### 1 - Plot how many titles can be found in the DB per year, over the past 25 years"
   ]
  },
  {
   "cell_type": "code",
   "execution_count": 22,
   "id": "650e01bc",
   "metadata": {
    "scrolled": false
   },
   "outputs": [
    {
     "name": "stdout",
     "output_type": "stream",
     "text": [
      " * mysql+mysqlconnector://root:***@db\n",
      "25 rows affected.\n"
     ]
    },
    {
     "data": {
      "image/png": "[encoded data removed]",
      "text/plain": [
       "<Figure size 640x480 with 1 Axes>"
      ]
     },
     "metadata": {},
     "output_type": "display_data"
    }
   ],
   "source": [
    "to_plot = %sql SELECT start_year AS Year, COUNT(*) AS NumberOfTitles FROM Titles GROUP BY start_year ORDER BY start_year DESC LIMIT 25;\n",
    "year = [x[0] for x in to_plot]\n",
    "n_titles = [x[1] for x in to_plot]\n",
    "plt.plot(year, n_titles);"
   ]
  },
  {
   "cell_type": "code",
   "execution_count": 23,
   "id": "b931d43a",
   "metadata": {},
   "outputs": [
    {
     "data": {
      "image/png": "[encoded data removed]",
      "text/plain": [
       "<Figure size 640x480 with 1 Axes>"
      ]
     },
     "metadata": {},
     "output_type": "display_data"
    }
   ],
   "source": [
    "to_plot.plot(); # otherwise"
   ]
  },
  {
   "cell_type": "markdown",
   "id": "5022d3c3",
   "metadata": {},
   "source": [
    "#### 2 - List the names of all actors who have had the role of Spider-Man and the corresponding Title "
   ]
  },
  {
   "cell_type": "code",
   "execution_count": 24,
   "id": "92cf36e0",
   "metadata": {},
   "outputs": [
    {
     "name": "stdout",
     "output_type": "stream",
     "text": [
      " * mysql+mysqlconnector://root:***@db\n",
      "7 rows affected.\n"
     ]
    },
    {
     "data": {
      "text/html": [
       "<table>\n",
       "    <tr>\n",
       "        <th>Tables_in_IMDb</th>\n",
       "    </tr>\n",
       "    <tr>\n",
       "        <td>Directors</td>\n",
       "    </tr>\n",
       "    <tr>\n",
       "        <td>Episode_belongs_to</td>\n",
       "    </tr>\n",
       "    <tr>\n",
       "        <td>Had_role</td>\n",
       "    </tr>\n",
       "    <tr>\n",
       "        <td>Names_</td>\n",
       "    </tr>\n",
       "    <tr>\n",
       "        <td>Title_genres</td>\n",
       "    </tr>\n",
       "    <tr>\n",
       "        <td>Title_ratings</td>\n",
       "    </tr>\n",
       "    <tr>\n",
       "        <td>Titles</td>\n",
       "    </tr>\n",
       "</table>"
      ],
      "text/plain": [
       "[('Directors',),\n",
       " ('Episode_belongs_to',),\n",
       " ('Had_role',),\n",
       " ('Names_',),\n",
       " ('Title_genres',),\n",
       " ('Title_ratings',),\n",
       " ('Titles',)]"
      ]
     },
     "execution_count": 24,
     "metadata": {},
     "output_type": "execute_result"
    }
   ],
   "source": [
    "%%sql\n",
    "\n",
    "SHOW TABLES;"
   ]
  },
  {
   "cell_type": "code",
   "execution_count": 25,
   "id": "1d2ca8ba",
   "metadata": {},
   "outputs": [
    {
     "name": "stdout",
     "output_type": "stream",
     "text": [
      " * mysql+mysqlconnector://root:***@db\n",
      "5 rows affected.\n"
     ]
    },
    {
     "data": {
      "text/html": [
       "<table>\n",
       "    <tr>\n",
       "        <th>title_id</th>\n",
       "        <th>title_type</th>\n",
       "        <th>primary_title</th>\n",
       "        <th>start_year</th>\n",
       "        <th>runtime_minutes</th>\n",
       "    </tr>\n",
       "    <tr>\n",
       "        <td>tt0011216</td>\n",
       "        <td>movie</td>\n",
       "        <td>b&#x27;Spanish Fiesta&#x27;</td>\n",
       "        <td>2019</td>\n",
       "        <td>67</td>\n",
       "    </tr>\n",
       "    <tr>\n",
       "        <td>tt0015724</td>\n",
       "        <td>movie</td>\n",
       "        <td>b&#x27;Dama de noche&#x27;</td>\n",
       "        <td>1993</td>\n",
       "        <td>102</td>\n",
       "    </tr>\n",
       "    <tr>\n",
       "        <td>tt0035423</td>\n",
       "        <td>movie</td>\n",
       "        <td>b&#x27;Kate &amp; Leopold&#x27;</td>\n",
       "        <td>2001</td>\n",
       "        <td>118</td>\n",
       "    </tr>\n",
       "    <tr>\n",
       "        <td>tt0059325</td>\n",
       "        <td>movie</td>\n",
       "        <td>b&quot;Born in &#x27;45&quot;</td>\n",
       "        <td>1990</td>\n",
       "        <td>100</td>\n",
       "    </tr>\n",
       "    <tr>\n",
       "        <td>tt0059900</td>\n",
       "        <td>movie</td>\n",
       "        <td>b&#x27;Wenn du gro\\xc3\\x9f bist, lieber Adam&#x27;</td>\n",
       "        <td>1990</td>\n",
       "        <td>78</td>\n",
       "    </tr>\n",
       "</table>"
      ],
      "text/plain": [
       "[('tt0011216', 'movie', b'Spanish Fiesta', 2019, 67),\n",
       " ('tt0015724', 'movie', b'Dama de noche', 1993, 102),\n",
       " ('tt0035423', 'movie', b'Kate & Leopold', 2001, 118),\n",
       " ('tt0059325', 'movie', b\"Born in '45\", 1990, 100),\n",
       " ('tt0059900', 'movie', b'Wenn du gro\\xc3\\x9f bist, lieber Adam', 1990, 78)]"
      ]
     },
     "execution_count": 25,
     "metadata": {},
     "output_type": "execute_result"
    }
   ],
   "source": [
    "%%sql\n",
    "\n",
    "SELECT * FROM Titles LIMIT 5;"
   ]
  },
  {
   "cell_type": "code",
   "execution_count": 26,
   "id": "0780e51b",
   "metadata": {},
   "outputs": [
    {
     "name": "stdout",
     "output_type": "stream",
     "text": [
      " * mysql+mysqlconnector://root:***@db\n",
      "5 rows affected.\n"
     ]
    },
    {
     "data": {
      "text/html": [
       "<table>\n",
       "    <tr>\n",
       "        <th>name_id</th>\n",
       "        <th>name_</th>\n",
       "        <th>birth_year</th>\n",
       "        <th>death_year</th>\n",
       "    </tr>\n",
       "    <tr>\n",
       "        <td>nm0000002</td>\n",
       "        <td>Lauren Bacall</td>\n",
       "        <td>1924</td>\n",
       "        <td>2014</td>\n",
       "    </tr>\n",
       "    <tr>\n",
       "        <td>nm0000003</td>\n",
       "        <td>Brigitte Bardot</td>\n",
       "        <td>1934</td>\n",
       "        <td>None</td>\n",
       "    </tr>\n",
       "    <tr>\n",
       "        <td>nm0000005</td>\n",
       "        <td>Ingmar Bergman</td>\n",
       "        <td>1918</td>\n",
       "        <td>2007</td>\n",
       "    </tr>\n",
       "    <tr>\n",
       "        <td>nm0000008</td>\n",
       "        <td>Marlon Brando</td>\n",
       "        <td>1924</td>\n",
       "        <td>2004</td>\n",
       "    </tr>\n",
       "    <tr>\n",
       "        <td>nm0000013</td>\n",
       "        <td>Doris Day</td>\n",
       "        <td>1922</td>\n",
       "        <td>2019</td>\n",
       "    </tr>\n",
       "</table>"
      ],
      "text/plain": [
       "[('nm0000002', 'Lauren Bacall', 1924, 2014),\n",
       " ('nm0000003', 'Brigitte Bardot', 1934, None),\n",
       " ('nm0000005', 'Ingmar Bergman', 1918, 2007),\n",
       " ('nm0000008', 'Marlon Brando', 1924, 2004),\n",
       " ('nm0000013', 'Doris Day', 1922, 2019)]"
      ]
     },
     "execution_count": 26,
     "metadata": {},
     "output_type": "execute_result"
    }
   ],
   "source": [
    "%%sql\n",
    "\n",
    "SELECT * FROM Names_ LIMIT 5;"
   ]
  },
  {
   "cell_type": "code",
   "execution_count": 27,
   "id": "6c9e56ca",
   "metadata": {},
   "outputs": [
    {
     "name": "stdout",
     "output_type": "stream",
     "text": [
      " * mysql+mysqlconnector://root:***@db\n",
      "5 rows affected.\n"
     ]
    },
    {
     "data": {
      "text/html": [
       "<table>\n",
       "    <tr>\n",
       "        <th>title_id</th>\n",
       "        <th>name_id</th>\n",
       "        <th>role_</th>\n",
       "    </tr>\n",
       "    <tr>\n",
       "        <td>tt0011216</td>\n",
       "        <td>nm0290157</td>\n",
       "        <td>b&#x27;Soledad&#x27;</td>\n",
       "    </tr>\n",
       "    <tr>\n",
       "        <td>tt0011216</td>\n",
       "        <td>nm0869559</td>\n",
       "        <td>b&#x27;Migu\\xc3\\xa9lan&#x27;</td>\n",
       "    </tr>\n",
       "    <tr>\n",
       "        <td>tt0011216</td>\n",
       "        <td>nm0595321</td>\n",
       "        <td>b&#x27;R\\xc3\\xa9al&#x27;</td>\n",
       "    </tr>\n",
       "    <tr>\n",
       "        <td>tt0015724</td>\n",
       "        <td>nm0844752</td>\n",
       "        <td>b&#x27;Bruno&#x27;</td>\n",
       "    </tr>\n",
       "    <tr>\n",
       "        <td>tt0015724</td>\n",
       "        <td>nm0869732</td>\n",
       "        <td>b&#x27;Sof\\xc3\\xada&#x27;</td>\n",
       "    </tr>\n",
       "</table>"
      ],
      "text/plain": [
       "[('tt0011216', 'nm0290157', b'Soledad'),\n",
       " ('tt0011216', 'nm0869559', b'Migu\\xc3\\xa9lan'),\n",
       " ('tt0011216', 'nm0595321', b'R\\xc3\\xa9al'),\n",
       " ('tt0015724', 'nm0844752', b'Bruno'),\n",
       " ('tt0015724', 'nm0869732', b'Sof\\xc3\\xada')]"
      ]
     },
     "execution_count": 27,
     "metadata": {},
     "output_type": "execute_result"
    }
   ],
   "source": [
    "%%sql\n",
    "\n",
    "SELECT * FROM Had_role LIMIT 5;"
   ]
  },
  {
   "cell_type": "code",
   "execution_count": 29,
   "id": "4b71edb7",
   "metadata": {},
   "outputs": [
    {
     "name": "stdout",
     "output_type": "stream",
     "text": [
      " * mysql+mysqlconnector://root:***@db\n",
      "8 rows affected.\n"
     ]
    },
    {
     "data": {
      "text/html": [
       "<table>\n",
       "    <tr>\n",
       "        <th>name_</th>\n",
       "        <th>primary_title</th>\n",
       "    </tr>\n",
       "    <tr>\n",
       "        <td>Tobey Maguire</td>\n",
       "        <td>b&#x27;Spider-Man&#x27;</td>\n",
       "    </tr>\n",
       "    <tr>\n",
       "        <td>Tobey Maguire</td>\n",
       "        <td>b&#x27;Spider-Man 3&#x27;</td>\n",
       "    </tr>\n",
       "    <tr>\n",
       "        <td>Tobey Maguire</td>\n",
       "        <td>b&#x27;Spider-Man 2&#x27;</td>\n",
       "    </tr>\n",
       "    <tr>\n",
       "        <td>Andrew Garfield</td>\n",
       "        <td>b&#x27;The Amazing Spider-Man 2&#x27;</td>\n",
       "    </tr>\n",
       "    <tr>\n",
       "        <td>Andrew Garfield</td>\n",
       "        <td>b&#x27;The Amazing Spider-Man&#x27;</td>\n",
       "    </tr>\n",
       "    <tr>\n",
       "        <td>Tom Holland</td>\n",
       "        <td>b&#x27;Spider-Man: No Way Home&#x27;</td>\n",
       "    </tr>\n",
       "    <tr>\n",
       "        <td>Tom Holland</td>\n",
       "        <td>b&#x27;Spider-Man: Homecoming&#x27;</td>\n",
       "    </tr>\n",
       "    <tr>\n",
       "        <td>Tom Holland</td>\n",
       "        <td>b&#x27;Spider-Man: Far from Home&#x27;</td>\n",
       "    </tr>\n",
       "</table>"
      ],
      "text/plain": [
       "[('Tobey Maguire', b'Spider-Man'),\n",
       " ('Tobey Maguire', b'Spider-Man 3'),\n",
       " ('Tobey Maguire', b'Spider-Man 2'),\n",
       " ('Andrew Garfield', b'The Amazing Spider-Man 2'),\n",
       " ('Andrew Garfield', b'The Amazing Spider-Man'),\n",
       " ('Tom Holland', b'Spider-Man: No Way Home'),\n",
       " ('Tom Holland', b'Spider-Man: Homecoming'),\n",
       " ('Tom Holland', b'Spider-Man: Far from Home')]"
      ]
     },
     "execution_count": 29,
     "metadata": {},
     "output_type": "execute_result"
    }
   ],
   "source": [
    "%%sql\n",
    "\n",
    "SELECT n.name_, t.primary_title\n",
    "FROM Had_role h\n",
    "INNER JOIN Titles t ON h.title_id = t.title_id\n",
    "INNER JOIN Names_ n ON h.name_id = n.name_id \n",
    "WHERE (h.role_ LIKE \"Spider-Man\") AND (t.title_type = \"movie\");"
   ]
  },
  {
   "cell_type": "markdown",
   "id": "db261245",
   "metadata": {},
   "source": [
    "#### 3 - List and count the 10 people who appeared the most in movies by \"Wes Anderson\""
   ]
  },
  {
   "cell_type": "code",
   "execution_count": 30,
   "id": "c0d000b7",
   "metadata": {},
   "outputs": [
    {
     "name": "stdout",
     "output_type": "stream",
     "text": [
      " * mysql+mysqlconnector://root:***@db\n",
      "5 rows affected.\n"
     ]
    },
    {
     "data": {
      "text/html": [
       "<table>\n",
       "    <tr>\n",
       "        <th>title_id</th>\n",
       "        <th>name_id</th>\n",
       "    </tr>\n",
       "    <tr>\n",
       "        <td>tt0035423</td>\n",
       "        <td>nm0003506</td>\n",
       "    </tr>\n",
       "    <tr>\n",
       "        <td>tt0062336</td>\n",
       "        <td>nm0749914</td>\n",
       "    </tr>\n",
       "    <tr>\n",
       "        <td>tt0062336</td>\n",
       "        <td>nm0765384</td>\n",
       "    </tr>\n",
       "    <tr>\n",
       "        <td>tt0065188</td>\n",
       "        <td>nm0878702</td>\n",
       "    </tr>\n",
       "    <tr>\n",
       "        <td>tt0067460</td>\n",
       "        <td>nm0091430</td>\n",
       "    </tr>\n",
       "</table>"
      ],
      "text/plain": [
       "[('tt0035423', 'nm0003506'),\n",
       " ('tt0062336', 'nm0749914'),\n",
       " ('tt0062336', 'nm0765384'),\n",
       " ('tt0065188', 'nm0878702'),\n",
       " ('tt0067460', 'nm0091430')]"
      ]
     },
     "execution_count": 30,
     "metadata": {},
     "output_type": "execute_result"
    }
   ],
   "source": [
    "%%sql \n",
    "\n",
    "SELECT * FROM Directors LIMIT 5;"
   ]
  },
  {
   "cell_type": "code",
   "execution_count": 31,
   "id": "710f85bc",
   "metadata": {},
   "outputs": [
    {
     "name": "stdout",
     "output_type": "stream",
     "text": [
      " * mysql+mysqlconnector://root:***@db\n",
      "10 rows affected.\n"
     ]
    },
    {
     "data": {
      "text/html": [
       "<table>\n",
       "    <tr>\n",
       "        <th>name_</th>\n",
       "        <th>title_id</th>\n",
       "        <th>name_id</th>\n",
       "    </tr>\n",
       "    <tr>\n",
       "        <td>Wes Anderson</td>\n",
       "        <td>tt0115734</td>\n",
       "        <td>nm0027572</td>\n",
       "    </tr>\n",
       "    <tr>\n",
       "        <td>Wes Anderson</td>\n",
       "        <td>tt0128445</td>\n",
       "        <td>nm0027572</td>\n",
       "    </tr>\n",
       "    <tr>\n",
       "        <td>Wes Anderson</td>\n",
       "        <td>tt0265666</td>\n",
       "        <td>nm0027572</td>\n",
       "    </tr>\n",
       "    <tr>\n",
       "        <td>Wes Anderson</td>\n",
       "        <td>tt0362270</td>\n",
       "        <td>nm0027572</td>\n",
       "    </tr>\n",
       "    <tr>\n",
       "        <td>Wes Anderson</td>\n",
       "        <td>tt0432283</td>\n",
       "        <td>nm0027572</td>\n",
       "    </tr>\n",
       "    <tr>\n",
       "        <td>Wes Anderson</td>\n",
       "        <td>tt0838221</td>\n",
       "        <td>nm0027572</td>\n",
       "    </tr>\n",
       "    <tr>\n",
       "        <td>Wes Anderson</td>\n",
       "        <td>tt1748122</td>\n",
       "        <td>nm0027572</td>\n",
       "    </tr>\n",
       "    <tr>\n",
       "        <td>Wes Anderson</td>\n",
       "        <td>tt2278388</td>\n",
       "        <td>nm0027572</td>\n",
       "    </tr>\n",
       "    <tr>\n",
       "        <td>Wes Anderson</td>\n",
       "        <td>tt5104604</td>\n",
       "        <td>nm0027572</td>\n",
       "    </tr>\n",
       "    <tr>\n",
       "        <td>Wes Anderson</td>\n",
       "        <td>tt8847712</td>\n",
       "        <td>nm0027572</td>\n",
       "    </tr>\n",
       "</table>"
      ],
      "text/plain": [
       "[('Wes Anderson', 'tt0115734', 'nm0027572'),\n",
       " ('Wes Anderson', 'tt0128445', 'nm0027572'),\n",
       " ('Wes Anderson', 'tt0265666', 'nm0027572'),\n",
       " ('Wes Anderson', 'tt0362270', 'nm0027572'),\n",
       " ('Wes Anderson', 'tt0432283', 'nm0027572'),\n",
       " ('Wes Anderson', 'tt0838221', 'nm0027572'),\n",
       " ('Wes Anderson', 'tt1748122', 'nm0027572'),\n",
       " ('Wes Anderson', 'tt2278388', 'nm0027572'),\n",
       " ('Wes Anderson', 'tt5104604', 'nm0027572'),\n",
       " ('Wes Anderson', 'tt8847712', 'nm0027572')]"
      ]
     },
     "execution_count": 31,
     "metadata": {},
     "output_type": "execute_result"
    }
   ],
   "source": [
    "%%sql \n",
    "\n",
    "SELECT n.name_, d.*\n",
    "FROM Directors d\n",
    "INNER JOIN Titles t ON d.title_id = t.title_id\n",
    "INNER JOIN Names_ n ON d.name_id = n.name_id \n",
    "WHERE (name_ LIKE \"Wes Anderson\"); # now the idea is to find, by title_id, all of those who had a role in these 10 movies"
   ]
  },
  {
   "cell_type": "code",
   "execution_count": 33,
   "id": "ea497997",
   "metadata": {},
   "outputs": [
    {
     "name": "stdout",
     "output_type": "stream",
     "text": [
      " * mysql+mysqlconnector://root:***@db\n",
      "0 rows affected.\n",
      "7 rows affected.\n"
     ]
    },
    {
     "data": {
      "text/html": [
       "<table>\n",
       "    <tr>\n",
       "        <th>Tables_in_IMDb</th>\n",
       "    </tr>\n",
       "    <tr>\n",
       "        <td>Directors</td>\n",
       "    </tr>\n",
       "    <tr>\n",
       "        <td>Episode_belongs_to</td>\n",
       "    </tr>\n",
       "    <tr>\n",
       "        <td>Had_role</td>\n",
       "    </tr>\n",
       "    <tr>\n",
       "        <td>Names_</td>\n",
       "    </tr>\n",
       "    <tr>\n",
       "        <td>Title_genres</td>\n",
       "    </tr>\n",
       "    <tr>\n",
       "        <td>Title_ratings</td>\n",
       "    </tr>\n",
       "    <tr>\n",
       "        <td>Titles</td>\n",
       "    </tr>\n",
       "</table>"
      ],
      "text/plain": [
       "[('Directors',),\n",
       " ('Episode_belongs_to',),\n",
       " ('Had_role',),\n",
       " ('Names_',),\n",
       " ('Title_genres',),\n",
       " ('Title_ratings',),\n",
       " ('Titles',)]"
      ]
     },
     "execution_count": 33,
     "metadata": {},
     "output_type": "execute_result"
    }
   ],
   "source": [
    "%%sql\n",
    "\n",
    "USE IMDb;\n",
    "\n",
    "SHOW TABLES;"
   ]
  },
  {
   "cell_type": "code",
   "execution_count": 34,
   "id": "f1ef3ff2",
   "metadata": {},
   "outputs": [
    {
     "name": "stdout",
     "output_type": "stream",
     "text": [
      " * mysql+mysqlconnector://root:***@db\n",
      "5 rows affected.\n"
     ]
    },
    {
     "data": {
      "text/html": [
       "<table>\n",
       "    <tr>\n",
       "        <th>title_id</th>\n",
       "        <th>name_id</th>\n",
       "        <th>role_</th>\n",
       "    </tr>\n",
       "    <tr>\n",
       "        <td>tt0011216</td>\n",
       "        <td>nm0290157</td>\n",
       "        <td>b&#x27;Soledad&#x27;</td>\n",
       "    </tr>\n",
       "    <tr>\n",
       "        <td>tt0011216</td>\n",
       "        <td>nm0869559</td>\n",
       "        <td>b&#x27;Migu\\xc3\\xa9lan&#x27;</td>\n",
       "    </tr>\n",
       "    <tr>\n",
       "        <td>tt0011216</td>\n",
       "        <td>nm0595321</td>\n",
       "        <td>b&#x27;R\\xc3\\xa9al&#x27;</td>\n",
       "    </tr>\n",
       "    <tr>\n",
       "        <td>tt0015724</td>\n",
       "        <td>nm0844752</td>\n",
       "        <td>b&#x27;Bruno&#x27;</td>\n",
       "    </tr>\n",
       "    <tr>\n",
       "        <td>tt0015724</td>\n",
       "        <td>nm0869732</td>\n",
       "        <td>b&#x27;Sof\\xc3\\xada&#x27;</td>\n",
       "    </tr>\n",
       "</table>"
      ],
      "text/plain": [
       "[('tt0011216', 'nm0290157', b'Soledad'),\n",
       " ('tt0011216', 'nm0869559', b'Migu\\xc3\\xa9lan'),\n",
       " ('tt0011216', 'nm0595321', b'R\\xc3\\xa9al'),\n",
       " ('tt0015724', 'nm0844752', b'Bruno'),\n",
       " ('tt0015724', 'nm0869732', b'Sof\\xc3\\xada')]"
      ]
     },
     "execution_count": 34,
     "metadata": {},
     "output_type": "execute_result"
    }
   ],
   "source": [
    "%%sql \n",
    "\n",
    "SELECT * FROM Had_role\n",
    "LIMIT 5;"
   ]
  },
  {
   "cell_type": "code",
   "execution_count": 35,
   "id": "2292296b",
   "metadata": {},
   "outputs": [
    {
     "name": "stdout",
     "output_type": "stream",
     "text": [
      " * mysql+mysqlconnector://root:***@db\n",
      "39 rows affected.\n"
     ]
    },
    {
     "data": {
      "text/html": [
       "<table>\n",
       "    <tr>\n",
       "        <th>name_id</th>\n",
       "        <th>name_</th>\n",
       "    </tr>\n",
       "    <tr>\n",
       "        <td>nm0000123</td>\n",
       "        <td>George Clooney</td>\n",
       "    </tr>\n",
       "    <tr>\n",
       "        <td>nm0000146</td>\n",
       "        <td>Ralph Fiennes</td>\n",
       "    </tr>\n",
       "    <tr>\n",
       "        <td>nm0000195</td>\n",
       "        <td>Bill Murray</td>\n",
       "    </tr>\n",
       "    <tr>\n",
       "        <td>nm0000195</td>\n",
       "        <td>Bill Murray</td>\n",
       "    </tr>\n",
       "    <tr>\n",
       "        <td>nm0000195</td>\n",
       "        <td>Bill Murray</td>\n",
       "    </tr>\n",
       "    <tr>\n",
       "        <td>nm0000195</td>\n",
       "        <td>Bill Murray</td>\n",
       "    </tr>\n",
       "    <tr>\n",
       "        <td>nm0000246</td>\n",
       "        <td>Bruce Willis</td>\n",
       "    </tr>\n",
       "    <tr>\n",
       "        <td>nm0000432</td>\n",
       "        <td>Gene Hackman</td>\n",
       "    </tr>\n",
       "    <tr>\n",
       "        <td>nm0000569</td>\n",
       "        <td>Gwyneth Paltrow</td>\n",
       "    </tr>\n",
       "    <tr>\n",
       "        <td>nm0000658</td>\n",
       "        <td>Meryl Streep</td>\n",
       "    </tr>\n",
       "    <tr>\n",
       "        <td>nm0000719</td>\n",
       "        <td>F. Murray Abraham</td>\n",
       "    </tr>\n",
       "    <tr>\n",
       "        <td>nm0000837</td>\n",
       "        <td>Bob Balaban</td>\n",
       "    </tr>\n",
       "    <tr>\n",
       "        <td>nm0000949</td>\n",
       "        <td>Cate Blanchett</td>\n",
       "    </tr>\n",
       "    <tr>\n",
       "        <td>nm0001025</td>\n",
       "        <td>Seymour Cassel</td>\n",
       "    </tr>\n",
       "    <tr>\n",
       "        <td>nm0001125</td>\n",
       "        <td>Benicio Del Toro</td>\n",
       "    </tr>\n",
       "    <tr>\n",
       "        <td>nm0001378</td>\n",
       "        <td>Anjelica Huston</td>\n",
       "    </tr>\n",
       "    <tr>\n",
       "        <td>nm0001378</td>\n",
       "        <td>Anjelica Huston</td>\n",
       "    </tr>\n",
       "    <tr>\n",
       "        <td>nm0001570</td>\n",
       "        <td>Edward Norton</td>\n",
       "    </tr>\n",
       "    <tr>\n",
       "        <td>nm0001774</td>\n",
       "        <td>Ben Stiller</td>\n",
       "    </tr>\n",
       "    <tr>\n",
       "        <td>nm0004778</td>\n",
       "        <td>Adrien Brody</td>\n",
       "    </tr>\n",
       "    <tr>\n",
       "        <td>nm0004778</td>\n",
       "        <td>Adrien Brody</td>\n",
       "    </tr>\n",
       "    <tr>\n",
       "        <td>nm0004778</td>\n",
       "        <td>Adrien Brody</td>\n",
       "    </tr>\n",
       "    <tr>\n",
       "        <td>nm0005403</td>\n",
       "        <td>Jason Schwartzman</td>\n",
       "    </tr>\n",
       "    <tr>\n",
       "        <td>nm0005403</td>\n",
       "        <td>Jason Schwartzman</td>\n",
       "    </tr>\n",
       "    <tr>\n",
       "        <td>nm0005403</td>\n",
       "        <td>Jason Schwartzman</td>\n",
       "    </tr>\n",
       "    <tr>\n",
       "        <td>nm0005561</td>\n",
       "        <td>Luke Wilson</td>\n",
       "    </tr>\n",
       "    <tr>\n",
       "        <td>nm0005562</td>\n",
       "        <td>Owen Wilson</td>\n",
       "    </tr>\n",
       "    <tr>\n",
       "        <td>nm0005562</td>\n",
       "        <td>Owen Wilson</td>\n",
       "    </tr>\n",
       "    <tr>\n",
       "        <td>nm0005562</td>\n",
       "        <td>Owen Wilson</td>\n",
       "    </tr>\n",
       "    <tr>\n",
       "        <td>nm0023832</td>\n",
       "        <td>Mathieu Amalric</td>\n",
       "    </tr>\n",
       "    <tr>\n",
       "        <td>nm0186505</td>\n",
       "        <td>Bryan Cranston</td>\n",
       "    </tr>\n",
       "    <tr>\n",
       "        <td>nm0235684</td>\n",
       "        <td>Ned Dowd</td>\n",
       "    </tr>\n",
       "    <tr>\n",
       "        <td>nm0288800</td>\n",
       "        <td>Shea Fowler</td>\n",
       "    </tr>\n",
       "    <tr>\n",
       "        <td>nm0842770</td>\n",
       "        <td>Tilda Swinton</td>\n",
       "    </tr>\n",
       "    <tr>\n",
       "        <td>nm0931404</td>\n",
       "        <td>Olivia Williams</td>\n",
       "    </tr>\n",
       "    <tr>\n",
       "        <td>nm2244205</td>\n",
       "        <td>Léa Seydoux</td>\n",
       "    </tr>\n",
       "    <tr>\n",
       "        <td>nm2496312</td>\n",
       "        <td>Amara Karan</td>\n",
       "    </tr>\n",
       "    <tr>\n",
       "        <td>nm4442068</td>\n",
       "        <td>Jared Gilman</td>\n",
       "    </tr>\n",
       "    <tr>\n",
       "        <td>nm4442319</td>\n",
       "        <td>Kara Hayward</td>\n",
       "    </tr>\n",
       "</table>"
      ],
      "text/plain": [
       "[('nm0000123', 'George Clooney'),\n",
       " ('nm0000146', 'Ralph Fiennes'),\n",
       " ('nm0000195', 'Bill Murray'),\n",
       " ('nm0000195', 'Bill Murray'),\n",
       " ('nm0000195', 'Bill Murray'),\n",
       " ('nm0000195', 'Bill Murray'),\n",
       " ('nm0000246', 'Bruce Willis'),\n",
       " ('nm0000432', 'Gene Hackman'),\n",
       " ('nm0000569', 'Gwyneth Paltrow'),\n",
       " ('nm0000658', 'Meryl Streep'),\n",
       " ('nm0000719', 'F. Murray Abraham'),\n",
       " ('nm0000837', 'Bob Balaban'),\n",
       " ('nm0000949', 'Cate Blanchett'),\n",
       " ('nm0001025', 'Seymour Cassel'),\n",
       " ('nm0001125', 'Benicio Del Toro'),\n",
       " ('nm0001378', 'Anjelica Huston'),\n",
       " ('nm0001378', 'Anjelica Huston'),\n",
       " ('nm0001570', 'Edward Norton'),\n",
       " ('nm0001774', 'Ben Stiller'),\n",
       " ('nm0004778', 'Adrien Brody'),\n",
       " ('nm0004778', 'Adrien Brody'),\n",
       " ('nm0004778', 'Adrien Brody'),\n",
       " ('nm0005403', 'Jason Schwartzman'),\n",
       " ('nm0005403', 'Jason Schwartzman'),\n",
       " ('nm0005403', 'Jason Schwartzman'),\n",
       " ('nm0005561', 'Luke Wilson'),\n",
       " ('nm0005562', 'Owen Wilson'),\n",
       " ('nm0005562', 'Owen Wilson'),\n",
       " ('nm0005562', 'Owen Wilson'),\n",
       " ('nm0023832', 'Mathieu Amalric'),\n",
       " ('nm0186505', 'Bryan Cranston'),\n",
       " ('nm0235684', 'Ned Dowd'),\n",
       " ('nm0288800', 'Shea Fowler'),\n",
       " ('nm0842770', 'Tilda Swinton'),\n",
       " ('nm0931404', 'Olivia Williams'),\n",
       " ('nm2244205', 'Léa Seydoux'),\n",
       " ('nm2496312', 'Amara Karan'),\n",
       " ('nm4442068', 'Jared Gilman'),\n",
       " ('nm4442319', 'Kara Hayward')]"
      ]
     },
     "execution_count": 35,
     "metadata": {},
     "output_type": "execute_result"
    }
   ],
   "source": [
    "%%sql \n",
    "\n",
    "SELECT h.name_id, n.name_\n",
    "FROM Had_role h\n",
    "INNER JOIN Names_ n ON h.name_id = n.name_id\n",
    "WHERE (h.title_id IN (\n",
    "    SELECT d.title_id\n",
    "    FROM Directors d\n",
    "    INNER JOIN Names_ n1 ON d.name_id = n1.name_id \n",
    "    WHERE (n1.name_ LIKE \"Wes Anderson\")\n",
    "    )\n",
    ");"
   ]
  },
  {
   "cell_type": "code",
   "execution_count": 36,
   "id": "ba02b4bc",
   "metadata": {},
   "outputs": [
    {
     "name": "stdout",
     "output_type": "stream",
     "text": [
      " * mysql+mysqlconnector://root:***@db\n",
      "10 rows affected.\n"
     ]
    },
    {
     "data": {
      "text/html": [
       "<table>\n",
       "    <tr>\n",
       "        <th>name_</th>\n",
       "        <th>NumOfAppears</th>\n",
       "    </tr>\n",
       "    <tr>\n",
       "        <td>Bill Murray</td>\n",
       "        <td>4</td>\n",
       "    </tr>\n",
       "    <tr>\n",
       "        <td>Owen Wilson</td>\n",
       "        <td>3</td>\n",
       "    </tr>\n",
       "    <tr>\n",
       "        <td>Jason Schwartzman</td>\n",
       "        <td>3</td>\n",
       "    </tr>\n",
       "    <tr>\n",
       "        <td>Adrien Brody</td>\n",
       "        <td>3</td>\n",
       "    </tr>\n",
       "    <tr>\n",
       "        <td>Anjelica Huston</td>\n",
       "        <td>2</td>\n",
       "    </tr>\n",
       "    <tr>\n",
       "        <td>Ralph Fiennes</td>\n",
       "        <td>1</td>\n",
       "    </tr>\n",
       "    <tr>\n",
       "        <td>Kara Hayward</td>\n",
       "        <td>1</td>\n",
       "    </tr>\n",
       "    <tr>\n",
       "        <td>Gene Hackman</td>\n",
       "        <td>1</td>\n",
       "    </tr>\n",
       "    <tr>\n",
       "        <td>Gwyneth Paltrow</td>\n",
       "        <td>1</td>\n",
       "    </tr>\n",
       "    <tr>\n",
       "        <td>F. Murray Abraham</td>\n",
       "        <td>1</td>\n",
       "    </tr>\n",
       "</table>"
      ],
      "text/plain": [
       "[('Bill Murray', 4),\n",
       " ('Owen Wilson', 3),\n",
       " ('Jason Schwartzman', 3),\n",
       " ('Adrien Brody', 3),\n",
       " ('Anjelica Huston', 2),\n",
       " ('Ralph Fiennes', 1),\n",
       " ('Kara Hayward', 1),\n",
       " ('Gene Hackman', 1),\n",
       " ('Gwyneth Paltrow', 1),\n",
       " ('F. Murray Abraham', 1)]"
      ]
     },
     "execution_count": 36,
     "metadata": {},
     "output_type": "execute_result"
    }
   ],
   "source": [
    "%%sql\n",
    "\n",
    "SELECT n.name_, COUNT(n.name_) AS NumOfAppears\n",
    "FROM Had_role h\n",
    "INNER JOIN Names_ n ON h.name_id = n.name_id\n",
    "WHERE(h.title_id IN (\n",
    "    SELECT d.title_id\n",
    "    FROM Directors d\n",
    "    INNER JOIN Names_ n1 ON d.name_id = n1.name_id \n",
    "    WHERE (n1.name_ LIKE \"Wes Anderson\")\n",
    "    )\n",
    ")\n",
    "GROUP BY n.name_\n",
    "ORDER BY NumOfAppears DESC\n",
    "LIMIT 10;"
   ]
  },
  {
   "cell_type": "markdown",
   "id": "00c0c411",
   "metadata": {},
   "source": [
    "### Is the IMDB only about movies? \n",
    "\n",
    "1. Check the number of different media types contained in the DB\n",
    "2. Plot an histogram about the number of media types per group\n",
    "3. Find the name and rating of the oldest videogame stored in the DB "
   ]
  },
  {
   "cell_type": "code",
   "execution_count": 37,
   "id": "04c2bab3",
   "metadata": {},
   "outputs": [
    {
     "name": "stdout",
     "output_type": "stream",
     "text": [
      " * mysql+mysqlconnector://root:***@db\n",
      "7 rows affected.\n"
     ]
    },
    {
     "data": {
      "text/html": [
       "<table>\n",
       "    <tr>\n",
       "        <th>Tables_in_IMDb</th>\n",
       "    </tr>\n",
       "    <tr>\n",
       "        <td>Directors</td>\n",
       "    </tr>\n",
       "    <tr>\n",
       "        <td>Episode_belongs_to</td>\n",
       "    </tr>\n",
       "    <tr>\n",
       "        <td>Had_role</td>\n",
       "    </tr>\n",
       "    <tr>\n",
       "        <td>Names_</td>\n",
       "    </tr>\n",
       "    <tr>\n",
       "        <td>Title_genres</td>\n",
       "    </tr>\n",
       "    <tr>\n",
       "        <td>Title_ratings</td>\n",
       "    </tr>\n",
       "    <tr>\n",
       "        <td>Titles</td>\n",
       "    </tr>\n",
       "</table>"
      ],
      "text/plain": [
       "[('Directors',),\n",
       " ('Episode_belongs_to',),\n",
       " ('Had_role',),\n",
       " ('Names_',),\n",
       " ('Title_genres',),\n",
       " ('Title_ratings',),\n",
       " ('Titles',)]"
      ]
     },
     "execution_count": 37,
     "metadata": {},
     "output_type": "execute_result"
    }
   ],
   "source": [
    "%%sql\n",
    "\n",
    "SHOW TABLES;"
   ]
  },
  {
   "cell_type": "markdown",
   "id": "f963733e",
   "metadata": {},
   "source": [
    "#### 1 - Check the number of different media types contained in the DB"
   ]
  },
  {
   "cell_type": "code",
   "execution_count": 38,
   "id": "4d16e40f",
   "metadata": {},
   "outputs": [
    {
     "name": "stdout",
     "output_type": "stream",
     "text": [
      " * mysql+mysqlconnector://root:***@db\n",
      "5 rows affected.\n"
     ]
    },
    {
     "data": {
      "text/html": [
       "<table>\n",
       "    <tr>\n",
       "        <th>types</th>\n",
       "        <th>Counts</th>\n",
       "    </tr>\n",
       "    <tr>\n",
       "        <td>movie</td>\n",
       "        <td>239353</td>\n",
       "    </tr>\n",
       "    <tr>\n",
       "        <td>tvEpisode</td>\n",
       "        <td>708598</td>\n",
       "    </tr>\n",
       "    <tr>\n",
       "        <td>tvSeries</td>\n",
       "        <td>59424</td>\n",
       "    </tr>\n",
       "    <tr>\n",
       "        <td>tvMiniSeries</td>\n",
       "        <td>11963</td>\n",
       "    </tr>\n",
       "    <tr>\n",
       "        <td>videoGame</td>\n",
       "        <td>257</td>\n",
       "    </tr>\n",
       "</table>"
      ],
      "text/plain": [
       "[('movie', 239353),\n",
       " ('tvEpisode', 708598),\n",
       " ('tvSeries', 59424),\n",
       " ('tvMiniSeries', 11963),\n",
       " ('videoGame', 257)]"
      ]
     },
     "execution_count": 38,
     "metadata": {},
     "output_type": "execute_result"
    }
   ],
   "source": [
    "%%sql \n",
    "\n",
    "SELECT title_type AS types, COUNT(title_type) AS Counts\n",
    "FROM Titles\n",
    "GROUP BY title_type;"
   ]
  },
  {
   "cell_type": "markdown",
   "id": "2ce1e02e",
   "metadata": {},
   "source": [
    "#### 2 - Plot an histogram about the number of media types per group"
   ]
  },
  {
   "cell_type": "code",
   "execution_count": 40,
   "id": "ad5bc141",
   "metadata": {},
   "outputs": [
    {
     "name": "stdout",
     "output_type": "stream",
     "text": [
      " * mysql+mysqlconnector://root:***@db\n",
      "5 rows affected.\n"
     ]
    },
    {
     "data": {
      "image/png": "[encoded data removed]",
      "text/plain": [
       "<Figure size 640x480 with 1 Axes>"
      ]
     },
     "metadata": {},
     "output_type": "display_data"
    }
   ],
   "source": [
    "res = %sql SELECT DISTINCT title_type AS types, COUNT(title_type) AS Counts FROM Titles GROUP BY title_type ORDER BY Counts DESC;\n",
    "\n",
    "res.bar();"
   ]
  },
  {
   "cell_type": "markdown",
   "id": "37952def",
   "metadata": {},
   "source": [
    "#### 3 - Find the name and rating of the oldest videogame stored in the DB "
   ]
  },
  {
   "cell_type": "code",
   "execution_count": 60,
   "id": "a32cf1aa",
   "metadata": {},
   "outputs": [
    {
     "name": "stdout",
     "output_type": "stream",
     "text": [
      " * mysql+mysqlconnector://root:***@db\n",
      "10 rows affected.\n"
     ]
    },
    {
     "data": {
      "text/html": [
       "<table>\n",
       "    <tr>\n",
       "        <th>title_id</th>\n",
       "        <th>primary_title</th>\n",
       "    </tr>\n",
       "    <tr>\n",
       "        <td>tt0113863</td>\n",
       "        <td>b&#x27;Mr. Payback: An Interactive Movie&#x27;</td>\n",
       "    </tr>\n",
       "    <tr>\n",
       "        <td>tt0114282</td>\n",
       "        <td>b&#x27;Ride for Your Life&#x27;</td>\n",
       "    </tr>\n",
       "    <tr>\n",
       "        <td>tt0117012</td>\n",
       "        <td>b&#x27;Maximum Surge&#x27;</td>\n",
       "    </tr>\n",
       "    <tr>\n",
       "        <td>tt0154789</td>\n",
       "        <td>b&#x27;Lord of the Rings&#x27;</td>\n",
       "    </tr>\n",
       "    <tr>\n",
       "        <td>tt0161941</td>\n",
       "        <td>b&#x27;Resident Evil 2&#x27;</td>\n",
       "    </tr>\n",
       "    <tr>\n",
       "        <td>tt0190254</td>\n",
       "        <td>b&#x27;Bangkok&#x27;</td>\n",
       "    </tr>\n",
       "    <tr>\n",
       "        <td>tt0268761</td>\n",
       "        <td>b&#x27;The World Is Not Enough&#x27;</td>\n",
       "    </tr>\n",
       "    <tr>\n",
       "        <td>tt0296852</td>\n",
       "        <td>b&#x27;The Simpsons&#x27;</td>\n",
       "    </tr>\n",
       "    <tr>\n",
       "        <td>tt0301787</td>\n",
       "        <td>b&#x27;Rugrats: Search for Reptar&#x27;</td>\n",
       "    </tr>\n",
       "    <tr>\n",
       "        <td>tt0332240</td>\n",
       "        <td>b&#x27;The Matwix&#x27;</td>\n",
       "    </tr>\n",
       "</table>"
      ],
      "text/plain": [
       "[('tt0113863', b'Mr. Payback: An Interactive Movie'),\n",
       " ('tt0114282', b'Ride for Your Life'),\n",
       " ('tt0117012', b'Maximum Surge'),\n",
       " ('tt0154789', b'Lord of the Rings'),\n",
       " ('tt0161941', b'Resident Evil 2'),\n",
       " ('tt0190254', b'Bangkok'),\n",
       " ('tt0268761', b'The World Is Not Enough'),\n",
       " ('tt0296852', b'The Simpsons'),\n",
       " ('tt0301787', b'Rugrats: Search for Reptar'),\n",
       " ('tt0332240', b'The Matwix')]"
      ]
     },
     "execution_count": 60,
     "metadata": {},
     "output_type": "execute_result"
    }
   ],
   "source": [
    "%%sql\n",
    "\n",
    "SELECT t.title_id, t.primary_title FROM Titles t\n",
    "WHERE (t.title_type LIKE \"%Game\")\n",
    "LIMIT 10;"
   ]
  },
  {
   "cell_type": "code",
   "execution_count": 68,
   "id": "64873bc4",
   "metadata": {},
   "outputs": [
    {
     "name": "stdout",
     "output_type": "stream",
     "text": [
      " * mysql+mysqlconnector://root:***@db\n",
      "1 rows affected.\n"
     ]
    },
    {
     "data": {
      "text/html": [
       "<table>\n",
       "    <tr>\n",
       "        <th>title_id</th>\n",
       "        <th>primary_title</th>\n",
       "    </tr>\n",
       "    <tr>\n",
       "        <td>tt0154789</td>\n",
       "        <td>b&#x27;Lord of the Rings&#x27;</td>\n",
       "    </tr>\n",
       "</table>"
      ],
      "text/plain": [
       "[('tt0154789', b'Lord of the Rings')]"
      ]
     },
     "execution_count": 68,
     "metadata": {},
     "output_type": "execute_result"
    }
   ],
   "source": [
    "%%sql\n",
    "\n",
    "SELECT t.title_id, t.primary_title FROM Titles t\n",
    "WHERE (t.title_type LIKE \"%Game\") AND (t.start_year = (SELECT MIN(t1.start_year) FROM Titles t1));"
   ]
  },
  {
   "cell_type": "code",
   "execution_count": 74,
   "id": "1c807c67",
   "metadata": {},
   "outputs": [
    {
     "name": "stdout",
     "output_type": "stream",
     "text": [
      " * mysql+mysqlconnector://root:***@db\n",
      "1 rows affected.\n"
     ]
    },
    {
     "data": {
      "text/html": [
       "<table>\n",
       "    <tr>\n",
       "        <th>title_id</th>\n",
       "        <th>primary_title</th>\n",
       "        <th>average_rating</th>\n",
       "    </tr>\n",
       "    <tr>\n",
       "        <td>tt0154789</td>\n",
       "        <td>b&#x27;Lord of the Rings&#x27;</td>\n",
       "        <td>6.9</td>\n",
       "    </tr>\n",
       "</table>"
      ],
      "text/plain": [
       "[('tt0154789', b'Lord of the Rings', 6.9)]"
      ]
     },
     "execution_count": 74,
     "metadata": {},
     "output_type": "execute_result"
    }
   ],
   "source": [
    "%%sql\n",
    "\n",
    "SELECT t.title_id, t.primary_title, r.average_rating FROM Titles t\n",
    "INNER JOIN Title_ratings r ON t.title_id = r.title_id\n",
    "WHERE (t.title_type LIKE \"%Game\") AND (t.start_year = (SELECT MIN(t1.start_year) FROM Titles t1));"
   ]
  },
  {
   "cell_type": "markdown",
   "id": "e2830a48",
   "metadata": {},
   "source": [
    "### Identify interesting outliers \n",
    "\n",
    "1. List the names of movies whose title begin with \"The\" have a runtime between 3 and 4 hours.\n",
    "2. What actor had the most roles as 'Self'?\n",
    "3. Identify what TV series had more than 1,000 episodes, and check the first- and last-episod year"
   ]
  },
  {
   "cell_type": "markdown",
   "id": "80811ded",
   "metadata": {},
   "source": [
    "#### 1 - List the names of movies whose title begins with \"The\" have a runtime between 3 and 4 hours."
   ]
  },
  {
   "cell_type": "code",
   "execution_count": 84,
   "id": "cb54fe28",
   "metadata": {},
   "outputs": [
    {
     "name": "stdout",
     "output_type": "stream",
     "text": [
      " * mysql+mysqlconnector://root:***@db\n",
      "10 rows affected.\n"
     ]
    },
    {
     "data": {
      "text/html": [
       "<table>\n",
       "    <tr>\n",
       "        <th>title_id</th>\n",
       "        <th>title_type</th>\n",
       "        <th>primary_title</th>\n",
       "        <th>start_year</th>\n",
       "        <th>runtime_minutes</th>\n",
       "    </tr>\n",
       "    <tr>\n",
       "        <td>tt0101428</td>\n",
       "        <td>movie</td>\n",
       "        <td>b&#x27;The Beautiful Troublemaker&#x27;</td>\n",
       "        <td>1991</td>\n",
       "        <td>238</td>\n",
       "    </tr>\n",
       "    <tr>\n",
       "        <td>tt0104350</td>\n",
       "        <td>movie</td>\n",
       "        <td>b&#x27;The Best Intentions&#x27;</td>\n",
       "        <td>1992</td>\n",
       "        <td>180</td>\n",
       "    </tr>\n",
       "    <tr>\n",
       "        <td>tt0107472</td>\n",
       "        <td>movie</td>\n",
       "        <td>b&#x27;The Wonderful, Horrible Life of Leni Riefenstahl&#x27;</td>\n",
       "        <td>1993</td>\n",
       "        <td>183</td>\n",
       "    </tr>\n",
       "    <tr>\n",
       "        <td>tt0109584</td>\n",
       "        <td>movie</td>\n",
       "        <td>b&#x27;The Decline of the Century: Testament L.Z.&#x27;</td>\n",
       "        <td>1994</td>\n",
       "        <td>201</td>\n",
       "    </tr>\n",
       "    <tr>\n",
       "        <td>tt0110894</td>\n",
       "        <td>movie</td>\n",
       "        <td>b&#x27;The Beginning and the End&#x27;</td>\n",
       "        <td>1993</td>\n",
       "        <td>188</td>\n",
       "    </tr>\n",
       "    <tr>\n",
       "        <td>tt0120125</td>\n",
       "        <td>movie</td>\n",
       "        <td>b&#x27;The Barber of Siberia&#x27;</td>\n",
       "        <td>1998</td>\n",
       "        <td>180</td>\n",
       "    </tr>\n",
       "    <tr>\n",
       "        <td>tt0120689</td>\n",
       "        <td>movie</td>\n",
       "        <td>b&#x27;The Green Mile&#x27;</td>\n",
       "        <td>1999</td>\n",
       "        <td>189</td>\n",
       "    </tr>\n",
       "    <tr>\n",
       "        <td>tt0133027</td>\n",
       "        <td>movie</td>\n",
       "        <td>b&#x27;The Year After Dayton&#x27;</td>\n",
       "        <td>1997</td>\n",
       "        <td>204</td>\n",
       "    </tr>\n",
       "    <tr>\n",
       "        <td>tt0138104</td>\n",
       "        <td>movie</td>\n",
       "        <td>b&#x27;The Sleep Room&#x27;</td>\n",
       "        <td>1998</td>\n",
       "        <td>193</td>\n",
       "    </tr>\n",
       "    <tr>\n",
       "        <td>tt0167260</td>\n",
       "        <td>movie</td>\n",
       "        <td>b&#x27;The Lord of the Rings: The Return of the King&#x27;</td>\n",
       "        <td>2003</td>\n",
       "        <td>201</td>\n",
       "    </tr>\n",
       "</table>"
      ],
      "text/plain": [
       "[('tt0101428', 'movie', b'The Beautiful Troublemaker', 1991, 238),\n",
       " ('tt0104350', 'movie', b'The Best Intentions', 1992, 180),\n",
       " ('tt0107472', 'movie', b'The Wonderful, Horrible Life of Leni Riefenstahl', 1993, 183),\n",
       " ('tt0109584', 'movie', b'The Decline of the Century: Testament L.Z.', 1994, 201),\n",
       " ('tt0110894', 'movie', b'The Beginning and the End', 1993, 188),\n",
       " ('tt0120125', 'movie', b'The Barber of Siberia', 1998, 180),\n",
       " ('tt0120689', 'movie', b'The Green Mile', 1999, 189),\n",
       " ('tt0133027', 'movie', b'The Year After Dayton', 1997, 204),\n",
       " ('tt0138104', 'movie', b'The Sleep Room', 1998, 193),\n",
       " ('tt0167260', 'movie', b'The Lord of the Rings: The Return of the King', 2003, 201)]"
      ]
     },
     "execution_count": 84,
     "metadata": {},
     "output_type": "execute_result"
    }
   ],
   "source": [
    "%%sql\n",
    "\n",
    "SELECT * FROM Titles t\n",
    "WHERE (t.primary_title LIKE \"The%\") AND (t.runtime_minutes BETWEEN 3*60 AND 4*60) AND (t.title_type = \"movie\")\n",
    "LIMIT 10;"
   ]
  },
  {
   "cell_type": "markdown",
   "id": "b0b10f31",
   "metadata": {},
   "source": [
    "#### 2 - What actor had the most roles as 'Self'?"
   ]
  },
  {
   "cell_type": "code",
   "execution_count": 97,
   "id": "fc47a7b9",
   "metadata": {},
   "outputs": [
    {
     "name": "stdout",
     "output_type": "stream",
     "text": [
      " * mysql+mysqlconnector://root:***@db\n",
      "10 rows affected.\n"
     ]
    },
    {
     "data": {
      "text/html": [
       "<table>\n",
       "    <tr>\n",
       "        <th>name_id</th>\n",
       "        <th>Counts</th>\n",
       "    </tr>\n",
       "    <tr>\n",
       "        <td>nm9981601</td>\n",
       "        <td>4835</td>\n",
       "    </tr>\n",
       "    <tr>\n",
       "        <td>nm9981596</td>\n",
       "        <td>4792</td>\n",
       "    </tr>\n",
       "    <tr>\n",
       "        <td>nm10354626</td>\n",
       "        <td>3760</td>\n",
       "    </tr>\n",
       "    <tr>\n",
       "        <td>nm1701992</td>\n",
       "        <td>3197</td>\n",
       "    </tr>\n",
       "    <tr>\n",
       "        <td>nm10354627</td>\n",
       "        <td>2916</td>\n",
       "    </tr>\n",
       "    <tr>\n",
       "        <td>nm2450386</td>\n",
       "        <td>2763</td>\n",
       "    </tr>\n",
       "    <tr>\n",
       "        <td>nm9981597</td>\n",
       "        <td>2493</td>\n",
       "    </tr>\n",
       "    <tr>\n",
       "        <td>nm0874339</td>\n",
       "        <td>2210</td>\n",
       "    </tr>\n",
       "    <tr>\n",
       "        <td>nm4489288</td>\n",
       "        <td>1201</td>\n",
       "    </tr>\n",
       "    <tr>\n",
       "        <td>nm3326827</td>\n",
       "        <td>1161</td>\n",
       "    </tr>\n",
       "</table>"
      ],
      "text/plain": [
       "[('nm9981601', 4835),\n",
       " ('nm9981596', 4792),\n",
       " ('nm10354626', 3760),\n",
       " ('nm1701992', 3197),\n",
       " ('nm10354627', 2916),\n",
       " ('nm2450386', 2763),\n",
       " ('nm9981597', 2493),\n",
       " ('nm0874339', 2210),\n",
       " ('nm4489288', 1201),\n",
       " ('nm3326827', 1161)]"
      ]
     },
     "execution_count": 97,
     "metadata": {},
     "output_type": "execute_result"
    }
   ],
   "source": [
    "%%sql\n",
    "\n",
    "SELECT h.name_id, COUNT(h.role_) AS Counts FROM Had_role h\n",
    "WHERE (h.role_ LIKE \"Self\")\n",
    "GROUP BY h.name_id\n",
    "ORDER BY Counts DESC\n",
    "LIMIT 10;"
   ]
  },
  {
   "cell_type": "code",
   "execution_count": 128,
   "id": "dafb7c02",
   "metadata": {},
   "outputs": [
    {
     "name": "stdout",
     "output_type": "stream",
     "text": [
      " * mysql+mysqlconnector://root:***@db\n",
      "1 rows affected.\n"
     ]
    },
    {
     "data": {
      "text/html": [
       "<table>\n",
       "    <tr>\n",
       "        <th>name_</th>\n",
       "        <th>NumOfTimes</th>\n",
       "    </tr>\n",
       "    <tr>\n",
       "        <td>Scott Morrison</td>\n",
       "        <td>3197</td>\n",
       "    </tr>\n",
       "</table>"
      ],
      "text/plain": [
       "[('Scott Morrison', 3197)]"
      ]
     },
     "execution_count": 128,
     "metadata": {},
     "output_type": "execute_result"
    }
   ],
   "source": [
    "%%sql\n",
    "\n",
    "SELECT n.name_, COUNT(n.name_) AS NumOfTimes FROM Names_ n\n",
    "INNER JOIN Had_role h ON n.name_id = h.name_id\n",
    "WHERE (h.role_ LIKE \"Self\")\n",
    "GROUP BY n.name_\n",
    "ORDER BY NumOfTimes DESC\n",
    "LIMIT 1;"
   ]
  },
  {
   "cell_type": "markdown",
   "id": "0b55feae",
   "metadata": {},
   "source": [
    "#### 3 - Identify what TV series had more than 1,000 episodes, and check the first- and last-episod year"
   ]
  },
  {
   "cell_type": "code",
   "execution_count": 174,
   "id": "922a64ab",
   "metadata": {},
   "outputs": [
    {
     "name": "stdout",
     "output_type": "stream",
     "text": [
      " * mysql+mysqlconnector://root:***@db\n",
      "10 rows affected.\n"
     ]
    },
    {
     "data": {
      "text/html": [
       "<table>\n",
       "    <tr>\n",
       "        <th>primary_title</th>\n",
       "        <th>NumOfEpisodes</th>\n",
       "        <th>starting_year</th>\n",
       "    </tr>\n",
       "    <tr>\n",
       "        <td>b&#x27;Charlie Rose&#x27;</td>\n",
       "        <td>9884</td>\n",
       "        <td>1991</td>\n",
       "    </tr>\n",
       "    <tr>\n",
       "        <td>b&#x27;Gute Zeiten, schlechte Zeiten&#x27;</td>\n",
       "        <td>7455</td>\n",
       "        <td>1992</td>\n",
       "    </tr>\n",
       "    <tr>\n",
       "        <td>b&#x27;Judge Judy&#x27;</td>\n",
       "        <td>7282</td>\n",
       "        <td>1996</td>\n",
       "    </tr>\n",
       "    <tr>\n",
       "        <td>b&#x27;Unter uns&#x27;</td>\n",
       "        <td>6803</td>\n",
       "        <td>1994</td>\n",
       "    </tr>\n",
       "    <tr>\n",
       "        <td>b&#x27;Late Show with David Letterman&#x27;</td>\n",
       "        <td>6691</td>\n",
       "        <td>1993</td>\n",
       "    </tr>\n",
       "    <tr>\n",
       "        <td>b&#x27;Goede tijden, slechte tijden&#x27;</td>\n",
       "        <td>6550</td>\n",
       "        <td>1990</td>\n",
       "    </tr>\n",
       "    <tr>\n",
       "        <td>b&#x27;Young Hearts&#x27;</td>\n",
       "        <td>6247</td>\n",
       "        <td>1995</td>\n",
       "    </tr>\n",
       "    <tr>\n",
       "        <td>b&#x27;DAS!&#x27;</td>\n",
       "        <td>5433</td>\n",
       "        <td>1991</td>\n",
       "    </tr>\n",
       "    <tr>\n",
       "        <td>b&quot;L&#x27;invit\\xc3\\xa9&quot;</td>\n",
       "        <td>5273</td>\n",
       "        <td>2000</td>\n",
       "    </tr>\n",
       "    <tr>\n",
       "        <td>b&#x27;Volle Kanne&#x27;</td>\n",
       "        <td>5111</td>\n",
       "        <td>1999</td>\n",
       "    </tr>\n",
       "</table>"
      ],
      "text/plain": [
       "[(b'Charlie Rose', 9884, 1991),\n",
       " (b'Gute Zeiten, schlechte Zeiten', 7455, 1992),\n",
       " (b'Judge Judy', 7282, 1996),\n",
       " (b'Unter uns', 6803, 1994),\n",
       " (b'Late Show with David Letterman', 6691, 1993),\n",
       " (b'Goede tijden, slechte tijden', 6550, 1990),\n",
       " (b'Young Hearts', 6247, 1995),\n",
       " (b'DAS!', 5433, 1991),\n",
       " (b\"L'invit\\xc3\\xa9\", 5273, 2000),\n",
       " (b'Volle Kanne', 5111, 1999)]"
      ]
     },
     "execution_count": 174,
     "metadata": {},
     "output_type": "execute_result"
    }
   ],
   "source": [
    "%%sql\n",
    "\n",
    "SELECT t.primary_title, COUNT(t.primary_title) AS NumOfEpisodes, MIN(t.start_year) AS starting_year\n",
    "FROM Titles t\n",
    "INNER JOIN Episode_belongs_to eps ON t.title_id = eps.parent_tv_show_title_id\n",
    "GROUP BY t.primary_title\n",
    "ORDER BY NumOfEpisodes DESC\n",
    "LIMIT 10;"
   ]
  },
  {
   "cell_type": "markdown",
   "id": "b82192a7",
   "metadata": {},
   "source": [
    "### It's all about the ratings \n",
    "\n",
    "1. Group all movies by decade and plot the rating distribution. Limit the query to the movies with at least 1000 ratings.\n",
    "2. Plot the average rating of each episode of Games of Thrones. Group by season and compute the average and std for each season\n",
    "3. Plot the total numer of movies per year, divided by genre (Action, Comedy, Drama, Thriller, Fantasy), and the yearly rating average per genre"
   ]
  },
  {
   "cell_type": "markdown",
   "id": "dada1b9b",
   "metadata": {},
   "source": [
    "#### 1 - Group all movies by decade and plot the rating distribution. Limit the query to the movies with at least 1000 ratings."
   ]
  },
  {
   "cell_type": "code",
   "execution_count": 216,
   "id": "1ae8f835",
   "metadata": {},
   "outputs": [
    {
     "name": "stdout",
     "output_type": "stream",
     "text": [
      " * mysql+mysqlconnector://root:***@db\n",
      "7 rows affected.\n"
     ]
    },
    {
     "data": {
      "text/html": [
       "<table>\n",
       "    <tr>\n",
       "        <th>Tables_in_IMDb</th>\n",
       "    </tr>\n",
       "    <tr>\n",
       "        <td>Directors</td>\n",
       "    </tr>\n",
       "    <tr>\n",
       "        <td>Episode_belongs_to</td>\n",
       "    </tr>\n",
       "    <tr>\n",
       "        <td>Had_role</td>\n",
       "    </tr>\n",
       "    <tr>\n",
       "        <td>Names_</td>\n",
       "    </tr>\n",
       "    <tr>\n",
       "        <td>Title_genres</td>\n",
       "    </tr>\n",
       "    <tr>\n",
       "        <td>Title_ratings</td>\n",
       "    </tr>\n",
       "    <tr>\n",
       "        <td>Titles</td>\n",
       "    </tr>\n",
       "</table>"
      ],
      "text/plain": [
       "[('Directors',),\n",
       " ('Episode_belongs_to',),\n",
       " ('Had_role',),\n",
       " ('Names_',),\n",
       " ('Title_genres',),\n",
       " ('Title_ratings',),\n",
       " ('Titles',)]"
      ]
     },
     "execution_count": 216,
     "metadata": {},
     "output_type": "execute_result"
    }
   ],
   "source": [
    "%%sql\n",
    "\n",
    "SHOW TABLES;"
   ]
  },
  {
   "cell_type": "code",
   "execution_count": 217,
   "id": "ce6f4872",
   "metadata": {},
   "outputs": [
    {
     "name": "stdout",
     "output_type": "stream",
     "text": [
      " * mysql+mysqlconnector://root:***@db\n",
      "0 rows affected.\n"
     ]
    },
    {
     "data": {
      "text/plain": [
       "[]"
      ]
     },
     "execution_count": 217,
     "metadata": {},
     "output_type": "execute_result"
    }
   ],
   "source": [
    "%%sql\n",
    "\n",
    "CREATE VIEW RES AS\n",
    "SELECT t.start_year, COUNT(t.start_year) AS NumOfFilm_per_Year, SUM(r.average_rating) AS SumOFAveragerating_per_Year FROM Titles t\n",
    "INNER JOIN Title_ratings r ON t.title_id = r.title_id\n",
    "WHERE t.title_type LIKE \"movie\" AND num_votes > 1000 AND start_year IS NOT NULL\n",
    "GROUP BY start_year\n",
    "ORDER BY start_year\n",
    "LIMIT 10;"
   ]
  },
  {
   "cell_type": "code",
   "execution_count": 227,
   "id": "665e843d",
   "metadata": {},
   "outputs": [
    {
     "name": "stdout",
     "output_type": "stream",
     "text": [
      " * mysql+mysqlconnector://root:***@db\n",
      "10 rows affected.\n"
     ]
    },
    {
     "data": {
      "text/html": [
       "<table>\n",
       "    <tr>\n",
       "        <th>start_year</th>\n",
       "        <th>NumOfFilm_per_Year</th>\n",
       "        <th>SumOFAveragerating_per_Year</th>\n",
       "    </tr>\n",
       "    <tr>\n",
       "        <td>1990</td>\n",
       "        <td>322</td>\n",
       "        <td>2005.4999976158142</td>\n",
       "    </tr>\n",
       "    <tr>\n",
       "        <td>1991</td>\n",
       "        <td>343</td>\n",
       "        <td>2174.900003194809</td>\n",
       "    </tr>\n",
       "    <tr>\n",
       "        <td>1992</td>\n",
       "        <td>334</td>\n",
       "        <td>2164.0000029802322</td>\n",
       "    </tr>\n",
       "    <tr>\n",
       "        <td>1993</td>\n",
       "        <td>373</td>\n",
       "        <td>2369.6999971866608</td>\n",
       "    </tr>\n",
       "    <tr>\n",
       "        <td>1994</td>\n",
       "        <td>368</td>\n",
       "        <td>2307.600000143051</td>\n",
       "    </tr>\n",
       "    <tr>\n",
       "        <td>1995</td>\n",
       "        <td>395</td>\n",
       "        <td>2519.8000059127808</td>\n",
       "    </tr>\n",
       "    <tr>\n",
       "        <td>1996</td>\n",
       "        <td>407</td>\n",
       "        <td>2577.7000029087067</td>\n",
       "    </tr>\n",
       "    <tr>\n",
       "        <td>1997</td>\n",
       "        <td>464</td>\n",
       "        <td>2962.5999995470047</td>\n",
       "    </tr>\n",
       "    <tr>\n",
       "        <td>1998</td>\n",
       "        <td>473</td>\n",
       "        <td>3041.199999809265</td>\n",
       "    </tr>\n",
       "    <tr>\n",
       "        <td>1999</td>\n",
       "        <td>503</td>\n",
       "        <td>3220.7000019550323</td>\n",
       "    </tr>\n",
       "</table>"
      ],
      "text/plain": [
       "[(1990, 322, 2005.4999976158142),\n",
       " (1991, 343, 2174.900003194809),\n",
       " (1992, 334, 2164.0000029802322),\n",
       " (1993, 373, 2369.6999971866608),\n",
       " (1994, 368, 2307.600000143051),\n",
       " (1995, 395, 2519.8000059127808),\n",
       " (1996, 407, 2577.7000029087067),\n",
       " (1997, 464, 2962.5999995470047),\n",
       " (1998, 473, 3041.199999809265),\n",
       " (1999, 503, 3220.7000019550323)]"
      ]
     },
     "execution_count": 227,
     "metadata": {},
     "output_type": "execute_result"
    }
   ],
   "source": [
    "%%sql\n",
    "\n",
    "SELECT * FROM RES;"
   ]
  },
  {
   "cell_type": "code",
   "execution_count": 229,
   "id": "481b96fd",
   "metadata": {},
   "outputs": [
    {
     "name": "stdout",
     "output_type": "stream",
     "text": [
      " * mysql+mysqlconnector://root:***@db\n",
      "10 rows affected.\n"
     ]
    },
    {
     "data": {
      "image/png": "[encoded data removed]",
      "text/plain": [
       "<Figure size 640x480 with 1 Axes>"
      ]
     },
     "metadata": {},
     "output_type": "display_data"
    }
   ],
   "source": [
    "to_hist = %sql SELECT start_year, SumOFAveragerating_per_Year/NumOfFilm_per_Year FROM RES\n",
    "years = [x[0] for x in to_hist]\n",
    "vals = [x[1] for x in to_hist]\n",
    "plt.plot(years, vals);"
   ]
  },
  {
   "cell_type": "markdown",
   "id": "0545fe7b",
   "metadata": {},
   "source": [
    "#### 2 - Plot the average rating of each episode of Games of Thrones. Group by season and compute the average and std for each season"
   ]
  },
  {
   "cell_type": "code",
   "execution_count": 242,
   "id": "f3d04fa7",
   "metadata": {},
   "outputs": [
    {
     "name": "stdout",
     "output_type": "stream",
     "text": [
      " * mysql+mysqlconnector://root:***@db\n",
      "1 rows affected.\n"
     ]
    },
    {
     "data": {
      "text/html": [
       "<table>\n",
       "    <tr>\n",
       "        <th>title_id</th>\n",
       "        <th>title_type</th>\n",
       "        <th>primary_title</th>\n",
       "        <th>start_year</th>\n",
       "        <th>runtime_minutes</th>\n",
       "    </tr>\n",
       "    <tr>\n",
       "        <td>tt0944947</td>\n",
       "        <td>tvSeries</td>\n",
       "        <td>b&#x27;Game of Thrones&#x27;</td>\n",
       "        <td>2011</td>\n",
       "        <td>57</td>\n",
       "    </tr>\n",
       "</table>"
      ],
      "text/plain": [
       "[('tt0944947', 'tvSeries', b'Game of Thrones', 2011, 57)]"
      ]
     },
     "execution_count": 242,
     "metadata": {},
     "output_type": "execute_result"
    }
   ],
   "source": [
    "%%sql\n",
    "\n",
    "SELECT * FROM Titles\n",
    "WHERE primary_title LIKE \"Game of Thrones\" AND title_type LIKE \"tvSer%\""
   ]
  },
  {
   "cell_type": "code",
   "execution_count": 244,
   "id": "2d63b8f2",
   "metadata": {},
   "outputs": [
    {
     "name": "stdout",
     "output_type": "stream",
     "text": [
      " * mysql+mysqlconnector://root:***@db\n",
      "5 rows affected.\n"
     ]
    },
    {
     "data": {
      "text/html": [
       "<table>\n",
       "    <tr>\n",
       "        <th>episode_title_id</th>\n",
       "        <th>parent_tv_show_title_id</th>\n",
       "        <th>season_number</th>\n",
       "        <th>episode_number</th>\n",
       "    </tr>\n",
       "    <tr>\n",
       "        <td>tt1480055</td>\n",
       "        <td>tt0944947</td>\n",
       "        <td>1</td>\n",
       "        <td>1</td>\n",
       "    </tr>\n",
       "    <tr>\n",
       "        <td>tt1668746</td>\n",
       "        <td>tt0944947</td>\n",
       "        <td>1</td>\n",
       "        <td>2</td>\n",
       "    </tr>\n",
       "    <tr>\n",
       "        <td>tt1829962</td>\n",
       "        <td>tt0944947</td>\n",
       "        <td>1</td>\n",
       "        <td>3</td>\n",
       "    </tr>\n",
       "    <tr>\n",
       "        <td>tt1829963</td>\n",
       "        <td>tt0944947</td>\n",
       "        <td>1</td>\n",
       "        <td>4</td>\n",
       "    </tr>\n",
       "    <tr>\n",
       "        <td>tt1829964</td>\n",
       "        <td>tt0944947</td>\n",
       "        <td>1</td>\n",
       "        <td>5</td>\n",
       "    </tr>\n",
       "</table>"
      ],
      "text/plain": [
       "[('tt1480055', 'tt0944947', 1, 1),\n",
       " ('tt1668746', 'tt0944947', 1, 2),\n",
       " ('tt1829962', 'tt0944947', 1, 3),\n",
       " ('tt1829963', 'tt0944947', 1, 4),\n",
       " ('tt1829964', 'tt0944947', 1, 5)]"
      ]
     },
     "execution_count": 244,
     "metadata": {},
     "output_type": "execute_result"
    }
   ],
   "source": [
    "%%sql\n",
    "\n",
    "SELECT * FROM Episode_belongs_to \n",
    "WHERE (parent_tv_show_title_id = (\n",
    "    SELECT t.title_id FROM Titles t\n",
    "    WHERE t.primary_title LIKE \"Game of Thrones\" \n",
    "    AND t.title_type LIKE \"tvSe%\"))\n",
    "LIMIT 5;"
   ]
  },
  {
   "cell_type": "code",
   "execution_count": 245,
   "id": "70920721",
   "metadata": {},
   "outputs": [
    {
     "name": "stdout",
     "output_type": "stream",
     "text": [
      " * mysql+mysqlconnector://root:***@db\n",
      "5 rows affected.\n"
     ]
    },
    {
     "data": {
      "text/html": [
       "<table>\n",
       "    <tr>\n",
       "        <th>title_id</th>\n",
       "        <th>average_rating</th>\n",
       "        <th>num_votes</th>\n",
       "    </tr>\n",
       "    <tr>\n",
       "        <td>tt1480055</td>\n",
       "        <td>9.1</td>\n",
       "        <td>45688</td>\n",
       "    </tr>\n",
       "    <tr>\n",
       "        <td>tt1668746</td>\n",
       "        <td>8.8</td>\n",
       "        <td>34688</td>\n",
       "    </tr>\n",
       "    <tr>\n",
       "        <td>tt1829962</td>\n",
       "        <td>8.7</td>\n",
       "        <td>32849</td>\n",
       "    </tr>\n",
       "    <tr>\n",
       "        <td>tt1829963</td>\n",
       "        <td>8.8</td>\n",
       "        <td>31231</td>\n",
       "    </tr>\n",
       "    <tr>\n",
       "        <td>tt1829964</td>\n",
       "        <td>9.1</td>\n",
       "        <td>32486</td>\n",
       "    </tr>\n",
       "</table>"
      ],
      "text/plain": [
       "[('tt1480055', 9.1, 45688),\n",
       " ('tt1668746', 8.8, 34688),\n",
       " ('tt1829962', 8.7, 32849),\n",
       " ('tt1829963', 8.8, 31231),\n",
       " ('tt1829964', 9.1, 32486)]"
      ]
     },
     "execution_count": 245,
     "metadata": {},
     "output_type": "execute_result"
    }
   ],
   "source": [
    "%%sql\n",
    "\n",
    "SELECT * FROM Title_ratings r\n",
    "WHERE (r.title_id IN (\n",
    "    SELECT episode_title_id FROM Episode_belongs_to \n",
    "    WHERE (parent_tv_show_title_id = (\n",
    "    SELECT t.title_id FROM Titles t\n",
    "    WHERE t.primary_title LIKE \"Game of Thrones\" \n",
    "    AND t.title_type LIKE \"tvSe%\"))\n",
    "))\n",
    "LIMIT 5;"
   ]
  },
  {
   "cell_type": "code",
   "execution_count": 300,
   "id": "40d81a24",
   "metadata": {},
   "outputs": [
    {
     "name": "stdout",
     "output_type": "stream",
     "text": [
      " * mysql+mysqlconnector://root:***@db\n",
      "73 rows affected.\n"
     ]
    },
    {
     "data": {
      "image/png": "[encoded data removed]",
      "text/plain": [
       "<Figure size 640x480 with 1 Axes>"
      ]
     },
     "metadata": {},
     "output_type": "display_data"
    }
   ],
   "source": [
    "to_plot = %sql SELECT average_rating FROM Title_ratings r WHERE (r.title_id IN (SELECT episode_title_id FROM Episode_belongs_to WHERE (parent_tv_show_title_id = (SELECT t.title_id FROM Titles t WHERE t.primary_title LIKE \"Game of Thrones\" AND t.title_type LIKE \"tvSe%\"))));\n",
    "to_plot.plot()\n",
    "plt.xlabel(\"# episode\")\n",
    "plt.ylabel(\"Average rating\")\n",
    "plt.ylim((0,10))\n",
    "for el in range(0, len(to_plot), 10):\n",
    "    plt.axvline(x=el, ls='--', color='orange')\n",
    "plt.show()"
   ]
  },
  {
   "cell_type": "markdown",
   "id": "b9b7a15b",
   "metadata": {},
   "source": [
    "#### 3 - Plot the total numer of movies per year, divided by genre (Action, Comedy, Drama, Thriller, Fantasy), and the yearly rating average per genre"
   ]
  },
  {
   "cell_type": "code",
   "execution_count": 279,
   "id": "a9073bb5",
   "metadata": {},
   "outputs": [
    {
     "name": "stdout",
     "output_type": "stream",
     "text": [
      " * mysql+mysqlconnector://root:***@db\n",
      "5 rows affected.\n"
     ]
    },
    {
     "data": {
      "text/html": [
       "<table>\n",
       "    <tr>\n",
       "        <th>title_id</th>\n",
       "        <th>genre</th>\n",
       "        <th>primary_title</th>\n",
       "        <th>start_year</th>\n",
       "        <th>average_rating</th>\n",
       "        <th>num_votes</th>\n",
       "    </tr>\n",
       "    <tr>\n",
       "        <td>tt0011216</td>\n",
       "        <td>Drama</td>\n",
       "        <td>b&#x27;Spanish Fiesta&#x27;</td>\n",
       "        <td>2019</td>\n",
       "        <td>6.9</td>\n",
       "        <td>30</td>\n",
       "    </tr>\n",
       "    <tr>\n",
       "        <td>tt0015724</td>\n",
       "        <td>Drama</td>\n",
       "        <td>b&#x27;Dama de noche&#x27;</td>\n",
       "        <td>1993</td>\n",
       "        <td>6.2</td>\n",
       "        <td>25</td>\n",
       "    </tr>\n",
       "    <tr>\n",
       "        <td>tt0015724</td>\n",
       "        <td>Mystery</td>\n",
       "        <td>b&#x27;Dama de noche&#x27;</td>\n",
       "        <td>1993</td>\n",
       "        <td>6.2</td>\n",
       "        <td>25</td>\n",
       "    </tr>\n",
       "    <tr>\n",
       "        <td>tt0015724</td>\n",
       "        <td>Romance</td>\n",
       "        <td>b&#x27;Dama de noche&#x27;</td>\n",
       "        <td>1993</td>\n",
       "        <td>6.2</td>\n",
       "        <td>25</td>\n",
       "    </tr>\n",
       "    <tr>\n",
       "        <td>tt0035423</td>\n",
       "        <td>Comedy</td>\n",
       "        <td>b&#x27;Kate &amp; Leopold&#x27;</td>\n",
       "        <td>2001</td>\n",
       "        <td>6.4</td>\n",
       "        <td>82922</td>\n",
       "    </tr>\n",
       "</table>"
      ],
      "text/plain": [
       "[('tt0011216', 'Drama', b'Spanish Fiesta', 2019, 6.9, 30),\n",
       " ('tt0015724', 'Drama', b'Dama de noche', 1993, 6.2, 25),\n",
       " ('tt0015724', 'Mystery', b'Dama de noche', 1993, 6.2, 25),\n",
       " ('tt0015724', 'Romance', b'Dama de noche', 1993, 6.2, 25),\n",
       " ('tt0035423', 'Comedy', b'Kate & Leopold', 2001, 6.4, 82922)]"
      ]
     },
     "execution_count": 279,
     "metadata": {},
     "output_type": "execute_result"
    }
   ],
   "source": [
    "%%sql \n",
    "\n",
    "SELECT t.title_id, tg.genre, t.primary_title, t.start_year, tr.average_rating, tr.num_votes FROM Titles t\n",
    "INNER JOIN Title_genres tg ON t.title_id = tg.title_id\n",
    "INNER JOIN Title_ratings tr ON t.title_id = tr.title_id\n",
    "LIMIT 5;"
   ]
  },
  {
   "cell_type": "code",
   "execution_count": 296,
   "id": "b293aa27",
   "metadata": {},
   "outputs": [
    {
     "name": "stdout",
     "output_type": "stream",
     "text": [
      " * mysql+mysqlconnector://root:***@db\n",
      "10 rows affected.\n"
     ]
    },
    {
     "data": {
      "text/html": [
       "<table>\n",
       "    <tr>\n",
       "        <th>genre</th>\n",
       "        <th>start_year</th>\n",
       "        <th>Yearly_rating_average_per_genre</th>\n",
       "    </tr>\n",
       "    <tr>\n",
       "        <td>Action</td>\n",
       "        <td>1990</td>\n",
       "        <td>5.513246741232934</td>\n",
       "    </tr>\n",
       "    <tr>\n",
       "        <td>Adventure</td>\n",
       "        <td>1990</td>\n",
       "        <td>5.796491223469115</td>\n",
       "    </tr>\n",
       "    <tr>\n",
       "        <td>Animation</td>\n",
       "        <td>1990</td>\n",
       "        <td>6.851999988555908</td>\n",
       "    </tr>\n",
       "    <tr>\n",
       "        <td>Biography</td>\n",
       "        <td>1990</td>\n",
       "        <td>6.672916695475578</td>\n",
       "    </tr>\n",
       "    <tr>\n",
       "        <td>Comedy</td>\n",
       "        <td>1990</td>\n",
       "        <td>5.837272716435519</td>\n",
       "    </tr>\n",
       "    <tr>\n",
       "        <td>Crime</td>\n",
       "        <td>1990</td>\n",
       "        <td>5.82089550548525</td>\n",
       "    </tr>\n",
       "    <tr>\n",
       "        <td>Documentary</td>\n",
       "        <td>1990</td>\n",
       "        <td>7.033076946551983</td>\n",
       "    </tr>\n",
       "    <tr>\n",
       "        <td>Drama</td>\n",
       "        <td>1990</td>\n",
       "        <td>6.179179479770172</td>\n",
       "    </tr>\n",
       "    <tr>\n",
       "        <td>Family</td>\n",
       "        <td>1990</td>\n",
       "        <td>6.0592104949449235</td>\n",
       "    </tr>\n",
       "    <tr>\n",
       "        <td>Fantasy</td>\n",
       "        <td>1990</td>\n",
       "        <td>5.828124990065892</td>\n",
       "    </tr>\n",
       "</table>"
      ],
      "text/plain": [
       "[('Action', 1990, 5.513246741232934),\n",
       " ('Adventure', 1990, 5.796491223469115),\n",
       " ('Animation', 1990, 6.851999988555908),\n",
       " ('Biography', 1990, 6.672916695475578),\n",
       " ('Comedy', 1990, 5.837272716435519),\n",
       " ('Crime', 1990, 5.82089550548525),\n",
       " ('Documentary', 1990, 7.033076946551983),\n",
       " ('Drama', 1990, 6.179179479770172),\n",
       " ('Family', 1990, 6.0592104949449235),\n",
       " ('Fantasy', 1990, 5.828124990065892)]"
      ]
     },
     "execution_count": 296,
     "metadata": {},
     "output_type": "execute_result"
    }
   ],
   "source": [
    "%%sql \n",
    "\n",
    "SELECT genre, start_year, AVG(tr.average_rating) AS Yearly_rating_average_per_genre FROM Titles t\n",
    "INNER JOIN Title_genres tg ON t.title_id = tg.title_id\n",
    "INNER JOIN Title_ratings tr ON t.title_id = tr.title_id\n",
    "WHERE start_year IS NOT NULL AND t.title_type LIKE \"movie\"\n",
    "GROUP BY start_year, genre\n",
    "LIMIT 10;"
   ]
  },
  {
   "cell_type": "code",
   "execution_count": 287,
   "id": "ff93aeb6",
   "metadata": {},
   "outputs": [
    {
     "name": "stdout",
     "output_type": "stream",
     "text": [
      "<mysql.connector.connection_cext.CMySQLConnection object at 0x7fca77a49af0>\n"
     ]
    }
   ],
   "source": [
    "# import the connector\n",
    "import mysql.connector\n",
    "\n",
    "# declare a connection to the MySQL server \n",
    "# the hostname (or IP) of the server machine should be passed\n",
    "db = mysql.connector.connect(\n",
    "  user=\"root\",\n",
    "  password=\"root_pwd\",\n",
    "  host=\"db\", # in this case 'db' is the equivalent of the IP address of the server \n",
    "             # or 'localhost' if running mysql locally\n",
    ")\n",
    "\n",
    "print(db)"
   ]
  },
  {
   "cell_type": "code",
   "execution_count": 297,
   "id": "f6b611c1",
   "metadata": {},
   "outputs": [],
   "source": [
    "sql_ = \"SELECT genre, start_year, AVG(tr.average_rating) AS Yearly_rating_average_per_genre FROM Titles t \\\n",
    "INNER JOIN Title_genres tg ON t.title_id = tg.title_id \\\n",
    "INNER JOIN Title_ratings tr ON t.title_id = tr.title_id \\\n",
    "WHERE start_year IS NOT NULL \\\n",
    "AND t.title_type LIKE 'movie' \\\n",
    "GROUP BY start_year, genre;\"\n",
    "dbc = db.cursor()\n",
    "dbc.execute(\"USE IMDb;\")\n",
    "dbc.execute(sql_)\n",
    "res_ = dbc.fetchall()"
   ]
  },
  {
   "cell_type": "code",
   "execution_count": 298,
   "id": "0970aeb8",
   "metadata": {},
   "outputs": [
    {
     "data": {
      "text/plain": [
       "[('Action', 1990, 5.513246741232934),\n",
       " ('Adventure', 1990, 5.796491223469115),\n",
       " ('Animation', 1990, 6.851999988555908),\n",
       " ('Biography', 1990, 6.672916695475578),\n",
       " ('Comedy', 1990, 5.837272716435519),\n",
       " ('Crime', 1990, 5.82089550548525),\n",
       " ('Documentary', 1990, 7.033076946551983),\n",
       " ('Drama', 1990, 6.179179479770172),\n",
       " ('Family', 1990, 6.0592104949449235),\n",
       " ('Fantasy', 1990, 5.828124990065892),\n",
       " ('History', 1990, 6.693333339691162),\n",
       " ('Horror', 1990, 5.012209293454192),\n",
       " ('Music', 1990, 6.468965513952847),\n",
       " ('Musical', 1990, 6.430769296792837),\n",
       " ('Mystery', 1990, 5.676470588235294),\n",
       " ('Romance', 1990, 5.969117630346148),\n",
       " ('Sci-Fi', 1990, 5.1029411729644325),\n",
       " ('Sport', 1990, 5.847058913286994),\n",
       " ('Thriller', 1990, 5.478306881334416),\n",
       " ('War', 1990, 6.4217391117759375),\n",
       " ('Western', 1990, 5.7799999713897705),\n",
       " ('Action', 1991, 5.474999997122534),\n",
       " ('Adventure', 1991, 5.770689670381875),\n",
       " ('Animation', 1991, 6.509523828824361),\n",
       " ('Biography', 1991, 7.006250023841858),\n",
       " ('Comedy', 1991, 5.90976910142238),\n",
       " ('Crime', 1991, 5.955882354109895),\n",
       " ('Documentary', 1991, 7.118518537945217),\n",
       " ('Drama', 1991, 6.194586609761546),\n",
       " ('Family', 1991, 6.2800000270207725),\n",
       " ('Fantasy', 1991, 5.744247797316155),\n",
       " ('History', 1991, 6.73829788857318),\n",
       " ('Horror', 1991, 5.069503544070196),\n",
       " ('Music', 1991, 6.478260931761368),\n",
       " ('Musical', 1991, 6.103030255346587),\n",
       " ('Mystery', 1991, 5.6347222361299725),\n",
       " ('News', 1991, 3.0),\n",
       " ('Romance', 1991, 6.111842104217462),\n",
       " ('Sci-Fi', 1991, 5.1014492719069775),\n",
       " ('Sport', 1991, 5.676470546161427),\n",
       " ('Thriller', 1991, 5.39881656579012),\n",
       " ('War', 1991, 6.2886364026503125),\n",
       " ('Western', 1991, 5.9888888994852705),\n",
       " ('Action', 1992, 5.545317216942317),\n",
       " ('Adventure', 1992, 5.826595760406332),\n",
       " ('Animation', 1992, 6.34166665871938),\n",
       " ('Biography', 1992, 6.818604657816333),\n",
       " ('Comedy', 1992, 5.80211268281433),\n",
       " ('Crime', 1992, 5.88552632352762),\n",
       " ('Documentary', 1992, 7.2684848207415955),\n",
       " ('Drama', 1992, 6.215118798014927),\n",
       " ('Family', 1992, 6.028813564171226),\n",
       " ('Fantasy', 1992, 6.0487179695031585),\n",
       " ('History', 1992, 6.956521739130435),\n",
       " ('Horror', 1992, 5.264615393601931),\n",
       " ('Music', 1992, 6.831250016887982),\n",
       " ('Musical', 1992, 6.537037037037037),\n",
       " ('Mystery', 1992, 5.714999995628992),\n",
       " ('Romance', 1992, 6.0722891614140275),\n",
       " ('Sci-Fi', 1992, 5.137500002980232),\n",
       " ('Sport', 1992, 6.3681818355213515),\n",
       " ('Thriller', 1992, 5.538974356039977),\n",
       " ('War', 1992, 6.569230752113538),\n",
       " ('Western', 1992, 6.233333322736952),\n",
       " ('Action', 1993, 5.5254437732978685),\n",
       " ('Adventure', 1993, 5.787912064856226),\n",
       " ('Animation', 1993, 7.211538443198571),\n",
       " ('Biography', 1993, 6.925373137886845),\n",
       " ('Comedy', 1993, 5.822007720534866),\n",
       " ('Crime', 1993, 5.655078110285103),\n",
       " ('Documentary', 1993, 7.211656450493935),\n",
       " ('Drama', 1993, 6.143302177466831),\n",
       " ('Family', 1993, 5.8812499940395355),\n",
       " ('Fantasy', 1993, 5.93604650331098),\n",
       " ('History', 1993, 6.829166650772095),\n",
       " ('Horror', 1993, 5.007142839687211),\n",
       " ('Music', 1993, 7.031707310095066),\n",
       " ('Musical', 1993, 5.949999968210856),\n",
       " ('Mystery', 1993, 5.9388059715726484),\n",
       " ('Romance', 1993, 5.963524599544337),\n",
       " ('Sci-Fi', 1993, 4.988888872994317),\n",
       " ('Sport', 1993, 6.592307750995342),\n",
       " ('Thriller', 1993, 5.401333321465386),\n",
       " ('War', 1993, 6.30857139314924),\n",
       " ('Western', 1993, 5.855555481380886),\n",
       " ('Action', 1994, 5.397891570645642),\n",
       " ('Adventure', 1994, 5.803389828083879),\n",
       " ('Animation', 1994, 6.465625017881393),\n",
       " ('Biography', 1994, 6.854717002724701),\n",
       " ('Comedy', 1994, 5.831993293722271),\n",
       " ('Crime', 1994, 5.786382984607778),\n",
       " ('Documentary', 1994, 7.14428574017116),\n",
       " ('Drama', 1994, 6.146829273875166),\n",
       " ('Family', 1994, 5.740206189991272),\n",
       " ('Fantasy', 1994, 5.732558139534884),\n",
       " ('History', 1994, 6.570731738718544),\n",
       " ('Horror', 1994, 5.1755101899711455),\n",
       " ('Music', 1994, 6.954054052765305),\n",
       " ('Musical', 1994, 5.81538462638855),\n",
       " ('Mystery', 1994, 5.552631553850676),\n",
       " ('Romance', 1994, 6.032958798640676),\n",
       " ('Sci-Fi', 1994, 4.737254888403649),\n",
       " ('Short', 1994, 6.800000190734863),\n",
       " ('Sport', 1994, 6.241666654745738),\n",
       " ('Thriller', 1994, 5.297333324220445),\n",
       " ('War', 1994, 6.663888931274414),\n",
       " ('Western', 1994, 5.538461556801429),\n",
       " ('Action', 1995, 5.438968480145692),\n",
       " ('Adventure', 1995, 5.86576577779409),\n",
       " ('Animation', 1995, 6.579411724034478),\n",
       " ('Biography', 1995, 6.698437508195639),\n",
       " ('Comedy', 1995, 5.877419359769948),\n",
       " ('Crime', 1995, 5.904484325460254),\n",
       " ('Documentary', 1995, 7.126960783612494),\n",
       " ('Drama', 1995, 6.11608863807138),\n",
       " ('Family', 1995, 5.94117649863748),\n",
       " ('Fantasy', 1995, 5.964473699268542),\n",
       " ('History', 1995, 6.606976764146672),\n",
       " ('Horror', 1995, 5.056737593725218),\n",
       " ('Music', 1995, 6.893749959766865),\n",
       " ('Musical', 1995, 5.9363636645403774),\n",
       " ('Mystery', 1995, 5.821518988548955),\n",
       " ('Romance', 1995, 5.96103449566611),\n",
       " ('Sci-Fi', 1995, 5.022352933883667),\n",
       " ('Sport', 1995, 6.533333381017049),\n",
       " ('Thriller', 1995, 5.385317475076706),\n",
       " ('War', 1995, 6.65365857612796),\n",
       " ('Western', 1995, 5.873333374659221),\n",
       " ('Action', 1996, 5.374917483565831),\n",
       " ('Adventure', 1996, 5.893103437177066),\n",
       " ('Animation', 1996, 6.314285709744408),\n",
       " ('Biography', 1996, 6.758571427209037),\n",
       " ('Comedy', 1996, 5.8800643090266504),\n",
       " ('Crime', 1996, 5.8628692154139905),\n",
       " ('Documentary', 1996, 7.2074380177111665),\n",
       " ('Drama', 1996, 6.187179493655053),\n",
       " ('Family', 1996, 5.934020624947302),\n",
       " ('Fantasy', 1996, 5.842168695955391),\n",
       " ('History', 1996, 6.7755102138130034),\n",
       " ('Horror', 1996, 5.009523818606422),\n",
       " ('Music', 1996, 7.123076903514373),\n",
       " ('Musical', 1996, 6.111111102280794),\n",
       " ('Mystery', 1996, 5.879220770551012),\n",
       " ('Romance', 1996, 6.127508088608776),\n",
       " ('Sci-Fi', 1996, 4.665853637020763),\n",
       " ('Sport', 1996, 6.1800000286102295),\n",
       " ('Thriller', 1996, 5.3475409824340066),\n",
       " ('War', 1996, 6.571794888912103),\n",
       " ('Western', 1996, 5.860000133514404),\n",
       " ('Action', 1997, 5.441830067073598),\n",
       " ('Adventure', 1997, 5.7766990337557),\n",
       " ('Animation', 1997, 6.411538472542396),\n",
       " ('Biography', 1997, 7.1839285833495),\n",
       " ('Comedy', 1997, 5.846187050737066),\n",
       " ('Crime', 1997, 5.979012337241153),\n",
       " ('Documentary', 1997, 7.184057976888574),\n",
       " ('Drama', 1997, 6.189901691552675),\n",
       " ('Family', 1997, 5.883333351877001),\n",
       " ('Fantasy', 1997, 5.730136969318129),\n",
       " ('History', 1997, 6.8861538300147425),\n",
       " ('Horror', 1997, 5.057264956653627),\n",
       " ('Music', 1997, 6.8608695631441865),\n",
       " ('Musical', 1997, 6.2407407407407405),\n",
       " ('Mystery', 1997, 5.918072269623538),\n",
       " ('Romance', 1997, 6.146226413594852),\n",
       " ('Sci-Fi', 1997, 4.961627901986588),\n",
       " ('Sport', 1997, 6.418181787837636),\n",
       " ('Thriller', 1997, 5.423320160552918),\n",
       " ('War', 1997, 6.595121970990809),\n",
       " ('Western', 1997, 5.300000031789144),\n",
       " ('Action', 1998, 5.4315436206408),\n",
       " ('Adventure', 1998, 5.5729508165453305),\n",
       " ('Animation', 1998, 6.557894744371113),\n",
       " ('Biography', 1998, 6.953846179522001),\n",
       " ('Comedy', 1998, 5.860995849633118),\n",
       " ('Crime', 1998, 5.930824379767141),\n",
       " ('Documentary', 1998, 7.068627450201246),\n",
       " ('Drama', 1998, 6.195551758652778),\n",
       " ('Family', 1998, 5.388888859748841),\n",
       " ('Fantasy', 1998, 5.607692299745022),\n",
       " ('History', 1998, 6.8775000214576725),\n",
       " ('Horror', 1998, 4.924218721687794),\n",
       " ('Music', 1998, 6.805769223433274),\n",
       " ('Musical', 1998, 6.026086942009304),\n",
       " ('Mystery', 1998, 5.6568420686219865),\n",
       " ('Romance', 1998, 6.10169970955457),\n",
       " ('Sci-Fi', 1998, 5.046575333974133),\n",
       " ('Sport', 1998, 6.111111093450476),\n",
       " ('Thriller', 1998, 5.50491803102806),\n",
       " ('War', 1998, 6.746511631233748),\n",
       " ('Western', 1998, 5.387499988079071),\n",
       " ('Action', 1999, 5.514715712206021),\n",
       " ('Adventure', 1999, 5.769026547406627),\n",
       " ('Animation', 1999, 6.42307691849195),\n",
       " ('Biography', 1999, 6.851562514901161),\n",
       " ('Comedy', 1999, 5.831147534549612),\n",
       " ('Crime', 1999, 5.868283589384449),\n",
       " ('Documentary', 1999, 7.019682545888991),\n",
       " ('Drama', 1999, 6.17865519769682),\n",
       " ('Family', 1999, 5.740178576537541),\n",
       " ('Fantasy', 1999, 5.462790691575338),\n",
       " ('History', 1999, 6.537704952427598),\n",
       " ('Horror', 1999, 5.004225349762071),\n",
       " ('Music', 1999, 6.526785680225918),\n",
       " ('Musical', 1999, 5.64615379847013),\n",
       " ('Mystery', 1999, 6.027027039914517),\n",
       " ('Romance', 1999, 6.002088781436492),\n",
       " ('Sci-Fi', 1999, 5.134848515192668),\n",
       " ('Sport', 1999, 6.5),\n",
       " ('Thriller', 1999, 5.574825160153262),\n",
       " ('War', 1999, 6.69047623021262),\n",
       " ('Western', 1999, 4.99999996026357),\n",
       " ('Action', 2000, 5.404999989271164),\n",
       " ('Adventure', 2000, 5.666917282835882),\n",
       " ('Animation', 2000, 6.023437485098839),\n",
       " ('Biography', 2000, 6.9959999974568685),\n",
       " ('Comedy', 2000, 5.846718145460082),\n",
       " ('Crime', 2000, 5.790402467774902),\n",
       " ('Documentary', 2000, 7.017941966220382),\n",
       " ('Drama', 2000, 6.133628970063006),\n",
       " ('Family', 2000, 5.8097087376326035),\n",
       " ('Fantasy', 2000, 5.687628851723425),\n",
       " ('History', 2000, 7.143636400049383),\n",
       " ('Horror', 2000, 5.007142846460466),\n",
       " ('Music', 2000, 6.888888883212256),\n",
       " ('Musical', 2000, 6.037777778837416),\n",
       " ('Mystery', 2000, 5.670476189113798),\n",
       " ('Romance', 2000, 6.084976528452036),\n",
       " ('Sci-Fi', 2000, 5.148333334922791),\n",
       " ('Sport', 2000, 6.820689628864157),\n",
       " ('Thriller', 2000, 5.422996515181007),\n",
       " ('War', 2000, 6.7977777798970545),\n",
       " ('Western', 2000, 5.340000033378601),\n",
       " ('Action', 2001, 5.557894745031552),\n",
       " ('Adventure', 2001, 5.758865254990598),\n",
       " ('Animation', 2001, 6.449180333340754),\n",
       " ('Biography', 2001, 6.67846157000615),\n",
       " ('Comedy', 2001, 5.95877503267587),\n",
       " ('Crime', 2001, 5.8643790919796315),\n",
       " ('Documentary', 2001, 7.173269691216917),\n",
       " ('Drama', 2001, 6.211360545061073),\n",
       " ('Family', 2001, 5.846956524641618),\n",
       " ('Fantasy', 2001, 5.762385357410536),\n",
       " ('History', 2001, 6.759999971389771),\n",
       " ('Horror', 2001, 4.855294130830204),\n",
       " ('Music', 2001, 6.6178082015416395),\n",
       " ('Musical', 2001, 6.241025637357663),\n",
       " ('Mystery', 2001, 5.717460327678257),\n",
       " ('Romance', 2001, 6.123260873296987),\n",
       " ('Sci-Fi', 2001, 5.167567572078189),\n",
       " ('Short', 2001, 7.199999809265137),\n",
       " ('Sport', 2001, 6.134375013411045),\n",
       " ('Thriller', 2001, 5.341007194930701),\n",
       " ('War', 2001, 6.6617021560668945),\n",
       " ('Western', 2001, 5.649999976158142),\n",
       " ('Action', 2002, 5.615531334760079),\n",
       " ('Adventure', 2002, 5.7835526168346405),\n",
       " ('Animation', 2002, 6.3209677088645195),\n",
       " ('Biography', 2002, 6.908823574290556),\n",
       " ('Comedy', 2002, 5.906336409155674),\n",
       " ('Crime', 2002, 5.9135593280953875),\n",
       " ('Documentary', 2002, 7.203963979729661),\n",
       " ('Drama', 2002, 6.189961142413357),\n",
       " ('Family', 2002, 6.00000000822133),\n",
       " ('Fantasy', 2002, 5.790654198031559),\n",
       " ('History', 2002, 6.975510217705551),\n",
       " ('Horror', 2002, 4.928571419715881),\n",
       " ('Music', 2002, 6.57971015183822),\n",
       " ('Musical', 2002, 5.89799997806549),\n",
       " ('Mystery', 2002, 5.929838693911029),\n",
       " ('News', 2002, 8.399999618530273),\n",
       " ('Romance', 2002, 5.990524192490885),\n",
       " ('Sci-Fi', 2002, 5.394117628826814),\n",
       " ('Sport', 2002, 6.213333336512248),\n",
       " ('Thriller', 2002, 5.541153850005223),\n",
       " ('War', 2002, 6.823404266479168),\n",
       " ('Western', 2002, 4.887500047683716),\n",
       " ('Action', 2003, 5.543874645844484),\n",
       " ('Adventure', 2003, 5.727011488086876),\n",
       " ('Animation', 2003, 6.183823508374831),\n",
       " ('Biography', 2003, 6.897142856461661),\n",
       " ('Comedy', 2003, 5.9208080798688565),\n",
       " ('Crime', 2003, 6.00391458955948),\n",
       " ('Documentary', 2003, 7.209630825163656),\n",
       " ('Drama', 2003, 6.174744892409262),\n",
       " ('Family', 2003, 5.873043468724126),\n",
       " ('Fantasy', 2003, 5.813207557741201),\n",
       " ('History', 2003, 6.905454540252686),\n",
       " ('Horror', 2003, 4.80781248708566),\n",
       " ('Music', 2003, 7.101388884915246),\n",
       " ('Musical', 2003, 5.4999999943233675),\n",
       " ('Mystery', 2003, 5.767499991257986),\n",
       " ('News', 2003, 9.100000381469727),\n",
       " ('Romance', 2003, 5.921460181474686),\n",
       " ('Sci-Fi', 2003, 5.292857132639203),\n",
       " ('Sport', 2003, 6.743333355585734),\n",
       " ('Thriller', 2003, 5.465107896345125),\n",
       " ('War', 2003, 6.631249984105428),\n",
       " ('Western', 2003, 5.566666662693024),\n",
       " ('Action', 2004, 5.595324677306336),\n",
       " ('Adventure', 2004, 5.659036148743457),\n",
       " ('Animation', 2004, 6.389705880599863),\n",
       " ('Biography', 2004, 7.070129862079373),\n",
       " ('Comedy', 2004, 5.896774194533786),\n",
       " ('Crime', 2004, 6.011627906052641),\n",
       " ('Documentary', 2004, 7.237984512203424),\n",
       " ('Drama', 2004, 6.229999997786114),\n",
       " ('Family', 2004, 5.71226415544186),\n",
       " ('Fantasy', 2004, 5.6323232530343414),\n",
       " ('History', 2004, 7.056249998509884),\n",
       " ('Horror', 2004, 4.935521225211243),\n",
       " ('Music', 2004, 6.68163267447024),\n",
       " ('Musical', 2004, 5.894871772863926),\n",
       " ('Mystery', 2004, 5.81719745799994),\n",
       " ('News', 2004, 7.199999809265137),\n",
       " ('Romance', 2004, 5.981400430854614),\n",
       " ('Sci-Fi', 2004, 5.184269681405485),\n",
       " ('Sport', 2004, 6.706000003814697),\n",
       " ('Thriller', 2004, 5.581210181211969),\n",
       " ('War', 2004, 6.631325319588902),\n",
       " ('Western', 2004, 6.000000034059797),\n",
       " ('Action', 2005, 5.532712771537456),\n",
       " ('Adventure', 2005, 5.826744187709897),\n",
       " ('Animation', 2005, 6.194594582995853),\n",
       " ('Biography', 2005, 6.94158418107741),\n",
       " ('Comedy', 2005, 5.892647058757789),\n",
       " ('Crime', 2005, 5.89583334657881),\n",
       " ('Documentary', 2005, 7.2550790054265315),\n",
       " ('Drama', 2005, 6.237593989111043),\n",
       " ('Family', 2005, 5.841666678587596),\n",
       " ('Fantasy', 2005, 5.6685039396361105),\n",
       " ('History', 2005, 6.763513536066623),\n",
       " ('Horror', 2005, 4.925937497243285),\n",
       " ('Music', 2005, 6.863114765433014),\n",
       " ('Musical', 2005, 5.9086206904773055),\n",
       " ('Mystery', 2005, 5.8147058886640215),\n",
       " ('News', 2005, 6.900000095367432),\n",
       " ('Romance', 2005, 5.89676112757038),\n",
       " ('Sci-Fi', 2005, 5.356470587674309),\n",
       " ('Short', 2005, 6.400000095367432),\n",
       " ('Sport', 2005, 6.675806449305627),\n",
       " ('Thriller', 2005, 5.571383639326635),\n",
       " ('War', 2005, 6.74500002861023),\n",
       " ('Western', 2005, 5.441176540711346),\n",
       " ('Action', 2006, 5.492602026280092),\n",
       " ('Adventure', 2006, 5.745728636506814),\n",
       " ('Animation', 2006, 6.219626159311455),\n",
       " ('Biography', 2006, 6.854000000953675),\n",
       " ('Comedy', 2006, 5.826881719877939),\n",
       " ('Crime', 2006, 5.984660761194595),\n",
       " ('Documentary', 2006, 7.301492555817561),\n",
       " ('Drama', 2006, 6.221773013044321),\n",
       " ('Family', 2006, 5.793288606925299),\n",
       " ('Fantasy', 2006, 5.758823525671866),\n",
       " ('History', 2006, 6.7978022046141575),\n",
       " ('Horror', 2006, 4.758518509805938),\n",
       " ('Music', 2006, 6.926470561939127),\n",
       " ('Musical', 2006, 6.145454565684001),\n",
       " ('Mystery', 2006, 5.75535714058649),\n",
       " ('News', 2006, 7.750000238418579),\n",
       " ('Romance', 2006, 5.982432440210953),\n",
       " ('Sci-Fi', 2006, 5.179012364811367),\n",
       " ('Sport', 2006, 6.408219198658042),\n",
       " ('Thriller', 2006, 5.40119046483721),\n",
       " ('War', 2006, 6.6228571108409335),\n",
       " ('Western', 2006, 5.935714295932224),\n",
       " ('Action', 2007, 5.603301888648069),\n",
       " ('Adventure', 2007, 5.84715026462634),\n",
       " ('Animation', 2007, 6.30833334227403),\n",
       " ('Biography', 2007, 7.028148167221635),\n",
       " ('Comedy', 2007, 5.867465756017051),\n",
       " ('Crime', 2007, 5.891214461597669),\n",
       " ('Documentary', 2007, 7.285689213591986),\n",
       " ('Drama', 2007, 6.221638258772366),\n",
       " ('Family', 2007, 5.93028169198775),\n",
       " ('Fantasy', 2007, 5.663503652071431),\n",
       " ('History', 2007, 6.833913052600363),\n",
       " ('Horror', 2007, 4.8447058753406305),\n",
       " ('Music', 2007, 6.9493055823776455),\n",
       " ('Musical', 2007, 5.950000016585641),\n",
       " ('Mystery', 2007, 5.824022342372873),\n",
       " ('News', 2007, 6.899999936421712),\n",
       " ('Romance', 2007, 6.009227873915333),\n",
       " ('Sci-Fi', 2007, 5.3076923239944325),\n",
       " ('Sport', 2007, 6.598876428068354),\n",
       " ('Thriller', 2007, 5.536757979490986),\n",
       " ('War', 2007, 6.994680863745669),\n",
       " ('Western', 2007, 4.815384589708769),\n",
       " ('Action', 2008, 5.504059836650506),\n",
       " ('Adventure', 2008, 5.8258620670129515),\n",
       " ('Animation', 2008, 6.259504124152759),\n",
       " ('Biography', 2008, 7.003125008940697),\n",
       " ('Comedy', 2008, 5.731136368440859),\n",
       " ('Crime', 2008, 5.979000003635884),\n",
       " ('Documentary', 2008, 7.303094344409007),\n",
       " ('Drama', 2008, 6.16162046654138),\n",
       " ('Family', 2008, 5.8511494206286025),\n",
       " ('Fantasy', 2008, 5.662986999982364),\n",
       " ('History', 2008, 6.8718181848526),\n",
       " ('Horror', 2008, 4.797424888150375),\n",
       " ('Music', 2008, 7.096629217769323),\n",
       " ('Musical', 2008, 5.8967741843192805),\n",
       " ('Mystery', 2008, 5.789393927713837),\n",
       " ('News', 2008, 7.825000166893005),\n",
       " ('Romance', 2008, 6.019855591579465),\n",
       " ('Sci-Fi', 2008, 4.950427325362833),\n",
       " ('Short', 2008, 6.400000095367432),\n",
       " ('Sport', 2008, 6.504395602823614),\n",
       " ('Thriller', 2008, 5.499178642120205),\n",
       " ('War', 2008, 6.820238085020156),\n",
       " ('Western', 2008, 4.91874997317791),\n",
       " ('Action', 2009, 5.541836726827686),\n",
       " ('Adventure', 2009, 5.885273970561485),\n",
       " ('Animation', 2009, 6.216793904777702),\n",
       " ('Biography', 2009, 6.987980793301876),\n",
       " ('Comedy', 2009, 5.845185190178328),\n",
       " ('Crime', 2009, 5.960900468001434),\n",
       " ('Documentary', 2009, 7.2754593306951945),\n",
       " ('Drama', 2009, 6.17529015704426),\n",
       " ('Family', 2009, 6.088789242800041),\n",
       " ('Fantasy', 2009, 5.791052629445728),\n",
       " ('History', 2009, 6.744311386953571),\n",
       " ('Horror', 2009, 4.872664361882787),\n",
       " ('Music', 2009, 7.032748538848252),\n",
       " ('Musical', 2009, 6.146774145864671),\n",
       " ('Mystery', 2009, 5.810389621433242),\n",
       " ('News', 2009, 6.967741920102027),\n",
       " ('Romance', 2009, 6.002210889138332),\n",
       " ('Sci-Fi', 2009, 5.346938773077362),\n",
       " ('Sport', 2009, 6.7264367958595015),\n",
       " ('Thriller', 2009, 5.428227200770747),\n",
       " ('War', 2009, 6.3313432700598415),\n",
       " ('Western', 2009, 5.470833321412404),\n",
       " ('Action', 2010, 5.643768554448374),\n",
       " ('Adventure', 2010, 6.094189607404423),\n",
       " ('Animation', 2010, 6.374193557616203),\n",
       " ('Biography', 2010, 7.128932591904415),\n",
       " ('Comedy', 2010, 5.91881510692959),\n",
       " ('Crime', 2010, 5.894279183184801),\n",
       " ('Documentary', 2010, 7.2560266582695805),\n",
       " ('Drama', 2010, 6.236162752655254),\n",
       " ('Family', 2010, 6.212628015072273),\n",
       " ('Fantasy', 2010, 5.798952884074905),\n",
       " ('History', 2010, 6.94494774366505),\n",
       " ('Horror', 2010, 4.768060202383277),\n",
       " ('Music', 2010, 7.097448981538111),\n",
       " ('Musical', 2010, 6.092499980330468),\n",
       " ('Mystery', 2010, 5.764344263272207),\n",
       " ('News', 2010, 7.23225809297254),\n",
       " ('Romance', 2010, 5.955835965341574),\n",
       " ('Sci-Fi', 2010, 5.262702720874064),\n",
       " ('Short', 2010, 8.399999618530273),\n",
       " ('Sport', 2010, 6.968888897365994),\n",
       " ('Thriller', 2010, 5.3987596872241),\n",
       " ('War', 2010, 6.787654311568649),\n",
       " ('Western', 2010, 5.968421057650917),\n",
       " ('Action', 2011, 5.715453189514013),\n",
       " ('Adventure', 2011, 6.130989570791523),\n",
       " ('Animation', 2011, 6.149743587542803),\n",
       " ('Biography', 2011, 7.150385593693789),\n",
       " ('Comedy', 2011, 5.877811181638446),\n",
       " ('Crime', 2011, 5.960000000974183),\n",
       " ('Documentary', 2011, 7.239142393135251),\n",
       " ('Drama', 2011, 6.248649541372053),\n",
       " ('Family', 2011, 6.3706249833107),\n",
       " ('Fantasy', 2011, 5.810169495768466),\n",
       " ('History', 2011, 7.036896555999229),\n",
       " ('Horror', 2011, 4.829376849116486),\n",
       " ('Music', 2011, 6.944017096462413),\n",
       " ('Musical', 2011, 6.438356170915577),\n",
       " ('Mystery', 2011, 5.839788740789387),\n",
       " ('News', 2011, 7.1999999800724765),\n",
       " ('Romance', 2011, 5.985294110634747),\n",
       " ('Sci-Fi', 2011, 5.461413043348686),\n",
       " ('Short', 2011, 7.5),\n",
       " ('Sport', 2011, 6.919834706408919),\n",
       " ('Thriller', 2011, 5.507957957707368),\n",
       " ('War', 2011, 6.403092782521985),\n",
       " ('Western', 2011, 5.375862059922054),\n",
       " ('Action', 2012, 5.736036033243747),\n",
       " ('Adventure', 2012, 6.2043701805614875),\n",
       " ('Animation', 2012, 6.229608951334181),\n",
       " ('Biography', 2012, 7.187885995998519),\n",
       " ('Comedy', 2012, 5.896899664617042),\n",
       " ('Crime', 2012, 6.027165350012892),\n",
       " ('Documentary', 2012, 7.200206944378805),\n",
       " ('Drama', 2012, 6.312092130335187),\n",
       " ('Family', 2012, 6.306504056705692),\n",
       " ('Fantasy', 2012, 6.035377359615182),\n",
       " ('History', 2012, 6.985915506053979),\n",
       " ('Horror', 2012, 4.8850955407330945),\n",
       " ('Music', 2012, 7.081012676033793),\n",
       " ('Musical', 2012, 6.286301380967441),\n",
       " ('Mystery', 2012, 5.818936879452677),\n",
       " ('News', 2012, 7.250537621077671),\n",
       " ('Romance', 2012, 6.074885134309941),\n",
       " ('Sci-Fi', 2012, 5.3183168314471105),\n",
       " ('Sport', 2012, 6.984615417627188),\n",
       " ('Thriller', 2012, 5.500784315003289),\n",
       " ('War', 2012, 6.253409090367231),\n",
       " ('Western', 2012, 5.9379310279056945),\n",
       " ('Action', 2013, 5.655354663460245),\n",
       " ('Adventure', 2013, 6.135095145183184),\n",
       " ('Animation', 2013, 6.331073468687844),\n",
       " ('Biography', 2013, 7.122537875265786),\n",
       " ('Comedy', 2013, 5.954276500497215),\n",
       " ('Crime', 2013, 6.059047620864142),\n",
       " ('Documentary', 2013, 7.204421271036587),\n",
       " ('Drama', 2013, 6.3232193772609415),\n",
       " ('Family', 2013, 6.44186047822174),\n",
       " ('Fantasy', 2013, 5.725550667304825),\n",
       " ('Game-Show', 2013, 8.899999618530273),\n",
       " ('History', 2013, 7.013567838237513),\n",
       " ('Horror', 2013, 4.828172591737079),\n",
       " ('Music', 2013, 7.195258622539455),\n",
       " ('Musical', 2013, 6.53648645652307),\n",
       " ('Mystery', 2013, 5.776023384074719),\n",
       " ('News', 2013, 7.181188125421505),\n",
       " ('Romance', 2013, 6.120442709419876),\n",
       " ('Sci-Fi', 2013, 5.357528967286629),\n",
       " ('Short', 2013, 6.099999904632568),\n",
       " ('Sport', 2013, 6.865034965368418),\n",
       " ('Thriller', 2013, 5.457540105753404),\n",
       " ('War', 2013, 6.199999985410206),\n",
       " ('Western', 2013, 5.599999996332022),\n",
       " ('Action', 2014, 5.757345371639605),\n",
       " ('Adventure', 2014, 6.219800001382827),\n",
       " ('Animation', 2014, 6.385051557083719),\n",
       " ('Biography', 2014, 7.199688007604685),\n",
       " ('Comedy', 2014, 5.935329951066051),\n",
       " ('Crime', 2014, 6.12799297273159),\n",
       " ('Documentary', 2014, 7.274258340618372),\n",
       " ('Drama', 2014, 6.331424588164804),\n",
       " ('Family', 2014, 6.424203816239748),\n",
       " ('Fantasy', 2014, 5.689328060790955),\n",
       " ('History', 2014, 7.079738580323513),\n",
       " ('Horror', 2014, 4.881198587484842),\n",
       " ('Music', 2014, 7.14361702043114),\n",
       " ('Musical', 2014, 6.31874997317791),\n",
       " ('Mystery', 2014, 5.716187991299144),\n",
       " ('News', 2014, 7.27786886496622),\n",
       " ('Romance', 2014, 6.035431236653895),\n",
       " ('Sci-Fi', 2014, 5.2484252021068665),\n",
       " ('Short', 2014, 9.300000190734863),\n",
       " ('Sport', 2014, 6.911949691532543),\n",
       " ('Thriller', 2014, 5.5154958710936475),\n",
       " ('War', 2014, 6.79473684754288),\n",
       " ('Western', 2014, 6.25641025029696),\n",
       " ('Action', 2015, 5.669987545660691),\n",
       " ('Adventure', 2015, 6.121518997703424),\n",
       " ('Animation', 2015, 6.281280790056501),\n",
       " ('Biography', 2015, 7.147186939383159),\n",
       " ('Comedy', 2015, 5.896644297862213),\n",
       " ('Crime', 2015, 6.044117647265068),\n",
       " ('Documentary', 2015, 7.247225987249847),\n",
       " ('Drama', 2015, 6.277146705932926),\n",
       " ('Family', 2015, 6.3011709705728),\n",
       " ('Fantasy', 2015, 5.850751876831055),\n",
       " ('History', 2015, 7.090656569509795),\n",
       " ('Horror', 2015, 4.764084504943498),\n",
       " ('Music', 2015, 7.011320766862833),\n",
       " ('Musical', 2015, 6.46708861785599),\n",
       " ('Mystery', 2015, 5.673500012159348),\n",
       " ('News', 2015, 7.3597826128420625),\n",
       " ('Romance', 2015, 6.052004722070019),\n",
       " ('Sci-Fi', 2015, 5.433969472655813),\n",
       " ('Short', 2015, 7.300000190734863),\n",
       " ('Sport', 2015, 6.819867558037209),\n",
       " ('Thriller', 2015, 5.493756300132921),\n",
       " ('War', 2015, 6.485714294016361),\n",
       " ('Western', 2015, 6.046153852572808),\n",
       " ('Action', 2016, 5.677828057589035),\n",
       " ('Adventure', 2016, 6.001807231022172),\n",
       " ('Animation', 2016, 6.269543175164818),\n",
       " ('Biography', 2016, 7.072270742670417),\n",
       " ('Comedy', 2016, 5.837543341946992),\n",
       " ('Crime', 2016, 6.045398778710629),\n",
       " ('Documentary', 2016, 7.2495575230206),\n",
       " ('Drama', 2016, 6.256034720839605),\n",
       " ('Family', 2016, 6.170320865623454),\n",
       " ('Fantasy', 2016, 5.747959191296377),\n",
       " ('History', 2016, 6.953333357402257),\n",
       " ('Horror', 2016, 4.801523393593623),\n",
       " ('Music', 2016, 7.124210528323525),\n",
       " ('Musical', 2016, 6.4457831612552505),\n",
       " ('Mystery', 2016, 5.693473197085596),\n",
       " ('News', 2016, 7.304761863890148),\n",
       " ('Romance', 2016, 6.036473429433389),\n",
       " ('Sci-Fi', 2016, 5.40322580789366),\n",
       " ('Sport', 2016, 6.85344826901096),\n",
       " ('Thriller', 2016, 5.408891105866218),\n",
       " ('War', 2016, 6.506315803527832),\n",
       " ('Western', 2016, 5.670967748088222),\n",
       " ('Action', 2017, 5.750337846778534),\n",
       " ('Adventure', 2017, 5.931150797104078),\n",
       " ('Animation', 2017, 6.348535575627283),\n",
       " ('Biography', 2017, 7.008932994553824),\n",
       " ('Comedy', 2017, 5.871407184712663),\n",
       " ('Crime', 2017, 5.916612379714022),\n",
       " ('Documentary', 2017, 7.2278960892959185),\n",
       " ('Drama', 2017, 6.284485487258529),\n",
       " ('Family', 2017, 6.260547939065384),\n",
       " ('Fantasy', 2017, 5.860553635032944),\n",
       " ('History', 2017, 7.031666671435039),\n",
       " ('Horror', 2017, 4.78037190609727),\n",
       " ('Music', 2017, 6.884426225404271),\n",
       " ('Musical', 2017, 6.546249985694885),\n",
       " ('Mystery', 2017, 5.665478841233625),\n",
       " ('News', 2017, 7.190000057220459),\n",
       " ('Romance', 2017, 6.079247726076772),\n",
       " ('Sci-Fi', 2017, 5.274817515463725),\n",
       " ('Short', 2017, 7.699999809265137),\n",
       " ('Sport', 2017, 6.950657893168299),\n",
       " ('Thriller', 2017, 5.388270375150335),\n",
       " ('War', 2017, 6.70458716646247),\n",
       " ('Western', 2017, 5.297297294075425),\n",
       " ('Action', 2018, 5.64659497344793),\n",
       " ('Adventure', 2018, 5.903524231805675),\n",
       " ('Animation', 2018, 6.232921809325983),\n",
       " ('Biography', 2018, 6.880000002487846),\n",
       " ('Comedy', 2018, 5.742530414541853),\n",
       " ('Crime', 2018, 5.91282951622311),\n",
       " ('Documentary', 2018, 7.210142271624841),\n",
       " ('Drama', 2018, 6.207457535522505),\n",
       " ('Family', 2018, 5.994594605226775),\n",
       " ('Fantasy', 2018, 5.811671938053817),\n",
       " ('History', 2018, 6.765156804061517),\n",
       " ('Horror', 2018, 4.788004369226121),\n",
       " ('Music', 2018, 6.82711111386617),\n",
       " ('Musical', 2018, 6.4569620376900785),\n",
       " ('Mystery', 2018, 5.545432691104137),\n",
       " ('News', 2018, 6.899999891008649),\n",
       " ('Romance', 2018, 6.005333335876465),\n",
       " ('Sci-Fi', 2018, 5.209302315878314),\n",
       " ('Short', 2018, 8.100000381469727),\n",
       " ('Sport', 2018, 6.962499979295228),\n",
       " ('Talk-Show', 2018, 7.0),\n",
       " ('Thriller', 2018, 5.413359917410587),\n",
       " ('War', 2018, 6.285858598622409),\n",
       " ('Western', 2018, 5.742857143992469),\n",
       " ('Action', 2019, 5.683194271429787),\n",
       " ('Adventure', 2019, 5.946363631161776),\n",
       " ('Animation', 2019, 6.091967876177715),\n",
       " ('Biography', 2019, 6.903170045583324),\n",
       " ('Comedy', 2019, 5.812763718047223),\n",
       " ('Crime', 2019, 5.977759470656833),\n",
       " ('Documentary', 2019, 7.172633007477811),\n",
       " ('Drama', 2019, 6.185695262779628),\n",
       " ('Family', 2019, 6.040336143402826),\n",
       " ('Fantasy', 2019, 5.647709936586045),\n",
       " ('Game-Show', 2019, 9.5),\n",
       " ('History', 2019, 6.822727272907893),\n",
       " ('Horror', 2019, 4.783052758335666),\n",
       " ('Music', 2019, 7.104464276560715),\n",
       " ('Musical', 2019, 6.323750035464764),\n",
       " ('Mystery', 2019, 5.591066997045323),\n",
       " ('News', 2019, 7.324999928474426),\n",
       " ('Romance', 2019, 6.08951050384895),\n",
       " ('Sci-Fi', 2019, 5.187391296676967),\n",
       " ('Short', 2019, 1.2000000476837158),\n",
       " ('Sport', 2019, 6.686075952988636),\n",
       " ('Talk-Show', 2019, 8.399999618530273),\n",
       " ('Thriller', 2019, 5.364623119962874),\n",
       " ('War', 2019, 6.401020412542382),\n",
       " ('Western', 2019, 5.299999971138804),\n",
       " ('Action', 2020, 5.555799997568131),\n",
       " ('Adventure', 2020, 5.920569618668737),\n",
       " ('Animation', 2020, 6.366304343809253),\n",
       " ('Biography', 2020, 6.822535228281514),\n",
       " ('Comedy', 2020, 5.787624140201041),\n",
       " ('Crime', 2020, 5.835696206515348),\n",
       " ('Documentary', 2020, 7.215323953091259),\n",
       " ('Drama', 2020, 6.141151793761439),\n",
       " ('Family', 2020, 5.851219517913291),\n",
       " ('Fantasy', 2020, 5.749166665971279),\n",
       " ('History', 2020, 6.73167702129909),\n",
       " ('Horror', 2020, 4.756035584203776),\n",
       " ('Music', 2020, 6.830967755471506),\n",
       " ('Musical', 2020, 6.638461556801429),\n",
       " ('Mystery', 2020, 5.5325000030653815),\n",
       " ('News', 2020, 7.233333269755046),\n",
       " ('Romance', 2020, 6.0975409799911935),\n",
       " ('Sci-Fi', 2020, 5.122072068957595),\n",
       " ('Short', 2020, 8.300000190734863),\n",
       " ('Sport', 2020, 6.634313714270498),\n",
       " ('Talk-Show', 2020, 7.700000047683716),\n",
       " ('Thriller', 2020, 5.283270441960989),\n",
       " ('War', 2020, 6.080821912582606),\n",
       " ('Western', 2020, 4.768181779167869),\n",
       " ('Action', 2021, 5.76076158091722),\n",
       " ('Adventure', 2021, 6.111032027366747),\n",
       " ('Animation', 2021, 6.601104984625927),\n",
       " ('Biography', 2021, 7.00918366106189),\n",
       " ('Comedy', 2021, 6.053482585779668),\n",
       " ('Crime', 2021, 6.186619712713179),\n",
       " ('Documentary', 2021, 7.326025116094486),\n",
       " ('Drama', 2021, 6.418248176333001),\n",
       " ('Family', 2021, 6.301010090895374),\n",
       " ('Fantasy', 2021, 6.0994623720005),\n",
       " ('History', 2021, 6.808396934552957),\n",
       " ('Horror', 2021, 5.103382355675977),\n",
       " ('Music', 2021, 7.114516127494074),\n",
       " ('Musical', 2021, 6.870000016689301),\n",
       " ('Mystery', 2021, 5.797122306103329),\n",
       " ('News', 2021, 7.75),\n",
       " ('Romance', 2021, 6.238809042397955),\n",
       " ('Sci-Fi', 2021, 5.122842631969355),\n",
       " ('Short', 2021, 8.800000190734863),\n",
       " ('Sport', 2021, 6.888421061164454),\n",
       " ('Talk-Show', 2021, 7.650000095367432),\n",
       " ('Thriller', 2021, 5.716417916230301),\n",
       " ('War', 2021, 6.441463421030742),\n",
       " ('Western', 2021, 4.810810804367065),\n",
       " ('Action', 2022, 6.512499983112018),\n",
       " ('Adventure', 2022, 6.495238088426136),\n",
       " ('Animation', 2022, 6.619999933242798),\n",
       " ('Biography', 2022, 6.433333396911621),\n",
       " ('Comedy', 2022, 6.273643408634866),\n",
       " ('Crime', 2022, 7.272413829277301),\n",
       " ('Documentary', 2022, 7.589189175012949),\n",
       " ('Drama', 2022, 6.9260000026226045),\n",
       " ('Family', 2022, 5.68823522679946),\n",
       " ('Fantasy', 2022, 5.861538428526658),\n",
       " ('History', 2022, 6.9399998664855955),\n",
       " ('Horror', 2022, 5.838461529750091),\n",
       " ('Music', 2022, 7.725000103314717),\n",
       " ('Musical', 2022, 7.016666571299235),\n",
       " ('Mystery', 2022, 7.300000021855037),\n",
       " ('Romance', 2022, 6.51199999332428),\n",
       " ('Sci-Fi', 2022, 5.656250014901161),\n",
       " ('Sport', 2022, 7.0),\n",
       " ('Thriller', 2022, 6.451685412546222),\n",
       " ('War', 2022, 7.149999976158142)]"
      ]
     },
     "execution_count": 298,
     "metadata": {},
     "output_type": "execute_result"
    }
   ],
   "source": [
    "res_"
   ]
  },
  {
   "cell_type": "code",
   "execution_count": 301,
   "id": "901d6ca4",
   "metadata": {},
   "outputs": [
    {
     "data": {
      "image/png": "[encoded data removed]",
      "text/plain": [
       "<Figure size 640x480 with 1 Axes>"
      ]
     },
     "metadata": {},
     "output_type": "display_data"
    }
   ],
   "source": [
    "genres = [\"Action\", \"Comedy\", \"Drama\", \"Thriller\", \"Fantasy\"]\n",
    "for genre in genres:\n",
    "    # here we plot the yearly rating average for each genre\n",
    "    year = [x[1] for x in res_ if x[0] == genre]\n",
    "    avg = [x[2] for x in res_ if x[0] == genre]\n",
    "    plt.plot(year, avg, label=genre)\n",
    "        \n",
    "plt.grid()\n",
    "plt.legend()\n",
    "plt.show()"
   ]
  }
 ],
 "metadata": {
  "kernelspec": {
   "display_name": "Python 3 (ipykernel)",
   "language": "python",
   "name": "python3"
  },
  "language_info": {
   "codemirror_mode": {
    "name": "ipython",
    "version": 3
   },
   "file_extension": ".py",
   "mimetype": "text/x-python",
   "name": "python",
   "nbconvert_exporter": "python",
   "pygments_lexer": "ipython3",
   "version": "3.9.12"
  }
 },
 "nbformat": 4,
 "nbformat_minor": 5
}
